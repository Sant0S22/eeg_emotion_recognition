{
 "cells": [
  {
   "cell_type": "markdown",
   "id": "ac435407",
   "metadata": {
    "id": "ac435407"
   },
   "source": [
    "# Test RNN sui dati preprocessati di SEED-IV"
   ]
  },
  {
   "cell_type": "code",
   "execution_count": null,
   "id": "656qX158tZ-Q",
   "metadata": {
    "colab": {
     "base_uri": "https://localhost:8080/"
    },
    "executionInfo": {
     "elapsed": 24364,
     "status": "ok",
     "timestamp": 1685619508244,
     "user": {
      "displayName": "NICOLA PIO SANTORSA",
      "userId": "18186694644348138501"
     },
     "user_tz": -120
    },
    "id": "656qX158tZ-Q",
    "outputId": "5b12380f-f04e-40d9-90a2-8b22ba7b9cee"
   },
   "outputs": [],
   "source": [
    "from google.colab import drive\n",
    "drive.mount('/content/drive')"
   ]
  },
  {
   "cell_type": "code",
   "execution_count": null,
   "id": "97dbc297",
   "metadata": {
    "executionInfo": {
     "elapsed": 5896,
     "status": "ok",
     "timestamp": 1685619514131,
     "user": {
      "displayName": "NICOLA PIO SANTORSA",
      "userId": "18186694644348138501"
     },
     "user_tz": -120
    },
    "id": "97dbc297"
   },
   "outputs": [],
   "source": [
    "from keras.models import Sequential\n",
    "from keras.layers import LSTM, GRU, Dense, Masking, Bidirectional\n",
    "from keras.utils import to_categorical\n",
    "from sklearn.model_selection import train_test_split\n",
    "from sklearn.model_selection import LeaveOneGroupOut\n",
    "from sklearn.model_selection import cross_val_score\n",
    "import numpy as np\n",
    "import pandas as pd"
   ]
  },
  {
   "cell_type": "code",
   "execution_count": null,
   "id": "fbb19c03",
   "metadata": {
    "executionInfo": {
     "elapsed": 872,
     "status": "ok",
     "timestamp": 1685619514998,
     "user": {
      "displayName": "NICOLA PIO SANTORSA",
      "userId": "18186694644348138501"
     },
     "user_tz": -120
    },
    "id": "fbb19c03",
    "scrolled": false
   },
   "outputs": [],
   "source": [
    "df = pd.read_csv(\"/content/drive/MyDrive/FVAB/dataset_de_LDS_SEEDIV.csv\")\n",
    "df.drop(['Unnamed: 0'],axis=1, inplace=True)\n",
    "df = df.set_index(['id_user','session','video'])"
   ]
  },
  {
   "cell_type": "code",
   "execution_count": null,
   "id": "368c1600",
   "metadata": {
    "executionInfo": {
     "elapsed": 430,
     "status": "ok",
     "timestamp": 1685619515424,
     "user": {
      "displayName": "NICOLA PIO SANTORSA",
      "userId": "18186694644348138501"
     },
     "user_tz": -120
    },
    "id": "368c1600"
   },
   "outputs": [],
   "source": [
    "df[df.isnull()==True] = -10  #sostituisce i valori nulli con -10 per applicare la maschera successiva"
   ]
  },
  {
   "cell_type": "markdown",
   "id": "946df92e",
   "metadata": {},
   "source": [
    "Metodo per effettuare il reshape dei dataset"
   ]
  },
  {
   "cell_type": "code",
   "execution_count": null,
   "id": "46a87d7a",
   "metadata": {
    "executionInfo": {
     "elapsed": 9,
     "status": "ok",
     "timestamp": 1685619515426,
     "user": {
      "displayName": "NICOLA PIO SANTORSA",
      "userId": "18186694644348138501"
     },
     "user_tz": -120
    },
    "id": "46a87d7a"
   },
   "outputs": [],
   "source": [
    "def preprocessing_for_LSTM(X_train, X_test, y_train, y_test):\n",
    "    X_train = np.array(X_train).reshape((X_train.shape[0], X_train.shape[1], 1))\n",
    "    y_train = to_categorical(y_train)\n",
    "    X_test = np.array(X_test).reshape((X_test.shape[0], X_test.shape[1], 1))\n",
    "    y_test = to_categorical(y_test)\n",
    "    return X_train, X_test, y_train, y_test"
   ]
  },
  {
   "cell_type": "markdown",
   "id": "bee67aad",
   "metadata": {
    "id": "bee67aad"
   },
   "source": [
    "# Subject dependent"
   ]
  },
  {
   "cell_type": "code",
   "execution_count": null,
   "id": "15d96888",
   "metadata": {
    "executionInfo": {
     "elapsed": 13,
     "status": "ok",
     "timestamp": 1685609377611,
     "user": {
      "displayName": "NICOLA PIO SANTORSA",
      "userId": "18186694644348138501"
     },
     "user_tz": -120
    },
    "id": "15d96888"
   },
   "outputs": [],
   "source": [
    "def subject_dependent_split(df,session):\n",
    "    df = df.reset_index()\n",
    "    np.random.seed(75)\n",
    "    test_videos = np.random.choice(np.arange(1, 25), replace=False, size=(8))\n",
    "    df_sess = df.loc[df['session'] == session]\n",
    "    X_test = df_sess[df_sess['video'].isin(test_videos)].set_index(['id_user','session','video']).drop('emotion',axis=1)\n",
    "    y_test = df_sess[df_sess['video'].isin(test_videos)].set_index(['id_user','session','video']).emotion\n",
    "    X_train = df_sess[~df_sess['video'].isin(test_videos)].set_index(['id_user','session','video']).drop('emotion',axis=1)\n",
    "    y_train = df_sess[~df_sess['video'].isin(test_videos)].set_index(['id_user','session','video']).emotion\n",
    "    return X_train, X_test, y_train, y_test"
   ]
  },
  {
   "cell_type": "code",
   "execution_count": null,
   "id": "2z5YjWh_vFLd",
   "metadata": {
    "colab": {
     "base_uri": "https://localhost:8080/",
     "height": 455
    },
    "executionInfo": {
     "elapsed": 12,
     "status": "ok",
     "timestamp": 1685609377611,
     "user": {
      "displayName": "NICOLA PIO SANTORSA",
      "userId": "18186694644348138501"
     },
     "user_tz": -120
    },
    "id": "2z5YjWh_vFLd",
    "outputId": "4a735ee3-3ff4-4088-b875-a777b5f5a2fc"
   },
   "outputs": [],
   "source": [
    "df"
   ]
  },
  {
   "cell_type": "code",
   "execution_count": null,
   "id": "1ff4048a",
   "metadata": {
    "colab": {
     "base_uri": "https://localhost:8080/"
    },
    "executionInfo": {
     "elapsed": 423331,
     "status": "ok",
     "timestamp": 1685609803727,
     "user": {
      "displayName": "NICOLA PIO SANTORSA",
      "userId": "18186694644348138501"
     },
     "user_tz": -120
    },
    "id": "1ff4048a",
    "outputId": "ec8eb8ae-3052-4d95-db3e-4fb4828dcdcd",
    "scrolled": true
   },
   "outputs": [],
   "source": [
    "accuracy_test = []\n",
    "model = Sequential()\n",
    "for i in range(1,4):\n",
    "    X_trainSD, X_testSD, y_trainSD, y_testSD = subject_dependent_split(df,i)\n",
    "    X_trainSD, X_testSD, y_trainSD, y_testSD = preprocessing_for_LSTM(X_trainSD, X_testSD, y_trainSD, y_testSD)\n",
    "    del model\n",
    "    model = Sequential()\n",
    "    #model.add(Masking(mask_value=-10,input_shape=(X_trainSD.shape[1], 1)))\n",
    "    model.add(Bidirectional(GRU(units=128, input_shape=(X_trainSD.shape[1], 1))))\n",
    "    model.add(Dense(units=4, activation='sigmoid'))\n",
    "    model.compile(loss='categorical_crossentropy', optimizer='adam', metrics=['accuracy'])\n",
    "    model.fit(X_trainSD, y_trainSD, epochs=300, batch_size=64)\n",
    "    loss, accuracy = model.evaluate(X_testSD, y_testSD)\n",
    "    accuracy_test.append(accuracy)"
   ]
  },
  {
   "cell_type": "code",
   "execution_count": null,
   "id": "2797ff58",
   "metadata": {
    "colab": {
     "base_uri": "https://localhost:8080/"
    },
    "executionInfo": {
     "elapsed": 48,
     "status": "ok",
     "timestamp": 1685609803729,
     "user": {
      "displayName": "NICOLA PIO SANTORSA",
      "userId": "18186694644348138501"
     },
     "user_tz": -120
    },
    "id": "2797ff58",
    "outputId": "da1d6432-1057-43ce-9c36-a116fdb8e815"
   },
   "outputs": [],
   "source": [
    "print(\"ACCURACY: \", np.array(accuracy_test).mean())"
   ]
  },
  {
   "cell_type": "code",
   "execution_count": null,
   "id": "c26e0dc0",
   "metadata": {},
   "outputs": [],
   "source": [
    "accuracy_test = []\n",
    "model = Sequential()\n",
    "for i in range(1,4):\n",
    "    X_trainSD, X_testSD, y_trainSD, y_testSD = subject_dependent_split(df,i)\n",
    "    X_trainSD, X_testSD, y_trainSD, y_testSD = preprocessing_for_LSTM(X_trainSD, X_testSD, y_trainSD, y_testSD)\n",
    "    del model\n",
    "    model = Sequential()\n",
    "    #model.add(Masking(mask_value=-10,input_shape=(X_trainSD.shape[1], 1)))\n",
    "    model.add(LSTM(units=128, input_shape=(X_trainSD.shape[1], 1))))\n",
    "    model.add(Dense(units=4, activation='sigmoid'))\n",
    "    model.compile(loss='categorical_crossentropy', optimizer='adam', metrics=['accuracy'])\n",
    "    model.fit(X_trainSD, y_trainSD, epochs=300, batch_size=64)\n",
    "    loss, accuracy = model.evaluate(X_testSD, y_testSD)\n",
    "    accuracy_test.append(accuracy)\n",
    "\n",
    "print(\"ACCURACY: \", np.array(accuracy_test).mean())"
   ]
  },
  {
   "cell_type": "markdown",
   "id": "1bba961c",
   "metadata": {
    "id": "1bba961c"
   },
   "source": [
    "# Subject-Biased Experiment\n"
   ]
  },
  {
   "cell_type": "code",
   "execution_count": null,
   "id": "d08dc39d",
   "metadata": {
    "executionInfo": {
     "elapsed": 4,
     "status": "ok",
     "timestamp": 1685606176538,
     "user": {
      "displayName": "NICOLA PIO SANTORSA",
      "userId": "18186694644348138501"
     },
     "user_tz": -120
    },
    "id": "d08dc39d"
   },
   "outputs": [],
   "source": [
    "X_train, X_test, y_train, y_test = train_test_split(df.drop('emotion',axis=1), df.emotion, test_size=0.20, random_state=44)\n",
    "X_train, X_test, y_train, y_test = preprocessing_for_LSTM(X_train, X_test, y_train, y_test)"
   ]
  },
  {
   "cell_type": "code",
   "execution_count": null,
   "id": "055b6d32",
   "metadata": {
    "colab": {
     "base_uri": "https://localhost:8080/",
     "height": 372
    },
    "executionInfo": {
     "elapsed": 4802,
     "status": "error",
     "timestamp": 1685611306085,
     "user": {
      "displayName": "NICOLA PIO SANTORSA",
      "userId": "18186694644348138501"
     },
     "user_tz": -120
    },
    "id": "055b6d32",
    "outputId": "430e8856-d9b2-49a8-f5fe-722b976e2a12",
    "scrolled": true
   },
   "outputs": [],
   "source": [
    "del model\n",
    "model = Sequential()\n",
    "#model.add(Masking(mask_value=-10,input_shape=(X_train.shape[1], 1)))\n",
    "model.add(Bidirectional(GRU(units=32, input_shape=(X_train.shape[1], 1))))\n",
    "model.add(Dense(units=4, activation='sigmoid'))\n",
    "model.compile(loss='categorical_crossentropy', optimizer='adam', metrics=['accuracy'])\n",
    "model.fit(X_train, y_train, epochs=200, batch_size=16)"
   ]
  },
  {
   "cell_type": "code",
   "execution_count": null,
   "id": "3bd5d87a",
   "metadata": {
    "colab": {
     "base_uri": "https://localhost:8080/"
    },
    "executionInfo": {
     "elapsed": 3425,
     "status": "ok",
     "timestamp": 1685609328446,
     "user": {
      "displayName": "NICOLA PIO SANTORSA",
      "userId": "18186694644348138501"
     },
     "user_tz": -120
    },
    "id": "3bd5d87a",
    "outputId": "dd8bf627-f48b-4586-98a4-09f092220bfc"
   },
   "outputs": [],
   "source": [
    "loss, accuracy = model.evaluate(X_test, y_test)"
   ]
  },
  {
   "cell_type": "code",
   "execution_count": null,
   "id": "fbbc1c6c",
   "metadata": {},
   "outputs": [],
   "source": [
    "del model\n",
    "model = Sequential()\n",
    "#model.add(Masking(mask_value=-10,input_shape=(X_train.shape[1], 1)))\n",
    "model.add(LSTM(units=32, input_shape=(X_train.shape[1], 1))))\n",
    "model.add(Dense(units=4, activation='sigmoid'))\n",
    "model.compile(loss='categorical_crossentropy', optimizer='adam', metrics=['accuracy'])\n",
    "model.fit(X_train, y_train, epochs=200, batch_size=16)"
   ]
  },
  {
   "cell_type": "code",
   "execution_count": null,
   "id": "3c700470",
   "metadata": {},
   "outputs": [],
   "source": [
    "loss, accuracy = model.evaluate(X_test, y_test)"
   ]
  },
  {
   "cell_type": "markdown",
   "id": "f214d68a",
   "metadata": {
    "id": "f214d68a"
   },
   "source": [
    "# Subject Indipendent"
   ]
  },
  {
   "cell_type": "code",
   "execution_count": null,
   "id": "1f541c9e",
   "metadata": {
    "executionInfo": {
     "elapsed": 4,
     "status": "ok",
     "timestamp": 1685619541439,
     "user": {
      "displayName": "NICOLA PIO SANTORSA",
      "userId": "18186694644348138501"
     },
     "user_tz": -120
    },
    "id": "1f541c9e"
   },
   "outputs": [],
   "source": [
    "def subject_independent_split(df,session):\n",
    "    df = df.reset_index()\n",
    "    df_sess = df.loc[df['session'] == session]\n",
    "    groups = df_sess['id_user']\n",
    "    X = df_sess.set_index(['id_user','session','video']).drop('emotion',axis=1)\n",
    "    y = df_sess.set_index(['id_user','session','video']).emotion\n",
    "    return X, y, groups"
   ]
  },
  {
   "cell_type": "code",
   "execution_count": null,
   "id": "RTsme1ekFQ8K",
   "metadata": {
    "executionInfo": {
     "elapsed": 9,
     "status": "ok",
     "timestamp": 1685619541854,
     "user": {
      "displayName": "NICOLA PIO SANTORSA",
      "userId": "18186694644348138501"
     },
     "user_tz": -120
    },
    "id": "RTsme1ekFQ8K"
   },
   "outputs": [],
   "source": [
    "X1, y1, groups1 = subject_independent_split(df,1)\n",
    "X2, y2, groups2 = subject_independent_split(df,2)\n",
    "X3, y3, groups3 = subject_independent_split(df,3)"
   ]
  },
  {
   "cell_type": "code",
   "execution_count": null,
   "id": "8nhpVucBFQ0I",
   "metadata": {
    "executionInfo": {
     "elapsed": 9,
     "status": "ok",
     "timestamp": 1685619541855,
     "user": {
      "displayName": "NICOLA PIO SANTORSA",
      "userId": "18186694644348138501"
     },
     "user_tz": -120
    },
    "id": "8nhpVucBFQ0I"
   },
   "outputs": [],
   "source": [
    "train = [X1, X2, X3]\n",
    "targets = [y1, y2, y3]\n",
    "groups = [groups1, groups2, groups3]"
   ]
  },
  {
   "cell_type": "code",
   "execution_count": null,
   "id": "3nG3uugXIz0M",
   "metadata": {
    "executionInfo": {
     "elapsed": 7,
     "status": "ok",
     "timestamp": 1685619541855,
     "user": {
      "displayName": "NICOLA PIO SANTORSA",
      "userId": "18186694644348138501"
     },
     "user_tz": -120
    },
    "id": "3nG3uugXIz0M"
   },
   "outputs": [],
   "source": [
    "logo = LeaveOneGroupOut()"
   ]
  },
  {
   "cell_type": "code",
   "execution_count": null,
   "id": "zWgzuFggFQhm",
   "metadata": {
    "colab": {
     "base_uri": "https://localhost:8080/"
    },
    "id": "zWgzuFggFQhm",
    "outputId": "4c8bceca-0f5c-4c47-f4e0-f86238d5fce6"
   },
   "outputs": [],
   "source": [
    "accuracy_all = []\n",
    "for n in range (0,3):\n",
    "  X = train[n]\n",
    "  y = targets[n]\n",
    "  group = groups[n]\n",
    "  for i, (train_index,test_index) in enumerate(logo.split(X,y,group)):\n",
    "\n",
    "    X_train = X.iloc[train_index]\n",
    "    y_train = y.iloc[train_index]\n",
    "    X_test = X.iloc[test_index]\n",
    "    y_test = y.iloc[test_index]\n",
    "    X_train, X_test, y_train , y_test = preprocessing_for_LSTM(X_train,X_test,y_train,y_test)\n",
    "\n",
    "    model = Sequential()\n",
    "    #model.add(Masking(mask_value=-10,input_shape=(X_train.shape[1], 1)))\n",
    "    model.add(Bidirectional(GRU(units=32, input_shape=(X_train.shape[1], 1))))\n",
    "    model.add(Dense(units=4, activation='sigmoid'))\n",
    "    model.compile(loss='categorical_crossentropy', optimizer='adam', metrics=['accuracy'])\n",
    "    model.fit(X_train, y_train, epochs=200, batch_size=64)\n",
    "    loss, accuracy = model.evaluate(X_test, y_test)\n",
    "    accuracy_all.append(accuracy)"
   ]
  },
  {
   "cell_type": "code",
   "execution_count": null,
   "id": "e2e64a06",
   "metadata": {},
   "outputs": [],
   "source": [
    "accuracy_all = []\n",
    "for n in range (0,3):\n",
    "  X = train[n]\n",
    "  y = targets[n]\n",
    "  group = groups[n]\n",
    "  for i, (train_index,test_index) in enumerate(logo.split(X,y,group)):\n",
    "\n",
    "    X_train = X.iloc[train_index]\n",
    "    y_train = y.iloc[train_index]\n",
    "    X_test = X.iloc[test_index]\n",
    "    y_test = y.iloc[test_index]\n",
    "    X_train, X_test, y_train , y_test = preprocessing_for_LSTM(X_train,X_test,y_train,y_test)\n",
    "\n",
    "    model = Sequential()\n",
    "    #model.add(Masking(mask_value=-10,input_shape=(X_train.shape[1], 1)))\n",
    "    model.add(LSTM(units=32, input_shape=(X_train.shape[1], 1))))\n",
    "    model.add(Dense(units=4, activation='sigmoid'))\n",
    "    model.compile(loss='categorical_crossentropy', optimizer='adam', metrics=['accuracy'])\n",
    "    model.fit(X_train, y_train, epochs=200, batch_size=64)\n",
    "    loss, accuracy = model.evaluate(X_test, y_test)\n",
    "    accuracy_all.append(accuracy)"
   ]
  }
 ],
 "metadata": {
  "accelerator": "TPU",
  "colab": {
   "provenance": []
  },
  "kernelspec": {
   "display_name": "Python 3 (ipykernel)",
   "language": "python",
   "name": "python3"
  },
  "language_info": {
   "codemirror_mode": {
    "name": "ipython",
    "version": 3
   },
   "file_extension": ".py",
   "mimetype": "text/x-python",
   "name": "python",
   "nbconvert_exporter": "python",
   "pygments_lexer": "ipython3",
   "version": "3.11.0"
  }
 },
 "nbformat": 4,
 "nbformat_minor": 5
}
