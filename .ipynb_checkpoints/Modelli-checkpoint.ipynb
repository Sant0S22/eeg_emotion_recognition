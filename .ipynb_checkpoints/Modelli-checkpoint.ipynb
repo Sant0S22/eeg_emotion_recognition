{
 "cells": [
  {
   "cell_type": "code",
   "execution_count": null,
   "id": "d02527c4",
   "metadata": {},
   "outputs": [],
   "source": [
    "from sklearn import svm\n",
    "from sklearn.linear_model import LogisticRegression"
   ]
  },
  {
   "cell_type": "markdown",
   "id": "0023d2e0",
   "metadata": {},
   "source": [
    "## SVM Per Test"
   ]
  },
  {
   "cell_type": "markdown",
   "id": "b0e6863b",
   "metadata": {},
   "source": [
    "### neutral, sad, fear, and happy => 0 , 1 , 2 , 3"
   ]
  },
  {
   "cell_type": "code",
   "execution_count": null,
   "id": "0fc5e4a7",
   "metadata": {
    "scrolled": false
   },
   "outputs": [],
   "source": [
    "neutral = svm.SVC()\n",
    "sad = svm.SVC()\n",
    "fear = svm.SVC()\n",
    "happy = svm.SVC()"
   ]
  },
  {
   "cell_type": "markdown",
   "id": "21e1e859",
   "metadata": {},
   "source": [
    "## Logistical Regression per ulteriore Test"
   ]
  },
  {
   "cell_type": "code",
   "execution_count": null,
   "id": "ecfb1198",
   "metadata": {},
   "outputs": [],
   "source": [
    "neutral_l = LogisticRegression()\n",
    "sad_l = LogisticRegression()\n",
    "fear_l = LogisticRegression()\n",
    "happy_l = LogisticRegression()"
   ]
  }
 ],
 "metadata": {
  "kernelspec": {
   "display_name": "Python 3 (ipykernel)",
   "language": "python",
   "name": "python3"
  },
  "language_info": {
   "codemirror_mode": {
    "name": "ipython",
    "version": 3
   },
   "file_extension": ".py",
   "mimetype": "text/x-python",
   "name": "python",
   "nbconvert_exporter": "python",
   "pygments_lexer": "ipython3",
   "version": "3.11.0"
  }
 },
 "nbformat": 4,
 "nbformat_minor": 5
}
