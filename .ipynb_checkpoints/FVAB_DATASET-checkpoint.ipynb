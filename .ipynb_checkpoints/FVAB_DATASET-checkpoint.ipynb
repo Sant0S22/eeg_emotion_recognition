{
 "cells": [
  {
   "cell_type": "code",
   "execution_count": 1,
   "id": "5e5b4ec0",
   "metadata": {},
   "outputs": [],
   "source": [
    "import scipy.io\n",
    "from scipy import signal\n",
    "from scipy.stats import norm\n",
    "from scipy.stats import skew\n",
    "import numpy as np\n",
    "import pandas as pd\n",
    "import os\n",
    "import matplotlib.pyplot as plt\n"
   ]
  },
  {
   "cell_type": "code",
   "execution_count": 2,
   "id": "d2f42d70",
   "metadata": {},
   "outputs": [],
   "source": [
    "directory = \"C:\\\\Users\\\\grazi\\\\Desktop\\\\Materiale FVAB\\\\SEED_IV Database\\\\SEED_IV Database\"\n",
    "#directory = \"D:\\\\DATASET FVAB\\\\SEED_IV Database\\\\SEED_IV Database\\\\\""
   ]
  },
  {
   "cell_type": "code",
   "execution_count": 3,
   "id": "30ab0137",
   "metadata": {},
   "outputs": [
    {
     "data": {
      "text/plain": [
       "'C:\\\\Users\\\\grazi\\\\Desktop\\\\Materiale FVAB\\\\SEED_IV Database\\\\SEED_IV Database'"
      ]
     },
     "execution_count": 3,
     "metadata": {},
     "output_type": "execute_result"
    }
   ],
   "source": [
    "directory"
   ]
  },
  {
   "cell_type": "markdown",
   "id": "8f7dcac2",
   "metadata": {},
   "source": [
    "# Original code"
   ]
  },
  {
   "cell_type": "code",
   "execution_count": 4,
   "id": "de9c218b",
   "metadata": {},
   "outputs": [],
   "source": [
    "path = os.path.join(directory, \"eeg_raw_data\", \"1\", \"10_20151014.mat\")"
   ]
  },
  {
   "cell_type": "code",
   "execution_count": 5,
   "id": "f12a8b65",
   "metadata": {
    "scrolled": true
   },
   "outputs": [],
   "source": [
    "data = scipy.io.loadmat(path)"
   ]
  },
  {
   "cell_type": "code",
   "execution_count": 6,
   "id": "f69c8216",
   "metadata": {},
   "outputs": [],
   "source": [
    "#Prende tutti gli header per estrarre i dati\n",
    "labels = list(data.keys())\n",
    "size = len(labels)"
   ]
  },
  {
   "cell_type": "code",
   "execution_count": 7,
   "id": "7c19d2b0",
   "metadata": {
    "scrolled": false
   },
   "outputs": [
    {
     "name": "stdout",
     "output_type": "stream",
     "text": [
      "(62, 33601)\n",
      "(62, 19001)\n",
      "(62, 39801)\n",
      "(62, 26001)\n",
      "(62, 17601)\n",
      "(62, 32401)\n",
      "(62, 30601)\n",
      "(62, 41801)\n",
      "(62, 29001)\n",
      "(62, 33801)\n",
      "(62, 10001)\n",
      "(62, 22001)\n",
      "(62, 43401)\n",
      "(62, 33801)\n",
      "(62, 51801)\n",
      "(62, 28201)\n",
      "(62, 13601)\n",
      "(62, 35801)\n",
      "(62, 28001)\n",
      "(62, 9601)\n",
      "(62, 22401)\n",
      "(62, 22401)\n",
      "(62, 35001)\n",
      "(62, 27401)\n"
     ]
    }
   ],
   "source": [
    "# Carica il dataset in un dataframe di pandas usando gli header\n",
    "for i in range(3,size,1):\n",
    "    df = pd.DataFrame(data[labels[i]])\n",
    "    print(df.shape)\n",
    "    #df.transpose()\n",
    "    #df.to_csv(labels[i]+\".csv\")"
   ]
  },
  {
   "cell_type": "code",
   "execution_count": 8,
   "id": "585c16b9",
   "metadata": {},
   "outputs": [],
   "source": [
    "channel_order = pd.read_excel(os.path.join(directory,\"Channel Order.xlsx\"), header=None)"
   ]
  },
  {
   "cell_type": "code",
   "execution_count": 9,
   "id": "41eaac94",
   "metadata": {},
   "outputs": [],
   "source": [
    "session1_label = [1,2,3,0,2,0,0,1,0,1,2,1,1,1,2,3,2,2,3,3,0,3,0,3]\n",
    "session2_label = [2,1,3,0,0,2,0,2,3,3,2,3,2,0,1,1,2,1,0,3,0,1,3,1]\n",
    "session3_label = [1,2,2,1,3,3,3,1,1,2,1,0,2,3,3,0,2,3,0,0,2,0,1,0]\n",
    "labels = session1_label + session2_label + session3_label"
   ]
  },
  {
   "cell_type": "code",
   "execution_count": 10,
   "id": "97303477",
   "metadata": {},
   "outputs": [],
   "source": [
    "directory = os.path.join(directory, 'eeg_raw_data')"
   ]
  },
  {
   "cell_type": "markdown",
   "id": "e500da6a",
   "metadata": {},
   "source": [
    "## WIP (Merge Dataset x sessioni e utenti)"
   ]
  },
  {
   "cell_type": "code",
   "execution_count": 11,
   "id": "5cebd793",
   "metadata": {},
   "outputs": [],
   "source": [
    "df_global = pd.DataFrame()"
   ]
  },
  {
   "cell_type": "code",
   "execution_count": 12,
   "id": "0213f8d7",
   "metadata": {},
   "outputs": [
    {
     "data": {
      "text/html": [
       "<div>\n",
       "<style scoped>\n",
       "    .dataframe tbody tr th:only-of-type {\n",
       "        vertical-align: middle;\n",
       "    }\n",
       "\n",
       "    .dataframe tbody tr th {\n",
       "        vertical-align: top;\n",
       "    }\n",
       "\n",
       "    .dataframe thead th {\n",
       "        text-align: right;\n",
       "    }\n",
       "</style>\n",
       "<table border=\"1\" class=\"dataframe\">\n",
       "  <thead>\n",
       "    <tr style=\"text-align: right;\">\n",
       "      <th></th>\n",
       "      <th>0</th>\n",
       "      <th>1</th>\n",
       "      <th>2</th>\n",
       "      <th>3</th>\n",
       "      <th>4</th>\n",
       "      <th>5</th>\n",
       "      <th>6</th>\n",
       "      <th>7</th>\n",
       "      <th>8</th>\n",
       "      <th>9</th>\n",
       "      <th>...</th>\n",
       "      <th>27391</th>\n",
       "      <th>27392</th>\n",
       "      <th>27393</th>\n",
       "      <th>27394</th>\n",
       "      <th>27395</th>\n",
       "      <th>27396</th>\n",
       "      <th>27397</th>\n",
       "      <th>27398</th>\n",
       "      <th>27399</th>\n",
       "      <th>27400</th>\n",
       "    </tr>\n",
       "  </thead>\n",
       "  <tbody>\n",
       "    <tr>\n",
       "      <th>0</th>\n",
       "      <td>-7.033348</td>\n",
       "      <td>-7.748604</td>\n",
       "      <td>-10.460615</td>\n",
       "      <td>-11.682510</td>\n",
       "      <td>-11.801720</td>\n",
       "      <td>-6.258488</td>\n",
       "      <td>-7.301569</td>\n",
       "      <td>-5.692244</td>\n",
       "      <td>-3.546476</td>\n",
       "      <td>-4.202127</td>\n",
       "      <td>...</td>\n",
       "      <td>-4.142523</td>\n",
       "      <td>0.774860</td>\n",
       "      <td>1.072884</td>\n",
       "      <td>-1.221895</td>\n",
       "      <td>-5.424023</td>\n",
       "      <td>-1.043081</td>\n",
       "      <td>-6.943941</td>\n",
       "      <td>-2.026558</td>\n",
       "      <td>-10.728836</td>\n",
       "      <td>-7.867813</td>\n",
       "    </tr>\n",
       "    <tr>\n",
       "      <th>1</th>\n",
       "      <td>-1.013279</td>\n",
       "      <td>-1.847744</td>\n",
       "      <td>-1.788139</td>\n",
       "      <td>-3.904104</td>\n",
       "      <td>-6.556511</td>\n",
       "      <td>-1.549721</td>\n",
       "      <td>-0.447035</td>\n",
       "      <td>1.341105</td>\n",
       "      <td>0.029802</td>\n",
       "      <td>4.351139</td>\n",
       "      <td>...</td>\n",
       "      <td>0.208616</td>\n",
       "      <td>5.453825</td>\n",
       "      <td>2.175570</td>\n",
       "      <td>3.695488</td>\n",
       "      <td>0.983477</td>\n",
       "      <td>-0.357628</td>\n",
       "      <td>-2.771616</td>\n",
       "      <td>1.281500</td>\n",
       "      <td>-8.463860</td>\n",
       "      <td>-1.043081</td>\n",
       "    </tr>\n",
       "    <tr>\n",
       "      <th>2</th>\n",
       "      <td>-2.354383</td>\n",
       "      <td>-1.907349</td>\n",
       "      <td>-1.251698</td>\n",
       "      <td>-3.725290</td>\n",
       "      <td>-5.990267</td>\n",
       "      <td>-0.685453</td>\n",
       "      <td>0.596046</td>\n",
       "      <td>1.072884</td>\n",
       "      <td>-1.281500</td>\n",
       "      <td>4.351139</td>\n",
       "      <td>...</td>\n",
       "      <td>-6.794930</td>\n",
       "      <td>-4.917383</td>\n",
       "      <td>-9.566545</td>\n",
       "      <td>-4.142523</td>\n",
       "      <td>-7.688999</td>\n",
       "      <td>-7.897615</td>\n",
       "      <td>-11.920929</td>\n",
       "      <td>-10.371208</td>\n",
       "      <td>-17.672777</td>\n",
       "      <td>-12.606382</td>\n",
       "    </tr>\n",
       "    <tr>\n",
       "      <th>3</th>\n",
       "      <td>2.503395</td>\n",
       "      <td>-3.248453</td>\n",
       "      <td>1.549721</td>\n",
       "      <td>-2.533197</td>\n",
       "      <td>2.145767</td>\n",
       "      <td>-2.264977</td>\n",
       "      <td>1.847744</td>\n",
       "      <td>-4.023314</td>\n",
       "      <td>1.341105</td>\n",
       "      <td>-1.311302</td>\n",
       "      <td>...</td>\n",
       "      <td>0.536442</td>\n",
       "      <td>-2.801418</td>\n",
       "      <td>0.298023</td>\n",
       "      <td>-2.145767</td>\n",
       "      <td>1.251698</td>\n",
       "      <td>-1.192093</td>\n",
       "      <td>0.417233</td>\n",
       "      <td>-0.298023</td>\n",
       "      <td>-1.251698</td>\n",
       "      <td>-0.506639</td>\n",
       "    </tr>\n",
       "    <tr>\n",
       "      <th>4</th>\n",
       "      <td>-0.089407</td>\n",
       "      <td>1.072884</td>\n",
       "      <td>0.506639</td>\n",
       "      <td>-2.652407</td>\n",
       "      <td>-4.261732</td>\n",
       "      <td>0.029802</td>\n",
       "      <td>2.384186</td>\n",
       "      <td>2.175570</td>\n",
       "      <td>1.549721</td>\n",
       "      <td>5.364418</td>\n",
       "      <td>...</td>\n",
       "      <td>1.966953</td>\n",
       "      <td>2.771616</td>\n",
       "      <td>-2.145767</td>\n",
       "      <td>1.460314</td>\n",
       "      <td>-1.817942</td>\n",
       "      <td>0.298023</td>\n",
       "      <td>-4.082918</td>\n",
       "      <td>0.327826</td>\n",
       "      <td>-8.404255</td>\n",
       "      <td>-3.069639</td>\n",
       "    </tr>\n",
       "    <tr>\n",
       "      <th>...</th>\n",
       "      <td>...</td>\n",
       "      <td>...</td>\n",
       "      <td>...</td>\n",
       "      <td>...</td>\n",
       "      <td>...</td>\n",
       "      <td>...</td>\n",
       "      <td>...</td>\n",
       "      <td>...</td>\n",
       "      <td>...</td>\n",
       "      <td>...</td>\n",
       "      <td>...</td>\n",
       "      <td>...</td>\n",
       "      <td>...</td>\n",
       "      <td>...</td>\n",
       "      <td>...</td>\n",
       "      <td>...</td>\n",
       "      <td>...</td>\n",
       "      <td>...</td>\n",
       "      <td>...</td>\n",
       "      <td>...</td>\n",
       "      <td>...</td>\n",
       "    </tr>\n",
       "    <tr>\n",
       "      <th>57</th>\n",
       "      <td>8.285046</td>\n",
       "      <td>5.125999</td>\n",
       "      <td>9.298325</td>\n",
       "      <td>2.533197</td>\n",
       "      <td>13.262033</td>\n",
       "      <td>6.705523</td>\n",
       "      <td>7.987022</td>\n",
       "      <td>5.304813</td>\n",
       "      <td>0.685453</td>\n",
       "      <td>14.573336</td>\n",
       "      <td>...</td>\n",
       "      <td>11.801720</td>\n",
       "      <td>11.414289</td>\n",
       "      <td>5.930662</td>\n",
       "      <td>6.407499</td>\n",
       "      <td>4.202127</td>\n",
       "      <td>-3.069639</td>\n",
       "      <td>-1.758337</td>\n",
       "      <td>-4.231930</td>\n",
       "      <td>-7.510185</td>\n",
       "      <td>-5.602837</td>\n",
       "    </tr>\n",
       "    <tr>\n",
       "      <th>58</th>\n",
       "      <td>-6.020069</td>\n",
       "      <td>-10.281801</td>\n",
       "      <td>-6.765127</td>\n",
       "      <td>-27.477741</td>\n",
       "      <td>6.943941</td>\n",
       "      <td>-6.973743</td>\n",
       "      <td>-8.046627</td>\n",
       "      <td>-11.414289</td>\n",
       "      <td>-17.374754</td>\n",
       "      <td>0.745058</td>\n",
       "      <td>...</td>\n",
       "      <td>17.344952</td>\n",
       "      <td>19.520521</td>\n",
       "      <td>5.245209</td>\n",
       "      <td>16.003847</td>\n",
       "      <td>9.089708</td>\n",
       "      <td>7.480383</td>\n",
       "      <td>8.881092</td>\n",
       "      <td>5.900860</td>\n",
       "      <td>-1.996756</td>\n",
       "      <td>7.659197</td>\n",
       "    </tr>\n",
       "    <tr>\n",
       "      <th>59</th>\n",
       "      <td>1.519918</td>\n",
       "      <td>0.834465</td>\n",
       "      <td>1.490116</td>\n",
       "      <td>-5.275011</td>\n",
       "      <td>6.079674</td>\n",
       "      <td>2.413988</td>\n",
       "      <td>1.937151</td>\n",
       "      <td>0.119209</td>\n",
       "      <td>-2.175570</td>\n",
       "      <td>8.374453</td>\n",
       "      <td>...</td>\n",
       "      <td>14.364719</td>\n",
       "      <td>13.351440</td>\n",
       "      <td>8.076429</td>\n",
       "      <td>11.473894</td>\n",
       "      <td>8.791685</td>\n",
       "      <td>4.053116</td>\n",
       "      <td>5.185604</td>\n",
       "      <td>3.993511</td>\n",
       "      <td>1.519918</td>\n",
       "      <td>3.546476</td>\n",
       "    </tr>\n",
       "    <tr>\n",
       "      <th>60</th>\n",
       "      <td>2.682209</td>\n",
       "      <td>2.205372</td>\n",
       "      <td>1.788139</td>\n",
       "      <td>1.251698</td>\n",
       "      <td>2.503395</td>\n",
       "      <td>5.304813</td>\n",
       "      <td>4.291534</td>\n",
       "      <td>6.556511</td>\n",
       "      <td>2.324581</td>\n",
       "      <td>8.195639</td>\n",
       "      <td>...</td>\n",
       "      <td>-1.311302</td>\n",
       "      <td>-3.278255</td>\n",
       "      <td>-7.510185</td>\n",
       "      <td>-4.172325</td>\n",
       "      <td>-6.645918</td>\n",
       "      <td>-8.761883</td>\n",
       "      <td>-11.056662</td>\n",
       "      <td>-10.699034</td>\n",
       "      <td>-10.073185</td>\n",
       "      <td>-7.301569</td>\n",
       "    </tr>\n",
       "    <tr>\n",
       "      <th>61</th>\n",
       "      <td>2.682209</td>\n",
       "      <td>2.175570</td>\n",
       "      <td>2.026558</td>\n",
       "      <td>1.609325</td>\n",
       "      <td>3.457069</td>\n",
       "      <td>5.841255</td>\n",
       "      <td>4.291534</td>\n",
       "      <td>6.526709</td>\n",
       "      <td>3.159046</td>\n",
       "      <td>9.238720</td>\n",
       "      <td>...</td>\n",
       "      <td>-1.341105</td>\n",
       "      <td>-2.831221</td>\n",
       "      <td>-7.539988</td>\n",
       "      <td>-4.172325</td>\n",
       "      <td>-6.288290</td>\n",
       "      <td>-8.314848</td>\n",
       "      <td>-10.669231</td>\n",
       "      <td>-11.324883</td>\n",
       "      <td>-9.894371</td>\n",
       "      <td>-7.539988</td>\n",
       "    </tr>\n",
       "  </tbody>\n",
       "</table>\n",
       "<p>62 rows × 27401 columns</p>\n",
       "</div>"
      ],
      "text/plain": [
       "       0          1          2          3          4         5         6      \\\n",
       "0  -7.033348  -7.748604 -10.460615 -11.682510 -11.801720 -6.258488 -7.301569   \n",
       "1  -1.013279  -1.847744  -1.788139  -3.904104  -6.556511 -1.549721 -0.447035   \n",
       "2  -2.354383  -1.907349  -1.251698  -3.725290  -5.990267 -0.685453  0.596046   \n",
       "3   2.503395  -3.248453   1.549721  -2.533197   2.145767 -2.264977  1.847744   \n",
       "4  -0.089407   1.072884   0.506639  -2.652407  -4.261732  0.029802  2.384186   \n",
       "..       ...        ...        ...        ...        ...       ...       ...   \n",
       "57  8.285046   5.125999   9.298325   2.533197  13.262033  6.705523  7.987022   \n",
       "58 -6.020069 -10.281801  -6.765127 -27.477741   6.943941 -6.973743 -8.046627   \n",
       "59  1.519918   0.834465   1.490116  -5.275011   6.079674  2.413988  1.937151   \n",
       "60  2.682209   2.205372   1.788139   1.251698   2.503395  5.304813  4.291534   \n",
       "61  2.682209   2.175570   2.026558   1.609325   3.457069  5.841255  4.291534   \n",
       "\n",
       "        7          8          9      ...      27391      27392     27393  \\\n",
       "0   -5.692244  -3.546476  -4.202127  ...  -4.142523   0.774860  1.072884   \n",
       "1    1.341105   0.029802   4.351139  ...   0.208616   5.453825  2.175570   \n",
       "2    1.072884  -1.281500   4.351139  ...  -6.794930  -4.917383 -9.566545   \n",
       "3   -4.023314   1.341105  -1.311302  ...   0.536442  -2.801418  0.298023   \n",
       "4    2.175570   1.549721   5.364418  ...   1.966953   2.771616 -2.145767   \n",
       "..        ...        ...        ...  ...        ...        ...       ...   \n",
       "57   5.304813   0.685453  14.573336  ...  11.801720  11.414289  5.930662   \n",
       "58 -11.414289 -17.374754   0.745058  ...  17.344952  19.520521  5.245209   \n",
       "59   0.119209  -2.175570   8.374453  ...  14.364719  13.351440  8.076429   \n",
       "60   6.556511   2.324581   8.195639  ...  -1.311302  -3.278255 -7.510185   \n",
       "61   6.526709   3.159046   9.238720  ...  -1.341105  -2.831221 -7.539988   \n",
       "\n",
       "        27394     27395     27396      27397      27398      27399      27400  \n",
       "0   -1.221895 -5.424023 -1.043081  -6.943941  -2.026558 -10.728836  -7.867813  \n",
       "1    3.695488  0.983477 -0.357628  -2.771616   1.281500  -8.463860  -1.043081  \n",
       "2   -4.142523 -7.688999 -7.897615 -11.920929 -10.371208 -17.672777 -12.606382  \n",
       "3   -2.145767  1.251698 -1.192093   0.417233  -0.298023  -1.251698  -0.506639  \n",
       "4    1.460314 -1.817942  0.298023  -4.082918   0.327826  -8.404255  -3.069639  \n",
       "..        ...       ...       ...        ...        ...        ...        ...  \n",
       "57   6.407499  4.202127 -3.069639  -1.758337  -4.231930  -7.510185  -5.602837  \n",
       "58  16.003847  9.089708  7.480383   8.881092   5.900860  -1.996756   7.659197  \n",
       "59  11.473894  8.791685  4.053116   5.185604   3.993511   1.519918   3.546476  \n",
       "60  -4.172325 -6.645918 -8.761883 -11.056662 -10.699034 -10.073185  -7.301569  \n",
       "61  -4.172325 -6.288290 -8.314848 -10.669231 -11.324883  -9.894371  -7.539988  \n",
       "\n",
       "[62 rows x 27401 columns]"
      ]
     },
     "execution_count": 12,
     "metadata": {},
     "output_type": "execute_result"
    }
   ],
   "source": [
    "pd.concat([df_global,df])"
   ]
  },
  {
   "cell_type": "markdown",
   "id": "b91a4c01",
   "metadata": {},
   "source": [
    "# Drop channels"
   ]
  },
  {
   "cell_type": "code",
   "execution_count": 11,
   "id": "3517f01d",
   "metadata": {},
   "outputs": [],
   "source": [
    "def drop_channels(df):\n",
    "    df = df.set_index(channel_order[0])\n",
    "    df = df.transpose()\n",
    "    df = df[['FT7','FT8','T7', 'T8', 'TP7', 'TP8']]\n",
    "    df = df.transpose()\n",
    "    return df"
   ]
  },
  {
   "cell_type": "code",
   "execution_count": 12,
   "id": "b8b38452",
   "metadata": {},
   "outputs": [],
   "source": [
    "df_6_channels = drop_channels(pd.DataFrame(data['tyc_eeg1']))"
   ]
  },
  {
   "cell_type": "code",
   "execution_count": 13,
   "id": "651574d5",
   "metadata": {},
   "outputs": [],
   "source": [
    "df_6_channels.index.names = ['Channels']"
   ]
  },
  {
   "cell_type": "code",
   "execution_count": 14,
   "id": "0867b3e8",
   "metadata": {},
   "outputs": [
    {
     "name": "stdout",
     "output_type": "stream",
     "text": [
      "(6, 33601)\n"
     ]
    }
   ],
   "source": [
    "print(df_6_channels.shape)"
   ]
  },
  {
   "cell_type": "markdown",
   "id": "bb6dbccd",
   "metadata": {},
   "source": [
    "# Downsampling e filtering"
   ]
  },
  {
   "cell_type": "code",
   "execution_count": 18,
   "id": "e0115be1",
   "metadata": {},
   "outputs": [],
   "source": [
    "def down_sampling(data):\n",
    "    sfreq = 1000\n",
    "    new_sfreq = 200\n",
    "    \n",
    "    data = signal.resample(data, int(len(data) * new_sfreq / sfreq))    \n",
    "    return data"
   ]
  },
  {
   "cell_type": "code",
   "execution_count": 19,
   "id": "df2c9efc",
   "metadata": {},
   "outputs": [],
   "source": [
    "def band_pass_filter(data):\n",
    "    sfreq = 1000\n",
    "    nyquist_frequency = sfreq / 2\n",
    "    lowcut = 0.3 \n",
    "    highcut = 50\n",
    "    order = 4\n",
    "       \n",
    "    b, a = signal.butter(order, [lowcut/nyquist_frequency, highcut/nyquist_frequency], btype='band')\n",
    "    data = signal.filtfilt(b, a, data, padlen=0)\n",
    "    return data"
   ]
  },
  {
   "cell_type": "code",
   "execution_count": 27,
   "id": "89083450",
   "metadata": {
    "scrolled": false
   },
   "outputs": [
    {
     "data": {
      "text/plain": [
       "<AxesSubplot: >"
      ]
     },
     "execution_count": 27,
     "metadata": {},
     "output_type": "execute_result"
    },
    {
     "data": {
      "image/png": "[encoded data removed]",
      "text/plain": [
       "<Figure size 640x480 with 1 Axes>"
      ]
     },
     "metadata": {},
     "output_type": "display_data"
    }
   ],
   "source": [
    "df_6_channels.iloc[3].plot()"
   ]
  },
  {
   "cell_type": "code",
   "execution_count": 20,
   "id": "c80bbf87",
   "metadata": {},
   "outputs": [],
   "source": [
    "processed_data_down = down_sampling(df_6_channels.T)"
   ]
  },
  {
   "cell_type": "code",
   "execution_count": 21,
   "id": "2008d589",
   "metadata": {},
   "outputs": [
    {
     "name": "stdout",
     "output_type": "stream",
     "text": [
      "(6720, 6)\n"
     ]
    }
   ],
   "source": [
    "print(processed_data_down.shape)"
   ]
  },
  {
   "cell_type": "code",
   "execution_count": 33,
   "id": "b4e6090e",
   "metadata": {
    "scrolled": false
   },
   "outputs": [
    {
     "data": {
      "text/plain": [
       "<AxesSubplot: >"
      ]
     },
     "execution_count": 33,
     "metadata": {},
     "output_type": "execute_result"
    },
    {
     "data": {
      "image/png": "[encoded data removed]",
      "text/plain": [
       "<Figure size 640x480 with 1 Axes>"
      ]
     },
     "metadata": {},
     "output_type": "display_data"
    }
   ],
   "source": [
    "pd.DataFrame(processed_data_down)[3].plot()"
   ]
  },
  {
   "cell_type": "code",
   "execution_count": 23,
   "id": "d92233be",
   "metadata": {},
   "outputs": [],
   "source": [
    "processed_data_filter = band_pass_filter(processed_data_down)"
   ]
  },
  {
   "cell_type": "code",
   "execution_count": 24,
   "id": "162de6b1",
   "metadata": {},
   "outputs": [
    {
     "name": "stdout",
     "output_type": "stream",
     "text": [
      "(6720, 6)\n"
     ]
    }
   ],
   "source": [
    "print(processed_data_filter.shape)"
   ]
  },
  {
   "cell_type": "code",
   "execution_count": 28,
   "id": "fc0ea853",
   "metadata": {},
   "outputs": [
    {
     "data": {
      "text/plain": [
       "<AxesSubplot: >"
      ]
     },
     "execution_count": 28,
     "metadata": {},
     "output_type": "execute_result"
    },
    {
     "data": {
      "image/png": "[encoded data removed]",
      "text/plain": [
       "<Figure size 640x480 with 1 Axes>"
      ]
     },
     "metadata": {},
     "output_type": "display_data"
    }
   ],
   "source": [
    "pd.DataFrame(processed_data_down)[3].plot()"
   ]
  },
  {
   "cell_type": "code",
   "execution_count": 30,
   "id": "792146e8",
   "metadata": {},
   "outputs": [],
   "source": [
    "filtered_dataset = pd.DataFrame(processed_data_filter).T"
   ]
  },
  {
   "cell_type": "code",
   "execution_count": 38,
   "id": "a070c62e",
   "metadata": {},
   "outputs": [],
   "source": [
    "filtered_dataset['Channels'] = ['FT7','FT8','T7', 'T8', 'TP7', 'TP8']"
   ]
  },
  {
   "cell_type": "code",
   "execution_count": 40,
   "id": "4795daee",
   "metadata": {},
   "outputs": [],
   "source": [
    "filtered_dataset.set_index('Channels',inplace=True)"
   ]
  },
  {
   "cell_type": "markdown",
   "id": "ec0ce7f6",
   "metadata": {},
   "source": [
    "## Feature Extraction"
   ]
  },
  {
   "cell_type": "markdown",
   "id": "7afbb798",
   "metadata": {},
   "source": [
    "### PSD"
   ]
  },
  {
   "cell_type": "code",
   "execution_count": 44,
   "id": "c29e24a5",
   "metadata": {
    "scrolled": true
   },
   "outputs": [
    {
     "name": "stdout",
     "output_type": "stream",
     "text": [
      "(6, 2001)\n"
     ]
    }
   ],
   "source": [
    "# Imposta le bande di frequenza\n",
    "frequencies_delta = np.arange(1, 4)\n",
    "frequencies_theta = np.arange(4, 8)\n",
    "frequencies_alpha = np.arange(8, 14)\n",
    "frequencies_beta = np.arange(14, 31)\n",
    "frequencies_gamma = np.arange(31, 50)\n",
    "\n",
    "# Calcola la PSD utilizzando la funzione welch\n",
    "#f, psd = signal.welch(processed_data_filter.T, 50 , nperseg=4000)\n",
    "f, psd = signal.welch(filtered_dataset, 50 , nperseg=4000)\n",
    "print(psd.shape)\n",
    "\n",
    "# Seleziona solo le frequenze specificate\n",
    "#freq_indices = np.searchsorted(f, frequencies)\n",
    "#frequencies_selected = f[freq_indices]\n",
    "#psd_selected = psd[freq_indices]\n",
    "#f, Pxx_den = signal.welch(preprocessed_data_filter, fs, nperseg=1024)"
   ]
  },
  {
   "cell_type": "code",
   "execution_count": 48,
   "id": "51132a63",
   "metadata": {},
   "outputs": [
    {
     "data": {
      "text/plain": [
       "array([[6.21179445e-05, 5.13636629e-05, 2.31925491e-04, ...,\n",
       "        3.32974636e-06, 3.16733467e-06, 1.54833864e-06],\n",
       "       [1.19408947e-05, 9.83223849e-06, 4.48803335e-05, ...,\n",
       "        6.42627019e-07, 6.12990550e-07, 3.00117164e-07],\n",
       "       [1.37300247e-06, 1.12667846e-06, 5.20172355e-06, ...,\n",
       "        7.42857244e-08, 7.10853845e-08, 3.48579214e-08],\n",
       "       [7.22409721e-08, 5.91415187e-08, 2.76117427e-07, ...,\n",
       "        3.93370144e-09, 3.77699282e-09, 1.85492712e-09],\n",
       "       [9.55780181e-10, 7.81821462e-10, 3.68461208e-09, ...,\n",
       "        5.23936381e-11, 5.04639680e-11, 2.48160463e-11],\n",
       "       [1.13893063e-13, 9.82599877e-14, 4.14959916e-13, ...,\n",
       "        6.07479432e-15, 5.70294233e-15, 2.75842719e-15]])"
      ]
     },
     "execution_count": 48,
     "metadata": {},
     "output_type": "execute_result"
    }
   ],
   "source": [
    "psd"
   ]
  },
  {
   "cell_type": "markdown",
   "id": "644358f2",
   "metadata": {},
   "source": [
    "### DE"
   ]
  },
  {
   "cell_type": "code",
   "execution_count": 45,
   "id": "0bdaa83b",
   "metadata": {},
   "outputs": [
    {
     "name": "stdout",
     "output_type": "stream",
     "text": [
      "[-3.31875362 -3.31569006 -3.00140954 ... -4.06612605 -4.10846043\n",
      " -4.95444633]\n"
     ]
    }
   ],
   "source": [
    "entropy = scipy.stats.differential_entropy(filtered_dataset)\n",
    "print(entropy)"
   ]
  },
  {
   "cell_type": "markdown",
   "id": "41d43d57",
   "metadata": {},
   "source": [
    "## ASM"
   ]
  },
  {
   "cell_type": "code",
   "execution_count": 47,
   "id": "78aaf76a",
   "metadata": {},
   "outputs": [],
   "source": [
    "left_hemisphere = ['FT7','T7', 'TP7']\n",
    "right_hemisphere = ['FT8','T8','TP8']"
   ]
  },
  {
   "cell_type": "markdown",
   "id": "fa85a544",
   "metadata": {},
   "source": [
    "logicaland tra i due emisferi (risultato psd f)\n",
    "band_power media tra psd \n",
    "asymmetry_scores[i, j] = (np.sum(band_power[channel_mask]) -\n",
    "                                  np.sum(band_power[~channel_mask])) / np.sum(band_power)\n",
    "total_power[i, j] = np.sum(band_power)"
   ]
  },
  {
   "cell_type": "code",
   "execution_count": 46,
   "id": "28b0ce7a",
   "metadata": {
    "scrolled": true
   },
   "outputs": [
    {
     "name": "stdout",
     "output_type": "stream",
     "text": [
      "[1.20701063 1.20953472 1.21088051 ... 1.1931527  1.18870425 1.17135375]\n"
     ]
    }
   ],
   "source": [
    "asymmetry = skew(filtered_dataset)\n",
    "print(asymmetry)"
   ]
  },
  {
   "cell_type": "code",
   "execution_count": null,
   "id": "7e13438d",
   "metadata": {},
   "outputs": [],
   "source": [
    "# Define frequency bands of interest\n",
    "freq_bands = {'alpha': [8, 13]}\n",
    "\n",
    "# Define electrode groups for left and right hemispheres\n",
    "left_hemisphere = ['F3', 'F7', 'C3', 'T7', 'P3', 'O1']\n",
    "right_hemisphere = ['F4', 'F8', 'C4', 'T8', 'P4', 'O2']\n",
    "\n",
    "# Initialize arrays to store asymmetry scores and total power\n",
    "asymmetry_scores = np.zeros((len(freq_bands), 2))\n",
    "total_power = np.zeros((len(freq_bands), 2))\n",
    "\n",
    "# Compute power spectral densities for each channel using Welch's method\n",
    "for i, (band_name, freq_range) in enumerate(freq_bands.items()):\n",
    "    freq_mask = (sfreq / 2) * np.array(freq_range)\n",
    "    for j, hemisphere in enumerate([left_hemisphere, right_hemisphere]):\n",
    "        channel_mask = np.isin(channel_names, hemisphere)\n",
    "        channel_data = eeg_data[channel_mask, :]\n",
    "        freqs, psds = welch(channel_data, sfreq, nperseg=1024, axis=-1, average='mean')\n",
    "        freq_masked = np.logical_and(freqs >= freq_mask[0], freqs <= freq_mask[1])\n",
    "        band_power = np.mean(psds[:, freq_masked], axis=1)\n",
    "        asymmetry_scores[i, j] = (np.sum(band_power[channel_mask]) -\n",
    "                                  np.sum(band_power[~channel_mask])) / np.sum(band_power)\n",
    "        total_power[i, j] = np.sum(band_power)\n"
   ]
  },
  {
   "cell_type": "markdown",
   "id": "413d18ce",
   "metadata": {},
   "source": [
    "## DASM"
   ]
  },
  {
   "cell_type": "code",
   "execution_count": null,
   "id": "5d48975d",
   "metadata": {},
   "outputs": [],
   "source": [
    "F3_idx = np.where(f == 3)[0][0]\n",
    "F4_idx = np.where(f == 4)[0][0]\n",
    "dasm = np.abs(psd[:, F3_idx, :] - psd[:, F4_idx, :]) / (psd[:, F3_idx, :] + psd[:, F4_idx, :])"
   ]
  },
  {
   "cell_type": "markdown",
   "id": "82ef0544",
   "metadata": {},
   "source": [
    "# Script"
   ]
  },
  {
   "cell_type": "code",
   "execution_count": 31,
   "id": "171c0845",
   "metadata": {
    "scrolled": true
   },
   "outputs": [
    {
     "name": "stdout",
     "output_type": "stream",
     "text": [
      "C:\\Users\\grazi\\Desktop\\Materiale FVAB\\SEED_IV Database\\SEED_IV Database\\eeg_raw_data\\1\\10_20151014.mat\n",
      "(12, 33601)\n",
      "(12, 19001)\n",
      "(12, 39801)\n",
      "(12, 26001)\n",
      "(12, 17601)\n",
      "(12, 32401)\n",
      "(12, 30601)\n",
      "(12, 41801)\n",
      "(12, 29001)\n",
      "(12, 33801)\n",
      "(12, 10001)\n",
      "(12, 22001)\n",
      "(12, 43401)\n",
      "(12, 33801)\n",
      "(12, 51801)\n",
      "(12, 28201)\n",
      "(12, 13601)\n",
      "(12, 35801)\n",
      "(12, 28001)\n",
      "(12, 9601)\n",
      "(12, 22401)\n",
      "(12, 22401)\n",
      "(12, 35001)\n",
      "(12, 27401)\n",
      "C:\\Users\\grazi\\Desktop\\Materiale FVAB\\SEED_IV Database\\SEED_IV Database\\eeg_raw_data\\1\\11_20150916.mat\n",
      "(12, 33601)\n",
      "(12, 19001)\n",
      "(12, 39801)\n",
      "(12, 26001)\n",
      "(12, 17601)\n",
      "(12, 32401)\n",
      "(12, 30601)\n",
      "(12, 41801)\n",
      "(12, 29001)\n",
      "(12, 33801)\n",
      "(12, 10001)\n",
      "(12, 22001)\n",
      "(12, 43401)\n",
      "(12, 33801)\n",
      "(12, 51801)\n",
      "(12, 28201)\n",
      "(12, 13601)\n",
      "(12, 35801)\n",
      "(12, 28001)\n",
      "(12, 9601)\n",
      "(12, 22401)\n",
      "(12, 22401)\n",
      "(12, 35001)\n",
      "(12, 27401)\n"
     ]
    },
    {
     "ename": "KeyboardInterrupt",
     "evalue": "",
     "output_type": "error",
     "traceback": [
      "\u001b[1;31m---------------------------------------------------------------------------\u001b[0m",
      "\u001b[1;31mKeyboardInterrupt\u001b[0m                         Traceback (most recent call last)",
      "Cell \u001b[1;32mIn[31], line 10\u001b[0m\n\u001b[0;32m      8\u001b[0m \u001b[38;5;28;01mif\u001b[39;00m file1\u001b[38;5;241m.\u001b[39mendswith(\u001b[38;5;124m\"\u001b[39m\u001b[38;5;124m.mat\u001b[39m\u001b[38;5;124m\"\u001b[39m):\n\u001b[0;32m      9\u001b[0m     file1 \u001b[38;5;241m=\u001b[39m os\u001b[38;5;241m.\u001b[39mpath\u001b[38;5;241m.\u001b[39mjoin(sec, file1)\n\u001b[1;32m---> 10\u001b[0m     data \u001b[38;5;241m=\u001b[39m \u001b[43mscipy\u001b[49m\u001b[38;5;241;43m.\u001b[39;49m\u001b[43mio\u001b[49m\u001b[38;5;241;43m.\u001b[39;49m\u001b[43mloadmat\u001b[49m\u001b[43m(\u001b[49m\u001b[43mfile1\u001b[49m\u001b[43m)\u001b[49m\n\u001b[0;32m     11\u001b[0m     labels \u001b[38;5;241m=\u001b[39m \u001b[38;5;28mlist\u001b[39m(data\u001b[38;5;241m.\u001b[39mkeys())\n\u001b[0;32m     12\u001b[0m     size \u001b[38;5;241m=\u001b[39m \u001b[38;5;28mlen\u001b[39m(labels)\n",
      "File \u001b[1;32m~\\AppData\\Local\\Programs\\Python\\Python311\\Lib\\site-packages\\scipy\\io\\matlab\\_mio.py:226\u001b[0m, in \u001b[0;36mloadmat\u001b[1;34m(file_name, mdict, appendmat, **kwargs)\u001b[0m\n\u001b[0;32m    224\u001b[0m \u001b[38;5;28;01mwith\u001b[39;00m _open_file_context(file_name, appendmat) \u001b[38;5;28;01mas\u001b[39;00m f:\n\u001b[0;32m    225\u001b[0m     MR, _ \u001b[38;5;241m=\u001b[39m mat_reader_factory(f, \u001b[38;5;241m*\u001b[39m\u001b[38;5;241m*\u001b[39mkwargs)\n\u001b[1;32m--> 226\u001b[0m     matfile_dict \u001b[38;5;241m=\u001b[39m \u001b[43mMR\u001b[49m\u001b[38;5;241;43m.\u001b[39;49m\u001b[43mget_variables\u001b[49m\u001b[43m(\u001b[49m\u001b[43mvariable_names\u001b[49m\u001b[43m)\u001b[49m\n\u001b[0;32m    228\u001b[0m \u001b[38;5;28;01mif\u001b[39;00m mdict \u001b[38;5;129;01mis\u001b[39;00m \u001b[38;5;129;01mnot\u001b[39;00m \u001b[38;5;28;01mNone\u001b[39;00m:\n\u001b[0;32m    229\u001b[0m     mdict\u001b[38;5;241m.\u001b[39mupdate(matfile_dict)\n",
      "File \u001b[1;32m~\\AppData\\Local\\Programs\\Python\\Python311\\Lib\\site-packages\\scipy\\io\\matlab\\_mio5.py:332\u001b[0m, in \u001b[0;36mMatFile5Reader.get_variables\u001b[1;34m(self, variable_names)\u001b[0m\n\u001b[0;32m    330\u001b[0m     \u001b[38;5;28;01mcontinue\u001b[39;00m\n\u001b[0;32m    331\u001b[0m \u001b[38;5;28;01mtry\u001b[39;00m:\n\u001b[1;32m--> 332\u001b[0m     res \u001b[38;5;241m=\u001b[39m \u001b[38;5;28;43mself\u001b[39;49m\u001b[38;5;241;43m.\u001b[39;49m\u001b[43mread_var_array\u001b[49m\u001b[43m(\u001b[49m\u001b[43mhdr\u001b[49m\u001b[43m,\u001b[49m\u001b[43m \u001b[49m\u001b[43mprocess\u001b[49m\u001b[43m)\u001b[49m\n\u001b[0;32m    333\u001b[0m \u001b[38;5;28;01mexcept\u001b[39;00m MatReadError \u001b[38;5;28;01mas\u001b[39;00m err:\n\u001b[0;32m    334\u001b[0m     warnings\u001b[38;5;241m.\u001b[39mwarn(\n\u001b[0;32m    335\u001b[0m         \u001b[38;5;124m'\u001b[39m\u001b[38;5;124mUnreadable variable \u001b[39m\u001b[38;5;124m\"\u001b[39m\u001b[38;5;132;01m%s\u001b[39;00m\u001b[38;5;124m\"\u001b[39m\u001b[38;5;124m, because \u001b[39m\u001b[38;5;124m\"\u001b[39m\u001b[38;5;132;01m%s\u001b[39;00m\u001b[38;5;124m\"\u001b[39m\u001b[38;5;124m'\u001b[39m \u001b[38;5;241m%\u001b[39m\n\u001b[0;32m    336\u001b[0m         (name, err),\n\u001b[0;32m    337\u001b[0m         \u001b[38;5;167;01mWarning\u001b[39;00m, stacklevel\u001b[38;5;241m=\u001b[39m\u001b[38;5;241m2\u001b[39m)\n",
      "File \u001b[1;32m~\\AppData\\Local\\Programs\\Python\\Python311\\Lib\\site-packages\\scipy\\io\\matlab\\_mio5.py:292\u001b[0m, in \u001b[0;36mMatFile5Reader.read_var_array\u001b[1;34m(self, header, process)\u001b[0m\n\u001b[0;32m    275\u001b[0m \u001b[38;5;28;01mdef\u001b[39;00m \u001b[38;5;21mread_var_array\u001b[39m(\u001b[38;5;28mself\u001b[39m, header, process\u001b[38;5;241m=\u001b[39m\u001b[38;5;28;01mTrue\u001b[39;00m):\n\u001b[0;32m    276\u001b[0m \u001b[38;5;250m    \u001b[39m\u001b[38;5;124;03m''' Read array, given `header`\u001b[39;00m\n\u001b[0;32m    277\u001b[0m \n\u001b[0;32m    278\u001b[0m \u001b[38;5;124;03m    Parameters\u001b[39;00m\n\u001b[1;32m   (...)\u001b[0m\n\u001b[0;32m    290\u001b[0m \u001b[38;5;124;03m       `process`.\u001b[39;00m\n\u001b[0;32m    291\u001b[0m \u001b[38;5;124;03m    '''\u001b[39;00m\n\u001b[1;32m--> 292\u001b[0m     \u001b[38;5;28;01mreturn\u001b[39;00m \u001b[38;5;28;43mself\u001b[39;49m\u001b[38;5;241;43m.\u001b[39;49m\u001b[43m_matrix_reader\u001b[49m\u001b[38;5;241;43m.\u001b[39;49m\u001b[43marray_from_header\u001b[49m\u001b[43m(\u001b[49m\u001b[43mheader\u001b[49m\u001b[43m,\u001b[49m\u001b[43m \u001b[49m\u001b[43mprocess\u001b[49m\u001b[43m)\u001b[49m\n",
      "\u001b[1;31mKeyboardInterrupt\u001b[0m: "
     ]
    }
   ],
   "source": [
    "if os.path.exists(directory):\n",
    "    lista_cartella_main = os.listdir(directory)\n",
    "    for file in lista_cartella_main:\n",
    "        sec = os.path.join(directory, file)\n",
    "        if os.path.isdir(sec):\n",
    "            files1 = os.listdir(sec)\n",
    "            for file1 in files1:\n",
    "                if file1.endswith(\".mat\"):\n",
    "                    file1 = os.path.join(sec, file1)\n",
    "                    data = scipy.io.loadmat(file1)\n",
    "                    labels = list(data.keys())\n",
    "                    size = len(labels)\n",
    "                    print(file1)\n",
    "                    for i in range(3,size,1):\n",
    "                        df = pd.DataFrame(data[labels[i]])\n",
    "                        df = drop_channels(df)\n",
    "                        downsampled = down_sampling(data[labels[i]])\n",
    "                        filtered = band_pass_filter(downsampled)\n",
    "                        df = pd.DataFrame(filtered)\n",
    "                        print(df.shape)"
   ]
  },
  {
   "cell_type": "code",
   "execution_count": null,
   "id": "14c5f3df",
   "metadata": {},
   "outputs": [],
   "source": []
  }
 ],
 "metadata": {
  "kernelspec": {
   "display_name": "Python 3 (ipykernel)",
   "language": "python",
   "name": "python3"
  },
  "language_info": {
   "codemirror_mode": {
    "name": "ipython",
    "version": 3
   },
   "file_extension": ".py",
   "mimetype": "text/x-python",
   "name": "python",
   "nbconvert_exporter": "python",
   "pygments_lexer": "ipython3",
   "version": "3.11.0"
  }
 },
 "nbformat": 4,
 "nbformat_minor": 5
}
