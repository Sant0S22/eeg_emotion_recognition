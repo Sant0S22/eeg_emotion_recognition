{
 "cells": [
  {
   "cell_type": "code",
   "execution_count": 38,
   "id": "5e5b4ec0",
   "metadata": {},
   "outputs": [],
   "source": [
    "import scipy.io\n",
    "from scipy import signal\n",
    "from scipy.stats import norm\n",
    "import numpy as np\n",
    "import pandas as pd\n",
    "import os\n",
    "import matplotlib.pyplot as plt\n"
   ]
  },
  {
   "cell_type": "code",
   "execution_count": 5,
   "id": "d2f42d70",
   "metadata": {},
   "outputs": [],
   "source": [
    "#directory = \"C:\\\\Users\\\\grazi\\\\Desktop\\\\Materiale FVAB\\\\SEED_IV Database\\\\SEED_IV Database\"\n",
    "directory = \"D:\\\\DATASET FVAB\\\\SEED_IV Database\\\\SEED_IV Database\\\\\""
   ]
  },
  {
   "cell_type": "code",
   "execution_count": 6,
   "id": "30ab0137",
   "metadata": {},
   "outputs": [
    {
     "data": {
      "text/plain": [
       "'D:\\\\DATASET FVAB\\\\SEED_IV Database\\\\SEED_IV Database\\\\'"
      ]
     },
     "execution_count": 6,
     "metadata": {},
     "output_type": "execute_result"
    }
   ],
   "source": [
    "directory"
   ]
  },
  {
   "cell_type": "markdown",
   "id": "8f7dcac2",
   "metadata": {},
   "source": [
    "# Original code"
   ]
  },
  {
   "cell_type": "code",
   "execution_count": 7,
   "id": "de9c218b",
   "metadata": {},
   "outputs": [],
   "source": [
    "path = os.path.join(directory, \"eeg_raw_data\", \"1\", \"10_20151014.mat\")"
   ]
  },
  {
   "cell_type": "code",
   "execution_count": 8,
   "id": "f12a8b65",
   "metadata": {
    "scrolled": true
   },
   "outputs": [],
   "source": [
    "data = scipy.io.loadmat(path)"
   ]
  },
  {
   "cell_type": "code",
   "execution_count": 9,
   "id": "f69c8216",
   "metadata": {},
   "outputs": [],
   "source": [
    "#Prende tutti gli header per estrarre i dati\n",
    "labels = list(data.keys())\n",
    "size = len(labels)"
   ]
  },
  {
   "cell_type": "code",
   "execution_count": 10,
   "id": "7c19d2b0",
   "metadata": {
    "scrolled": false
   },
   "outputs": [
    {
     "name": "stdout",
     "output_type": "stream",
     "text": [
      "(62, 33601)\n",
      "(62, 19001)\n",
      "(62, 39801)\n",
      "(62, 26001)\n",
      "(62, 17601)\n",
      "(62, 32401)\n",
      "(62, 30601)\n",
      "(62, 41801)\n",
      "(62, 29001)\n",
      "(62, 33801)\n",
      "(62, 10001)\n",
      "(62, 22001)\n",
      "(62, 43401)\n",
      "(62, 33801)\n",
      "(62, 51801)\n",
      "(62, 28201)\n",
      "(62, 13601)\n",
      "(62, 35801)\n",
      "(62, 28001)\n",
      "(62, 9601)\n",
      "(62, 22401)\n",
      "(62, 22401)\n",
      "(62, 35001)\n",
      "(62, 27401)\n"
     ]
    }
   ],
   "source": [
    "# Carica il dataset in un dataframe di pandas usando gli header\n",
    "for i in range(3,size,1):\n",
    "    df = pd.DataFrame(data[labels[i]])\n",
    "    print(df.shape)\n",
    "    #df.transpose()\n",
    "    #df.to_csv(labels[i]+\".csv\")"
   ]
  },
  {
   "cell_type": "code",
   "execution_count": 11,
   "id": "585c16b9",
   "metadata": {},
   "outputs": [],
   "source": [
    "channel_order = pd.read_excel(os.path.join(directory,\"Channel Order.xlsx\"), header=None)"
   ]
  },
  {
   "cell_type": "code",
   "execution_count": 12,
   "id": "41eaac94",
   "metadata": {},
   "outputs": [],
   "source": [
    "session1_label = [1,2,3,0,2,0,0,1,0,1,2,1,1,1,2,3,2,2,3,3,0,3,0,3]\n",
    "session2_label = [2,1,3,0,0,2,0,2,3,3,2,3,2,0,1,1,2,1,0,3,0,1,3,1]\n",
    "session3_label = [1,2,2,1,3,3,3,1,1,2,1,0,2,3,3,0,2,3,0,0,2,0,1,0]\n",
    "labels = session1_label + session2_label + session3_label"
   ]
  },
  {
   "cell_type": "code",
   "execution_count": 13,
   "id": "97303477",
   "metadata": {},
   "outputs": [],
   "source": [
    "directory = os.path.join(directory, 'eeg_raw_data')"
   ]
  },
  {
   "cell_type": "markdown",
   "id": "e500da6a",
   "metadata": {},
   "source": [
    "## WIP (Merge Dataset x sessioni e utenti)"
   ]
  },
  {
   "cell_type": "code",
   "execution_count": 34,
   "id": "5cebd793",
   "metadata": {},
   "outputs": [],
   "source": [
    "df_global = pd.DataFrame()"
   ]
  },
  {
   "cell_type": "code",
   "execution_count": 35,
   "id": "0213f8d7",
   "metadata": {},
   "outputs": [
    {
     "data": {
      "text/html": [
       "<div>\n",
       "<style scoped>\n",
       "    .dataframe tbody tr th:only-of-type {\n",
       "        vertical-align: middle;\n",
       "    }\n",
       "\n",
       "    .dataframe tbody tr th {\n",
       "        vertical-align: top;\n",
       "    }\n",
       "\n",
       "    .dataframe thead th {\n",
       "        text-align: right;\n",
       "    }\n",
       "</style>\n",
       "<table border=\"1\" class=\"dataframe\">\n",
       "  <thead>\n",
       "    <tr style=\"text-align: right;\">\n",
       "      <th></th>\n",
       "      <th>0</th>\n",
       "      <th>1</th>\n",
       "      <th>2</th>\n",
       "      <th>3</th>\n",
       "      <th>4</th>\n",
       "      <th>5</th>\n",
       "      <th>6</th>\n",
       "      <th>7</th>\n",
       "      <th>8</th>\n",
       "      <th>9</th>\n",
       "      <th>...</th>\n",
       "      <th>27391</th>\n",
       "      <th>27392</th>\n",
       "      <th>27393</th>\n",
       "      <th>27394</th>\n",
       "      <th>27395</th>\n",
       "      <th>27396</th>\n",
       "      <th>27397</th>\n",
       "      <th>27398</th>\n",
       "      <th>27399</th>\n",
       "      <th>27400</th>\n",
       "    </tr>\n",
       "  </thead>\n",
       "  <tbody>\n",
       "    <tr>\n",
       "      <th>0</th>\n",
       "      <td>-7.033348</td>\n",
       "      <td>-7.748604</td>\n",
       "      <td>-10.460615</td>\n",
       "      <td>-11.682510</td>\n",
       "      <td>-11.801720</td>\n",
       "      <td>-6.258488</td>\n",
       "      <td>-7.301569</td>\n",
       "      <td>-5.692244</td>\n",
       "      <td>-3.546476</td>\n",
       "      <td>-4.202127</td>\n",
       "      <td>...</td>\n",
       "      <td>-4.142523</td>\n",
       "      <td>0.774860</td>\n",
       "      <td>1.072884</td>\n",
       "      <td>-1.221895</td>\n",
       "      <td>-5.424023</td>\n",
       "      <td>-1.043081</td>\n",
       "      <td>-6.943941</td>\n",
       "      <td>-2.026558</td>\n",
       "      <td>-10.728836</td>\n",
       "      <td>-7.867813</td>\n",
       "    </tr>\n",
       "    <tr>\n",
       "      <th>1</th>\n",
       "      <td>-1.013279</td>\n",
       "      <td>-1.847744</td>\n",
       "      <td>-1.788139</td>\n",
       "      <td>-3.904104</td>\n",
       "      <td>-6.556511</td>\n",
       "      <td>-1.549721</td>\n",
       "      <td>-0.447035</td>\n",
       "      <td>1.341105</td>\n",
       "      <td>0.029802</td>\n",
       "      <td>4.351139</td>\n",
       "      <td>...</td>\n",
       "      <td>0.208616</td>\n",
       "      <td>5.453825</td>\n",
       "      <td>2.175570</td>\n",
       "      <td>3.695488</td>\n",
       "      <td>0.983477</td>\n",
       "      <td>-0.357628</td>\n",
       "      <td>-2.771616</td>\n",
       "      <td>1.281500</td>\n",
       "      <td>-8.463860</td>\n",
       "      <td>-1.043081</td>\n",
       "    </tr>\n",
       "    <tr>\n",
       "      <th>2</th>\n",
       "      <td>-2.354383</td>\n",
       "      <td>-1.907349</td>\n",
       "      <td>-1.251698</td>\n",
       "      <td>-3.725290</td>\n",
       "      <td>-5.990267</td>\n",
       "      <td>-0.685453</td>\n",
       "      <td>0.596046</td>\n",
       "      <td>1.072884</td>\n",
       "      <td>-1.281500</td>\n",
       "      <td>4.351139</td>\n",
       "      <td>...</td>\n",
       "      <td>-6.794930</td>\n",
       "      <td>-4.917383</td>\n",
       "      <td>-9.566545</td>\n",
       "      <td>-4.142523</td>\n",
       "      <td>-7.688999</td>\n",
       "      <td>-7.897615</td>\n",
       "      <td>-11.920929</td>\n",
       "      <td>-10.371208</td>\n",
       "      <td>-17.672777</td>\n",
       "      <td>-12.606382</td>\n",
       "    </tr>\n",
       "    <tr>\n",
       "      <th>3</th>\n",
       "      <td>2.503395</td>\n",
       "      <td>-3.248453</td>\n",
       "      <td>1.549721</td>\n",
       "      <td>-2.533197</td>\n",
       "      <td>2.145767</td>\n",
       "      <td>-2.264977</td>\n",
       "      <td>1.847744</td>\n",
       "      <td>-4.023314</td>\n",
       "      <td>1.341105</td>\n",
       "      <td>-1.311302</td>\n",
       "      <td>...</td>\n",
       "      <td>0.536442</td>\n",
       "      <td>-2.801418</td>\n",
       "      <td>0.298023</td>\n",
       "      <td>-2.145767</td>\n",
       "      <td>1.251698</td>\n",
       "      <td>-1.192093</td>\n",
       "      <td>0.417233</td>\n",
       "      <td>-0.298023</td>\n",
       "      <td>-1.251698</td>\n",
       "      <td>-0.506639</td>\n",
       "    </tr>\n",
       "    <tr>\n",
       "      <th>4</th>\n",
       "      <td>-0.089407</td>\n",
       "      <td>1.072884</td>\n",
       "      <td>0.506639</td>\n",
       "      <td>-2.652407</td>\n",
       "      <td>-4.261732</td>\n",
       "      <td>0.029802</td>\n",
       "      <td>2.384186</td>\n",
       "      <td>2.175570</td>\n",
       "      <td>1.549721</td>\n",
       "      <td>5.364418</td>\n",
       "      <td>...</td>\n",
       "      <td>1.966953</td>\n",
       "      <td>2.771616</td>\n",
       "      <td>-2.145767</td>\n",
       "      <td>1.460314</td>\n",
       "      <td>-1.817942</td>\n",
       "      <td>0.298023</td>\n",
       "      <td>-4.082918</td>\n",
       "      <td>0.327826</td>\n",
       "      <td>-8.404255</td>\n",
       "      <td>-3.069639</td>\n",
       "    </tr>\n",
       "    <tr>\n",
       "      <th>...</th>\n",
       "      <td>...</td>\n",
       "      <td>...</td>\n",
       "      <td>...</td>\n",
       "      <td>...</td>\n",
       "      <td>...</td>\n",
       "      <td>...</td>\n",
       "      <td>...</td>\n",
       "      <td>...</td>\n",
       "      <td>...</td>\n",
       "      <td>...</td>\n",
       "      <td>...</td>\n",
       "      <td>...</td>\n",
       "      <td>...</td>\n",
       "      <td>...</td>\n",
       "      <td>...</td>\n",
       "      <td>...</td>\n",
       "      <td>...</td>\n",
       "      <td>...</td>\n",
       "      <td>...</td>\n",
       "      <td>...</td>\n",
       "      <td>...</td>\n",
       "    </tr>\n",
       "    <tr>\n",
       "      <th>57</th>\n",
       "      <td>8.285046</td>\n",
       "      <td>5.125999</td>\n",
       "      <td>9.298325</td>\n",
       "      <td>2.533197</td>\n",
       "      <td>13.262033</td>\n",
       "      <td>6.705523</td>\n",
       "      <td>7.987022</td>\n",
       "      <td>5.304813</td>\n",
       "      <td>0.685453</td>\n",
       "      <td>14.573336</td>\n",
       "      <td>...</td>\n",
       "      <td>11.801720</td>\n",
       "      <td>11.414289</td>\n",
       "      <td>5.930662</td>\n",
       "      <td>6.407499</td>\n",
       "      <td>4.202127</td>\n",
       "      <td>-3.069639</td>\n",
       "      <td>-1.758337</td>\n",
       "      <td>-4.231930</td>\n",
       "      <td>-7.510185</td>\n",
       "      <td>-5.602837</td>\n",
       "    </tr>\n",
       "    <tr>\n",
       "      <th>58</th>\n",
       "      <td>-6.020069</td>\n",
       "      <td>-10.281801</td>\n",
       "      <td>-6.765127</td>\n",
       "      <td>-27.477741</td>\n",
       "      <td>6.943941</td>\n",
       "      <td>-6.973743</td>\n",
       "      <td>-8.046627</td>\n",
       "      <td>-11.414289</td>\n",
       "      <td>-17.374754</td>\n",
       "      <td>0.745058</td>\n",
       "      <td>...</td>\n",
       "      <td>17.344952</td>\n",
       "      <td>19.520521</td>\n",
       "      <td>5.245209</td>\n",
       "      <td>16.003847</td>\n",
       "      <td>9.089708</td>\n",
       "      <td>7.480383</td>\n",
       "      <td>8.881092</td>\n",
       "      <td>5.900860</td>\n",
       "      <td>-1.996756</td>\n",
       "      <td>7.659197</td>\n",
       "    </tr>\n",
       "    <tr>\n",
       "      <th>59</th>\n",
       "      <td>1.519918</td>\n",
       "      <td>0.834465</td>\n",
       "      <td>1.490116</td>\n",
       "      <td>-5.275011</td>\n",
       "      <td>6.079674</td>\n",
       "      <td>2.413988</td>\n",
       "      <td>1.937151</td>\n",
       "      <td>0.119209</td>\n",
       "      <td>-2.175570</td>\n",
       "      <td>8.374453</td>\n",
       "      <td>...</td>\n",
       "      <td>14.364719</td>\n",
       "      <td>13.351440</td>\n",
       "      <td>8.076429</td>\n",
       "      <td>11.473894</td>\n",
       "      <td>8.791685</td>\n",
       "      <td>4.053116</td>\n",
       "      <td>5.185604</td>\n",
       "      <td>3.993511</td>\n",
       "      <td>1.519918</td>\n",
       "      <td>3.546476</td>\n",
       "    </tr>\n",
       "    <tr>\n",
       "      <th>60</th>\n",
       "      <td>2.682209</td>\n",
       "      <td>2.205372</td>\n",
       "      <td>1.788139</td>\n",
       "      <td>1.251698</td>\n",
       "      <td>2.503395</td>\n",
       "      <td>5.304813</td>\n",
       "      <td>4.291534</td>\n",
       "      <td>6.556511</td>\n",
       "      <td>2.324581</td>\n",
       "      <td>8.195639</td>\n",
       "      <td>...</td>\n",
       "      <td>-1.311302</td>\n",
       "      <td>-3.278255</td>\n",
       "      <td>-7.510185</td>\n",
       "      <td>-4.172325</td>\n",
       "      <td>-6.645918</td>\n",
       "      <td>-8.761883</td>\n",
       "      <td>-11.056662</td>\n",
       "      <td>-10.699034</td>\n",
       "      <td>-10.073185</td>\n",
       "      <td>-7.301569</td>\n",
       "    </tr>\n",
       "    <tr>\n",
       "      <th>61</th>\n",
       "      <td>2.682209</td>\n",
       "      <td>2.175570</td>\n",
       "      <td>2.026558</td>\n",
       "      <td>1.609325</td>\n",
       "      <td>3.457069</td>\n",
       "      <td>5.841255</td>\n",
       "      <td>4.291534</td>\n",
       "      <td>6.526709</td>\n",
       "      <td>3.159046</td>\n",
       "      <td>9.238720</td>\n",
       "      <td>...</td>\n",
       "      <td>-1.341105</td>\n",
       "      <td>-2.831221</td>\n",
       "      <td>-7.539988</td>\n",
       "      <td>-4.172325</td>\n",
       "      <td>-6.288290</td>\n",
       "      <td>-8.314848</td>\n",
       "      <td>-10.669231</td>\n",
       "      <td>-11.324883</td>\n",
       "      <td>-9.894371</td>\n",
       "      <td>-7.539988</td>\n",
       "    </tr>\n",
       "  </tbody>\n",
       "</table>\n",
       "<p>62 rows × 27401 columns</p>\n",
       "</div>"
      ],
      "text/plain": [
       "       0          1          2          3          4         5         6      \\\n",
       "0  -7.033348  -7.748604 -10.460615 -11.682510 -11.801720 -6.258488 -7.301569   \n",
       "1  -1.013279  -1.847744  -1.788139  -3.904104  -6.556511 -1.549721 -0.447035   \n",
       "2  -2.354383  -1.907349  -1.251698  -3.725290  -5.990267 -0.685453  0.596046   \n",
       "3   2.503395  -3.248453   1.549721  -2.533197   2.145767 -2.264977  1.847744   \n",
       "4  -0.089407   1.072884   0.506639  -2.652407  -4.261732  0.029802  2.384186   \n",
       "..       ...        ...        ...        ...        ...       ...       ...   \n",
       "57  8.285046   5.125999   9.298325   2.533197  13.262033  6.705523  7.987022   \n",
       "58 -6.020069 -10.281801  -6.765127 -27.477741   6.943941 -6.973743 -8.046627   \n",
       "59  1.519918   0.834465   1.490116  -5.275011   6.079674  2.413988  1.937151   \n",
       "60  2.682209   2.205372   1.788139   1.251698   2.503395  5.304813  4.291534   \n",
       "61  2.682209   2.175570   2.026558   1.609325   3.457069  5.841255  4.291534   \n",
       "\n",
       "        7          8          9      ...      27391      27392     27393  \\\n",
       "0   -5.692244  -3.546476  -4.202127  ...  -4.142523   0.774860  1.072884   \n",
       "1    1.341105   0.029802   4.351139  ...   0.208616   5.453825  2.175570   \n",
       "2    1.072884  -1.281500   4.351139  ...  -6.794930  -4.917383 -9.566545   \n",
       "3   -4.023314   1.341105  -1.311302  ...   0.536442  -2.801418  0.298023   \n",
       "4    2.175570   1.549721   5.364418  ...   1.966953   2.771616 -2.145767   \n",
       "..        ...        ...        ...  ...        ...        ...       ...   \n",
       "57   5.304813   0.685453  14.573336  ...  11.801720  11.414289  5.930662   \n",
       "58 -11.414289 -17.374754   0.745058  ...  17.344952  19.520521  5.245209   \n",
       "59   0.119209  -2.175570   8.374453  ...  14.364719  13.351440  8.076429   \n",
       "60   6.556511   2.324581   8.195639  ...  -1.311302  -3.278255 -7.510185   \n",
       "61   6.526709   3.159046   9.238720  ...  -1.341105  -2.831221 -7.539988   \n",
       "\n",
       "        27394     27395     27396      27397      27398      27399      27400  \n",
       "0   -1.221895 -5.424023 -1.043081  -6.943941  -2.026558 -10.728836  -7.867813  \n",
       "1    3.695488  0.983477 -0.357628  -2.771616   1.281500  -8.463860  -1.043081  \n",
       "2   -4.142523 -7.688999 -7.897615 -11.920929 -10.371208 -17.672777 -12.606382  \n",
       "3   -2.145767  1.251698 -1.192093   0.417233  -0.298023  -1.251698  -0.506639  \n",
       "4    1.460314 -1.817942  0.298023  -4.082918   0.327826  -8.404255  -3.069639  \n",
       "..        ...       ...       ...        ...        ...        ...        ...  \n",
       "57   6.407499  4.202127 -3.069639  -1.758337  -4.231930  -7.510185  -5.602837  \n",
       "58  16.003847  9.089708  7.480383   8.881092   5.900860  -1.996756   7.659197  \n",
       "59  11.473894  8.791685  4.053116   5.185604   3.993511   1.519918   3.546476  \n",
       "60  -4.172325 -6.645918 -8.761883 -11.056662 -10.699034 -10.073185  -7.301569  \n",
       "61  -4.172325 -6.288290 -8.314848 -10.669231 -11.324883  -9.894371  -7.539988  \n",
       "\n",
       "[62 rows x 27401 columns]"
      ]
     },
     "execution_count": 35,
     "metadata": {},
     "output_type": "execute_result"
    }
   ],
   "source": [
    "pd.concat([df_global,df])"
   ]
  },
  {
   "cell_type": "markdown",
   "id": "b91a4c01",
   "metadata": {},
   "source": [
    "# Drop channels"
   ]
  },
  {
   "cell_type": "code",
   "execution_count": 14,
   "id": "3517f01d",
   "metadata": {},
   "outputs": [],
   "source": [
    "def drop_channels(df):\n",
    "    df = df.set_index(channel_order[0])\n",
    "    df = df.transpose()\n",
    "    df = df[['FT7','FT8','T7', 'T8', 'TP7', 'TP8']]\n",
    "    df = df.transpose()\n",
    "    return df"
   ]
  },
  {
   "cell_type": "markdown",
   "id": "bb6dbccd",
   "metadata": {},
   "source": [
    "# Downsampling e filtering"
   ]
  },
  {
   "cell_type": "code",
   "execution_count": 15,
   "id": "e0115be1",
   "metadata": {},
   "outputs": [],
   "source": [
    "def down_sampling(data):\n",
    "    sfreq = 1000\n",
    "    new_sfreq = 200\n",
    "    \n",
    "    data = signal.resample(data, int(len(data) * new_sfreq / sfreq))    \n",
    "    return data"
   ]
  },
  {
   "cell_type": "code",
   "execution_count": 16,
   "id": "df2c9efc",
   "metadata": {},
   "outputs": [],
   "source": [
    "def band_pass_filter(data):\n",
    "    sfreq = 1000\n",
    "    nyquist_frequency = sfreq / 2\n",
    "    lowcut = 0.3 \n",
    "    highcut = 50\n",
    "    order = 4\n",
    "       \n",
    "    b, a = signal.butter(order, [lowcut/nyquist_frequency, highcut/nyquist_frequency], btype='band')\n",
    "    data = signal.filtfilt(b, a, data)\n",
    "    return data"
   ]
  },
  {
   "cell_type": "code",
   "execution_count": 27,
   "id": "162de6b1",
   "metadata": {},
   "outputs": [
    {
     "name": "stdout",
     "output_type": "stream",
     "text": [
      "(6720, 62)\n",
      "(6720, 62)\n"
     ]
    }
   ],
   "source": [
    "processed_data_down = down_sampling(data['tyc_eeg1'].T)\n",
    "processed_data_filter = band_pass_filter(processed_data_down)\n",
    "print(processed_data_down.shape)\n",
    "print(processed_data_filter.shape)"
   ]
  },
  {
   "cell_type": "code",
   "execution_count": 28,
   "id": "c20884f9",
   "metadata": {},
   "outputs": [
    {
     "data": {
      "text/plain": [
       "<AxesSubplot:>"
      ]
     },
     "execution_count": 28,
     "metadata": {},
     "output_type": "execute_result"
    },
    {
     "data": {
      "image/png": "[encoded data removed]",
      "text/plain": [
       "<Figure size 640x480 with 1 Axes>"
      ]
     },
     "metadata": {},
     "output_type": "display_data"
    }
   ],
   "source": [
    "pd.DataFrame(data['tyc_eeg1']).iloc[10].plot()"
   ]
  },
  {
   "cell_type": "code",
   "execution_count": 29,
   "id": "fc0ea853",
   "metadata": {},
   "outputs": [
    {
     "data": {
      "text/plain": [
       "<AxesSubplot:>"
      ]
     },
     "execution_count": 29,
     "metadata": {},
     "output_type": "execute_result"
    },
    {
     "data": {
      "image/png": "[encoded data removed]",
      "text/plain": [
       "<Figure size 640x480 with 1 Axes>"
      ]
     },
     "metadata": {},
     "output_type": "display_data"
    }
   ],
   "source": [
    "pd.DataFrame(processed_data_down).iloc[10].plot()"
   ]
  },
  {
   "cell_type": "code",
   "execution_count": 30,
   "id": "51911453",
   "metadata": {},
   "outputs": [
    {
     "data": {
      "text/plain": [
       "<AxesSubplot:>"
      ]
     },
     "execution_count": 30,
     "metadata": {},
     "output_type": "execute_result"
    },
    {
     "data": {
      "image/png": "[encoded data removed]",
      "text/plain": [
       "<Figure size 640x480 with 1 Axes>"
      ]
     },
     "metadata": {},
     "output_type": "display_data"
    }
   ],
   "source": [
    "pd.DataFrame(processed_data_filter).iloc[10].plot()"
   ]
  },
  {
   "cell_type": "markdown",
   "id": "eec25901",
   "metadata": {},
   "source": [
    "## Feature Extraction"
   ]
  },
  {
   "cell_type": "markdown",
   "id": "15e7babe",
   "metadata": {},
   "source": [
    "### PSD"
   ]
  },
  {
   "cell_type": "code",
   "execution_count": 35,
   "id": "7492dd05",
   "metadata": {
    "scrolled": true
   },
   "outputs": [
    {
     "name": "stdout",
     "output_type": "stream",
     "text": [
      "(62, 2001)\n",
      "UA\n",
      "[0.00000e+00 1.25000e-02 2.50000e-02 ... 2.49750e+01 2.49875e+01\n",
      " 2.50000e+01]\n"
     ]
    }
   ],
   "source": [
    "# Imposta le bande di frequenza\n",
    "frequencies_delta = np.arange(1, 4)\n",
    "frequencies_theta = np.arange(4, 8)\n",
    "frequencies_alpha = np.arange(8, 14)\n",
    "frequencies_beta = np.arange(14, 31)\n",
    "frequencies_gamma = np.arange(31, 50)\n",
    "\n",
    "# Calcola la PSD utilizzando la funzione welch\n",
    "f, psd = signal.welch(processed_data_filter.T, 50 , nperseg=4000)\n",
    "\n",
    "print(psd.shape)\n",
    "\n",
    "# Seleziona solo le frequenze specificate\n",
    "#freq_indices = np.searchsorted(f, frequencies)\n",
    "#frequencies_selected = f[freq_indices]\n",
    "#psd_selected = psd[freq_indices]\n",
    "#f, Pxx_den = signal.welch(preprocessed_data_filter, fs, nperseg=1024)"
   ]
  },
  {
   "cell_type": "markdown",
   "id": "80e1feea",
   "metadata": {},
   "source": [
    "### DE"
   ]
  },
  {
   "cell_type": "code",
   "execution_count": 36,
   "id": "24d69552",
   "metadata": {},
   "outputs": [],
   "source": [
    "def differential_entropy(signal):\n",
    "    # Calcola la media e la deviazione standard del segnale\n",
    "    mu = np.mean(signal)\n",
    "    sigma = np.std(signal)\n",
    "\n",
    "    # Calcola la differential entropy utilizzando la distribuzione normale\n",
    "    entropy = norm.entropy(loc=mu, scale=sigma)\n",
    "\n",
    "    return entropy"
   ]
  },
  {
   "cell_type": "code",
   "execution_count": 39,
   "id": "7a3cc0a2",
   "metadata": {},
   "outputs": [
    {
     "name": "stdout",
     "output_type": "stream",
     "text": [
      "()\n"
     ]
    }
   ],
   "source": [
    "entropy = differential_entropy(processed_data_filter)\n",
    "print(entropy.shape)"
   ]
  },
  {
   "cell_type": "markdown",
   "id": "82ef0544",
   "metadata": {},
   "source": [
    "# Script"
   ]
  },
  {
   "cell_type": "code",
   "execution_count": 21,
   "id": "171c0845",
   "metadata": {
    "scrolled": true
   },
   "outputs": [
    {
     "name": "stdout",
     "output_type": "stream",
     "text": [
      "C:\\Users\\grazi\\Desktop\\Materiale FVAB\\SEED_IV Database\\SEED_IV Database\\eeg_raw_data\\1\\10_20151014.mat\n",
      "(12, 33601)\n",
      "(12, 19001)\n",
      "(12, 39801)\n",
      "(12, 26001)\n",
      "(12, 17601)\n",
      "(12, 32401)\n",
      "(12, 30601)\n",
      "(12, 41801)\n",
      "(12, 29001)\n",
      "(12, 33801)\n",
      "(12, 10001)\n",
      "(12, 22001)\n",
      "(12, 43401)\n",
      "(12, 33801)\n",
      "(12, 51801)\n",
      "(12, 28201)\n",
      "(12, 13601)\n",
      "(12, 35801)\n",
      "(12, 28001)\n",
      "(12, 9601)\n",
      "(12, 22401)\n",
      "(12, 22401)\n",
      "(12, 35001)\n",
      "(12, 27401)\n",
      "C:\\Users\\grazi\\Desktop\\Materiale FVAB\\SEED_IV Database\\SEED_IV Database\\eeg_raw_data\\1\\11_20150916.mat\n",
      "(12, 33601)\n",
      "(12, 19001)\n",
      "(12, 39801)\n",
      "(12, 26001)\n",
      "(12, 17601)\n",
      "(12, 32401)\n",
      "(12, 30601)\n",
      "(12, 41801)\n",
      "(12, 29001)\n",
      "(12, 33801)\n",
      "(12, 10001)\n",
      "(12, 22001)\n",
      "(12, 43401)\n",
      "(12, 33801)\n",
      "(12, 51801)\n",
      "(12, 28201)\n",
      "(12, 13601)\n",
      "(12, 35801)\n",
      "(12, 28001)\n",
      "(12, 9601)\n",
      "(12, 22401)\n",
      "(12, 22401)\n",
      "(12, 35001)\n",
      "(12, 27401)\n",
      "C:\\Users\\grazi\\Desktop\\Materiale FVAB\\SEED_IV Database\\SEED_IV Database\\eeg_raw_data\\1\\12_20150725.mat\n",
      "(12, 33601)\n",
      "(12, 19001)\n",
      "(12, 39801)\n",
      "(12, 26001)\n",
      "(12, 17601)\n",
      "(12, 32401)\n",
      "(12, 30601)\n",
      "(12, 41801)\n",
      "(12, 29001)\n",
      "(12, 33801)\n",
      "(12, 10001)\n",
      "(12, 22001)\n",
      "(12, 43401)\n",
      "(12, 33801)\n",
      "(12, 51801)\n",
      "(12, 28201)\n",
      "(12, 13601)\n",
      "(12, 35801)\n",
      "(12, 28001)\n",
      "(12, 9601)\n",
      "(12, 22401)\n",
      "(12, 22401)\n",
      "(12, 35001)\n",
      "(12, 27401)\n",
      "C:\\Users\\grazi\\Desktop\\Materiale FVAB\\SEED_IV Database\\SEED_IV Database\\eeg_raw_data\\1\\13_20151115.mat\n",
      "(12, 33601)\n",
      "(12, 19001)\n",
      "(12, 39801)\n",
      "(12, 26001)\n",
      "(12, 17601)\n",
      "(12, 32401)\n",
      "(12, 30601)\n",
      "(12, 41801)\n",
      "(12, 29001)\n",
      "(12, 33801)\n",
      "(12, 10001)\n",
      "(12, 22001)\n",
      "(12, 43401)\n",
      "(12, 33801)\n",
      "(12, 51801)\n",
      "(12, 28201)\n",
      "(12, 13601)\n",
      "(12, 35801)\n",
      "(12, 28001)\n",
      "(12, 9601)\n",
      "(12, 22401)\n",
      "(12, 22401)\n",
      "(12, 35001)\n",
      "(12, 27401)\n",
      "C:\\Users\\grazi\\Desktop\\Materiale FVAB\\SEED_IV Database\\SEED_IV Database\\eeg_raw_data\\1\\14_20151205.mat\n",
      "(12, 33601)\n",
      "(12, 19001)\n",
      "(12, 39801)\n",
      "(12, 26001)\n",
      "(12, 17601)\n",
      "(12, 32401)\n"
     ]
    },
    {
     "ename": "KeyboardInterrupt",
     "evalue": "",
     "output_type": "error",
     "traceback": [
      "\u001b[1;31m---------------------------------------------------------------------------\u001b[0m",
      "\u001b[1;31mKeyboardInterrupt\u001b[0m                         Traceback (most recent call last)",
      "Cell \u001b[1;32mIn[21], line 16\u001b[0m\n\u001b[0;32m     14\u001b[0m \u001b[38;5;28;01mfor\u001b[39;00m i \u001b[38;5;129;01min\u001b[39;00m \u001b[38;5;28mrange\u001b[39m(\u001b[38;5;241m3\u001b[39m,size,\u001b[38;5;241m1\u001b[39m):\n\u001b[0;32m     15\u001b[0m     df \u001b[38;5;241m=\u001b[39m pd\u001b[38;5;241m.\u001b[39mDataFrame(data[labels[i]])\n\u001b[1;32m---> 16\u001b[0m     df \u001b[38;5;241m=\u001b[39m \u001b[43mdrop_channels\u001b[49m\u001b[43m(\u001b[49m\u001b[43mdf\u001b[49m\u001b[43m)\u001b[49m\n\u001b[0;32m     17\u001b[0m     filtered \u001b[38;5;241m=\u001b[39m down_sampling_and_band_pass_filter(data[labels[i]])\n\u001b[0;32m     18\u001b[0m     df \u001b[38;5;241m=\u001b[39m pd\u001b[38;5;241m.\u001b[39mDataFrame(filtered)\n",
      "Cell \u001b[1;32mIn[19], line 4\u001b[0m, in \u001b[0;36mdrop_channels\u001b[1;34m(df)\u001b[0m\n\u001b[0;32m      2\u001b[0m df \u001b[38;5;241m=\u001b[39m df\u001b[38;5;241m.\u001b[39mset_index(channel_order[\u001b[38;5;241m0\u001b[39m])\n\u001b[0;32m      3\u001b[0m df \u001b[38;5;241m=\u001b[39m df\u001b[38;5;241m.\u001b[39mtranspose()\n\u001b[1;32m----> 4\u001b[0m df \u001b[38;5;241m=\u001b[39m \u001b[43mdf\u001b[49m\u001b[43m[\u001b[49m\u001b[43m[\u001b[49m\u001b[38;5;124;43m'\u001b[39;49m\u001b[38;5;124;43mFT7\u001b[39;49m\u001b[38;5;124;43m'\u001b[39;49m\u001b[43m,\u001b[49m\u001b[38;5;124;43m'\u001b[39;49m\u001b[38;5;124;43mFT8\u001b[39;49m\u001b[38;5;124;43m'\u001b[39;49m\u001b[43m,\u001b[49m\u001b[38;5;124;43m'\u001b[39;49m\u001b[38;5;124;43mT7\u001b[39;49m\u001b[38;5;124;43m'\u001b[39;49m\u001b[43m,\u001b[49m\u001b[43m \u001b[49m\u001b[38;5;124;43m'\u001b[39;49m\u001b[38;5;124;43mT8\u001b[39;49m\u001b[38;5;124;43m'\u001b[39;49m\u001b[43m,\u001b[49m\u001b[43m \u001b[49m\u001b[38;5;124;43m'\u001b[39;49m\u001b[38;5;124;43mTP7\u001b[39;49m\u001b[38;5;124;43m'\u001b[39;49m\u001b[43m,\u001b[49m\u001b[43m \u001b[49m\u001b[38;5;124;43m'\u001b[39;49m\u001b[38;5;124;43mTP8\u001b[39;49m\u001b[38;5;124;43m'\u001b[39;49m\u001b[43m]\u001b[49m\u001b[43m]\u001b[49m\n\u001b[0;32m      5\u001b[0m df \u001b[38;5;241m=\u001b[39m df\u001b[38;5;241m.\u001b[39mtranspose()\n\u001b[0;32m      6\u001b[0m \u001b[38;5;28;01mreturn\u001b[39;00m df\n",
      "File \u001b[1;32m~\\AppData\\Local\\Programs\\Python\\Python311\\Lib\\site-packages\\pandas\\core\\frame.py:3816\u001b[0m, in \u001b[0;36mDataFrame.__getitem__\u001b[1;34m(self, key)\u001b[0m\n\u001b[0;32m   3813\u001b[0m \u001b[38;5;28;01mif\u001b[39;00m \u001b[38;5;28mgetattr\u001b[39m(indexer, \u001b[38;5;124m\"\u001b[39m\u001b[38;5;124mdtype\u001b[39m\u001b[38;5;124m\"\u001b[39m, \u001b[38;5;28;01mNone\u001b[39;00m) \u001b[38;5;241m==\u001b[39m \u001b[38;5;28mbool\u001b[39m:\n\u001b[0;32m   3814\u001b[0m     indexer \u001b[38;5;241m=\u001b[39m np\u001b[38;5;241m.\u001b[39mwhere(indexer)[\u001b[38;5;241m0\u001b[39m]\n\u001b[1;32m-> 3816\u001b[0m data \u001b[38;5;241m=\u001b[39m \u001b[38;5;28;43mself\u001b[39;49m\u001b[38;5;241;43m.\u001b[39;49m\u001b[43m_take_with_is_copy\u001b[49m\u001b[43m(\u001b[49m\u001b[43mindexer\u001b[49m\u001b[43m,\u001b[49m\u001b[43m \u001b[49m\u001b[43maxis\u001b[49m\u001b[38;5;241;43m=\u001b[39;49m\u001b[38;5;241;43m1\u001b[39;49m\u001b[43m)\u001b[49m\n\u001b[0;32m   3818\u001b[0m \u001b[38;5;28;01mif\u001b[39;00m is_single_key:\n\u001b[0;32m   3819\u001b[0m     \u001b[38;5;66;03m# What does looking for a single key in a non-unique index return?\u001b[39;00m\n\u001b[0;32m   3820\u001b[0m     \u001b[38;5;66;03m# The behavior is inconsistent. It returns a Series, except when\u001b[39;00m\n\u001b[0;32m   3821\u001b[0m     \u001b[38;5;66;03m# - the key itself is repeated (test on data.shape, #9519), or\u001b[39;00m\n\u001b[0;32m   3822\u001b[0m     \u001b[38;5;66;03m# - we have a MultiIndex on columns (test on self.columns, #21309)\u001b[39;00m\n\u001b[0;32m   3823\u001b[0m     \u001b[38;5;28;01mif\u001b[39;00m data\u001b[38;5;241m.\u001b[39mshape[\u001b[38;5;241m1\u001b[39m] \u001b[38;5;241m==\u001b[39m \u001b[38;5;241m1\u001b[39m \u001b[38;5;129;01mand\u001b[39;00m \u001b[38;5;129;01mnot\u001b[39;00m \u001b[38;5;28misinstance\u001b[39m(\u001b[38;5;28mself\u001b[39m\u001b[38;5;241m.\u001b[39mcolumns, MultiIndex):\n\u001b[0;32m   3824\u001b[0m         \u001b[38;5;66;03m# GH#26490 using data[key] can cause RecursionError\u001b[39;00m\n",
      "File \u001b[1;32m~\\AppData\\Local\\Programs\\Python\\Python311\\Lib\\site-packages\\pandas\\core\\generic.py:3902\u001b[0m, in \u001b[0;36mNDFrame._take_with_is_copy\u001b[1;34m(self, indices, axis)\u001b[0m\n\u001b[0;32m   3894\u001b[0m \u001b[38;5;28;01mdef\u001b[39;00m \u001b[38;5;21m_take_with_is_copy\u001b[39m(\u001b[38;5;28mself\u001b[39m: NDFrameT, indices, axis\u001b[38;5;241m=\u001b[39m\u001b[38;5;241m0\u001b[39m) \u001b[38;5;241m-\u001b[39m\u001b[38;5;241m>\u001b[39m NDFrameT:\n\u001b[0;32m   3895\u001b[0m \u001b[38;5;250m    \u001b[39m\u001b[38;5;124;03m\"\"\"\u001b[39;00m\n\u001b[0;32m   3896\u001b[0m \u001b[38;5;124;03m    Internal version of the `take` method that sets the `_is_copy`\u001b[39;00m\n\u001b[0;32m   3897\u001b[0m \u001b[38;5;124;03m    attribute to keep track of the parent dataframe (using in indexing\u001b[39;00m\n\u001b[1;32m   (...)\u001b[0m\n\u001b[0;32m   3900\u001b[0m \u001b[38;5;124;03m    See the docstring of `take` for full explanation of the parameters.\u001b[39;00m\n\u001b[0;32m   3901\u001b[0m \u001b[38;5;124;03m    \"\"\"\u001b[39;00m\n\u001b[1;32m-> 3902\u001b[0m     result \u001b[38;5;241m=\u001b[39m \u001b[38;5;28;43mself\u001b[39;49m\u001b[38;5;241;43m.\u001b[39;49m\u001b[43m_take\u001b[49m\u001b[43m(\u001b[49m\u001b[43mindices\u001b[49m\u001b[38;5;241;43m=\u001b[39;49m\u001b[43mindices\u001b[49m\u001b[43m,\u001b[49m\u001b[43m \u001b[49m\u001b[43maxis\u001b[49m\u001b[38;5;241;43m=\u001b[39;49m\u001b[43maxis\u001b[49m\u001b[43m)\u001b[49m\n\u001b[0;32m   3903\u001b[0m     \u001b[38;5;66;03m# Maybe set copy if we didn't actually change the index.\u001b[39;00m\n\u001b[0;32m   3904\u001b[0m     \u001b[38;5;28;01mif\u001b[39;00m \u001b[38;5;129;01mnot\u001b[39;00m result\u001b[38;5;241m.\u001b[39m_get_axis(axis)\u001b[38;5;241m.\u001b[39mequals(\u001b[38;5;28mself\u001b[39m\u001b[38;5;241m.\u001b[39m_get_axis(axis)):\n",
      "File \u001b[1;32m~\\AppData\\Local\\Programs\\Python\\Python311\\Lib\\site-packages\\pandas\\core\\generic.py:3886\u001b[0m, in \u001b[0;36mNDFrame._take\u001b[1;34m(self, indices, axis, convert_indices)\u001b[0m\n\u001b[0;32m   3879\u001b[0m \u001b[38;5;250m\u001b[39m\u001b[38;5;124;03m\"\"\"\u001b[39;00m\n\u001b[0;32m   3880\u001b[0m \u001b[38;5;124;03mInternal version of the `take` allowing specification of additional args.\u001b[39;00m\n\u001b[0;32m   3881\u001b[0m \n\u001b[0;32m   3882\u001b[0m \u001b[38;5;124;03mSee the docstring of `take` for full explanation of the parameters.\u001b[39;00m\n\u001b[0;32m   3883\u001b[0m \u001b[38;5;124;03m\"\"\"\u001b[39;00m\n\u001b[0;32m   3884\u001b[0m \u001b[38;5;28mself\u001b[39m\u001b[38;5;241m.\u001b[39m_consolidate_inplace()\n\u001b[1;32m-> 3886\u001b[0m new_data \u001b[38;5;241m=\u001b[39m \u001b[38;5;28;43mself\u001b[39;49m\u001b[38;5;241;43m.\u001b[39;49m\u001b[43m_mgr\u001b[49m\u001b[38;5;241;43m.\u001b[39;49m\u001b[43mtake\u001b[49m\u001b[43m(\u001b[49m\n\u001b[0;32m   3887\u001b[0m \u001b[43m    \u001b[49m\u001b[43mindices\u001b[49m\u001b[43m,\u001b[49m\n\u001b[0;32m   3888\u001b[0m \u001b[43m    \u001b[49m\u001b[43maxis\u001b[49m\u001b[38;5;241;43m=\u001b[39;49m\u001b[38;5;28;43mself\u001b[39;49m\u001b[38;5;241;43m.\u001b[39;49m\u001b[43m_get_block_manager_axis\u001b[49m\u001b[43m(\u001b[49m\u001b[43maxis\u001b[49m\u001b[43m)\u001b[49m\u001b[43m,\u001b[49m\n\u001b[0;32m   3889\u001b[0m \u001b[43m    \u001b[49m\u001b[43mverify\u001b[49m\u001b[38;5;241;43m=\u001b[39;49m\u001b[38;5;28;43;01mTrue\u001b[39;49;00m\u001b[43m,\u001b[49m\n\u001b[0;32m   3890\u001b[0m \u001b[43m    \u001b[49m\u001b[43mconvert_indices\u001b[49m\u001b[38;5;241;43m=\u001b[39;49m\u001b[43mconvert_indices\u001b[49m\u001b[43m,\u001b[49m\n\u001b[0;32m   3891\u001b[0m \u001b[43m\u001b[49m\u001b[43m)\u001b[49m\n\u001b[0;32m   3892\u001b[0m \u001b[38;5;28;01mreturn\u001b[39;00m \u001b[38;5;28mself\u001b[39m\u001b[38;5;241m.\u001b[39m_constructor(new_data)\u001b[38;5;241m.\u001b[39m__finalize__(\u001b[38;5;28mself\u001b[39m, method\u001b[38;5;241m=\u001b[39m\u001b[38;5;124m\"\u001b[39m\u001b[38;5;124mtake\u001b[39m\u001b[38;5;124m\"\u001b[39m)\n",
      "File \u001b[1;32m~\\AppData\\Local\\Programs\\Python\\Python311\\Lib\\site-packages\\pandas\\core\\internals\\managers.py:968\u001b[0m, in \u001b[0;36mBaseBlockManager.take\u001b[1;34m(self, indexer, axis, verify, convert_indices)\u001b[0m\n\u001b[0;32m    965\u001b[0m     indexer \u001b[38;5;241m=\u001b[39m maybe_convert_indices(indexer, n, verify\u001b[38;5;241m=\u001b[39mverify)\n\u001b[0;32m    967\u001b[0m new_labels \u001b[38;5;241m=\u001b[39m \u001b[38;5;28mself\u001b[39m\u001b[38;5;241m.\u001b[39maxes[axis]\u001b[38;5;241m.\u001b[39mtake(indexer)\n\u001b[1;32m--> 968\u001b[0m \u001b[38;5;28;01mreturn\u001b[39;00m \u001b[38;5;28;43mself\u001b[39;49m\u001b[38;5;241;43m.\u001b[39;49m\u001b[43mreindex_indexer\u001b[49m\u001b[43m(\u001b[49m\n\u001b[0;32m    969\u001b[0m \u001b[43m    \u001b[49m\u001b[43mnew_axis\u001b[49m\u001b[38;5;241;43m=\u001b[39;49m\u001b[43mnew_labels\u001b[49m\u001b[43m,\u001b[49m\n\u001b[0;32m    970\u001b[0m \u001b[43m    \u001b[49m\u001b[43mindexer\u001b[49m\u001b[38;5;241;43m=\u001b[39;49m\u001b[43mindexer\u001b[49m\u001b[43m,\u001b[49m\n\u001b[0;32m    971\u001b[0m \u001b[43m    \u001b[49m\u001b[43maxis\u001b[49m\u001b[38;5;241;43m=\u001b[39;49m\u001b[43maxis\u001b[49m\u001b[43m,\u001b[49m\n\u001b[0;32m    972\u001b[0m \u001b[43m    \u001b[49m\u001b[43mallow_dups\u001b[49m\u001b[38;5;241;43m=\u001b[39;49m\u001b[38;5;28;43;01mTrue\u001b[39;49;00m\u001b[43m,\u001b[49m\n\u001b[0;32m    973\u001b[0m \u001b[43m    \u001b[49m\u001b[43mcopy\u001b[49m\u001b[38;5;241;43m=\u001b[39;49m\u001b[38;5;28;43;01mNone\u001b[39;49;00m\u001b[43m,\u001b[49m\n\u001b[0;32m    974\u001b[0m \u001b[43m\u001b[49m\u001b[43m)\u001b[49m\n",
      "File \u001b[1;32m~\\AppData\\Local\\Programs\\Python\\Python311\\Lib\\site-packages\\pandas\\core\\internals\\managers.py:735\u001b[0m, in \u001b[0;36mBaseBlockManager.reindex_indexer\u001b[1;34m(self, new_axis, indexer, axis, fill_value, allow_dups, copy, only_slice, use_na_proxy)\u001b[0m\n\u001b[0;32m    732\u001b[0m     \u001b[38;5;28;01mraise\u001b[39;00m \u001b[38;5;167;01mIndexError\u001b[39;00m(\u001b[38;5;124m\"\u001b[39m\u001b[38;5;124mRequested axis not found in manager\u001b[39m\u001b[38;5;124m\"\u001b[39m)\n\u001b[0;32m    734\u001b[0m \u001b[38;5;28;01mif\u001b[39;00m axis \u001b[38;5;241m==\u001b[39m \u001b[38;5;241m0\u001b[39m:\n\u001b[1;32m--> 735\u001b[0m     new_blocks, new_refs \u001b[38;5;241m=\u001b[39m \u001b[38;5;28;43mself\u001b[39;49m\u001b[38;5;241;43m.\u001b[39;49m\u001b[43m_slice_take_blocks_ax0\u001b[49m\u001b[43m(\u001b[49m\n\u001b[0;32m    736\u001b[0m \u001b[43m        \u001b[49m\u001b[43mindexer\u001b[49m\u001b[43m,\u001b[49m\n\u001b[0;32m    737\u001b[0m \u001b[43m        \u001b[49m\u001b[43mfill_value\u001b[49m\u001b[38;5;241;43m=\u001b[39;49m\u001b[43mfill_value\u001b[49m\u001b[43m,\u001b[49m\n\u001b[0;32m    738\u001b[0m \u001b[43m        \u001b[49m\u001b[43monly_slice\u001b[49m\u001b[38;5;241;43m=\u001b[39;49m\u001b[43monly_slice\u001b[49m\u001b[43m,\u001b[49m\n\u001b[0;32m    739\u001b[0m \u001b[43m        \u001b[49m\u001b[43muse_na_proxy\u001b[49m\u001b[38;5;241;43m=\u001b[39;49m\u001b[43muse_na_proxy\u001b[49m\u001b[43m,\u001b[49m\n\u001b[0;32m    740\u001b[0m \u001b[43m    \u001b[49m\u001b[43m)\u001b[49m\n\u001b[0;32m    741\u001b[0m \u001b[38;5;28;01melse\u001b[39;00m:\n\u001b[0;32m    742\u001b[0m     new_blocks \u001b[38;5;241m=\u001b[39m [\n\u001b[0;32m    743\u001b[0m         blk\u001b[38;5;241m.\u001b[39mtake_nd(\n\u001b[0;32m    744\u001b[0m             indexer,\n\u001b[1;32m   (...)\u001b[0m\n\u001b[0;32m    750\u001b[0m         \u001b[38;5;28;01mfor\u001b[39;00m blk \u001b[38;5;129;01min\u001b[39;00m \u001b[38;5;28mself\u001b[39m\u001b[38;5;241m.\u001b[39mblocks\n\u001b[0;32m    751\u001b[0m     ]\n",
      "File \u001b[1;32m~\\AppData\\Local\\Programs\\Python\\Python311\\Lib\\site-packages\\pandas\\core\\internals\\managers.py:902\u001b[0m, in \u001b[0;36mBaseBlockManager._slice_take_blocks_ax0\u001b[1;34m(self, slice_or_indexer, fill_value, only_slice, use_na_proxy)\u001b[0m\n\u001b[0;32m    900\u001b[0m         refs\u001b[38;5;241m.\u001b[39mappend(weakref\u001b[38;5;241m.\u001b[39mref(blk))\n\u001b[0;32m    901\u001b[0m \u001b[38;5;28;01melse\u001b[39;00m:\n\u001b[1;32m--> 902\u001b[0m     nb \u001b[38;5;241m=\u001b[39m \u001b[43mblk\u001b[49m\u001b[38;5;241;43m.\u001b[39;49m\u001b[43mtake_nd\u001b[49m\u001b[43m(\u001b[49m\u001b[43mtaker\u001b[49m\u001b[43m,\u001b[49m\u001b[43m \u001b[49m\u001b[43maxis\u001b[49m\u001b[38;5;241;43m=\u001b[39;49m\u001b[38;5;241;43m0\u001b[39;49m\u001b[43m,\u001b[49m\u001b[43m \u001b[49m\u001b[43mnew_mgr_locs\u001b[49m\u001b[38;5;241;43m=\u001b[39;49m\u001b[43mmgr_locs\u001b[49m\u001b[43m)\u001b[49m\n\u001b[0;32m    903\u001b[0m     blocks\u001b[38;5;241m.\u001b[39mappend(nb)\n\u001b[0;32m    904\u001b[0m     refs\u001b[38;5;241m.\u001b[39mappend(\u001b[38;5;28;01mNone\u001b[39;00m)\n",
      "File \u001b[1;32m~\\AppData\\Local\\Programs\\Python\\Python311\\Lib\\site-packages\\pandas\\core\\internals\\blocks.py:888\u001b[0m, in \u001b[0;36mBlock.take_nd\u001b[1;34m(self, indexer, axis, new_mgr_locs, fill_value)\u001b[0m\n\u001b[0;32m    885\u001b[0m \u001b[38;5;28;01mif\u001b[39;00m new_mgr_locs \u001b[38;5;129;01mis\u001b[39;00m \u001b[38;5;28;01mNone\u001b[39;00m:\n\u001b[0;32m    886\u001b[0m     new_mgr_locs \u001b[38;5;241m=\u001b[39m \u001b[38;5;28mself\u001b[39m\u001b[38;5;241m.\u001b[39m_mgr_locs\n\u001b[1;32m--> 888\u001b[0m \u001b[38;5;28;01mif\u001b[39;00m \u001b[38;5;129;01mnot\u001b[39;00m \u001b[43mis_dtype_equal\u001b[49m\u001b[43m(\u001b[49m\u001b[43mnew_values\u001b[49m\u001b[38;5;241;43m.\u001b[39;49m\u001b[43mdtype\u001b[49m\u001b[43m,\u001b[49m\u001b[43m \u001b[49m\u001b[38;5;28;43mself\u001b[39;49m\u001b[38;5;241;43m.\u001b[39;49m\u001b[43mdtype\u001b[49m\u001b[43m)\u001b[49m:\n\u001b[0;32m    889\u001b[0m     \u001b[38;5;28;01mreturn\u001b[39;00m \u001b[38;5;28mself\u001b[39m\u001b[38;5;241m.\u001b[39mmake_block(new_values, new_mgr_locs)\n\u001b[0;32m    890\u001b[0m \u001b[38;5;28;01melse\u001b[39;00m:\n",
      "File \u001b[1;32m~\\AppData\\Local\\Programs\\Python\\Python311\\Lib\\site-packages\\pandas\\core\\dtypes\\common.py:585\u001b[0m, in \u001b[0;36mis_dtype_equal\u001b[1;34m(source, target)\u001b[0m\n\u001b[0;32m    580\u001b[0m         \u001b[38;5;28;01mreturn\u001b[39;00m \u001b[38;5;28misinstance\u001b[39m(dtype, (PeriodDtype, IntervalDtype, CategoricalDtype))\n\u001b[0;32m    582\u001b[0m     \u001b[38;5;28;01mreturn\u001b[39;00m _is_dtype(arr_or_dtype, condition)\n\u001b[1;32m--> 585\u001b[0m \u001b[38;5;28;01mdef\u001b[39;00m \u001b[38;5;21mis_dtype_equal\u001b[39m(source, target) \u001b[38;5;241m-\u001b[39m\u001b[38;5;241m>\u001b[39m \u001b[38;5;28mbool\u001b[39m:\n\u001b[0;32m    586\u001b[0m \u001b[38;5;250m    \u001b[39m\u001b[38;5;124;03m\"\"\"\u001b[39;00m\n\u001b[0;32m    587\u001b[0m \u001b[38;5;124;03m    Check if two dtypes are equal.\u001b[39;00m\n\u001b[0;32m    588\u001b[0m \n\u001b[1;32m   (...)\u001b[0m\n\u001b[0;32m    610\u001b[0m \u001b[38;5;124;03m    False\u001b[39;00m\n\u001b[0;32m    611\u001b[0m \u001b[38;5;124;03m    \"\"\"\u001b[39;00m\n\u001b[0;32m    612\u001b[0m     \u001b[38;5;28;01mif\u001b[39;00m \u001b[38;5;28misinstance\u001b[39m(target, \u001b[38;5;28mstr\u001b[39m):\n",
      "\u001b[1;31mKeyboardInterrupt\u001b[0m: "
     ]
    }
   ],
   "source": [
    "if os.path.exists(directory):\n",
    "    lista_cartella_main = os.listdir(directory)\n",
    "    for file in lista_cartella_main:\n",
    "        sec = os.path.join(directory, file)\n",
    "        if os.path.isdir(sec):\n",
    "            files1 = os.listdir(sec)\n",
    "            for file1 in files1:\n",
    "                if file1.endswith(\".mat\"):\n",
    "                    file1 = os.path.join(sec, file1)\n",
    "                    data = scipy.io.loadmat(file1)\n",
    "                    labels = list(data.keys())\n",
    "                    size = len(labels)\n",
    "                    print(file1)\n",
    "                    for i in range(3,size,1):\n",
    "                        df = pd.DataFrame(data[labels[i]])\n",
    "                        df = drop_channels(df)\n",
    "                        downsampled = down_sampling(data[labels[i]])\n",
    "                        filtered = band_pass_filter(downsampled)\n",
    "                        df = pd.DataFrame(filtered)\n",
    "                        print(df.shape)"
   ]
  },
  {
   "cell_type": "code",
   "execution_count": null,
   "id": "14c5f3df",
   "metadata": {},
   "outputs": [],
   "source": []
  }
 ],
 "metadata": {
  "kernelspec": {
   "display_name": "Python 3 (ipykernel)",
   "language": "python",
   "name": "python3"
  },
  "language_info": {
   "codemirror_mode": {
    "name": "ipython",
    "version": 3
   },
   "file_extension": ".py",
   "mimetype": "text/x-python",
   "name": "python",
   "nbconvert_exporter": "python",
   "pygments_lexer": "ipython3",
   "version": "3.8.10"
  }
 },
 "nbformat": 4,
 "nbformat_minor": 5
}
