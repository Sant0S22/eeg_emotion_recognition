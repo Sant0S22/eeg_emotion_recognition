{
 "cells": [
  {
   "cell_type": "code",
   "execution_count": 2,
   "id": "75c0961c",
   "metadata": {},
   "outputs": [
    {
     "name": "stdout",
     "output_type": "stream",
     "text": [
      "Collecting scipy\n",
      "  Using cached scipy-1.10.1-cp38-cp38-win_amd64.whl (42.2 MB)\n",
      "Requirement already satisfied: numpy<1.27.0,>=1.19.5 in c:\\users\\santo\\appdata\\local\\packages\\pythonsoftwarefoundation.python.3.8_qbz5n2kfra8p0\\localcache\\local-packages\\python38\\site-packages (from scipy) (1.24.2)\n",
      "Installing collected packages: scipy\n",
      "Successfully installed scipy-1.10.1\n",
      "Requirement already satisfied: pandas in c:\\users\\santo\\appdata\\local\\packages\\pythonsoftwarefoundation.python.3.8_qbz5n2kfra8p0\\localcache\\local-packages\\python38\\site-packages (1.5.3)\n",
      "Requirement already satisfied: python-dateutil>=2.8.1 in c:\\users\\santo\\appdata\\local\\packages\\pythonsoftwarefoundation.python.3.8_qbz5n2kfra8p0\\localcache\\local-packages\\python38\\site-packages (from pandas) (2.8.2)\n",
      "Requirement already satisfied: pytz>=2020.1 in c:\\users\\santo\\appdata\\local\\packages\\pythonsoftwarefoundation.python.3.8_qbz5n2kfra8p0\\localcache\\local-packages\\python38\\site-packages (from pandas) (2022.7.1)\n",
      "Requirement already satisfied: numpy>=1.20.3 in c:\\users\\santo\\appdata\\local\\packages\\pythonsoftwarefoundation.python.3.8_qbz5n2kfra8p0\\localcache\\local-packages\\python38\\site-packages (from pandas) (1.24.2)\n",
      "Requirement already satisfied: six>=1.5 in c:\\users\\santo\\appdata\\local\\packages\\pythonsoftwarefoundation.python.3.8_qbz5n2kfra8p0\\localcache\\local-packages\\python38\\site-packages (from python-dateutil>=2.8.1->pandas) (1.16.0)\n"
     ]
    }
   ],
   "source": [
    "!pip install scipy\n",
    "!pip install pandas"
   ]
  },
  {
   "cell_type": "code",
   "execution_count": 3,
   "id": "64e6f278",
   "metadata": {},
   "outputs": [],
   "source": [
    "import scipy.io\n",
    "import pandas as pd\n",
    "\n",
    "path = 'D:\\\\DATASET FVAB\\\\SEED_IV Database\\\\SEED_IV Database\\\\eeg_raw_data\\\\1\\\\2_20150915.mat'\n",
    "PATHpROC = \"D:\\\\DATASET FVAB\\\\SEED_IV Database\\\\SEED_IV Database\\\\eeg_feature_smooth\\\\1\\\\1_20160518.mat\"\n",
    "pathIndex =  \"D:\\\\DATASET FVAB\\\\SEED_IV Database\\\\SEED_IV Database\\\\Channel Order.xlsx\"\n",
    "pathEye = \"D:\\\\DATASET FVAB\\\\SEED_IV Database\\\\SEED_IV Database\\\\eye_raw_data\\\\1_20160518_blink.mat\"\n"
   ]
  },
  {
   "cell_type": "code",
   "execution_count": 4,
   "id": "f12a8b65",
   "metadata": {
    "scrolled": true
   },
   "outputs": [],
   "source": [
    "data = scipy.io.loadmat(path)"
   ]
  },
  {
   "cell_type": "code",
   "execution_count": 5,
   "id": "f69c8216",
   "metadata": {},
   "outputs": [],
   "source": [
    "#Prende tutti gli header per estrarre i dati\n",
    "labels = list(data.keys())\n",
    "size = len(labels)"
   ]
  },
  {
   "cell_type": "code",
   "execution_count": 6,
   "id": "7c19d2b0",
   "metadata": {},
   "outputs": [
    {
     "name": "stdout",
     "output_type": "stream",
     "text": [
      "(62, 33601)\n",
      "(62, 19001)\n",
      "(62, 39801)\n",
      "(62, 26001)\n",
      "(62, 17601)\n",
      "(62, 32401)\n",
      "(62, 30601)\n",
      "(62, 41801)\n",
      "(62, 29001)\n",
      "(62, 33801)\n",
      "(62, 10001)\n",
      "(62, 22001)\n",
      "(62, 43401)\n",
      "(62, 33801)\n",
      "(62, 51801)\n",
      "(62, 28201)\n",
      "(62, 13601)\n",
      "(62, 35801)\n",
      "(62, 28001)\n",
      "(62, 9601)\n",
      "(62, 22401)\n",
      "(62, 22401)\n",
      "(62, 35001)\n",
      "(62, 27401)\n"
     ]
    }
   ],
   "source": [
    "# Carica il dataset in un dataframe di pandas usando gli header\n",
    "for i in range(3,size,1):\n",
    "    df = pd.DataFrame(data[labels[i]])\n",
    "    print(df.shape)\n",
    "    #df.transpose()\n",
    "    df.to_csv(labels[i]+\".csv\")"
   ]
  },
  {
   "cell_type": "code",
   "execution_count": null,
   "id": "a3b2cae9",
   "metadata": {},
   "outputs": [],
   "source": []
  },
  {
   "cell_type": "code",
   "execution_count": null,
   "id": "35acc6e4",
   "metadata": {},
   "outputs": [],
   "source": []
  },
  {
   "cell_type": "code",
   "execution_count": null,
   "id": "f3cd0b48",
   "metadata": {},
   "outputs": [],
   "source": []
  },
  {
   "cell_type": "code",
   "execution_count": null,
   "id": "ae1a384d",
   "metadata": {},
   "outputs": [],
   "source": []
  }
 ],
 "metadata": {
  "kernelspec": {
   "display_name": "Python 3 (ipykernel)",
   "language": "python",
   "name": "python3"
  },
  "language_info": {
   "codemirror_mode": {
    "name": "ipython",
    "version": 3
   },
   "file_extension": ".py",
   "mimetype": "text/x-python",
   "name": "python",
   "nbconvert_exporter": "python",
   "pygments_lexer": "ipython3",
   "version": "3.8.10"
  }
 },
 "nbformat": 4,
 "nbformat_minor": 5
}
