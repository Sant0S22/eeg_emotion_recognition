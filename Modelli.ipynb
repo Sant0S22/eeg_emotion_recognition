{
 "cells": [
  {
   "cell_type": "code",
   "execution_count": 1,
   "id": "d02527c4",
   "metadata": {},
   "outputs": [],
   "source": [
    "import pandas as pd\n",
    "import numpy as np\n",
    "from sklearn import svm\n",
    "from sklearn.ensemble import GradientBoostingClassifier\n",
    "from sklearn.ensemble import RandomForestClassifier\n",
    "from sklearn.model_selection import train_test_split\n",
    "from sklearn.model_selection import LeaveOneGroupOut\n",
    "from sklearn.model_selection import cross_val_score\n",
    "from sklearn.metrics import classification_report\n",
    "from sklearn import svm"
   ]
  },
  {
   "cell_type": "code",
   "execution_count": 3,
   "id": "4e960a85",
   "metadata": {},
   "outputs": [],
   "source": [
    "df = pd.read_csv(\"dataset_eeg_nseg.csv\")"
   ]
  },
  {
   "cell_type": "code",
   "execution_count": 4,
   "id": "88216d81",
   "metadata": {},
   "outputs": [],
   "source": [
    "df.drop(['Unnamed: 0'],axis=1, inplace=True)"
   ]
  },
  {
   "cell_type": "code",
   "execution_count": 5,
   "id": "18b26e71",
   "metadata": {},
   "outputs": [],
   "source": [
    "df = df.set_index(['id_user','session','video'])"
   ]
  },
  {
   "cell_type": "code",
   "execution_count": 6,
   "id": "20738259",
   "metadata": {
    "scrolled": false
   },
   "outputs": [
    {
     "data": {
      "text/html": [
       "<div>\n",
       "<style scoped>\n",
       "    .dataframe tbody tr th:only-of-type {\n",
       "        vertical-align: middle;\n",
       "    }\n",
       "\n",
       "    .dataframe tbody tr th {\n",
       "        vertical-align: top;\n",
       "    }\n",
       "\n",
       "    .dataframe thead th {\n",
       "        text-align: right;\n",
       "    }\n",
       "</style>\n",
       "<table border=\"1\" class=\"dataframe\">\n",
       "  <thead>\n",
       "    <tr style=\"text-align: right;\">\n",
       "      <th></th>\n",
       "      <th></th>\n",
       "      <th></th>\n",
       "      <th>0</th>\n",
       "      <th>1</th>\n",
       "      <th>2</th>\n",
       "      <th>3</th>\n",
       "      <th>4</th>\n",
       "      <th>5</th>\n",
       "      <th>6</th>\n",
       "      <th>7</th>\n",
       "      <th>8</th>\n",
       "      <th>9</th>\n",
       "      <th>...</th>\n",
       "      <th>5502</th>\n",
       "      <th>5503</th>\n",
       "      <th>5504</th>\n",
       "      <th>5505</th>\n",
       "      <th>5506</th>\n",
       "      <th>5507</th>\n",
       "      <th>5508</th>\n",
       "      <th>5509</th>\n",
       "      <th>5510</th>\n",
       "      <th>emotion</th>\n",
       "    </tr>\n",
       "    <tr>\n",
       "      <th>id_user</th>\n",
       "      <th>session</th>\n",
       "      <th>video</th>\n",
       "      <th></th>\n",
       "      <th></th>\n",
       "      <th></th>\n",
       "      <th></th>\n",
       "      <th></th>\n",
       "      <th></th>\n",
       "      <th></th>\n",
       "      <th></th>\n",
       "      <th></th>\n",
       "      <th></th>\n",
       "      <th></th>\n",
       "      <th></th>\n",
       "      <th></th>\n",
       "      <th></th>\n",
       "      <th></th>\n",
       "      <th></th>\n",
       "      <th></th>\n",
       "      <th></th>\n",
       "      <th></th>\n",
       "      <th></th>\n",
       "      <th></th>\n",
       "    </tr>\n",
       "  </thead>\n",
       "  <tbody>\n",
       "    <tr>\n",
       "      <th rowspan=\"5\" valign=\"top\">10</th>\n",
       "      <th rowspan=\"5\" valign=\"top\">1</th>\n",
       "      <th>1</th>\n",
       "      <td>0.000056</td>\n",
       "      <td>0.000210</td>\n",
       "      <td>0.000578</td>\n",
       "      <td>0.001068</td>\n",
       "      <td>0.001386</td>\n",
       "      <td>0.001648</td>\n",
       "      <td>0.000803</td>\n",
       "      <td>0.000437</td>\n",
       "      <td>0.000751</td>\n",
       "      <td>0.000383</td>\n",
       "      <td>...</td>\n",
       "      <td>0.680894</td>\n",
       "      <td>0.677372</td>\n",
       "      <td>0.678587</td>\n",
       "      <td>0.680154</td>\n",
       "      <td>0.679000</td>\n",
       "      <td>0.679539</td>\n",
       "      <td>0.679375</td>\n",
       "      <td>0.678674</td>\n",
       "      <td>0.680591</td>\n",
       "      <td>1</td>\n",
       "    </tr>\n",
       "    <tr>\n",
       "      <th>2</th>\n",
       "      <td>0.000073</td>\n",
       "      <td>0.000045</td>\n",
       "      <td>0.000349</td>\n",
       "      <td>0.000667</td>\n",
       "      <td>0.000553</td>\n",
       "      <td>0.000305</td>\n",
       "      <td>0.000502</td>\n",
       "      <td>0.000579</td>\n",
       "      <td>0.000626</td>\n",
       "      <td>0.000521</td>\n",
       "      <td>...</td>\n",
       "      <td>0.681449</td>\n",
       "      <td>0.680814</td>\n",
       "      <td>0.681055</td>\n",
       "      <td>0.679858</td>\n",
       "      <td>0.679219</td>\n",
       "      <td>0.680615</td>\n",
       "      <td>0.676147</td>\n",
       "      <td>0.680797</td>\n",
       "      <td>0.679779</td>\n",
       "      <td>2</td>\n",
       "    </tr>\n",
       "    <tr>\n",
       "      <th>3</th>\n",
       "      <td>0.000053</td>\n",
       "      <td>0.000243</td>\n",
       "      <td>0.000697</td>\n",
       "      <td>0.000991</td>\n",
       "      <td>0.000822</td>\n",
       "      <td>0.000288</td>\n",
       "      <td>0.000170</td>\n",
       "      <td>0.000315</td>\n",
       "      <td>0.000519</td>\n",
       "      <td>0.000392</td>\n",
       "      <td>...</td>\n",
       "      <td>0.680556</td>\n",
       "      <td>0.679891</td>\n",
       "      <td>0.680421</td>\n",
       "      <td>0.680982</td>\n",
       "      <td>0.680714</td>\n",
       "      <td>0.680317</td>\n",
       "      <td>0.680449</td>\n",
       "      <td>0.680310</td>\n",
       "      <td>0.679916</td>\n",
       "      <td>3</td>\n",
       "    </tr>\n",
       "    <tr>\n",
       "      <th>4</th>\n",
       "      <td>0.000032</td>\n",
       "      <td>0.000114</td>\n",
       "      <td>0.000367</td>\n",
       "      <td>0.000646</td>\n",
       "      <td>0.000741</td>\n",
       "      <td>0.000520</td>\n",
       "      <td>0.000351</td>\n",
       "      <td>0.000349</td>\n",
       "      <td>0.000443</td>\n",
       "      <td>0.000537</td>\n",
       "      <td>...</td>\n",
       "      <td>0.681528</td>\n",
       "      <td>0.681170</td>\n",
       "      <td>0.682441</td>\n",
       "      <td>0.681751</td>\n",
       "      <td>0.681922</td>\n",
       "      <td>0.682117</td>\n",
       "      <td>0.682258</td>\n",
       "      <td>0.681055</td>\n",
       "      <td>0.681194</td>\n",
       "      <td>0</td>\n",
       "    </tr>\n",
       "    <tr>\n",
       "      <th>5</th>\n",
       "      <td>0.000037</td>\n",
       "      <td>0.000115</td>\n",
       "      <td>0.000549</td>\n",
       "      <td>0.000856</td>\n",
       "      <td>0.000560</td>\n",
       "      <td>0.000430</td>\n",
       "      <td>0.000418</td>\n",
       "      <td>0.000234</td>\n",
       "      <td>0.000129</td>\n",
       "      <td>0.000227</td>\n",
       "      <td>...</td>\n",
       "      <td>0.681270</td>\n",
       "      <td>0.679830</td>\n",
       "      <td>0.681256</td>\n",
       "      <td>0.682198</td>\n",
       "      <td>0.681864</td>\n",
       "      <td>0.680023</td>\n",
       "      <td>0.680439</td>\n",
       "      <td>0.680000</td>\n",
       "      <td>0.679143</td>\n",
       "      <td>2</td>\n",
       "    </tr>\n",
       "    <tr>\n",
       "      <th>...</th>\n",
       "      <th>...</th>\n",
       "      <th>...</th>\n",
       "      <td>...</td>\n",
       "      <td>...</td>\n",
       "      <td>...</td>\n",
       "      <td>...</td>\n",
       "      <td>...</td>\n",
       "      <td>...</td>\n",
       "      <td>...</td>\n",
       "      <td>...</td>\n",
       "      <td>...</td>\n",
       "      <td>...</td>\n",
       "      <td>...</td>\n",
       "      <td>...</td>\n",
       "      <td>...</td>\n",
       "      <td>...</td>\n",
       "      <td>...</td>\n",
       "      <td>...</td>\n",
       "      <td>...</td>\n",
       "      <td>...</td>\n",
       "      <td>...</td>\n",
       "      <td>...</td>\n",
       "      <td>...</td>\n",
       "    </tr>\n",
       "    <tr>\n",
       "      <th rowspan=\"5\" valign=\"top\">9</th>\n",
       "      <th rowspan=\"5\" valign=\"top\">3</th>\n",
       "      <th>20</th>\n",
       "      <td>0.000005</td>\n",
       "      <td>0.000028</td>\n",
       "      <td>0.000144</td>\n",
       "      <td>0.000136</td>\n",
       "      <td>0.000052</td>\n",
       "      <td>0.000212</td>\n",
       "      <td>0.000210</td>\n",
       "      <td>0.000047</td>\n",
       "      <td>0.000127</td>\n",
       "      <td>0.000165</td>\n",
       "      <td>...</td>\n",
       "      <td>0.683626</td>\n",
       "      <td>0.684026</td>\n",
       "      <td>0.683992</td>\n",
       "      <td>0.683872</td>\n",
       "      <td>0.683737</td>\n",
       "      <td>0.683521</td>\n",
       "      <td>0.683858</td>\n",
       "      <td>0.683820</td>\n",
       "      <td>0.683911</td>\n",
       "      <td>0</td>\n",
       "    </tr>\n",
       "    <tr>\n",
       "      <th>21</th>\n",
       "      <td>0.000012</td>\n",
       "      <td>0.000020</td>\n",
       "      <td>0.000093</td>\n",
       "      <td>0.000228</td>\n",
       "      <td>0.000360</td>\n",
       "      <td>0.000446</td>\n",
       "      <td>0.000264</td>\n",
       "      <td>0.000091</td>\n",
       "      <td>0.000087</td>\n",
       "      <td>0.000094</td>\n",
       "      <td>...</td>\n",
       "      <td>0.683333</td>\n",
       "      <td>0.683626</td>\n",
       "      <td>0.683485</td>\n",
       "      <td>0.683547</td>\n",
       "      <td>0.683689</td>\n",
       "      <td>0.683664</td>\n",
       "      <td>0.683373</td>\n",
       "      <td>0.683693</td>\n",
       "      <td>0.684037</td>\n",
       "      <td>2</td>\n",
       "    </tr>\n",
       "    <tr>\n",
       "      <th>22</th>\n",
       "      <td>0.000006</td>\n",
       "      <td>0.000026</td>\n",
       "      <td>0.000080</td>\n",
       "      <td>0.000192</td>\n",
       "      <td>0.000179</td>\n",
       "      <td>0.000068</td>\n",
       "      <td>0.000094</td>\n",
       "      <td>0.000052</td>\n",
       "      <td>0.000129</td>\n",
       "      <td>0.000117</td>\n",
       "      <td>...</td>\n",
       "      <td>0.683917</td>\n",
       "      <td>0.683562</td>\n",
       "      <td>0.683447</td>\n",
       "      <td>0.683692</td>\n",
       "      <td>0.683361</td>\n",
       "      <td>0.683313</td>\n",
       "      <td>0.683518</td>\n",
       "      <td>0.684135</td>\n",
       "      <td>0.684174</td>\n",
       "      <td>0</td>\n",
       "    </tr>\n",
       "    <tr>\n",
       "      <th>23</th>\n",
       "      <td>0.000035</td>\n",
       "      <td>0.000116</td>\n",
       "      <td>0.000271</td>\n",
       "      <td>0.000244</td>\n",
       "      <td>0.000255</td>\n",
       "      <td>0.000180</td>\n",
       "      <td>0.000203</td>\n",
       "      <td>0.000097</td>\n",
       "      <td>0.000168</td>\n",
       "      <td>0.000173</td>\n",
       "      <td>...</td>\n",
       "      <td>0.683632</td>\n",
       "      <td>0.683680</td>\n",
       "      <td>0.683738</td>\n",
       "      <td>0.683844</td>\n",
       "      <td>0.683406</td>\n",
       "      <td>0.683448</td>\n",
       "      <td>0.683663</td>\n",
       "      <td>0.683562</td>\n",
       "      <td>0.683567</td>\n",
       "      <td>1</td>\n",
       "    </tr>\n",
       "    <tr>\n",
       "      <th>24</th>\n",
       "      <td>0.000016</td>\n",
       "      <td>0.000144</td>\n",
       "      <td>0.000096</td>\n",
       "      <td>0.000285</td>\n",
       "      <td>0.000275</td>\n",
       "      <td>0.000113</td>\n",
       "      <td>0.000217</td>\n",
       "      <td>0.000480</td>\n",
       "      <td>0.000640</td>\n",
       "      <td>0.000708</td>\n",
       "      <td>...</td>\n",
       "      <td>0.683428</td>\n",
       "      <td>0.683518</td>\n",
       "      <td>0.683481</td>\n",
       "      <td>0.683462</td>\n",
       "      <td>0.683615</td>\n",
       "      <td>0.684293</td>\n",
       "      <td>0.684325</td>\n",
       "      <td>0.684048</td>\n",
       "      <td>0.683871</td>\n",
       "      <td>0</td>\n",
       "    </tr>\n",
       "  </tbody>\n",
       "</table>\n",
       "<p>1080 rows × 5512 columns</p>\n",
       "</div>"
      ],
      "text/plain": [
       "                              0         1         2         3         4  \\\n",
       "id_user session video                                                     \n",
       "10      1       1      0.000056  0.000210  0.000578  0.001068  0.001386   \n",
       "                2      0.000073  0.000045  0.000349  0.000667  0.000553   \n",
       "                3      0.000053  0.000243  0.000697  0.000991  0.000822   \n",
       "                4      0.000032  0.000114  0.000367  0.000646  0.000741   \n",
       "                5      0.000037  0.000115  0.000549  0.000856  0.000560   \n",
       "...                         ...       ...       ...       ...       ...   \n",
       "9       3       20     0.000005  0.000028  0.000144  0.000136  0.000052   \n",
       "                21     0.000012  0.000020  0.000093  0.000228  0.000360   \n",
       "                22     0.000006  0.000026  0.000080  0.000192  0.000179   \n",
       "                23     0.000035  0.000116  0.000271  0.000244  0.000255   \n",
       "                24     0.000016  0.000144  0.000096  0.000285  0.000275   \n",
       "\n",
       "                              5         6         7         8         9  ...  \\\n",
       "id_user session video                                                    ...   \n",
       "10      1       1      0.001648  0.000803  0.000437  0.000751  0.000383  ...   \n",
       "                2      0.000305  0.000502  0.000579  0.000626  0.000521  ...   \n",
       "                3      0.000288  0.000170  0.000315  0.000519  0.000392  ...   \n",
       "                4      0.000520  0.000351  0.000349  0.000443  0.000537  ...   \n",
       "                5      0.000430  0.000418  0.000234  0.000129  0.000227  ...   \n",
       "...                         ...       ...       ...       ...       ...  ...   \n",
       "9       3       20     0.000212  0.000210  0.000047  0.000127  0.000165  ...   \n",
       "                21     0.000446  0.000264  0.000091  0.000087  0.000094  ...   \n",
       "                22     0.000068  0.000094  0.000052  0.000129  0.000117  ...   \n",
       "                23     0.000180  0.000203  0.000097  0.000168  0.000173  ...   \n",
       "                24     0.000113  0.000217  0.000480  0.000640  0.000708  ...   \n",
       "\n",
       "                           5502      5503      5504      5505      5506  \\\n",
       "id_user session video                                                     \n",
       "10      1       1      0.680894  0.677372  0.678587  0.680154  0.679000   \n",
       "                2      0.681449  0.680814  0.681055  0.679858  0.679219   \n",
       "                3      0.680556  0.679891  0.680421  0.680982  0.680714   \n",
       "                4      0.681528  0.681170  0.682441  0.681751  0.681922   \n",
       "                5      0.681270  0.679830  0.681256  0.682198  0.681864   \n",
       "...                         ...       ...       ...       ...       ...   \n",
       "9       3       20     0.683626  0.684026  0.683992  0.683872  0.683737   \n",
       "                21     0.683333  0.683626  0.683485  0.683547  0.683689   \n",
       "                22     0.683917  0.683562  0.683447  0.683692  0.683361   \n",
       "                23     0.683632  0.683680  0.683738  0.683844  0.683406   \n",
       "                24     0.683428  0.683518  0.683481  0.683462  0.683615   \n",
       "\n",
       "                           5507      5508      5509      5510  emotion  \n",
       "id_user session video                                                   \n",
       "10      1       1      0.679539  0.679375  0.678674  0.680591        1  \n",
       "                2      0.680615  0.676147  0.680797  0.679779        2  \n",
       "                3      0.680317  0.680449  0.680310  0.679916        3  \n",
       "                4      0.682117  0.682258  0.681055  0.681194        0  \n",
       "                5      0.680023  0.680439  0.680000  0.679143        2  \n",
       "...                         ...       ...       ...       ...      ...  \n",
       "9       3       20     0.683521  0.683858  0.683820  0.683911        0  \n",
       "                21     0.683664  0.683373  0.683693  0.684037        2  \n",
       "                22     0.683313  0.683518  0.684135  0.684174        0  \n",
       "                23     0.683448  0.683663  0.683562  0.683567        1  \n",
       "                24     0.684293  0.684325  0.684048  0.683871        0  \n",
       "\n",
       "[1080 rows x 5512 columns]"
      ]
     },
     "execution_count": 6,
     "metadata": {},
     "output_type": "execute_result"
    }
   ],
   "source": [
    "df"
   ]
  },
  {
   "cell_type": "markdown",
   "id": "1dcd4cb8",
   "metadata": {},
   "source": [
    "## Split train e test\n",
    "### Subject Dependent\n",
    "16 trials train e 8 test\n",
    "2 testing group for labels "
   ]
  },
  {
   "cell_type": "code",
   "execution_count": 2,
   "id": "be20c8d0",
   "metadata": {},
   "outputs": [],
   "source": [
    "def split_sub_dep(df):    \n",
    "    df_sd = df.reset_index()\n",
    "    # generiamo 8 video su cui eseguiamo i test\n",
    "    test_videos = np.random.randint(1, 25, size=8)\n",
    "    print(test_videos)\n",
    "    X_testSD = df_sd[df_sd['video'].isin(test_videos)]\n",
    "    print(X_testSD.emotion.unique()) #check se sono rappresentate tutte le emozioni\n",
    "    X_testSD.set_index(['id_user','session','video'], inplace=True)\n",
    "    y_testSD = X_testSD.emotion\n",
    "    X_testSD = X_testSD.drop(['emotion'],axis=1)\n",
    "    X_trainSD = df_sd[~df_sd['video'].isin(test_videos)]\n",
    "    X_trainSD.set_index(['id_user','session','video'], inplace=True)\n",
    "    y_trainSD = X_trainSD.emotion\n",
    "    X_trainSD = X_trainSD.drop(['emotion'],axis=1)\n",
    "    return X_trainSD,y_trainSD,X_testSD,y_testSD"
   ]
  },
  {
   "cell_type": "code",
   "execution_count": 3,
   "id": "f2f91a89",
   "metadata": {},
   "outputs": [
    {
     "ename": "NameError",
     "evalue": "name 'df' is not defined",
     "output_type": "error",
     "traceback": [
      "\u001b[1;31m---------------------------------------------------------------------------\u001b[0m",
      "\u001b[1;31mNameError\u001b[0m                                 Traceback (most recent call last)",
      "Cell \u001b[1;32mIn[3], line 1\u001b[0m\n\u001b[1;32m----> 1\u001b[0m X_trainSD,y_trainSD,X_testSD,y_testSD \u001b[38;5;241m=\u001b[39m split_sub_dep(\u001b[43mdf\u001b[49m)\n",
      "\u001b[1;31mNameError\u001b[0m: name 'df' is not defined"
     ]
    }
   ],
   "source": [
    "X_trainSD,y_trainSD,X_testSD,y_testSD = split_sub_dep(df)"
   ]
  },
  {
   "cell_type": "code",
   "execution_count": 80,
   "id": "eb2da757",
   "metadata": {
    "scrolled": true
   },
   "outputs": [],
   "source": [
    "clfSD = GradientBoostingClassifier(n_estimators=10, learning_rate=0.5, max_depth=2,random_state=0).fit(X_trainSD, y_trainSD)"
   ]
  },
  {
   "cell_type": "code",
   "execution_count": 81,
   "id": "7a1f5ade",
   "metadata": {},
   "outputs": [
    {
     "data": {
      "text/plain": [
       "0.20833333333333334"
      ]
     },
     "execution_count": 81,
     "metadata": {},
     "output_type": "execute_result"
    }
   ],
   "source": [
    "clfSD.score(X_testSD, y_testSD)"
   ]
  },
  {
   "cell_type": "code",
   "execution_count": 82,
   "id": "da236b3c",
   "metadata": {},
   "outputs": [
    {
     "data": {
      "text/plain": [
       "0.8069444444444445"
      ]
     },
     "execution_count": 82,
     "metadata": {},
     "output_type": "execute_result"
    }
   ],
   "source": [
    "clfSD.score(X_trainSD, y_trainSD)"
   ]
  },
  {
   "cell_type": "code",
   "execution_count": 77,
   "id": "71e55e33",
   "metadata": {},
   "outputs": [],
   "source": [
    "rfSD = RandomForestClassifier(n_estimators=10, max_depth=10,random_state=42).fit(X_trainSD, y_trainSD)"
   ]
  },
  {
   "cell_type": "code",
   "execution_count": 83,
   "id": "1fad4495",
   "metadata": {},
   "outputs": [
    {
     "data": {
      "text/plain": [
       "0.24722222222222223"
      ]
     },
     "execution_count": 83,
     "metadata": {},
     "output_type": "execute_result"
    }
   ],
   "source": [
    "rfSD.score(X_testSD, y_testSD)"
   ]
  },
  {
   "cell_type": "code",
   "execution_count": 84,
   "id": "31378974",
   "metadata": {},
   "outputs": [
    {
     "data": {
      "text/plain": [
       "0.9319444444444445"
      ]
     },
     "execution_count": 84,
     "metadata": {},
     "output_type": "execute_result"
    }
   ],
   "source": [
    "rfSD.score(X_trainSD, y_trainSD)"
   ]
  },
  {
   "cell_type": "markdown",
   "id": "7d42da84",
   "metadata": {},
   "source": [
    "### Subject Indipendent\n",
    "Leave One Out Cross Validation sugli utenti"
   ]
  },
  {
   "cell_type": "code",
   "execution_count": 23,
   "id": "85684910",
   "metadata": {},
   "outputs": [],
   "source": [
    "def SubjectIndipendent_GBC(df):\n",
    "    df_SI = df.reset_index()\n",
    "    groups = df_SI['id_user']\n",
    "    X_SI = df_SI.drop(['emotion','id_user','session','video'],axis=1)\n",
    "    y_SI = df_SI.emotion\n",
    "    return X_SI,y_SI,groups"
   ]
  },
  {
   "cell_type": "code",
   "execution_count": 86,
   "id": "81d726ab",
   "metadata": {},
   "outputs": [],
   "source": [
    "X_SI,y_SI,groups = SubjectIndipendent_GBC(df)"
   ]
  },
  {
   "cell_type": "code",
   "execution_count": 87,
   "id": "3a84bd59",
   "metadata": {},
   "outputs": [],
   "source": [
    "df_SI = df.reset_index()\n",
    "groups = df_SI['id_user']"
   ]
  },
  {
   "cell_type": "code",
   "execution_count": 88,
   "id": "1f6c5396",
   "metadata": {
    "scrolled": true
   },
   "outputs": [
    {
     "data": {
      "text/plain": [
       "0       10\n",
       "1       10\n",
       "2       10\n",
       "3       10\n",
       "4       10\n",
       "        ..\n",
       "1075     9\n",
       "1076     9\n",
       "1077     9\n",
       "1078     9\n",
       "1079     9\n",
       "Name: id_user, Length: 1080, dtype: int64"
      ]
     },
     "execution_count": 88,
     "metadata": {},
     "output_type": "execute_result"
    }
   ],
   "source": [
    "groups"
   ]
  },
  {
   "cell_type": "code",
   "execution_count": 89,
   "id": "76813d16",
   "metadata": {},
   "outputs": [],
   "source": [
    "X_SI = df_SI.drop(['emotion','id_user','session','video'],axis=1)"
   ]
  },
  {
   "cell_type": "code",
   "execution_count": 90,
   "id": "603be231",
   "metadata": {},
   "outputs": [
    {
     "data": {
      "text/html": [
       "<div>\n",
       "<style scoped>\n",
       "    .dataframe tbody tr th:only-of-type {\n",
       "        vertical-align: middle;\n",
       "    }\n",
       "\n",
       "    .dataframe tbody tr th {\n",
       "        vertical-align: top;\n",
       "    }\n",
       "\n",
       "    .dataframe thead th {\n",
       "        text-align: right;\n",
       "    }\n",
       "</style>\n",
       "<table border=\"1\" class=\"dataframe\">\n",
       "  <thead>\n",
       "    <tr style=\"text-align: right;\">\n",
       "      <th></th>\n",
       "      <th>0</th>\n",
       "      <th>1</th>\n",
       "      <th>2</th>\n",
       "      <th>3</th>\n",
       "      <th>4</th>\n",
       "      <th>5</th>\n",
       "      <th>6</th>\n",
       "      <th>7</th>\n",
       "      <th>8</th>\n",
       "      <th>9</th>\n",
       "      <th>...</th>\n",
       "      <th>5501</th>\n",
       "      <th>5502</th>\n",
       "      <th>5503</th>\n",
       "      <th>5504</th>\n",
       "      <th>5505</th>\n",
       "      <th>5506</th>\n",
       "      <th>5507</th>\n",
       "      <th>5508</th>\n",
       "      <th>5509</th>\n",
       "      <th>5510</th>\n",
       "    </tr>\n",
       "  </thead>\n",
       "  <tbody>\n",
       "    <tr>\n",
       "      <th>0</th>\n",
       "      <td>0.000056</td>\n",
       "      <td>0.000210</td>\n",
       "      <td>0.000578</td>\n",
       "      <td>0.001068</td>\n",
       "      <td>0.001386</td>\n",
       "      <td>0.001648</td>\n",
       "      <td>0.000803</td>\n",
       "      <td>0.000437</td>\n",
       "      <td>0.000751</td>\n",
       "      <td>0.000383</td>\n",
       "      <td>...</td>\n",
       "      <td>0.681325</td>\n",
       "      <td>0.680894</td>\n",
       "      <td>0.677372</td>\n",
       "      <td>0.678587</td>\n",
       "      <td>0.680154</td>\n",
       "      <td>0.679000</td>\n",
       "      <td>0.679539</td>\n",
       "      <td>0.679375</td>\n",
       "      <td>0.678674</td>\n",
       "      <td>0.680591</td>\n",
       "    </tr>\n",
       "    <tr>\n",
       "      <th>1</th>\n",
       "      <td>0.000073</td>\n",
       "      <td>0.000045</td>\n",
       "      <td>0.000349</td>\n",
       "      <td>0.000667</td>\n",
       "      <td>0.000553</td>\n",
       "      <td>0.000305</td>\n",
       "      <td>0.000502</td>\n",
       "      <td>0.000579</td>\n",
       "      <td>0.000626</td>\n",
       "      <td>0.000521</td>\n",
       "      <td>...</td>\n",
       "      <td>0.680923</td>\n",
       "      <td>0.681449</td>\n",
       "      <td>0.680814</td>\n",
       "      <td>0.681055</td>\n",
       "      <td>0.679858</td>\n",
       "      <td>0.679219</td>\n",
       "      <td>0.680615</td>\n",
       "      <td>0.676147</td>\n",
       "      <td>0.680797</td>\n",
       "      <td>0.679779</td>\n",
       "    </tr>\n",
       "    <tr>\n",
       "      <th>2</th>\n",
       "      <td>0.000053</td>\n",
       "      <td>0.000243</td>\n",
       "      <td>0.000697</td>\n",
       "      <td>0.000991</td>\n",
       "      <td>0.000822</td>\n",
       "      <td>0.000288</td>\n",
       "      <td>0.000170</td>\n",
       "      <td>0.000315</td>\n",
       "      <td>0.000519</td>\n",
       "      <td>0.000392</td>\n",
       "      <td>...</td>\n",
       "      <td>0.680739</td>\n",
       "      <td>0.680556</td>\n",
       "      <td>0.679891</td>\n",
       "      <td>0.680421</td>\n",
       "      <td>0.680982</td>\n",
       "      <td>0.680714</td>\n",
       "      <td>0.680317</td>\n",
       "      <td>0.680449</td>\n",
       "      <td>0.680310</td>\n",
       "      <td>0.679916</td>\n",
       "    </tr>\n",
       "    <tr>\n",
       "      <th>3</th>\n",
       "      <td>0.000032</td>\n",
       "      <td>0.000114</td>\n",
       "      <td>0.000367</td>\n",
       "      <td>0.000646</td>\n",
       "      <td>0.000741</td>\n",
       "      <td>0.000520</td>\n",
       "      <td>0.000351</td>\n",
       "      <td>0.000349</td>\n",
       "      <td>0.000443</td>\n",
       "      <td>0.000537</td>\n",
       "      <td>...</td>\n",
       "      <td>0.681769</td>\n",
       "      <td>0.681528</td>\n",
       "      <td>0.681170</td>\n",
       "      <td>0.682441</td>\n",
       "      <td>0.681751</td>\n",
       "      <td>0.681922</td>\n",
       "      <td>0.682117</td>\n",
       "      <td>0.682258</td>\n",
       "      <td>0.681055</td>\n",
       "      <td>0.681194</td>\n",
       "    </tr>\n",
       "    <tr>\n",
       "      <th>4</th>\n",
       "      <td>0.000037</td>\n",
       "      <td>0.000115</td>\n",
       "      <td>0.000549</td>\n",
       "      <td>0.000856</td>\n",
       "      <td>0.000560</td>\n",
       "      <td>0.000430</td>\n",
       "      <td>0.000418</td>\n",
       "      <td>0.000234</td>\n",
       "      <td>0.000129</td>\n",
       "      <td>0.000227</td>\n",
       "      <td>...</td>\n",
       "      <td>0.682273</td>\n",
       "      <td>0.681270</td>\n",
       "      <td>0.679830</td>\n",
       "      <td>0.681256</td>\n",
       "      <td>0.682198</td>\n",
       "      <td>0.681864</td>\n",
       "      <td>0.680023</td>\n",
       "      <td>0.680439</td>\n",
       "      <td>0.680000</td>\n",
       "      <td>0.679143</td>\n",
       "    </tr>\n",
       "    <tr>\n",
       "      <th>...</th>\n",
       "      <td>...</td>\n",
       "      <td>...</td>\n",
       "      <td>...</td>\n",
       "      <td>...</td>\n",
       "      <td>...</td>\n",
       "      <td>...</td>\n",
       "      <td>...</td>\n",
       "      <td>...</td>\n",
       "      <td>...</td>\n",
       "      <td>...</td>\n",
       "      <td>...</td>\n",
       "      <td>...</td>\n",
       "      <td>...</td>\n",
       "      <td>...</td>\n",
       "      <td>...</td>\n",
       "      <td>...</td>\n",
       "      <td>...</td>\n",
       "      <td>...</td>\n",
       "      <td>...</td>\n",
       "      <td>...</td>\n",
       "      <td>...</td>\n",
       "    </tr>\n",
       "    <tr>\n",
       "      <th>1075</th>\n",
       "      <td>0.000005</td>\n",
       "      <td>0.000028</td>\n",
       "      <td>0.000144</td>\n",
       "      <td>0.000136</td>\n",
       "      <td>0.000052</td>\n",
       "      <td>0.000212</td>\n",
       "      <td>0.000210</td>\n",
       "      <td>0.000047</td>\n",
       "      <td>0.000127</td>\n",
       "      <td>0.000165</td>\n",
       "      <td>...</td>\n",
       "      <td>0.683606</td>\n",
       "      <td>0.683626</td>\n",
       "      <td>0.684026</td>\n",
       "      <td>0.683992</td>\n",
       "      <td>0.683872</td>\n",
       "      <td>0.683737</td>\n",
       "      <td>0.683521</td>\n",
       "      <td>0.683858</td>\n",
       "      <td>0.683820</td>\n",
       "      <td>0.683911</td>\n",
       "    </tr>\n",
       "    <tr>\n",
       "      <th>1076</th>\n",
       "      <td>0.000012</td>\n",
       "      <td>0.000020</td>\n",
       "      <td>0.000093</td>\n",
       "      <td>0.000228</td>\n",
       "      <td>0.000360</td>\n",
       "      <td>0.000446</td>\n",
       "      <td>0.000264</td>\n",
       "      <td>0.000091</td>\n",
       "      <td>0.000087</td>\n",
       "      <td>0.000094</td>\n",
       "      <td>...</td>\n",
       "      <td>0.683356</td>\n",
       "      <td>0.683333</td>\n",
       "      <td>0.683626</td>\n",
       "      <td>0.683485</td>\n",
       "      <td>0.683547</td>\n",
       "      <td>0.683689</td>\n",
       "      <td>0.683664</td>\n",
       "      <td>0.683373</td>\n",
       "      <td>0.683693</td>\n",
       "      <td>0.684037</td>\n",
       "    </tr>\n",
       "    <tr>\n",
       "      <th>1077</th>\n",
       "      <td>0.000006</td>\n",
       "      <td>0.000026</td>\n",
       "      <td>0.000080</td>\n",
       "      <td>0.000192</td>\n",
       "      <td>0.000179</td>\n",
       "      <td>0.000068</td>\n",
       "      <td>0.000094</td>\n",
       "      <td>0.000052</td>\n",
       "      <td>0.000129</td>\n",
       "      <td>0.000117</td>\n",
       "      <td>...</td>\n",
       "      <td>0.683923</td>\n",
       "      <td>0.683917</td>\n",
       "      <td>0.683562</td>\n",
       "      <td>0.683447</td>\n",
       "      <td>0.683692</td>\n",
       "      <td>0.683361</td>\n",
       "      <td>0.683313</td>\n",
       "      <td>0.683518</td>\n",
       "      <td>0.684135</td>\n",
       "      <td>0.684174</td>\n",
       "    </tr>\n",
       "    <tr>\n",
       "      <th>1078</th>\n",
       "      <td>0.000035</td>\n",
       "      <td>0.000116</td>\n",
       "      <td>0.000271</td>\n",
       "      <td>0.000244</td>\n",
       "      <td>0.000255</td>\n",
       "      <td>0.000180</td>\n",
       "      <td>0.000203</td>\n",
       "      <td>0.000097</td>\n",
       "      <td>0.000168</td>\n",
       "      <td>0.000173</td>\n",
       "      <td>...</td>\n",
       "      <td>0.683325</td>\n",
       "      <td>0.683632</td>\n",
       "      <td>0.683680</td>\n",
       "      <td>0.683738</td>\n",
       "      <td>0.683844</td>\n",
       "      <td>0.683406</td>\n",
       "      <td>0.683448</td>\n",
       "      <td>0.683663</td>\n",
       "      <td>0.683562</td>\n",
       "      <td>0.683567</td>\n",
       "    </tr>\n",
       "    <tr>\n",
       "      <th>1079</th>\n",
       "      <td>0.000016</td>\n",
       "      <td>0.000144</td>\n",
       "      <td>0.000096</td>\n",
       "      <td>0.000285</td>\n",
       "      <td>0.000275</td>\n",
       "      <td>0.000113</td>\n",
       "      <td>0.000217</td>\n",
       "      <td>0.000480</td>\n",
       "      <td>0.000640</td>\n",
       "      <td>0.000708</td>\n",
       "      <td>...</td>\n",
       "      <td>0.684066</td>\n",
       "      <td>0.683428</td>\n",
       "      <td>0.683518</td>\n",
       "      <td>0.683481</td>\n",
       "      <td>0.683462</td>\n",
       "      <td>0.683615</td>\n",
       "      <td>0.684293</td>\n",
       "      <td>0.684325</td>\n",
       "      <td>0.684048</td>\n",
       "      <td>0.683871</td>\n",
       "    </tr>\n",
       "  </tbody>\n",
       "</table>\n",
       "<p>1080 rows × 5511 columns</p>\n",
       "</div>"
      ],
      "text/plain": [
       "             0         1         2         3         4         5         6  \\\n",
       "0     0.000056  0.000210  0.000578  0.001068  0.001386  0.001648  0.000803   \n",
       "1     0.000073  0.000045  0.000349  0.000667  0.000553  0.000305  0.000502   \n",
       "2     0.000053  0.000243  0.000697  0.000991  0.000822  0.000288  0.000170   \n",
       "3     0.000032  0.000114  0.000367  0.000646  0.000741  0.000520  0.000351   \n",
       "4     0.000037  0.000115  0.000549  0.000856  0.000560  0.000430  0.000418   \n",
       "...        ...       ...       ...       ...       ...       ...       ...   \n",
       "1075  0.000005  0.000028  0.000144  0.000136  0.000052  0.000212  0.000210   \n",
       "1076  0.000012  0.000020  0.000093  0.000228  0.000360  0.000446  0.000264   \n",
       "1077  0.000006  0.000026  0.000080  0.000192  0.000179  0.000068  0.000094   \n",
       "1078  0.000035  0.000116  0.000271  0.000244  0.000255  0.000180  0.000203   \n",
       "1079  0.000016  0.000144  0.000096  0.000285  0.000275  0.000113  0.000217   \n",
       "\n",
       "             7         8         9  ...      5501      5502      5503  \\\n",
       "0     0.000437  0.000751  0.000383  ...  0.681325  0.680894  0.677372   \n",
       "1     0.000579  0.000626  0.000521  ...  0.680923  0.681449  0.680814   \n",
       "2     0.000315  0.000519  0.000392  ...  0.680739  0.680556  0.679891   \n",
       "3     0.000349  0.000443  0.000537  ...  0.681769  0.681528  0.681170   \n",
       "4     0.000234  0.000129  0.000227  ...  0.682273  0.681270  0.679830   \n",
       "...        ...       ...       ...  ...       ...       ...       ...   \n",
       "1075  0.000047  0.000127  0.000165  ...  0.683606  0.683626  0.684026   \n",
       "1076  0.000091  0.000087  0.000094  ...  0.683356  0.683333  0.683626   \n",
       "1077  0.000052  0.000129  0.000117  ...  0.683923  0.683917  0.683562   \n",
       "1078  0.000097  0.000168  0.000173  ...  0.683325  0.683632  0.683680   \n",
       "1079  0.000480  0.000640  0.000708  ...  0.684066  0.683428  0.683518   \n",
       "\n",
       "          5504      5505      5506      5507      5508      5509      5510  \n",
       "0     0.678587  0.680154  0.679000  0.679539  0.679375  0.678674  0.680591  \n",
       "1     0.681055  0.679858  0.679219  0.680615  0.676147  0.680797  0.679779  \n",
       "2     0.680421  0.680982  0.680714  0.680317  0.680449  0.680310  0.679916  \n",
       "3     0.682441  0.681751  0.681922  0.682117  0.682258  0.681055  0.681194  \n",
       "4     0.681256  0.682198  0.681864  0.680023  0.680439  0.680000  0.679143  \n",
       "...        ...       ...       ...       ...       ...       ...       ...  \n",
       "1075  0.683992  0.683872  0.683737  0.683521  0.683858  0.683820  0.683911  \n",
       "1076  0.683485  0.683547  0.683689  0.683664  0.683373  0.683693  0.684037  \n",
       "1077  0.683447  0.683692  0.683361  0.683313  0.683518  0.684135  0.684174  \n",
       "1078  0.683738  0.683844  0.683406  0.683448  0.683663  0.683562  0.683567  \n",
       "1079  0.683481  0.683462  0.683615  0.684293  0.684325  0.684048  0.683871  \n",
       "\n",
       "[1080 rows x 5511 columns]"
      ]
     },
     "execution_count": 90,
     "metadata": {},
     "output_type": "execute_result"
    }
   ],
   "source": [
    "X_SI"
   ]
  },
  {
   "cell_type": "code",
   "execution_count": 91,
   "id": "b7d37c5e",
   "metadata": {},
   "outputs": [],
   "source": [
    "y_SI = df_SI.emotion"
   ]
  },
  {
   "cell_type": "code",
   "execution_count": 92,
   "id": "d68fd438",
   "metadata": {},
   "outputs": [
    {
     "data": {
      "text/plain": [
       "0       1\n",
       "1       2\n",
       "2       3\n",
       "3       0\n",
       "4       2\n",
       "       ..\n",
       "1075    0\n",
       "1076    2\n",
       "1077    0\n",
       "1078    1\n",
       "1079    0\n",
       "Name: emotion, Length: 1080, dtype: int64"
      ]
     },
     "execution_count": 92,
     "metadata": {},
     "output_type": "execute_result"
    }
   ],
   "source": [
    "y_SI"
   ]
  },
  {
   "cell_type": "markdown",
   "id": "17f9b7bb",
   "metadata": {},
   "source": [
    "#### GradientBoostingClassifier"
   ]
  },
  {
   "cell_type": "code",
   "execution_count": 98,
   "id": "5c7afbca",
   "metadata": {},
   "outputs": [],
   "source": [
    "model = GradientBoostingClassifier(n_estimators=10, learning_rate=1, max_depth=5, random_state=0)"
   ]
  },
  {
   "cell_type": "code",
   "execution_count": 141,
   "id": "131a1194",
   "metadata": {},
   "outputs": [],
   "source": [
    "rfc = RandomForestClassifier(n_estimators=15, max_depth=10,random_state=22)"
   ]
  },
  {
   "cell_type": "code",
   "execution_count": 99,
   "id": "360f08e8",
   "metadata": {},
   "outputs": [],
   "source": [
    "logo = LeaveOneGroupOut()"
   ]
  },
  {
   "cell_type": "code",
   "execution_count": 100,
   "id": "14b50b78",
   "metadata": {},
   "outputs": [
    {
     "data": {
      "text/plain": [
       "15"
      ]
     },
     "execution_count": 100,
     "metadata": {},
     "output_type": "execute_result"
    }
   ],
   "source": [
    "logo.get_n_splits(X_SI, y_SI, groups)"
   ]
  },
  {
   "cell_type": "code",
   "execution_count": 142,
   "id": "562d4e96",
   "metadata": {},
   "outputs": [
    {
     "name": "stderr",
     "output_type": "stream",
     "text": [
      "[Parallel(n_jobs=-1)]: Using backend LokyBackend with 6 concurrent workers.\n",
      "[Parallel(n_jobs=-1)]: Done  15 out of  15 | elapsed:    1.5s finished\n"
     ]
    }
   ],
   "source": [
    "scores = cross_val_score(rfc, X_SI, y_SI, cv=logo, verbose=1 , groups = groups, n_jobs = -1)"
   ]
  },
  {
   "cell_type": "code",
   "execution_count": 102,
   "id": "519af8e0",
   "metadata": {},
   "outputs": [
    {
     "data": {
      "text/plain": [
       "array([0.23611111, 0.23611111, 0.27777778, 0.27777778, 0.19444444,\n",
       "       0.19444444, 0.40277778, 0.20833333, 0.27777778, 0.34722222,\n",
       "       0.31944444, 0.25      , 0.36111111, 0.34722222, 0.33333333])"
      ]
     },
     "execution_count": 102,
     "metadata": {},
     "output_type": "execute_result"
    }
   ],
   "source": [
    "scores"
   ]
  },
  {
   "cell_type": "code",
   "execution_count": 103,
   "id": "e8e61577",
   "metadata": {},
   "outputs": [],
   "source": [
    "scori = pd.DataFrame(scores)\n",
    "scori.to_csv(\"scores.csv\")"
   ]
  },
  {
   "cell_type": "code",
   "execution_count": 143,
   "id": "fd8848d0",
   "metadata": {},
   "outputs": [
    {
     "data": {
      "text/plain": [
       "0.30185185185185187"
      ]
     },
     "execution_count": 143,
     "metadata": {},
     "output_type": "execute_result"
    }
   ],
   "source": [
    "scores.mean()"
   ]
  },
  {
   "cell_type": "markdown",
   "id": "6d4df993",
   "metadata": {},
   "source": [
    "### Subject-Biased Experiment\n",
    "train_test_split"
   ]
  },
  {
   "cell_type": "code",
   "execution_count": 105,
   "id": "226ad04d",
   "metadata": {},
   "outputs": [],
   "source": [
    "X_trainSB, X_testSB, y_trainSB, y_testSB = train_test_split(df.drop('emotion',axis=1), df.emotion, test_size=0.20, random_state=42)"
   ]
  },
  {
   "cell_type": "code",
   "execution_count": 106,
   "id": "a6c46271",
   "metadata": {},
   "outputs": [
    {
     "data": {
      "text/html": [
       "<div>\n",
       "<style scoped>\n",
       "    .dataframe tbody tr th:only-of-type {\n",
       "        vertical-align: middle;\n",
       "    }\n",
       "\n",
       "    .dataframe tbody tr th {\n",
       "        vertical-align: top;\n",
       "    }\n",
       "\n",
       "    .dataframe thead th {\n",
       "        text-align: right;\n",
       "    }\n",
       "</style>\n",
       "<table border=\"1\" class=\"dataframe\">\n",
       "  <thead>\n",
       "    <tr style=\"text-align: right;\">\n",
       "      <th></th>\n",
       "      <th></th>\n",
       "      <th></th>\n",
       "      <th>0</th>\n",
       "      <th>1</th>\n",
       "      <th>2</th>\n",
       "      <th>3</th>\n",
       "      <th>4</th>\n",
       "      <th>5</th>\n",
       "      <th>6</th>\n",
       "      <th>7</th>\n",
       "      <th>8</th>\n",
       "      <th>9</th>\n",
       "      <th>...</th>\n",
       "      <th>5501</th>\n",
       "      <th>5502</th>\n",
       "      <th>5503</th>\n",
       "      <th>5504</th>\n",
       "      <th>5505</th>\n",
       "      <th>5506</th>\n",
       "      <th>5507</th>\n",
       "      <th>5508</th>\n",
       "      <th>5509</th>\n",
       "      <th>5510</th>\n",
       "    </tr>\n",
       "    <tr>\n",
       "      <th>id_user</th>\n",
       "      <th>session</th>\n",
       "      <th>video</th>\n",
       "      <th></th>\n",
       "      <th></th>\n",
       "      <th></th>\n",
       "      <th></th>\n",
       "      <th></th>\n",
       "      <th></th>\n",
       "      <th></th>\n",
       "      <th></th>\n",
       "      <th></th>\n",
       "      <th></th>\n",
       "      <th></th>\n",
       "      <th></th>\n",
       "      <th></th>\n",
       "      <th></th>\n",
       "      <th></th>\n",
       "      <th></th>\n",
       "      <th></th>\n",
       "      <th></th>\n",
       "      <th></th>\n",
       "      <th></th>\n",
       "      <th></th>\n",
       "    </tr>\n",
       "  </thead>\n",
       "  <tbody>\n",
       "    <tr>\n",
       "      <th>12</th>\n",
       "      <th>2</th>\n",
       "      <th>16</th>\n",
       "      <td>0.000008</td>\n",
       "      <td>0.000516</td>\n",
       "      <td>0.001592</td>\n",
       "      <td>0.001822</td>\n",
       "      <td>0.000997</td>\n",
       "      <td>0.000759</td>\n",
       "      <td>0.000655</td>\n",
       "      <td>0.000465</td>\n",
       "      <td>0.000272</td>\n",
       "      <td>0.000379</td>\n",
       "      <td>...</td>\n",
       "      <td>0.679390</td>\n",
       "      <td>0.679000</td>\n",
       "      <td>0.680738</td>\n",
       "      <td>0.681477</td>\n",
       "      <td>0.682194</td>\n",
       "      <td>0.683832</td>\n",
       "      <td>0.684749</td>\n",
       "      <td>0.684386</td>\n",
       "      <td>0.685085</td>\n",
       "      <td>0.685086</td>\n",
       "    </tr>\n",
       "    <tr>\n",
       "      <th>2</th>\n",
       "      <th>2</th>\n",
       "      <th>21</th>\n",
       "      <td>0.000044</td>\n",
       "      <td>0.000083</td>\n",
       "      <td>0.000462</td>\n",
       "      <td>0.000881</td>\n",
       "      <td>0.000616</td>\n",
       "      <td>0.000625</td>\n",
       "      <td>0.000695</td>\n",
       "      <td>0.000345</td>\n",
       "      <td>0.000285</td>\n",
       "      <td>0.000335</td>\n",
       "      <td>...</td>\n",
       "      <td>0.680934</td>\n",
       "      <td>0.680750</td>\n",
       "      <td>0.681149</td>\n",
       "      <td>0.681431</td>\n",
       "      <td>0.683091</td>\n",
       "      <td>0.681742</td>\n",
       "      <td>0.682150</td>\n",
       "      <td>0.682481</td>\n",
       "      <td>0.682143</td>\n",
       "      <td>0.680051</td>\n",
       "    </tr>\n",
       "    <tr>\n",
       "      <th>10</th>\n",
       "      <th>3</th>\n",
       "      <th>12</th>\n",
       "      <td>0.000004</td>\n",
       "      <td>0.000221</td>\n",
       "      <td>0.001332</td>\n",
       "      <td>0.001077</td>\n",
       "      <td>0.001250</td>\n",
       "      <td>0.001647</td>\n",
       "      <td>0.001343</td>\n",
       "      <td>0.001021</td>\n",
       "      <td>0.000802</td>\n",
       "      <td>0.001383</td>\n",
       "      <td>...</td>\n",
       "      <td>0.683215</td>\n",
       "      <td>0.683885</td>\n",
       "      <td>0.683958</td>\n",
       "      <td>0.681566</td>\n",
       "      <td>0.681321</td>\n",
       "      <td>0.682477</td>\n",
       "      <td>0.682076</td>\n",
       "      <td>0.684267</td>\n",
       "      <td>0.684585</td>\n",
       "      <td>0.684663</td>\n",
       "    </tr>\n",
       "    <tr>\n",
       "      <th>4</th>\n",
       "      <th>2</th>\n",
       "      <th>13</th>\n",
       "      <td>0.000041</td>\n",
       "      <td>0.000582</td>\n",
       "      <td>0.001236</td>\n",
       "      <td>0.001804</td>\n",
       "      <td>0.001213</td>\n",
       "      <td>0.001718</td>\n",
       "      <td>0.001550</td>\n",
       "      <td>0.000670</td>\n",
       "      <td>0.001938</td>\n",
       "      <td>0.002067</td>\n",
       "      <td>...</td>\n",
       "      <td>0.685096</td>\n",
       "      <td>0.682800</td>\n",
       "      <td>0.681938</td>\n",
       "      <td>0.679263</td>\n",
       "      <td>0.680470</td>\n",
       "      <td>0.675999</td>\n",
       "      <td>0.678645</td>\n",
       "      <td>0.681212</td>\n",
       "      <td>0.682752</td>\n",
       "      <td>0.679215</td>\n",
       "    </tr>\n",
       "    <tr>\n",
       "      <th>8</th>\n",
       "      <th>3</th>\n",
       "      <th>20</th>\n",
       "      <td>0.000019</td>\n",
       "      <td>0.000152</td>\n",
       "      <td>0.000867</td>\n",
       "      <td>0.000711</td>\n",
       "      <td>0.000663</td>\n",
       "      <td>0.001260</td>\n",
       "      <td>0.000807</td>\n",
       "      <td>0.000318</td>\n",
       "      <td>0.000180</td>\n",
       "      <td>0.000170</td>\n",
       "      <td>...</td>\n",
       "      <td>0.682209</td>\n",
       "      <td>0.681293</td>\n",
       "      <td>0.681397</td>\n",
       "      <td>0.682452</td>\n",
       "      <td>0.684373</td>\n",
       "      <td>0.682326</td>\n",
       "      <td>0.680113</td>\n",
       "      <td>0.680362</td>\n",
       "      <td>0.681406</td>\n",
       "      <td>0.681989</td>\n",
       "    </tr>\n",
       "    <tr>\n",
       "      <th>...</th>\n",
       "      <th>...</th>\n",
       "      <th>...</th>\n",
       "      <td>...</td>\n",
       "      <td>...</td>\n",
       "      <td>...</td>\n",
       "      <td>...</td>\n",
       "      <td>...</td>\n",
       "      <td>...</td>\n",
       "      <td>...</td>\n",
       "      <td>...</td>\n",
       "      <td>...</td>\n",
       "      <td>...</td>\n",
       "      <td>...</td>\n",
       "      <td>...</td>\n",
       "      <td>...</td>\n",
       "      <td>...</td>\n",
       "      <td>...</td>\n",
       "      <td>...</td>\n",
       "      <td>...</td>\n",
       "      <td>...</td>\n",
       "      <td>...</td>\n",
       "      <td>...</td>\n",
       "      <td>...</td>\n",
       "    </tr>\n",
       "    <tr>\n",
       "      <th>15</th>\n",
       "      <th>3</th>\n",
       "      <th>4</th>\n",
       "      <td>0.000264</td>\n",
       "      <td>0.003635</td>\n",
       "      <td>0.011254</td>\n",
       "      <td>0.026212</td>\n",
       "      <td>0.034113</td>\n",
       "      <td>0.023178</td>\n",
       "      <td>0.020101</td>\n",
       "      <td>0.015724</td>\n",
       "      <td>0.013238</td>\n",
       "      <td>0.012309</td>\n",
       "      <td>...</td>\n",
       "      <td>0.683563</td>\n",
       "      <td>0.681009</td>\n",
       "      <td>0.681083</td>\n",
       "      <td>0.682396</td>\n",
       "      <td>0.681954</td>\n",
       "      <td>0.679835</td>\n",
       "      <td>0.679746</td>\n",
       "      <td>0.680190</td>\n",
       "      <td>0.680423</td>\n",
       "      <td>0.683104</td>\n",
       "    </tr>\n",
       "    <tr>\n",
       "      <th>3</th>\n",
       "      <th>3</th>\n",
       "      <th>5</th>\n",
       "      <td>0.000052</td>\n",
       "      <td>0.000990</td>\n",
       "      <td>0.005577</td>\n",
       "      <td>0.007492</td>\n",
       "      <td>0.004512</td>\n",
       "      <td>0.001709</td>\n",
       "      <td>0.000602</td>\n",
       "      <td>0.000192</td>\n",
       "      <td>0.000045</td>\n",
       "      <td>0.000024</td>\n",
       "      <td>...</td>\n",
       "      <td>0.684386</td>\n",
       "      <td>0.685066</td>\n",
       "      <td>0.683596</td>\n",
       "      <td>0.683723</td>\n",
       "      <td>0.684183</td>\n",
       "      <td>0.684328</td>\n",
       "      <td>0.683982</td>\n",
       "      <td>0.683199</td>\n",
       "      <td>0.683741</td>\n",
       "      <td>0.683496</td>\n",
       "    </tr>\n",
       "    <tr>\n",
       "      <th>11</th>\n",
       "      <th>3</th>\n",
       "      <th>10</th>\n",
       "      <td>0.000042</td>\n",
       "      <td>0.000452</td>\n",
       "      <td>0.000954</td>\n",
       "      <td>0.001051</td>\n",
       "      <td>0.000518</td>\n",
       "      <td>0.000569</td>\n",
       "      <td>0.000533</td>\n",
       "      <td>0.000323</td>\n",
       "      <td>0.000296</td>\n",
       "      <td>0.000306</td>\n",
       "      <td>...</td>\n",
       "      <td>0.684231</td>\n",
       "      <td>0.684988</td>\n",
       "      <td>0.684215</td>\n",
       "      <td>0.684507</td>\n",
       "      <td>0.684945</td>\n",
       "      <td>0.684918</td>\n",
       "      <td>0.684578</td>\n",
       "      <td>0.685511</td>\n",
       "      <td>0.684433</td>\n",
       "      <td>0.684279</td>\n",
       "    </tr>\n",
       "    <tr>\n",
       "      <th>12</th>\n",
       "      <th>2</th>\n",
       "      <th>2</th>\n",
       "      <td>0.001472</td>\n",
       "      <td>0.002333</td>\n",
       "      <td>0.002836</td>\n",
       "      <td>0.001935</td>\n",
       "      <td>0.002303</td>\n",
       "      <td>0.003605</td>\n",
       "      <td>0.003672</td>\n",
       "      <td>0.002514</td>\n",
       "      <td>0.003084</td>\n",
       "      <td>0.003106</td>\n",
       "      <td>...</td>\n",
       "      <td>0.681952</td>\n",
       "      <td>0.682234</td>\n",
       "      <td>0.680857</td>\n",
       "      <td>0.681086</td>\n",
       "      <td>0.680220</td>\n",
       "      <td>0.682603</td>\n",
       "      <td>0.680384</td>\n",
       "      <td>0.682912</td>\n",
       "      <td>0.682397</td>\n",
       "      <td>0.682267</td>\n",
       "    </tr>\n",
       "    <tr>\n",
       "      <th>6</th>\n",
       "      <th>1</th>\n",
       "      <th>12</th>\n",
       "      <td>0.002084</td>\n",
       "      <td>0.009313</td>\n",
       "      <td>0.034888</td>\n",
       "      <td>0.038752</td>\n",
       "      <td>0.053693</td>\n",
       "      <td>0.053539</td>\n",
       "      <td>0.022970</td>\n",
       "      <td>0.010090</td>\n",
       "      <td>0.004948</td>\n",
       "      <td>0.009943</td>\n",
       "      <td>...</td>\n",
       "      <td>0.679582</td>\n",
       "      <td>0.679402</td>\n",
       "      <td>0.682288</td>\n",
       "      <td>0.682428</td>\n",
       "      <td>0.682942</td>\n",
       "      <td>0.685962</td>\n",
       "      <td>0.684435</td>\n",
       "      <td>0.683224</td>\n",
       "      <td>0.685342</td>\n",
       "      <td>0.686171</td>\n",
       "    </tr>\n",
       "  </tbody>\n",
       "</table>\n",
       "<p>216 rows × 5511 columns</p>\n",
       "</div>"
      ],
      "text/plain": [
       "                              0         1         2         3         4  \\\n",
       "id_user session video                                                     \n",
       "12      2       16     0.000008  0.000516  0.001592  0.001822  0.000997   \n",
       "2       2       21     0.000044  0.000083  0.000462  0.000881  0.000616   \n",
       "10      3       12     0.000004  0.000221  0.001332  0.001077  0.001250   \n",
       "4       2       13     0.000041  0.000582  0.001236  0.001804  0.001213   \n",
       "8       3       20     0.000019  0.000152  0.000867  0.000711  0.000663   \n",
       "...                         ...       ...       ...       ...       ...   \n",
       "15      3       4      0.000264  0.003635  0.011254  0.026212  0.034113   \n",
       "3       3       5      0.000052  0.000990  0.005577  0.007492  0.004512   \n",
       "11      3       10     0.000042  0.000452  0.000954  0.001051  0.000518   \n",
       "12      2       2      0.001472  0.002333  0.002836  0.001935  0.002303   \n",
       "6       1       12     0.002084  0.009313  0.034888  0.038752  0.053693   \n",
       "\n",
       "                              5         6         7         8         9  ...  \\\n",
       "id_user session video                                                    ...   \n",
       "12      2       16     0.000759  0.000655  0.000465  0.000272  0.000379  ...   \n",
       "2       2       21     0.000625  0.000695  0.000345  0.000285  0.000335  ...   \n",
       "10      3       12     0.001647  0.001343  0.001021  0.000802  0.001383  ...   \n",
       "4       2       13     0.001718  0.001550  0.000670  0.001938  0.002067  ...   \n",
       "8       3       20     0.001260  0.000807  0.000318  0.000180  0.000170  ...   \n",
       "...                         ...       ...       ...       ...       ...  ...   \n",
       "15      3       4      0.023178  0.020101  0.015724  0.013238  0.012309  ...   \n",
       "3       3       5      0.001709  0.000602  0.000192  0.000045  0.000024  ...   \n",
       "11      3       10     0.000569  0.000533  0.000323  0.000296  0.000306  ...   \n",
       "12      2       2      0.003605  0.003672  0.002514  0.003084  0.003106  ...   \n",
       "6       1       12     0.053539  0.022970  0.010090  0.004948  0.009943  ...   \n",
       "\n",
       "                           5501      5502      5503      5504      5505  \\\n",
       "id_user session video                                                     \n",
       "12      2       16     0.679390  0.679000  0.680738  0.681477  0.682194   \n",
       "2       2       21     0.680934  0.680750  0.681149  0.681431  0.683091   \n",
       "10      3       12     0.683215  0.683885  0.683958  0.681566  0.681321   \n",
       "4       2       13     0.685096  0.682800  0.681938  0.679263  0.680470   \n",
       "8       3       20     0.682209  0.681293  0.681397  0.682452  0.684373   \n",
       "...                         ...       ...       ...       ...       ...   \n",
       "15      3       4      0.683563  0.681009  0.681083  0.682396  0.681954   \n",
       "3       3       5      0.684386  0.685066  0.683596  0.683723  0.684183   \n",
       "11      3       10     0.684231  0.684988  0.684215  0.684507  0.684945   \n",
       "12      2       2      0.681952  0.682234  0.680857  0.681086  0.680220   \n",
       "6       1       12     0.679582  0.679402  0.682288  0.682428  0.682942   \n",
       "\n",
       "                           5506      5507      5508      5509      5510  \n",
       "id_user session video                                                    \n",
       "12      2       16     0.683832  0.684749  0.684386  0.685085  0.685086  \n",
       "2       2       21     0.681742  0.682150  0.682481  0.682143  0.680051  \n",
       "10      3       12     0.682477  0.682076  0.684267  0.684585  0.684663  \n",
       "4       2       13     0.675999  0.678645  0.681212  0.682752  0.679215  \n",
       "8       3       20     0.682326  0.680113  0.680362  0.681406  0.681989  \n",
       "...                         ...       ...       ...       ...       ...  \n",
       "15      3       4      0.679835  0.679746  0.680190  0.680423  0.683104  \n",
       "3       3       5      0.684328  0.683982  0.683199  0.683741  0.683496  \n",
       "11      3       10     0.684918  0.684578  0.685511  0.684433  0.684279  \n",
       "12      2       2      0.682603  0.680384  0.682912  0.682397  0.682267  \n",
       "6       1       12     0.685962  0.684435  0.683224  0.685342  0.686171  \n",
       "\n",
       "[216 rows x 5511 columns]"
      ]
     },
     "execution_count": 106,
     "metadata": {},
     "output_type": "execute_result"
    }
   ],
   "source": [
    "X_testSB"
   ]
  },
  {
   "cell_type": "markdown",
   "id": "b05f51fe",
   "metadata": {},
   "source": [
    "#### GradientBoostingClassifier"
   ]
  },
  {
   "cell_type": "code",
   "execution_count": 131,
   "id": "7ab0cedf",
   "metadata": {},
   "outputs": [],
   "source": [
    "clf = GradientBoostingClassifier(n_estimators=12, learning_rate=0.2, max_depth=3, random_state=24).fit(X_trainSB, y_trainSB)"
   ]
  },
  {
   "cell_type": "code",
   "execution_count": 132,
   "id": "472ce918",
   "metadata": {},
   "outputs": [
    {
     "data": {
      "text/plain": [
       "0.3611111111111111"
      ]
     },
     "execution_count": 132,
     "metadata": {},
     "output_type": "execute_result"
    }
   ],
   "source": [
    "clf.score(X_testSB, y_testSB)"
   ]
  },
  {
   "cell_type": "code",
   "execution_count": 133,
   "id": "62541b4a",
   "metadata": {},
   "outputs": [
    {
     "data": {
      "text/plain": [
       "0.9016203703703703"
      ]
     },
     "execution_count": 133,
     "metadata": {},
     "output_type": "execute_result"
    }
   ],
   "source": [
    "clf.score(X_trainSB, y_trainSB)"
   ]
  },
  {
   "cell_type": "code",
   "execution_count": 163,
   "id": "fe3dde2f",
   "metadata": {},
   "outputs": [],
   "source": [
    "rfc = RandomForestClassifier(n_estimators=10, max_depth=5,random_state=22).fit(X_trainSB, y_trainSB)"
   ]
  },
  {
   "cell_type": "code",
   "execution_count": 164,
   "id": "4091d4fb",
   "metadata": {},
   "outputs": [
    {
     "data": {
      "text/plain": [
       "0.33796296296296297"
      ]
     },
     "execution_count": 164,
     "metadata": {},
     "output_type": "execute_result"
    }
   ],
   "source": [
    "rfc.score(X_testSB, y_testSB)"
   ]
  },
  {
   "cell_type": "code",
   "execution_count": 165,
   "id": "4de909f3",
   "metadata": {},
   "outputs": [
    {
     "data": {
      "text/plain": [
       "0.6550925925925926"
      ]
     },
     "execution_count": 165,
     "metadata": {},
     "output_type": "execute_result"
    }
   ],
   "source": [
    "rfc.score(X_trainSB, y_trainSB)"
   ]
  },
  {
   "cell_type": "markdown",
   "id": "e9cfaed1",
   "metadata": {},
   "source": [
    "# GRADIENT BOOSTING ON ONE FEATURE\n",
    "### PSD"
   ]
  },
  {
   "cell_type": "code",
   "execution_count": 6,
   "id": "54e8aefd",
   "metadata": {},
   "outputs": [],
   "source": [
    "df = pd.read_csv(\"dataset_eeg_psds.csv\")\n",
    "df.drop(['Unnamed: 0'],axis=1, inplace=True)\n",
    "df = df.set_index(['id_user','session','video'])"
   ]
  },
  {
   "cell_type": "code",
   "execution_count": 167,
   "id": "52d22742",
   "metadata": {},
   "outputs": [
    {
     "data": {
      "text/html": [
       "<div>\n",
       "<style scoped>\n",
       "    .dataframe tbody tr th:only-of-type {\n",
       "        vertical-align: middle;\n",
       "    }\n",
       "\n",
       "    .dataframe tbody tr th {\n",
       "        vertical-align: top;\n",
       "    }\n",
       "\n",
       "    .dataframe thead th {\n",
       "        text-align: right;\n",
       "    }\n",
       "</style>\n",
       "<table border=\"1\" class=\"dataframe\">\n",
       "  <thead>\n",
       "    <tr style=\"text-align: right;\">\n",
       "      <th></th>\n",
       "      <th></th>\n",
       "      <th></th>\n",
       "      <th>0</th>\n",
       "      <th>1</th>\n",
       "      <th>2</th>\n",
       "      <th>3</th>\n",
       "      <th>4</th>\n",
       "      <th>5</th>\n",
       "      <th>6</th>\n",
       "      <th>7</th>\n",
       "      <th>8</th>\n",
       "      <th>9</th>\n",
       "      <th>...</th>\n",
       "      <th>2997</th>\n",
       "      <th>2998</th>\n",
       "      <th>2999</th>\n",
       "      <th>3000</th>\n",
       "      <th>3001</th>\n",
       "      <th>3002</th>\n",
       "      <th>3003</th>\n",
       "      <th>3004</th>\n",
       "      <th>3005</th>\n",
       "      <th>emotion</th>\n",
       "    </tr>\n",
       "    <tr>\n",
       "      <th>id_user</th>\n",
       "      <th>session</th>\n",
       "      <th>video</th>\n",
       "      <th></th>\n",
       "      <th></th>\n",
       "      <th></th>\n",
       "      <th></th>\n",
       "      <th></th>\n",
       "      <th></th>\n",
       "      <th></th>\n",
       "      <th></th>\n",
       "      <th></th>\n",
       "      <th></th>\n",
       "      <th></th>\n",
       "      <th></th>\n",
       "      <th></th>\n",
       "      <th></th>\n",
       "      <th></th>\n",
       "      <th></th>\n",
       "      <th></th>\n",
       "      <th></th>\n",
       "      <th></th>\n",
       "      <th></th>\n",
       "      <th></th>\n",
       "    </tr>\n",
       "  </thead>\n",
       "  <tbody>\n",
       "    <tr>\n",
       "      <th rowspan=\"5\" valign=\"top\">10</th>\n",
       "      <th rowspan=\"5\" valign=\"top\">1</th>\n",
       "      <th>1</th>\n",
       "      <td>0.952755</td>\n",
       "      <td>3.834360</td>\n",
       "      <td>10.721228</td>\n",
       "      <td>19.887183</td>\n",
       "      <td>25.824439</td>\n",
       "      <td>30.715281</td>\n",
       "      <td>14.928749</td>\n",
       "      <td>8.090955</td>\n",
       "      <td>13.951526</td>\n",
       "      <td>7.070147</td>\n",
       "      <td>...</td>\n",
       "      <td>-0.086706</td>\n",
       "      <td>-0.086706</td>\n",
       "      <td>-0.086706</td>\n",
       "      <td>-0.086706</td>\n",
       "      <td>-0.086706</td>\n",
       "      <td>-0.086706</td>\n",
       "      <td>-0.086706</td>\n",
       "      <td>-0.086706</td>\n",
       "      <td>-0.086706</td>\n",
       "      <td>1</td>\n",
       "    </tr>\n",
       "    <tr>\n",
       "      <th>2</th>\n",
       "      <td>2.393555</td>\n",
       "      <td>1.443329</td>\n",
       "      <td>11.871719</td>\n",
       "      <td>22.774562</td>\n",
       "      <td>18.887957</td>\n",
       "      <td>10.355057</td>\n",
       "      <td>17.133717</td>\n",
       "      <td>19.765291</td>\n",
       "      <td>21.365868</td>\n",
       "      <td>17.781661</td>\n",
       "      <td>...</td>\n",
       "      <td>-0.095146</td>\n",
       "      <td>-0.095146</td>\n",
       "      <td>-0.095146</td>\n",
       "      <td>-0.095146</td>\n",
       "      <td>-0.095146</td>\n",
       "      <td>-0.095146</td>\n",
       "      <td>-0.095146</td>\n",
       "      <td>-0.095146</td>\n",
       "      <td>-0.095146</td>\n",
       "      <td>2</td>\n",
       "    </tr>\n",
       "    <tr>\n",
       "      <th>3</th>\n",
       "      <td>1.489037</td>\n",
       "      <td>7.202926</td>\n",
       "      <td>20.856213</td>\n",
       "      <td>29.713532</td>\n",
       "      <td>24.614091</td>\n",
       "      <td>8.567110</td>\n",
       "      <td>5.005052</td>\n",
       "      <td>9.369096</td>\n",
       "      <td>15.508441</td>\n",
       "      <td>11.682358</td>\n",
       "      <td>...</td>\n",
       "      <td>-0.092203</td>\n",
       "      <td>-0.092203</td>\n",
       "      <td>-0.092203</td>\n",
       "      <td>-0.092203</td>\n",
       "      <td>-0.092203</td>\n",
       "      <td>-0.092203</td>\n",
       "      <td>-0.092203</td>\n",
       "      <td>-0.092203</td>\n",
       "      <td>-0.092203</td>\n",
       "      <td>3</td>\n",
       "    </tr>\n",
       "    <tr>\n",
       "      <th>4</th>\n",
       "      <td>0.905984</td>\n",
       "      <td>3.543481</td>\n",
       "      <td>11.645386</td>\n",
       "      <td>20.604895</td>\n",
       "      <td>23.629156</td>\n",
       "      <td>16.567218</td>\n",
       "      <td>11.142225</td>\n",
       "      <td>11.079863</td>\n",
       "      <td>14.100062</td>\n",
       "      <td>17.095886</td>\n",
       "      <td>...</td>\n",
       "      <td>-0.107096</td>\n",
       "      <td>-0.107096</td>\n",
       "      <td>-0.107096</td>\n",
       "      <td>-0.107096</td>\n",
       "      <td>-0.107096</td>\n",
       "      <td>-0.107096</td>\n",
       "      <td>-0.107096</td>\n",
       "      <td>-0.107096</td>\n",
       "      <td>-0.107096</td>\n",
       "      <td>0</td>\n",
       "    </tr>\n",
       "    <tr>\n",
       "      <th>5</th>\n",
       "      <td>1.370372</td>\n",
       "      <td>4.415421</td>\n",
       "      <td>21.411094</td>\n",
       "      <td>33.434142</td>\n",
       "      <td>21.845199</td>\n",
       "      <td>16.761699</td>\n",
       "      <td>16.284967</td>\n",
       "      <td>9.088370</td>\n",
       "      <td>4.955161</td>\n",
       "      <td>8.809823</td>\n",
       "      <td>...</td>\n",
       "      <td>-0.078886</td>\n",
       "      <td>-0.078886</td>\n",
       "      <td>-0.078886</td>\n",
       "      <td>-0.078886</td>\n",
       "      <td>-0.078886</td>\n",
       "      <td>-0.078886</td>\n",
       "      <td>-0.078886</td>\n",
       "      <td>-0.078886</td>\n",
       "      <td>-0.078886</td>\n",
       "      <td>2</td>\n",
       "    </tr>\n",
       "    <tr>\n",
       "      <th>...</th>\n",
       "      <th>...</th>\n",
       "      <th>...</th>\n",
       "      <td>...</td>\n",
       "      <td>...</td>\n",
       "      <td>...</td>\n",
       "      <td>...</td>\n",
       "      <td>...</td>\n",
       "      <td>...</td>\n",
       "      <td>...</td>\n",
       "      <td>...</td>\n",
       "      <td>...</td>\n",
       "      <td>...</td>\n",
       "      <td>...</td>\n",
       "      <td>...</td>\n",
       "      <td>...</td>\n",
       "      <td>...</td>\n",
       "      <td>...</td>\n",
       "      <td>...</td>\n",
       "      <td>...</td>\n",
       "      <td>...</td>\n",
       "      <td>...</td>\n",
       "      <td>...</td>\n",
       "      <td>...</td>\n",
       "    </tr>\n",
       "    <tr>\n",
       "      <th rowspan=\"5\" valign=\"top\">9</th>\n",
       "      <th rowspan=\"5\" valign=\"top\">3</th>\n",
       "      <th>20</th>\n",
       "      <td>0.457711</td>\n",
       "      <td>3.349578</td>\n",
       "      <td>17.589614</td>\n",
       "      <td>16.559618</td>\n",
       "      <td>6.258637</td>\n",
       "      <td>25.875669</td>\n",
       "      <td>25.595647</td>\n",
       "      <td>5.699863</td>\n",
       "      <td>15.477017</td>\n",
       "      <td>20.101218</td>\n",
       "      <td>...</td>\n",
       "      <td>-0.100242</td>\n",
       "      <td>-0.100242</td>\n",
       "      <td>-0.100242</td>\n",
       "      <td>-0.100242</td>\n",
       "      <td>-0.100242</td>\n",
       "      <td>-0.100242</td>\n",
       "      <td>-0.100242</td>\n",
       "      <td>-0.100242</td>\n",
       "      <td>-0.100242</td>\n",
       "      <td>0</td>\n",
       "    </tr>\n",
       "    <tr>\n",
       "      <th>21</th>\n",
       "      <td>0.644106</td>\n",
       "      <td>1.202051</td>\n",
       "      <td>5.968025</td>\n",
       "      <td>14.754987</td>\n",
       "      <td>23.375220</td>\n",
       "      <td>28.982387</td>\n",
       "      <td>17.146680</td>\n",
       "      <td>5.808435</td>\n",
       "      <td>5.575698</td>\n",
       "      <td>6.014293</td>\n",
       "      <td>...</td>\n",
       "      <td>-0.109461</td>\n",
       "      <td>-0.109461</td>\n",
       "      <td>-0.109461</td>\n",
       "      <td>-0.109461</td>\n",
       "      <td>-0.109461</td>\n",
       "      <td>-0.109461</td>\n",
       "      <td>-0.109461</td>\n",
       "      <td>-0.109461</td>\n",
       "      <td>-0.109461</td>\n",
       "      <td>2</td>\n",
       "    </tr>\n",
       "    <tr>\n",
       "      <th>22</th>\n",
       "      <td>0.540826</td>\n",
       "      <td>2.809283</td>\n",
       "      <td>8.986773</td>\n",
       "      <td>21.860166</td>\n",
       "      <td>20.385859</td>\n",
       "      <td>7.608486</td>\n",
       "      <td>10.691958</td>\n",
       "      <td>5.785502</td>\n",
       "      <td>14.618375</td>\n",
       "      <td>13.320158</td>\n",
       "      <td>...</td>\n",
       "      <td>-0.134824</td>\n",
       "      <td>-0.134824</td>\n",
       "      <td>-0.134824</td>\n",
       "      <td>-0.134824</td>\n",
       "      <td>-0.134824</td>\n",
       "      <td>-0.134824</td>\n",
       "      <td>-0.134824</td>\n",
       "      <td>-0.134824</td>\n",
       "      <td>-0.134824</td>\n",
       "      <td>0</td>\n",
       "    </tr>\n",
       "    <tr>\n",
       "      <th>23</th>\n",
       "      <td>2.890024</td>\n",
       "      <td>9.788639</td>\n",
       "      <td>22.987859</td>\n",
       "      <td>20.691225</td>\n",
       "      <td>21.647931</td>\n",
       "      <td>15.249477</td>\n",
       "      <td>17.169880</td>\n",
       "      <td>8.146258</td>\n",
       "      <td>14.209363</td>\n",
       "      <td>14.635962</td>\n",
       "      <td>...</td>\n",
       "      <td>-0.099847</td>\n",
       "      <td>-0.099847</td>\n",
       "      <td>-0.099847</td>\n",
       "      <td>-0.099847</td>\n",
       "      <td>-0.099847</td>\n",
       "      <td>-0.099847</td>\n",
       "      <td>-0.099847</td>\n",
       "      <td>-0.099847</td>\n",
       "      <td>-0.099847</td>\n",
       "      <td>1</td>\n",
       "    </tr>\n",
       "    <tr>\n",
       "      <th>24</th>\n",
       "      <td>0.471703</td>\n",
       "      <td>4.913602</td>\n",
       "      <td>3.242203</td>\n",
       "      <td>9.858747</td>\n",
       "      <td>9.511241</td>\n",
       "      <td>3.831531</td>\n",
       "      <td>7.480618</td>\n",
       "      <td>16.649001</td>\n",
       "      <td>22.263723</td>\n",
       "      <td>24.623149</td>\n",
       "      <td>...</td>\n",
       "      <td>-0.100633</td>\n",
       "      <td>-0.100633</td>\n",
       "      <td>-0.100633</td>\n",
       "      <td>-0.100633</td>\n",
       "      <td>-0.100633</td>\n",
       "      <td>-0.100633</td>\n",
       "      <td>-0.100633</td>\n",
       "      <td>-0.100633</td>\n",
       "      <td>-0.100633</td>\n",
       "      <td>0</td>\n",
       "    </tr>\n",
       "  </tbody>\n",
       "</table>\n",
       "<p>1080 rows × 3007 columns</p>\n",
       "</div>"
      ],
      "text/plain": [
       "                              0         1          2          3          4  \\\n",
       "id_user session video                                                        \n",
       "10      1       1      0.952755  3.834360  10.721228  19.887183  25.824439   \n",
       "                2      2.393555  1.443329  11.871719  22.774562  18.887957   \n",
       "                3      1.489037  7.202926  20.856213  29.713532  24.614091   \n",
       "                4      0.905984  3.543481  11.645386  20.604895  23.629156   \n",
       "                5      1.370372  4.415421  21.411094  33.434142  21.845199   \n",
       "...                         ...       ...        ...        ...        ...   \n",
       "9       3       20     0.457711  3.349578  17.589614  16.559618   6.258637   \n",
       "                21     0.644106  1.202051   5.968025  14.754987  23.375220   \n",
       "                22     0.540826  2.809283   8.986773  21.860166  20.385859   \n",
       "                23     2.890024  9.788639  22.987859  20.691225  21.647931   \n",
       "                24     0.471703  4.913602   3.242203   9.858747   9.511241   \n",
       "\n",
       "                               5          6          7          8          9  \\\n",
       "id_user session video                                                          \n",
       "10      1       1      30.715281  14.928749   8.090955  13.951526   7.070147   \n",
       "                2      10.355057  17.133717  19.765291  21.365868  17.781661   \n",
       "                3       8.567110   5.005052   9.369096  15.508441  11.682358   \n",
       "                4      16.567218  11.142225  11.079863  14.100062  17.095886   \n",
       "                5      16.761699  16.284967   9.088370   4.955161   8.809823   \n",
       "...                          ...        ...        ...        ...        ...   \n",
       "9       3       20     25.875669  25.595647   5.699863  15.477017  20.101218   \n",
       "                21     28.982387  17.146680   5.808435   5.575698   6.014293   \n",
       "                22      7.608486  10.691958   5.785502  14.618375  13.320158   \n",
       "                23     15.249477  17.169880   8.146258  14.209363  14.635962   \n",
       "                24      3.831531   7.480618  16.649001  22.263723  24.623149   \n",
       "\n",
       "                       ...      2997      2998      2999      3000      3001  \\\n",
       "id_user session video  ...                                                     \n",
       "10      1       1      ... -0.086706 -0.086706 -0.086706 -0.086706 -0.086706   \n",
       "                2      ... -0.095146 -0.095146 -0.095146 -0.095146 -0.095146   \n",
       "                3      ... -0.092203 -0.092203 -0.092203 -0.092203 -0.092203   \n",
       "                4      ... -0.107096 -0.107096 -0.107096 -0.107096 -0.107096   \n",
       "                5      ... -0.078886 -0.078886 -0.078886 -0.078886 -0.078886   \n",
       "...                    ...       ...       ...       ...       ...       ...   \n",
       "9       3       20     ... -0.100242 -0.100242 -0.100242 -0.100242 -0.100242   \n",
       "                21     ... -0.109461 -0.109461 -0.109461 -0.109461 -0.109461   \n",
       "                22     ... -0.134824 -0.134824 -0.134824 -0.134824 -0.134824   \n",
       "                23     ... -0.099847 -0.099847 -0.099847 -0.099847 -0.099847   \n",
       "                24     ... -0.100633 -0.100633 -0.100633 -0.100633 -0.100633   \n",
       "\n",
       "                           3002      3003      3004      3005  emotion  \n",
       "id_user session video                                                   \n",
       "10      1       1     -0.086706 -0.086706 -0.086706 -0.086706        1  \n",
       "                2     -0.095146 -0.095146 -0.095146 -0.095146        2  \n",
       "                3     -0.092203 -0.092203 -0.092203 -0.092203        3  \n",
       "                4     -0.107096 -0.107096 -0.107096 -0.107096        0  \n",
       "                5     -0.078886 -0.078886 -0.078886 -0.078886        2  \n",
       "...                         ...       ...       ...       ...      ...  \n",
       "9       3       20    -0.100242 -0.100242 -0.100242 -0.100242        0  \n",
       "                21    -0.109461 -0.109461 -0.109461 -0.109461        2  \n",
       "                22    -0.134824 -0.134824 -0.134824 -0.134824        0  \n",
       "                23    -0.099847 -0.099847 -0.099847 -0.099847        1  \n",
       "                24    -0.100633 -0.100633 -0.100633 -0.100633        0  \n",
       "\n",
       "[1080 rows x 3007 columns]"
      ]
     },
     "execution_count": 167,
     "metadata": {},
     "output_type": "execute_result"
    }
   ],
   "source": [
    "df"
   ]
  },
  {
   "cell_type": "markdown",
   "id": "e048af0f",
   "metadata": {},
   "source": [
    "## DEPENDENCY"
   ]
  },
  {
   "cell_type": "code",
   "execution_count": 7,
   "id": "d031684a",
   "metadata": {
    "scrolled": false
   },
   "outputs": [
    {
     "name": "stdout",
     "output_type": "stream",
     "text": [
      "[18  2 16  5  3 12 20 22]\n",
      "[2 3 1 0]\n"
     ]
    }
   ],
   "source": [
    "X_trainSD,y_trainSD,X_testSD,y_testSD = split_sub_dep(df)"
   ]
  },
  {
   "cell_type": "code",
   "execution_count": 224,
   "id": "5004d5de",
   "metadata": {},
   "outputs": [],
   "source": [
    "clfSD = GradientBoostingClassifier(n_estimators=20, learning_rate=0.2, max_depth=2,random_state=22).fit(X_trainSD, y_trainSD)"
   ]
  },
  {
   "cell_type": "code",
   "execution_count": 225,
   "id": "e778f77c",
   "metadata": {},
   "outputs": [
    {
     "data": {
      "text/plain": [
       "0.8915032679738563"
      ]
     },
     "execution_count": 225,
     "metadata": {},
     "output_type": "execute_result"
    }
   ],
   "source": [
    "clfSD.score(X_trainSD, y_trainSD)"
   ]
  },
  {
   "cell_type": "code",
   "execution_count": 226,
   "id": "312ec7cd",
   "metadata": {},
   "outputs": [
    {
     "data": {
      "text/plain": [
       "0.25396825396825395"
      ]
     },
     "execution_count": 226,
     "metadata": {},
     "output_type": "execute_result"
    }
   ],
   "source": [
    "clfSD.score(X_testSD, y_testSD)"
   ]
  },
  {
   "cell_type": "code",
   "execution_count": 186,
   "id": "a8f93530",
   "metadata": {},
   "outputs": [],
   "source": [
    "y_pred = clfSD.predict(X_testSD)"
   ]
  },
  {
   "cell_type": "code",
   "execution_count": 187,
   "id": "edd76c1a",
   "metadata": {},
   "outputs": [
    {
     "name": "stdout",
     "output_type": "stream",
     "text": [
      "              precision    recall  f1-score   support\n",
      "\n",
      "           0       0.41      0.20      0.27       120\n",
      "           1       0.18      0.13      0.15        75\n",
      "           2       0.16      0.67      0.26        30\n",
      "           3       0.33      0.29      0.31        90\n",
      "\n",
      "    accuracy                           0.25       315\n",
      "   macro avg       0.27      0.32      0.25       315\n",
      "weighted avg       0.31      0.25      0.25       315\n",
      "\n"
     ]
    }
   ],
   "source": [
    "print(classification_report(y_testSD,y_pred))"
   ]
  },
  {
   "cell_type": "code",
   "execution_count": 262,
   "id": "a3038c4d",
   "metadata": {},
   "outputs": [],
   "source": [
    "rfc = RandomForestClassifier(n_estimators=30, max_depth=6,random_state=42).fit(X_trainSD, y_trainSD)"
   ]
  },
  {
   "cell_type": "code",
   "execution_count": 263,
   "id": "53fc6ac7",
   "metadata": {},
   "outputs": [
    {
     "data": {
      "text/plain": [
       "0.8061728395061728"
      ]
     },
     "execution_count": 263,
     "metadata": {},
     "output_type": "execute_result"
    }
   ],
   "source": [
    "rfc.score(X_trainSD, y_trainSD)"
   ]
  },
  {
   "cell_type": "code",
   "execution_count": 264,
   "id": "8ba113a7",
   "metadata": {},
   "outputs": [
    {
     "data": {
      "text/plain": [
       "0.24074074074074073"
      ]
     },
     "execution_count": 264,
     "metadata": {},
     "output_type": "execute_result"
    }
   ],
   "source": [
    "rfc.score(X_testSD, y_testSD)"
   ]
  },
  {
   "cell_type": "markdown",
   "id": "cda2dfce",
   "metadata": {},
   "source": [
    "## INDIPENDENCY"
   ]
  },
  {
   "cell_type": "code",
   "execution_count": 265,
   "id": "66a9fe66",
   "metadata": {},
   "outputs": [],
   "source": [
    "X_SI,y_SI,groups = SubjectIndipendent_GBC(df)"
   ]
  },
  {
   "cell_type": "code",
   "execution_count": 46,
   "id": "fb0af896",
   "metadata": {
    "scrolled": true
   },
   "outputs": [
    {
     "name": "stderr",
     "output_type": "stream",
     "text": [
      "[Parallel(n_jobs=-1)]: Using backend LokyBackend with 6 concurrent workers.\n",
      "[Parallel(n_jobs=-1)]: Done  15 out of  15 | elapsed:  5.6min finished\n"
     ]
    },
    {
     "name": "stdout",
     "output_type": "stream",
     "text": [
      "0.31851851851851853\n"
     ]
    }
   ],
   "source": [
    "model = GradientBoostingClassifier(n_estimators=20, learning_rate=1, max_depth=15, random_state=0)\n",
    "logo = LeaveOneGroupOut()\n",
    "logo.get_n_splits(X_SI, y_SI, groups)\n",
    "scores = cross_val_score(model, X_SI, y_SI, cv=logo, verbose=1 , groups = groups, n_jobs = -1)\n",
    "print(scores.mean())"
   ]
  },
  {
   "cell_type": "code",
   "execution_count": 266,
   "id": "2448c4ce",
   "metadata": {
    "scrolled": true
   },
   "outputs": [
    {
     "name": "stderr",
     "output_type": "stream",
     "text": [
      "[Parallel(n_jobs=-1)]: Using backend LokyBackend with 6 concurrent workers.\n",
      "[Parallel(n_jobs=-1)]: Done  15 out of  15 | elapsed:    3.1s finished\n"
     ]
    },
    {
     "name": "stdout",
     "output_type": "stream",
     "text": [
      "0.32500000000000007\n"
     ]
    }
   ],
   "source": [
    "model = RandomForestClassifier(n_estimators=30, max_depth=6,random_state=42)\n",
    "logo = LeaveOneGroupOut()\n",
    "logo.get_n_splits(X_SI, y_SI, groups)\n",
    "scores = cross_val_score(model, X_SI, y_SI, cv=logo, verbose=1 , groups = groups, n_jobs = -1)\n",
    "print(scores.mean())"
   ]
  },
  {
   "cell_type": "markdown",
   "id": "a1bf31b7",
   "metadata": {},
   "source": [
    "## BIAS"
   ]
  },
  {
   "cell_type": "code",
   "execution_count": 275,
   "id": "98f3a7a2",
   "metadata": {},
   "outputs": [],
   "source": [
    "X_trainSB, X_testSB, y_trainSB, y_testSB = train_test_split(df.drop('emotion',axis=1), df.emotion, test_size=0.20, random_state=42)"
   ]
  },
  {
   "cell_type": "code",
   "execution_count": 280,
   "id": "acde3260",
   "metadata": {},
   "outputs": [],
   "source": [
    "clf = GradientBoostingClassifier(n_estimators=10, learning_rate=0.1, max_depth=3, random_state=0).fit(X_trainSB, y_trainSB)"
   ]
  },
  {
   "cell_type": "code",
   "execution_count": 281,
   "id": "7f7a2ea2",
   "metadata": {},
   "outputs": [
    {
     "data": {
      "text/plain": [
       "0.28703703703703703"
      ]
     },
     "execution_count": 281,
     "metadata": {},
     "output_type": "execute_result"
    }
   ],
   "source": [
    "clf.score(X_testSB, y_testSB)"
   ]
  },
  {
   "cell_type": "code",
   "execution_count": 282,
   "id": "b3c192d8",
   "metadata": {},
   "outputs": [
    {
     "data": {
      "text/plain": [
       "0.7604166666666666"
      ]
     },
     "execution_count": 282,
     "metadata": {},
     "output_type": "execute_result"
    }
   ],
   "source": [
    "clf.score(X_trainSB, y_trainSB)"
   ]
  },
  {
   "cell_type": "code",
   "execution_count": 270,
   "id": "085ec589",
   "metadata": {},
   "outputs": [],
   "source": [
    "rfc = RandomForestClassifier(n_estimators=30, max_depth=6,random_state=42).fit(X_trainSB, y_trainSB)"
   ]
  },
  {
   "cell_type": "code",
   "execution_count": 271,
   "id": "6e6e9f1d",
   "metadata": {},
   "outputs": [
    {
     "data": {
      "text/plain": [
       "0.3472222222222222"
      ]
     },
     "execution_count": 271,
     "metadata": {},
     "output_type": "execute_result"
    }
   ],
   "source": [
    "rfc.score(X_testSB,y_testSB)"
   ]
  },
  {
   "cell_type": "code",
   "execution_count": 278,
   "id": "65b22984",
   "metadata": {},
   "outputs": [
    {
     "data": {
      "text/plain": [
       "0.8067129629629629"
      ]
     },
     "execution_count": 278,
     "metadata": {},
     "output_type": "execute_result"
    }
   ],
   "source": [
    "rfc.score(X_trainSB,y_trainSB)"
   ]
  },
  {
   "cell_type": "markdown",
   "id": "4fed1b81",
   "metadata": {},
   "source": [
    "# GRADIENT BOOSTING ON ONE FEATURE\n",
    "### DE"
   ]
  },
  {
   "cell_type": "code",
   "execution_count": 39,
   "id": "43720c21",
   "metadata": {},
   "outputs": [],
   "source": [
    "df = pd.read_csv(\"dataset_eeg_des.csv\")\n",
    "df.drop(['Unnamed: 0'],axis=1, inplace=True)\n",
    "df = df.set_index(['id_user','session','video'])"
   ]
  },
  {
   "cell_type": "code",
   "execution_count": 284,
   "id": "4f95d2c8",
   "metadata": {
    "scrolled": true
   },
   "outputs": [
    {
     "data": {
      "text/html": [
       "<div>\n",
       "<style scoped>\n",
       "    .dataframe tbody tr th:only-of-type {\n",
       "        vertical-align: middle;\n",
       "    }\n",
       "\n",
       "    .dataframe tbody tr th {\n",
       "        vertical-align: top;\n",
       "    }\n",
       "\n",
       "    .dataframe thead th {\n",
       "        text-align: right;\n",
       "    }\n",
       "</style>\n",
       "<table border=\"1\" class=\"dataframe\">\n",
       "  <thead>\n",
       "    <tr style=\"text-align: right;\">\n",
       "      <th></th>\n",
       "      <th></th>\n",
       "      <th></th>\n",
       "      <th>0</th>\n",
       "      <th>1</th>\n",
       "      <th>2</th>\n",
       "      <th>3</th>\n",
       "      <th>4</th>\n",
       "      <th>5</th>\n",
       "      <th>6</th>\n",
       "      <th>7</th>\n",
       "      <th>8</th>\n",
       "      <th>9</th>\n",
       "      <th>...</th>\n",
       "      <th>492</th>\n",
       "      <th>493</th>\n",
       "      <th>494</th>\n",
       "      <th>495</th>\n",
       "      <th>496</th>\n",
       "      <th>497</th>\n",
       "      <th>498</th>\n",
       "      <th>499</th>\n",
       "      <th>500</th>\n",
       "      <th>emotion</th>\n",
       "    </tr>\n",
       "    <tr>\n",
       "      <th>id_user</th>\n",
       "      <th>session</th>\n",
       "      <th>video</th>\n",
       "      <th></th>\n",
       "      <th></th>\n",
       "      <th></th>\n",
       "      <th></th>\n",
       "      <th></th>\n",
       "      <th></th>\n",
       "      <th></th>\n",
       "      <th></th>\n",
       "      <th></th>\n",
       "      <th></th>\n",
       "      <th></th>\n",
       "      <th></th>\n",
       "      <th></th>\n",
       "      <th></th>\n",
       "      <th></th>\n",
       "      <th></th>\n",
       "      <th></th>\n",
       "      <th></th>\n",
       "      <th></th>\n",
       "      <th></th>\n",
       "      <th></th>\n",
       "    </tr>\n",
       "  </thead>\n",
       "  <tbody>\n",
       "    <tr>\n",
       "      <th rowspan=\"5\" valign=\"top\">10</th>\n",
       "      <th rowspan=\"5\" valign=\"top\">1</th>\n",
       "      <th>1</th>\n",
       "      <td>2.135436</td>\n",
       "      <td>2.887686</td>\n",
       "      <td>3.465504</td>\n",
       "      <td>3.810436</td>\n",
       "      <td>3.955764</td>\n",
       "      <td>4.053275</td>\n",
       "      <td>3.646478</td>\n",
       "      <td>3.300221</td>\n",
       "      <td>3.606062</td>\n",
       "      <td>3.223825</td>\n",
       "      <td>...</td>\n",
       "      <td>-1.011859</td>\n",
       "      <td>-1.020659</td>\n",
       "      <td>-0.602725</td>\n",
       "      <td>-0.584323</td>\n",
       "      <td>-0.602491</td>\n",
       "      <td>-0.579400</td>\n",
       "      <td>-1.200410</td>\n",
       "      <td>-0.910379</td>\n",
       "      <td>-1.369580</td>\n",
       "      <td>1</td>\n",
       "    </tr>\n",
       "    <tr>\n",
       "      <th>2</th>\n",
       "      <td>2.549241</td>\n",
       "      <td>2.254038</td>\n",
       "      <td>3.489210</td>\n",
       "      <td>3.876865</td>\n",
       "      <td>3.767604</td>\n",
       "      <td>3.407996</td>\n",
       "      <td>3.706311</td>\n",
       "      <td>3.790671</td>\n",
       "      <td>3.835916</td>\n",
       "      <td>3.726078</td>\n",
       "      <td>...</td>\n",
       "      <td>-0.654046</td>\n",
       "      <td>-0.287855</td>\n",
       "      <td>-0.064083</td>\n",
       "      <td>-0.382718</td>\n",
       "      <td>-0.854156</td>\n",
       "      <td>-0.538963</td>\n",
       "      <td>-0.978321</td>\n",
       "      <td>-0.520367</td>\n",
       "      <td>-1.108300</td>\n",
       "      <td>2</td>\n",
       "    </tr>\n",
       "    <tr>\n",
       "      <th>3</th>\n",
       "      <td>2.436902</td>\n",
       "      <td>3.456774</td>\n",
       "      <td>4.163457</td>\n",
       "      <td>4.401829</td>\n",
       "      <td>4.272075</td>\n",
       "      <td>3.567253</td>\n",
       "      <td>3.214838</td>\n",
       "      <td>3.632954</td>\n",
       "      <td>3.966298</td>\n",
       "      <td>3.774067</td>\n",
       "      <td>...</td>\n",
       "      <td>-0.102593</td>\n",
       "      <td>-0.080281</td>\n",
       "      <td>-0.138853</td>\n",
       "      <td>0.001005</td>\n",
       "      <td>-0.083322</td>\n",
       "      <td>-0.067288</td>\n",
       "      <td>-0.063967</td>\n",
       "      <td>0.042125</td>\n",
       "      <td>-0.123110</td>\n",
       "      <td>3</td>\n",
       "    </tr>\n",
       "    <tr>\n",
       "      <th>4</th>\n",
       "      <td>1.841611</td>\n",
       "      <td>2.513253</td>\n",
       "      <td>3.124816</td>\n",
       "      <td>3.421180</td>\n",
       "      <td>3.492676</td>\n",
       "      <td>3.306529</td>\n",
       "      <td>3.099885</td>\n",
       "      <td>3.100102</td>\n",
       "      <td>3.221046</td>\n",
       "      <td>3.320871</td>\n",
       "      <td>...</td>\n",
       "      <td>-0.990079</td>\n",
       "      <td>-0.927056</td>\n",
       "      <td>-0.745584</td>\n",
       "      <td>-0.978420</td>\n",
       "      <td>-1.031638</td>\n",
       "      <td>-0.682465</td>\n",
       "      <td>-0.665910</td>\n",
       "      <td>-1.033460</td>\n",
       "      <td>-1.373817</td>\n",
       "      <td>0</td>\n",
       "    </tr>\n",
       "    <tr>\n",
       "      <th>5</th>\n",
       "      <td>2.320207</td>\n",
       "      <td>2.961560</td>\n",
       "      <td>3.857012</td>\n",
       "      <td>4.111162</td>\n",
       "      <td>3.868319</td>\n",
       "      <td>3.717754</td>\n",
       "      <td>3.698447</td>\n",
       "      <td>3.367067</td>\n",
       "      <td>3.021535</td>\n",
       "      <td>3.351307</td>\n",
       "      <td>...</td>\n",
       "      <td>-0.247413</td>\n",
       "      <td>-0.758625</td>\n",
       "      <td>-1.643860</td>\n",
       "      <td>-1.252678</td>\n",
       "      <td>-0.605932</td>\n",
       "      <td>-0.750933</td>\n",
       "      <td>-1.202377</td>\n",
       "      <td>-0.686867</td>\n",
       "      <td>-1.160245</td>\n",
       "      <td>2</td>\n",
       "    </tr>\n",
       "    <tr>\n",
       "      <th>...</th>\n",
       "      <th>...</th>\n",
       "      <th>...</th>\n",
       "      <td>...</td>\n",
       "      <td>...</td>\n",
       "      <td>...</td>\n",
       "      <td>...</td>\n",
       "      <td>...</td>\n",
       "      <td>...</td>\n",
       "      <td>...</td>\n",
       "      <td>...</td>\n",
       "      <td>...</td>\n",
       "      <td>...</td>\n",
       "      <td>...</td>\n",
       "      <td>...</td>\n",
       "      <td>...</td>\n",
       "      <td>...</td>\n",
       "      <td>...</td>\n",
       "      <td>...</td>\n",
       "      <td>...</td>\n",
       "      <td>...</td>\n",
       "      <td>...</td>\n",
       "      <td>...</td>\n",
       "      <td>...</td>\n",
       "    </tr>\n",
       "    <tr>\n",
       "      <th rowspan=\"5\" valign=\"top\">9</th>\n",
       "      <th rowspan=\"5\" valign=\"top\">3</th>\n",
       "      <th>20</th>\n",
       "      <td>1.398441</td>\n",
       "      <td>2.604782</td>\n",
       "      <td>3.687751</td>\n",
       "      <td>3.648057</td>\n",
       "      <td>3.009953</td>\n",
       "      <td>3.942856</td>\n",
       "      <td>3.935395</td>\n",
       "      <td>2.950334</td>\n",
       "      <td>3.604765</td>\n",
       "      <td>3.776026</td>\n",
       "      <td>...</td>\n",
       "      <td>-0.389243</td>\n",
       "      <td>-0.347923</td>\n",
       "      <td>-0.460666</td>\n",
       "      <td>-0.483391</td>\n",
       "      <td>-0.797307</td>\n",
       "      <td>-0.593601</td>\n",
       "      <td>-0.401147</td>\n",
       "      <td>-0.498099</td>\n",
       "      <td>-0.751132</td>\n",
       "      <td>0</td>\n",
       "    </tr>\n",
       "    <tr>\n",
       "      <th>21</th>\n",
       "      <td>1.571485</td>\n",
       "      <td>1.894192</td>\n",
       "      <td>2.786308</td>\n",
       "      <td>3.305627</td>\n",
       "      <td>3.571761</td>\n",
       "      <td>3.696536</td>\n",
       "      <td>3.393062</td>\n",
       "      <td>2.770488</td>\n",
       "      <td>2.746998</td>\n",
       "      <td>2.790538</td>\n",
       "      <td>...</td>\n",
       "      <td>-0.804578</td>\n",
       "      <td>-1.045797</td>\n",
       "      <td>-1.104529</td>\n",
       "      <td>-0.949304</td>\n",
       "      <td>-0.719607</td>\n",
       "      <td>-0.668664</td>\n",
       "      <td>-0.650504</td>\n",
       "      <td>-0.838495</td>\n",
       "      <td>-1.361561</td>\n",
       "      <td>2</td>\n",
       "    </tr>\n",
       "    <tr>\n",
       "      <th>22</th>\n",
       "      <td>1.270886</td>\n",
       "      <td>2.200624</td>\n",
       "      <td>2.915375</td>\n",
       "      <td>3.471395</td>\n",
       "      <td>3.427353</td>\n",
       "      <td>2.811443</td>\n",
       "      <td>3.023582</td>\n",
       "      <td>2.642579</td>\n",
       "      <td>3.219103</td>\n",
       "      <td>3.161054</td>\n",
       "      <td>...</td>\n",
       "      <td>-0.531922</td>\n",
       "      <td>-0.662631</td>\n",
       "      <td>-0.867511</td>\n",
       "      <td>-1.125926</td>\n",
       "      <td>-0.903615</td>\n",
       "      <td>-1.054831</td>\n",
       "      <td>-0.916811</td>\n",
       "      <td>-1.142544</td>\n",
       "      <td>-1.251611</td>\n",
       "      <td>0</td>\n",
       "    </tr>\n",
       "    <tr>\n",
       "      <th>23</th>\n",
       "      <td>2.621798</td>\n",
       "      <td>3.373337</td>\n",
       "      <td>3.905828</td>\n",
       "      <td>3.839850</td>\n",
       "      <td>3.868095</td>\n",
       "      <td>3.649109</td>\n",
       "      <td>3.723545</td>\n",
       "      <td>3.259310</td>\n",
       "      <td>3.605300</td>\n",
       "      <td>3.623675</td>\n",
       "      <td>...</td>\n",
       "      <td>-0.544234</td>\n",
       "      <td>-0.343033</td>\n",
       "      <td>-0.551949</td>\n",
       "      <td>-0.976702</td>\n",
       "      <td>-1.112032</td>\n",
       "      <td>-0.834240</td>\n",
       "      <td>-0.739685</td>\n",
       "      <td>-0.623760</td>\n",
       "      <td>-1.128035</td>\n",
       "      <td>1</td>\n",
       "    </tr>\n",
       "    <tr>\n",
       "      <th>24</th>\n",
       "      <td>1.494128</td>\n",
       "      <td>3.076038</td>\n",
       "      <td>2.783606</td>\n",
       "      <td>3.572978</td>\n",
       "      <td>3.547337</td>\n",
       "      <td>2.896757</td>\n",
       "      <td>3.371674</td>\n",
       "      <td>3.948618</td>\n",
       "      <td>4.159415</td>\n",
       "      <td>4.232633</td>\n",
       "      <td>...</td>\n",
       "      <td>-0.602491</td>\n",
       "      <td>0.003543</td>\n",
       "      <td>0.088560</td>\n",
       "      <td>-0.193022</td>\n",
       "      <td>-0.742112</td>\n",
       "      <td>-1.026718</td>\n",
       "      <td>-0.977749</td>\n",
       "      <td>-0.960097</td>\n",
       "      <td>-1.363363</td>\n",
       "      <td>0</td>\n",
       "    </tr>\n",
       "  </tbody>\n",
       "</table>\n",
       "<p>1080 rows × 502 columns</p>\n",
       "</div>"
      ],
      "text/plain": [
       "                              0         1         2         3         4  \\\n",
       "id_user session video                                                     \n",
       "10      1       1      2.135436  2.887686  3.465504  3.810436  3.955764   \n",
       "                2      2.549241  2.254038  3.489210  3.876865  3.767604   \n",
       "                3      2.436902  3.456774  4.163457  4.401829  4.272075   \n",
       "                4      1.841611  2.513253  3.124816  3.421180  3.492676   \n",
       "                5      2.320207  2.961560  3.857012  4.111162  3.868319   \n",
       "...                         ...       ...       ...       ...       ...   \n",
       "9       3       20     1.398441  2.604782  3.687751  3.648057  3.009953   \n",
       "                21     1.571485  1.894192  2.786308  3.305627  3.571761   \n",
       "                22     1.270886  2.200624  2.915375  3.471395  3.427353   \n",
       "                23     2.621798  3.373337  3.905828  3.839850  3.868095   \n",
       "                24     1.494128  3.076038  2.783606  3.572978  3.547337   \n",
       "\n",
       "                              5         6         7         8         9  ...  \\\n",
       "id_user session video                                                    ...   \n",
       "10      1       1      4.053275  3.646478  3.300221  3.606062  3.223825  ...   \n",
       "                2      3.407996  3.706311  3.790671  3.835916  3.726078  ...   \n",
       "                3      3.567253  3.214838  3.632954  3.966298  3.774067  ...   \n",
       "                4      3.306529  3.099885  3.100102  3.221046  3.320871  ...   \n",
       "                5      3.717754  3.698447  3.367067  3.021535  3.351307  ...   \n",
       "...                         ...       ...       ...       ...       ...  ...   \n",
       "9       3       20     3.942856  3.935395  2.950334  3.604765  3.776026  ...   \n",
       "                21     3.696536  3.393062  2.770488  2.746998  2.790538  ...   \n",
       "                22     2.811443  3.023582  2.642579  3.219103  3.161054  ...   \n",
       "                23     3.649109  3.723545  3.259310  3.605300  3.623675  ...   \n",
       "                24     2.896757  3.371674  3.948618  4.159415  4.232633  ...   \n",
       "\n",
       "                            492       493       494       495       496  \\\n",
       "id_user session video                                                     \n",
       "10      1       1     -1.011859 -1.020659 -0.602725 -0.584323 -0.602491   \n",
       "                2     -0.654046 -0.287855 -0.064083 -0.382718 -0.854156   \n",
       "                3     -0.102593 -0.080281 -0.138853  0.001005 -0.083322   \n",
       "                4     -0.990079 -0.927056 -0.745584 -0.978420 -1.031638   \n",
       "                5     -0.247413 -0.758625 -1.643860 -1.252678 -0.605932   \n",
       "...                         ...       ...       ...       ...       ...   \n",
       "9       3       20    -0.389243 -0.347923 -0.460666 -0.483391 -0.797307   \n",
       "                21    -0.804578 -1.045797 -1.104529 -0.949304 -0.719607   \n",
       "                22    -0.531922 -0.662631 -0.867511 -1.125926 -0.903615   \n",
       "                23    -0.544234 -0.343033 -0.551949 -0.976702 -1.112032   \n",
       "                24    -0.602491  0.003543  0.088560 -0.193022 -0.742112   \n",
       "\n",
       "                            497       498       499       500  emotion  \n",
       "id_user session video                                                   \n",
       "10      1       1     -0.579400 -1.200410 -0.910379 -1.369580        1  \n",
       "                2     -0.538963 -0.978321 -0.520367 -1.108300        2  \n",
       "                3     -0.067288 -0.063967  0.042125 -0.123110        3  \n",
       "                4     -0.682465 -0.665910 -1.033460 -1.373817        0  \n",
       "                5     -0.750933 -1.202377 -0.686867 -1.160245        2  \n",
       "...                         ...       ...       ...       ...      ...  \n",
       "9       3       20    -0.593601 -0.401147 -0.498099 -0.751132        0  \n",
       "                21    -0.668664 -0.650504 -0.838495 -1.361561        2  \n",
       "                22    -1.054831 -0.916811 -1.142544 -1.251611        0  \n",
       "                23    -0.834240 -0.739685 -0.623760 -1.128035        1  \n",
       "                24    -1.026718 -0.977749 -0.960097 -1.363363        0  \n",
       "\n",
       "[1080 rows x 502 columns]"
      ]
     },
     "execution_count": 284,
     "metadata": {},
     "output_type": "execute_result"
    }
   ],
   "source": [
    "df"
   ]
  },
  {
   "cell_type": "markdown",
   "id": "9f67dae1",
   "metadata": {},
   "source": [
    "## DEPENDENCY"
   ]
  },
  {
   "cell_type": "code",
   "execution_count": 40,
   "id": "0c3ab339",
   "metadata": {
    "scrolled": false
   },
   "outputs": [
    {
     "name": "stdout",
     "output_type": "stream",
     "text": [
      "[15 19 24 16 24  1 20 16]\n",
      "[1 2 3 0]\n"
     ]
    }
   ],
   "source": [
    "X_trainSD,y_trainSD,X_testSD,y_testSD = split_sub_dep(df)"
   ]
  },
  {
   "cell_type": "code",
   "execution_count": 41,
   "id": "087c5f9d",
   "metadata": {
    "scrolled": true
   },
   "outputs": [],
   "source": [
    "clfSD = GradientBoostingClassifier(n_estimators=20, learning_rate=0.2, max_depth=2,random_state=10).fit(X_trainSD, y_trainSD)"
   ]
  },
  {
   "cell_type": "code",
   "execution_count": 42,
   "id": "d9c18d15",
   "metadata": {},
   "outputs": [
    {
     "data": {
      "text/plain": [
       "0.8358024691358025"
      ]
     },
     "execution_count": 42,
     "metadata": {},
     "output_type": "execute_result"
    }
   ],
   "source": [
    "clfSD.score(X_trainSD, y_trainSD)"
   ]
  },
  {
   "cell_type": "code",
   "execution_count": 43,
   "id": "ce28dd2a",
   "metadata": {
    "scrolled": true
   },
   "outputs": [
    {
     "data": {
      "text/plain": [
       "0.2740740740740741"
      ]
     },
     "execution_count": 43,
     "metadata": {},
     "output_type": "execute_result"
    }
   ],
   "source": [
    "clfSD.score(X_testSD, y_testSD)"
   ]
  },
  {
   "cell_type": "code",
   "execution_count": 44,
   "id": "60358e5c",
   "metadata": {},
   "outputs": [],
   "source": [
    "rfc = RandomForestClassifier(n_estimators=30, max_depth=5,random_state=42).fit(X_trainSD, y_trainSD)"
   ]
  },
  {
   "cell_type": "code",
   "execution_count": 45,
   "id": "fb2b7d33",
   "metadata": {},
   "outputs": [
    {
     "data": {
      "text/plain": [
       "0.8407407407407408"
      ]
     },
     "execution_count": 45,
     "metadata": {},
     "output_type": "execute_result"
    }
   ],
   "source": [
    "rfc.score(X_trainSD, y_trainSD)"
   ]
  },
  {
   "cell_type": "code",
   "execution_count": 46,
   "id": "29a52d39",
   "metadata": {},
   "outputs": [
    {
     "data": {
      "text/plain": [
       "0.25555555555555554"
      ]
     },
     "execution_count": 46,
     "metadata": {},
     "output_type": "execute_result"
    }
   ],
   "source": [
    "rfc.score(X_testSD, y_testSD)"
   ]
  },
  {
   "cell_type": "code",
   "execution_count": 47,
   "id": "afc76194",
   "metadata": {},
   "outputs": [],
   "source": [
    "y_pred = clfSD.predict(X_testSD)"
   ]
  },
  {
   "cell_type": "code",
   "execution_count": 48,
   "id": "4f63edba",
   "metadata": {},
   "outputs": [
    {
     "name": "stdout",
     "output_type": "stream",
     "text": [
      "              precision    recall  f1-score   support\n",
      "\n",
      "           0       0.37      0.29      0.33        75\n",
      "           1       0.23      0.19      0.21        75\n",
      "           2       0.09      0.30      0.14        30\n",
      "           3       0.54      0.32      0.40        90\n",
      "\n",
      "    accuracy                           0.27       270\n",
      "   macro avg       0.31      0.28      0.27       270\n",
      "weighted avg       0.36      0.27      0.30       270\n",
      "\n"
     ]
    }
   ],
   "source": [
    "print(classification_report(y_testSD,y_pred))"
   ]
  },
  {
   "cell_type": "markdown",
   "id": "20fed022",
   "metadata": {},
   "source": [
    "## INDIPENDENCY"
   ]
  },
  {
   "cell_type": "code",
   "execution_count": 317,
   "id": "43302e0a",
   "metadata": {},
   "outputs": [],
   "source": [
    "X_SI,y_SI,groups = SubjectIndipendent_GBC(df)"
   ]
  },
  {
   "cell_type": "code",
   "execution_count": 320,
   "id": "6e16d37c",
   "metadata": {},
   "outputs": [
    {
     "name": "stderr",
     "output_type": "stream",
     "text": [
      "[Parallel(n_jobs=-1)]: Using backend LokyBackend with 6 concurrent workers.\n"
     ]
    },
    {
     "name": "stdout",
     "output_type": "stream",
     "text": [
      "0.274074074074074\n"
     ]
    },
    {
     "name": "stderr",
     "output_type": "stream",
     "text": [
      "[Parallel(n_jobs=-1)]: Done  15 out of  15 | elapsed:  1.5min finished\n"
     ]
    }
   ],
   "source": [
    "model = GradientBoostingClassifier(n_estimators=20, learning_rate=0.1, max_depth=15, random_state=0)\n",
    "logo = LeaveOneGroupOut()\n",
    "logo.get_n_splits(X_SI, y_SI, groups)\n",
    "scores = cross_val_score(model, X_SI, y_SI, cv=logo, verbose=1 , groups = groups, n_jobs = -1)\n",
    "print(scores.mean())"
   ]
  },
  {
   "cell_type": "code",
   "execution_count": 321,
   "id": "52ac9b4e",
   "metadata": {},
   "outputs": [
    {
     "name": "stderr",
     "output_type": "stream",
     "text": [
      "[Parallel(n_jobs=-1)]: Using backend LokyBackend with 6 concurrent workers.\n"
     ]
    },
    {
     "name": "stdout",
     "output_type": "stream",
     "text": [
      "0.34444444444444444\n"
     ]
    },
    {
     "name": "stderr",
     "output_type": "stream",
     "text": [
      "[Parallel(n_jobs=-1)]: Done  15 out of  15 | elapsed:    0.6s finished\n"
     ]
    }
   ],
   "source": [
    "model = RandomForestClassifier(n_estimators=30, max_depth=5,random_state=42)\n",
    "logo = LeaveOneGroupOut()\n",
    "logo.get_n_splits(X_SI, y_SI, groups)\n",
    "scores = cross_val_score(model, X_SI, y_SI, cv=logo, verbose=1 , groups = groups, n_jobs = -1)\n",
    "print(scores.mean())"
   ]
  },
  {
   "cell_type": "markdown",
   "id": "9c126fd4",
   "metadata": {},
   "source": [
    "## BIAS"
   ]
  },
  {
   "cell_type": "code",
   "execution_count": 322,
   "id": "1340b2bf",
   "metadata": {},
   "outputs": [],
   "source": [
    "X_trainSB, X_testSB, y_trainSB, y_testSB = train_test_split(df.drop('emotion',axis=1), df.emotion, test_size=0.20, random_state=42)"
   ]
  },
  {
   "cell_type": "code",
   "execution_count": 329,
   "id": "83daa484",
   "metadata": {},
   "outputs": [],
   "source": [
    "clf = GradientBoostingClassifier(n_estimators=10, learning_rate=0.1, max_depth=3, random_state=0).fit(X_trainSB, y_trainSB)"
   ]
  },
  {
   "cell_type": "code",
   "execution_count": 330,
   "id": "7b35f634",
   "metadata": {},
   "outputs": [
    {
     "data": {
      "text/plain": [
       "0.32407407407407407"
      ]
     },
     "execution_count": 330,
     "metadata": {},
     "output_type": "execute_result"
    }
   ],
   "source": [
    "clf.score(X_testSB, y_testSB)"
   ]
  },
  {
   "cell_type": "code",
   "execution_count": 331,
   "id": "7819c021",
   "metadata": {},
   "outputs": [
    {
     "data": {
      "text/plain": [
       "0.7662037037037037"
      ]
     },
     "execution_count": 331,
     "metadata": {},
     "output_type": "execute_result"
    }
   ],
   "source": [
    "clf.score(X_trainSB, y_trainSB)"
   ]
  },
  {
   "cell_type": "code",
   "execution_count": 332,
   "id": "93ce492a",
   "metadata": {},
   "outputs": [],
   "source": [
    "rfc = RandomForestClassifier(n_estimators=30, max_depth=5,random_state=42).fit(X_trainSB,y_trainSB)"
   ]
  },
  {
   "cell_type": "code",
   "execution_count": 333,
   "id": "1b67c61f",
   "metadata": {},
   "outputs": [
    {
     "data": {
      "text/plain": [
       "0.33796296296296297"
      ]
     },
     "execution_count": 333,
     "metadata": {},
     "output_type": "execute_result"
    }
   ],
   "source": [
    "rfc.score(X_testSB,y_testSB)"
   ]
  },
  {
   "cell_type": "code",
   "execution_count": 335,
   "id": "573974fa",
   "metadata": {},
   "outputs": [
    {
     "data": {
      "text/plain": [
       "0.8182870370370371"
      ]
     },
     "execution_count": 335,
     "metadata": {},
     "output_type": "execute_result"
    }
   ],
   "source": [
    "rfc.score(X_trainSB,y_trainSB)"
   ]
  },
  {
   "cell_type": "markdown",
   "id": "c1e31a15",
   "metadata": {},
   "source": [
    "# GRADIENT BOOSTING ON ONE FEATURE\n",
    "### ASM"
   ]
  },
  {
   "cell_type": "code",
   "execution_count": 2,
   "id": "f24bcc37",
   "metadata": {},
   "outputs": [],
   "source": [
    "df = pd.read_csv(\"dataset_eeg_asms.csv\")\n",
    "df.drop(['Unnamed: 0'],axis=1, inplace=True)\n",
    "df = df.set_index(['id_user','session','video'])"
   ]
  },
  {
   "cell_type": "code",
   "execution_count": 3,
   "id": "66bc0096",
   "metadata": {},
   "outputs": [
    {
     "data": {
      "text/html": [
       "<div>\n",
       "<style scoped>\n",
       "    .dataframe tbody tr th:only-of-type {\n",
       "        vertical-align: middle;\n",
       "    }\n",
       "\n",
       "    .dataframe tbody tr th {\n",
       "        vertical-align: top;\n",
       "    }\n",
       "\n",
       "    .dataframe thead th {\n",
       "        text-align: right;\n",
       "    }\n",
       "</style>\n",
       "<table border=\"1\" class=\"dataframe\">\n",
       "  <thead>\n",
       "    <tr style=\"text-align: right;\">\n",
       "      <th></th>\n",
       "      <th></th>\n",
       "      <th></th>\n",
       "      <th>0</th>\n",
       "      <th>1</th>\n",
       "      <th>2</th>\n",
       "      <th>3</th>\n",
       "      <th>4</th>\n",
       "      <th>5</th>\n",
       "      <th>6</th>\n",
       "      <th>7</th>\n",
       "      <th>8</th>\n",
       "      <th>9</th>\n",
       "      <th>...</th>\n",
       "      <th>492</th>\n",
       "      <th>493</th>\n",
       "      <th>494</th>\n",
       "      <th>495</th>\n",
       "      <th>496</th>\n",
       "      <th>497</th>\n",
       "      <th>498</th>\n",
       "      <th>499</th>\n",
       "      <th>500</th>\n",
       "      <th>emotion</th>\n",
       "    </tr>\n",
       "    <tr>\n",
       "      <th>id_user</th>\n",
       "      <th>session</th>\n",
       "      <th>video</th>\n",
       "      <th></th>\n",
       "      <th></th>\n",
       "      <th></th>\n",
       "      <th></th>\n",
       "      <th></th>\n",
       "      <th></th>\n",
       "      <th></th>\n",
       "      <th></th>\n",
       "      <th></th>\n",
       "      <th></th>\n",
       "      <th></th>\n",
       "      <th></th>\n",
       "      <th></th>\n",
       "      <th></th>\n",
       "      <th></th>\n",
       "      <th></th>\n",
       "      <th></th>\n",
       "      <th></th>\n",
       "      <th></th>\n",
       "      <th></th>\n",
       "      <th></th>\n",
       "    </tr>\n",
       "  </thead>\n",
       "  <tbody>\n",
       "    <tr>\n",
       "      <th rowspan=\"5\" valign=\"top\">10</th>\n",
       "      <th rowspan=\"5\" valign=\"top\">1</th>\n",
       "      <th>1</th>\n",
       "      <td>-0.507886</td>\n",
       "      <td>-0.614872</td>\n",
       "      <td>-1.641967</td>\n",
       "      <td>-0.809440</td>\n",
       "      <td>-0.254521</td>\n",
       "      <td>-0.153257</td>\n",
       "      <td>-0.177033</td>\n",
       "      <td>0.468183</td>\n",
       "      <td>0.504833</td>\n",
       "      <td>0.720677</td>\n",
       "      <td>...</td>\n",
       "      <td>-0.603754</td>\n",
       "      <td>-3.936397</td>\n",
       "      <td>-2.786970</td>\n",
       "      <td>-1.303838</td>\n",
       "      <td>-2.395775</td>\n",
       "      <td>-1.886432</td>\n",
       "      <td>-2.041642</td>\n",
       "      <td>-2.704514</td>\n",
       "      <td>-0.891223</td>\n",
       "      <td>1</td>\n",
       "    </tr>\n",
       "    <tr>\n",
       "      <th>2</th>\n",
       "      <td>-1.526726</td>\n",
       "      <td>-0.019622</td>\n",
       "      <td>-0.623337</td>\n",
       "      <td>-0.318292</td>\n",
       "      <td>-0.963419</td>\n",
       "      <td>-0.693255</td>\n",
       "      <td>-0.207848</td>\n",
       "      <td>0.014371</td>\n",
       "      <td>0.310071</td>\n",
       "      <td>0.304314</td>\n",
       "      <td>...</td>\n",
       "      <td>-0.041316</td>\n",
       "      <td>-0.535183</td>\n",
       "      <td>-0.348228</td>\n",
       "      <td>-1.279361</td>\n",
       "      <td>-1.776960</td>\n",
       "      <td>-0.690190</td>\n",
       "      <td>-4.166999</td>\n",
       "      <td>-0.548480</td>\n",
       "      <td>-1.340570</td>\n",
       "      <td>2</td>\n",
       "    </tr>\n",
       "    <tr>\n",
       "      <th>3</th>\n",
       "      <td>-1.712901</td>\n",
       "      <td>-0.626136</td>\n",
       "      <td>-0.681488</td>\n",
       "      <td>-1.267282</td>\n",
       "      <td>-0.191965</td>\n",
       "      <td>0.529379</td>\n",
       "      <td>-0.171602</td>\n",
       "      <td>-1.190944</td>\n",
       "      <td>-0.759927</td>\n",
       "      <td>0.229540</td>\n",
       "      <td>...</td>\n",
       "      <td>-1.006256</td>\n",
       "      <td>-1.668214</td>\n",
       "      <td>-1.141022</td>\n",
       "      <td>-0.581752</td>\n",
       "      <td>-0.849187</td>\n",
       "      <td>-1.244093</td>\n",
       "      <td>-1.113199</td>\n",
       "      <td>-1.251479</td>\n",
       "      <td>-1.643447</td>\n",
       "      <td>3</td>\n",
       "    </tr>\n",
       "    <tr>\n",
       "      <th>4</th>\n",
       "      <td>-0.326937</td>\n",
       "      <td>-1.115830</td>\n",
       "      <td>-1.166505</td>\n",
       "      <td>-1.217275</td>\n",
       "      <td>-1.309265</td>\n",
       "      <td>-0.652792</td>\n",
       "      <td>-0.228270</td>\n",
       "      <td>-1.581202</td>\n",
       "      <td>0.183983</td>\n",
       "      <td>0.267916</td>\n",
       "      <td>...</td>\n",
       "      <td>-0.820992</td>\n",
       "      <td>-1.289149</td>\n",
       "      <td>0.374519</td>\n",
       "      <td>-0.529157</td>\n",
       "      <td>-0.304496</td>\n",
       "      <td>-0.049593</td>\n",
       "      <td>0.135184</td>\n",
       "      <td>-1.440402</td>\n",
       "      <td>-1.258214</td>\n",
       "      <td>0</td>\n",
       "    </tr>\n",
       "    <tr>\n",
       "      <th>5</th>\n",
       "      <td>-2.620650</td>\n",
       "      <td>-0.919027</td>\n",
       "      <td>-0.869191</td>\n",
       "      <td>-0.793411</td>\n",
       "      <td>-0.794974</td>\n",
       "      <td>-1.004569</td>\n",
       "      <td>-0.218292</td>\n",
       "      <td>-0.296775</td>\n",
       "      <td>0.353089</td>\n",
       "      <td>-0.760424</td>\n",
       "      <td>...</td>\n",
       "      <td>-0.323980</td>\n",
       "      <td>-1.570919</td>\n",
       "      <td>-0.336004</td>\n",
       "      <td>0.479314</td>\n",
       "      <td>0.190322</td>\n",
       "      <td>-1.403735</td>\n",
       "      <td>-1.043561</td>\n",
       "      <td>-1.423911</td>\n",
       "      <td>-2.165414</td>\n",
       "      <td>2</td>\n",
       "    </tr>\n",
       "    <tr>\n",
       "      <th>...</th>\n",
       "      <th>...</th>\n",
       "      <th>...</th>\n",
       "      <td>...</td>\n",
       "      <td>...</td>\n",
       "      <td>...</td>\n",
       "      <td>...</td>\n",
       "      <td>...</td>\n",
       "      <td>...</td>\n",
       "      <td>...</td>\n",
       "      <td>...</td>\n",
       "      <td>...</td>\n",
       "      <td>...</td>\n",
       "      <td>...</td>\n",
       "      <td>...</td>\n",
       "      <td>...</td>\n",
       "      <td>...</td>\n",
       "      <td>...</td>\n",
       "      <td>...</td>\n",
       "      <td>...</td>\n",
       "      <td>...</td>\n",
       "      <td>...</td>\n",
       "      <td>...</td>\n",
       "      <td>...</td>\n",
       "    </tr>\n",
       "    <tr>\n",
       "      <th rowspan=\"5\" valign=\"top\">9</th>\n",
       "      <th rowspan=\"5\" valign=\"top\">3</th>\n",
       "      <th>20</th>\n",
       "      <td>-0.363106</td>\n",
       "      <td>0.264170</td>\n",
       "      <td>0.455100</td>\n",
       "      <td>0.413153</td>\n",
       "      <td>0.311342</td>\n",
       "      <td>0.099790</td>\n",
       "      <td>0.290642</td>\n",
       "      <td>-0.595710</td>\n",
       "      <td>-0.430711</td>\n",
       "      <td>0.250864</td>\n",
       "      <td>...</td>\n",
       "      <td>-0.236637</td>\n",
       "      <td>0.839615</td>\n",
       "      <td>0.747818</td>\n",
       "      <td>0.426037</td>\n",
       "      <td>0.061812</td>\n",
       "      <td>-0.519885</td>\n",
       "      <td>0.388118</td>\n",
       "      <td>0.286195</td>\n",
       "      <td>0.531003</td>\n",
       "      <td>0</td>\n",
       "    </tr>\n",
       "    <tr>\n",
       "      <th>21</th>\n",
       "      <td>0.845171</td>\n",
       "      <td>0.200099</td>\n",
       "      <td>-0.350465</td>\n",
       "      <td>0.690646</td>\n",
       "      <td>0.469665</td>\n",
       "      <td>0.108025</td>\n",
       "      <td>-0.221799</td>\n",
       "      <td>0.112040</td>\n",
       "      <td>0.322455</td>\n",
       "      <td>-0.118011</td>\n",
       "      <td>...</td>\n",
       "      <td>-1.719179</td>\n",
       "      <td>-0.353402</td>\n",
       "      <td>-1.006594</td>\n",
       "      <td>-0.720096</td>\n",
       "      <td>-0.058573</td>\n",
       "      <td>-0.172256</td>\n",
       "      <td>-1.529113</td>\n",
       "      <td>-0.037419</td>\n",
       "      <td>1.565252</td>\n",
       "      <td>2</td>\n",
       "    </tr>\n",
       "    <tr>\n",
       "      <th>22</th>\n",
       "      <td>0.101389</td>\n",
       "      <td>0.227249</td>\n",
       "      <td>-0.183157</td>\n",
       "      <td>-0.156111</td>\n",
       "      <td>0.094033</td>\n",
       "      <td>0.344920</td>\n",
       "      <td>-0.105058</td>\n",
       "      <td>-0.497562</td>\n",
       "      <td>-0.150350</td>\n",
       "      <td>-0.314806</td>\n",
       "      <td>...</td>\n",
       "      <td>0.837657</td>\n",
       "      <td>-0.709266</td>\n",
       "      <td>-1.209290</td>\n",
       "      <td>-0.144284</td>\n",
       "      <td>-1.580553</td>\n",
       "      <td>-1.788901</td>\n",
       "      <td>-0.900419</td>\n",
       "      <td>1.783097</td>\n",
       "      <td>1.951517</td>\n",
       "      <td>0</td>\n",
       "    </tr>\n",
       "    <tr>\n",
       "      <th>23</th>\n",
       "      <td>0.296960</td>\n",
       "      <td>0.046466</td>\n",
       "      <td>0.158650</td>\n",
       "      <td>0.339566</td>\n",
       "      <td>0.350600</td>\n",
       "      <td>0.487405</td>\n",
       "      <td>0.065113</td>\n",
       "      <td>-0.011989</td>\n",
       "      <td>0.204698</td>\n",
       "      <td>0.287173</td>\n",
       "      <td>...</td>\n",
       "      <td>-0.221597</td>\n",
       "      <td>-0.028114</td>\n",
       "      <td>0.207154</td>\n",
       "      <td>0.636081</td>\n",
       "      <td>-1.132681</td>\n",
       "      <td>-0.960791</td>\n",
       "      <td>-0.096051</td>\n",
       "      <td>-0.502811</td>\n",
       "      <td>-0.483703</td>\n",
       "      <td>1</td>\n",
       "    </tr>\n",
       "    <tr>\n",
       "      <th>24</th>\n",
       "      <td>0.984481</td>\n",
       "      <td>-2.887236</td>\n",
       "      <td>-5.109027</td>\n",
       "      <td>-1.020892</td>\n",
       "      <td>-1.191568</td>\n",
       "      <td>-0.455939</td>\n",
       "      <td>1.777643</td>\n",
       "      <td>1.176339</td>\n",
       "      <td>0.583990</td>\n",
       "      <td>0.294424</td>\n",
       "      <td>...</td>\n",
       "      <td>-1.218383</td>\n",
       "      <td>-0.846308</td>\n",
       "      <td>-0.999152</td>\n",
       "      <td>-1.075692</td>\n",
       "      <td>-0.446103</td>\n",
       "      <td>2.355415</td>\n",
       "      <td>2.488038</td>\n",
       "      <td>1.343486</td>\n",
       "      <td>0.613903</td>\n",
       "      <td>0</td>\n",
       "    </tr>\n",
       "  </tbody>\n",
       "</table>\n",
       "<p>1080 rows × 502 columns</p>\n",
       "</div>"
      ],
      "text/plain": [
       "                              0         1         2         3         4  \\\n",
       "id_user session video                                                     \n",
       "10      1       1     -0.507886 -0.614872 -1.641967 -0.809440 -0.254521   \n",
       "                2     -1.526726 -0.019622 -0.623337 -0.318292 -0.963419   \n",
       "                3     -1.712901 -0.626136 -0.681488 -1.267282 -0.191965   \n",
       "                4     -0.326937 -1.115830 -1.166505 -1.217275 -1.309265   \n",
       "                5     -2.620650 -0.919027 -0.869191 -0.793411 -0.794974   \n",
       "...                         ...       ...       ...       ...       ...   \n",
       "9       3       20    -0.363106  0.264170  0.455100  0.413153  0.311342   \n",
       "                21     0.845171  0.200099 -0.350465  0.690646  0.469665   \n",
       "                22     0.101389  0.227249 -0.183157 -0.156111  0.094033   \n",
       "                23     0.296960  0.046466  0.158650  0.339566  0.350600   \n",
       "                24     0.984481 -2.887236 -5.109027 -1.020892 -1.191568   \n",
       "\n",
       "                              5         6         7         8         9  ...  \\\n",
       "id_user session video                                                    ...   \n",
       "10      1       1     -0.153257 -0.177033  0.468183  0.504833  0.720677  ...   \n",
       "                2     -0.693255 -0.207848  0.014371  0.310071  0.304314  ...   \n",
       "                3      0.529379 -0.171602 -1.190944 -0.759927  0.229540  ...   \n",
       "                4     -0.652792 -0.228270 -1.581202  0.183983  0.267916  ...   \n",
       "                5     -1.004569 -0.218292 -0.296775  0.353089 -0.760424  ...   \n",
       "...                         ...       ...       ...       ...       ...  ...   \n",
       "9       3       20     0.099790  0.290642 -0.595710 -0.430711  0.250864  ...   \n",
       "                21     0.108025 -0.221799  0.112040  0.322455 -0.118011  ...   \n",
       "                22     0.344920 -0.105058 -0.497562 -0.150350 -0.314806  ...   \n",
       "                23     0.487405  0.065113 -0.011989  0.204698  0.287173  ...   \n",
       "                24    -0.455939  1.777643  1.176339  0.583990  0.294424  ...   \n",
       "\n",
       "                            492       493       494       495       496  \\\n",
       "id_user session video                                                     \n",
       "10      1       1     -0.603754 -3.936397 -2.786970 -1.303838 -2.395775   \n",
       "                2     -0.041316 -0.535183 -0.348228 -1.279361 -1.776960   \n",
       "                3     -1.006256 -1.668214 -1.141022 -0.581752 -0.849187   \n",
       "                4     -0.820992 -1.289149  0.374519 -0.529157 -0.304496   \n",
       "                5     -0.323980 -1.570919 -0.336004  0.479314  0.190322   \n",
       "...                         ...       ...       ...       ...       ...   \n",
       "9       3       20    -0.236637  0.839615  0.747818  0.426037  0.061812   \n",
       "                21    -1.719179 -0.353402 -1.006594 -0.720096 -0.058573   \n",
       "                22     0.837657 -0.709266 -1.209290 -0.144284 -1.580553   \n",
       "                23    -0.221597 -0.028114  0.207154  0.636081 -1.132681   \n",
       "                24    -1.218383 -0.846308 -0.999152 -1.075692 -0.446103   \n",
       "\n",
       "                            497       498       499       500  emotion  \n",
       "id_user session video                                                   \n",
       "10      1       1     -1.886432 -2.041642 -2.704514 -0.891223        1  \n",
       "                2     -0.690190 -4.166999 -0.548480 -1.340570        2  \n",
       "                3     -1.244093 -1.113199 -1.251479 -1.643447        3  \n",
       "                4     -0.049593  0.135184 -1.440402 -1.258214        0  \n",
       "                5     -1.403735 -1.043561 -1.423911 -2.165414        2  \n",
       "...                         ...       ...       ...       ...      ...  \n",
       "9       3       20    -0.519885  0.388118  0.286195  0.531003        0  \n",
       "                21    -0.172256 -1.529113 -0.037419  1.565252        2  \n",
       "                22    -1.788901 -0.900419  1.783097  1.951517        0  \n",
       "                23    -0.960791 -0.096051 -0.502811 -0.483703        1  \n",
       "                24     2.355415  2.488038  1.343486  0.613903        0  \n",
       "\n",
       "[1080 rows x 502 columns]"
      ]
     },
     "execution_count": 3,
     "metadata": {},
     "output_type": "execute_result"
    }
   ],
   "source": [
    "df"
   ]
  },
  {
   "cell_type": "markdown",
   "id": "77b9decc",
   "metadata": {},
   "source": [
    "## DEPENDENCY"
   ]
  },
  {
   "cell_type": "code",
   "execution_count": 7,
   "id": "17f45df7",
   "metadata": {
    "scrolled": false
   },
   "outputs": [
    {
     "name": "stdout",
     "output_type": "stream",
     "text": [
      "[13 16  6  9  2  6 11 13]\n",
      "[2 0 1 3]\n"
     ]
    }
   ],
   "source": [
    "X_trainSD,y_trainSD,X_testSD,y_testSD = split_sub_dep(df)"
   ]
  },
  {
   "cell_type": "code",
   "execution_count": 36,
   "id": "3736767f",
   "metadata": {},
   "outputs": [],
   "source": [
    "clfSD = GradientBoostingClassifier(n_estimators=25, learning_rate=0.2, max_depth=2,random_state=0).fit(X_trainSD, y_trainSD)"
   ]
  },
  {
   "cell_type": "code",
   "execution_count": 37,
   "id": "c2181e03",
   "metadata": {},
   "outputs": [
    {
     "data": {
      "text/plain": [
       "0.8864197530864197"
      ]
     },
     "execution_count": 37,
     "metadata": {},
     "output_type": "execute_result"
    }
   ],
   "source": [
    "clfSD.score(X_trainSD, y_trainSD)"
   ]
  },
  {
   "cell_type": "code",
   "execution_count": 38,
   "id": "7b21dca5",
   "metadata": {},
   "outputs": [
    {
     "data": {
      "text/plain": [
       "0.2222222222222222"
      ]
     },
     "execution_count": 38,
     "metadata": {},
     "output_type": "execute_result"
    }
   ],
   "source": [
    "clfSD.score(X_testSD, y_testSD)"
   ]
  },
  {
   "cell_type": "code",
   "execution_count": 39,
   "id": "cd1ff6cd",
   "metadata": {},
   "outputs": [],
   "source": [
    "rfc = RandomForestClassifier(n_estimators=30, max_depth=7,random_state=42).fit(X_trainSD,y_trainSD)"
   ]
  },
  {
   "cell_type": "code",
   "execution_count": 40,
   "id": "52b80402",
   "metadata": {},
   "outputs": [
    {
     "data": {
      "text/plain": [
       "0.25925925925925924"
      ]
     },
     "execution_count": 40,
     "metadata": {},
     "output_type": "execute_result"
    }
   ],
   "source": [
    "rfc.score(X_testSD,y_testSD)"
   ]
  },
  {
   "cell_type": "code",
   "execution_count": 41,
   "id": "9dfd46cf",
   "metadata": {},
   "outputs": [
    {
     "data": {
      "text/plain": [
       "0.9506172839506173"
      ]
     },
     "execution_count": 41,
     "metadata": {},
     "output_type": "execute_result"
    }
   ],
   "source": [
    "rfc.score(X_trainSD,y_trainSD)"
   ]
  },
  {
   "cell_type": "code",
   "execution_count": 21,
   "id": "f8fb5952",
   "metadata": {},
   "outputs": [],
   "source": [
    "y_pred = clfSD.predict(X_testSD)"
   ]
  },
  {
   "cell_type": "code",
   "execution_count": null,
   "id": "25fd83d6",
   "metadata": {},
   "outputs": [],
   "source": [
    "print(classification_report(y_testSD,y_pred))"
   ]
  },
  {
   "cell_type": "markdown",
   "id": "071cc092",
   "metadata": {},
   "source": [
    "## INDIPENDENCY"
   ]
  },
  {
   "cell_type": "code",
   "execution_count": 42,
   "id": "df79bb55",
   "metadata": {},
   "outputs": [],
   "source": [
    "X_SI,y_SI,groups = SubjectIndipendent_GBC(df)"
   ]
  },
  {
   "cell_type": "code",
   "execution_count": 45,
   "id": "b944abd1",
   "metadata": {},
   "outputs": [
    {
     "name": "stderr",
     "output_type": "stream",
     "text": [
      "[Parallel(n_jobs=-1)]: Using backend LokyBackend with 8 concurrent workers.\n"
     ]
    },
    {
     "name": "stdout",
     "output_type": "stream",
     "text": [
      "0.275\n"
     ]
    },
    {
     "name": "stderr",
     "output_type": "stream",
     "text": [
      "[Parallel(n_jobs=-1)]: Done  15 out of  15 | elapsed:  1.9min finished\n"
     ]
    }
   ],
   "source": [
    "model = GradientBoostingClassifier(n_estimators=20, learning_rate=0.1, max_depth=7, random_state=0)\n",
    "logo = LeaveOneGroupOut()\n",
    "logo.get_n_splits(X_SI, y_SI, groups)\n",
    "scores = cross_val_score(model, X_SI, y_SI, cv=logo, verbose=1 , groups = groups, n_jobs = -1)\n",
    "print(scores.mean())"
   ]
  },
  {
   "cell_type": "code",
   "execution_count": 46,
   "id": "11dac2e8",
   "metadata": {},
   "outputs": [
    {
     "name": "stderr",
     "output_type": "stream",
     "text": [
      "[Parallel(n_jobs=-1)]: Using backend LokyBackend with 8 concurrent workers.\n"
     ]
    },
    {
     "name": "stdout",
     "output_type": "stream",
     "text": [
      "0.2935185185185185\n"
     ]
    },
    {
     "name": "stderr",
     "output_type": "stream",
     "text": [
      "[Parallel(n_jobs=-1)]: Done  15 out of  15 | elapsed:    1.4s finished\n"
     ]
    }
   ],
   "source": [
    "model = RandomForestClassifier(n_estimators=30, max_depth=7,random_state=42)\n",
    "logo = LeaveOneGroupOut()\n",
    "logo.get_n_splits(X_SI, y_SI, groups)\n",
    "scores = cross_val_score(model, X_SI, y_SI, cv=logo, verbose=1 , groups = groups, n_jobs = -1)\n",
    "print(scores.mean())"
   ]
  },
  {
   "cell_type": "markdown",
   "id": "65595a2b",
   "metadata": {},
   "source": [
    "## BIAS"
   ]
  },
  {
   "cell_type": "code",
   "execution_count": 48,
   "id": "9a29e77e",
   "metadata": {},
   "outputs": [],
   "source": [
    "X_trainSB, X_testSB, y_trainSB, y_testSB = train_test_split(df.drop('emotion',axis=1), df.emotion, test_size=0.20, random_state=42)"
   ]
  },
  {
   "cell_type": "code",
   "execution_count": 65,
   "id": "ef5b87a7",
   "metadata": {},
   "outputs": [],
   "source": [
    "clf = GradientBoostingClassifier(n_estimators=20, learning_rate=0.1, max_depth=3, random_state=0).fit(X_trainSB, y_trainSB)"
   ]
  },
  {
   "cell_type": "code",
   "execution_count": 66,
   "id": "0d2c3724",
   "metadata": {},
   "outputs": [
    {
     "data": {
      "text/plain": [
       "0.2962962962962963"
      ]
     },
     "execution_count": 66,
     "metadata": {},
     "output_type": "execute_result"
    }
   ],
   "source": [
    "clf.score(X_testSB, y_testSB)"
   ]
  },
  {
   "cell_type": "code",
   "execution_count": 67,
   "id": "1bdec8d9",
   "metadata": {},
   "outputs": [
    {
     "data": {
      "text/plain": [
       "0.8912037037037037"
      ]
     },
     "execution_count": 67,
     "metadata": {},
     "output_type": "execute_result"
    }
   ],
   "source": [
    "clf.score(X_trainSB,y_trainSB)"
   ]
  },
  {
   "cell_type": "code",
   "execution_count": 71,
   "id": "dd7a6be9",
   "metadata": {},
   "outputs": [],
   "source": [
    "rfc = RandomForestClassifier(n_estimators=30, max_depth=7,random_state=42).fit(X_trainSB,y_trainSB)"
   ]
  },
  {
   "cell_type": "code",
   "execution_count": 72,
   "id": "6104f846",
   "metadata": {},
   "outputs": [
    {
     "data": {
      "text/plain": [
       "0.9641203703703703"
      ]
     },
     "execution_count": 72,
     "metadata": {},
     "output_type": "execute_result"
    }
   ],
   "source": [
    "rfc.score(X_trainSB,y_trainSB)"
   ]
  },
  {
   "cell_type": "code",
   "execution_count": 73,
   "id": "249a4e26",
   "metadata": {},
   "outputs": [
    {
     "data": {
      "text/plain": [
       "0.3101851851851852"
      ]
     },
     "execution_count": 73,
     "metadata": {},
     "output_type": "execute_result"
    }
   ],
   "source": [
    "rfc.score(X_testSB,y_testSB)"
   ]
  },
  {
   "cell_type": "markdown",
   "id": "6e32dc91",
   "metadata": {},
   "source": [
    "# GRADIENT BOOSTING ON ONE FEATURE\n",
    "### DASM"
   ]
  },
  {
   "cell_type": "code",
   "execution_count": 74,
   "id": "b5fe5b22",
   "metadata": {},
   "outputs": [],
   "source": [
    "df = pd.read_csv(\"dataset_eeg_dasms.csv\")\n",
    "df.drop(['Unnamed: 0'],axis=1, inplace=True)\n",
    "df = df.set_index(['id_user','session','video'])"
   ]
  },
  {
   "cell_type": "code",
   "execution_count": 75,
   "id": "94915114",
   "metadata": {
    "scrolled": true
   },
   "outputs": [
    {
     "data": {
      "text/html": [
       "<div>\n",
       "<style scoped>\n",
       "    .dataframe tbody tr th:only-of-type {\n",
       "        vertical-align: middle;\n",
       "    }\n",
       "\n",
       "    .dataframe tbody tr th {\n",
       "        vertical-align: top;\n",
       "    }\n",
       "\n",
       "    .dataframe thead th {\n",
       "        text-align: right;\n",
       "    }\n",
       "</style>\n",
       "<table border=\"1\" class=\"dataframe\">\n",
       "  <thead>\n",
       "    <tr style=\"text-align: right;\">\n",
       "      <th></th>\n",
       "      <th></th>\n",
       "      <th></th>\n",
       "      <th>0</th>\n",
       "      <th>1</th>\n",
       "      <th>2</th>\n",
       "      <th>3</th>\n",
       "      <th>4</th>\n",
       "      <th>5</th>\n",
       "      <th>6</th>\n",
       "      <th>7</th>\n",
       "      <th>8</th>\n",
       "      <th>9</th>\n",
       "      <th>...</th>\n",
       "      <th>1494</th>\n",
       "      <th>1495</th>\n",
       "      <th>1496</th>\n",
       "      <th>1497</th>\n",
       "      <th>1498</th>\n",
       "      <th>1499</th>\n",
       "      <th>1500</th>\n",
       "      <th>1501</th>\n",
       "      <th>1502</th>\n",
       "      <th>emotion</th>\n",
       "    </tr>\n",
       "    <tr>\n",
       "      <th>id_user</th>\n",
       "      <th>session</th>\n",
       "      <th>video</th>\n",
       "      <th></th>\n",
       "      <th></th>\n",
       "      <th></th>\n",
       "      <th></th>\n",
       "      <th></th>\n",
       "      <th></th>\n",
       "      <th></th>\n",
       "      <th></th>\n",
       "      <th></th>\n",
       "      <th></th>\n",
       "      <th></th>\n",
       "      <th></th>\n",
       "      <th></th>\n",
       "      <th></th>\n",
       "      <th></th>\n",
       "      <th></th>\n",
       "      <th></th>\n",
       "      <th></th>\n",
       "      <th></th>\n",
       "      <th></th>\n",
       "      <th></th>\n",
       "    </tr>\n",
       "  </thead>\n",
       "  <tbody>\n",
       "    <tr>\n",
       "      <th rowspan=\"5\" valign=\"top\">10</th>\n",
       "      <th rowspan=\"5\" valign=\"top\">1</th>\n",
       "      <th>1</th>\n",
       "      <td>12650.603507</td>\n",
       "      <td>12648.390584</td>\n",
       "      <td>12627.183801</td>\n",
       "      <td>12644.366178</td>\n",
       "      <td>12655.821677</td>\n",
       "      <td>12657.912527</td>\n",
       "      <td>12657.423942</td>\n",
       "      <td>12670.734588</td>\n",
       "      <td>12671.490607</td>\n",
       "      <td>12675.944154</td>\n",
       "      <td>...</td>\n",
       "      <td>18690.330810</td>\n",
       "      <td>18690.888346</td>\n",
       "      <td>18690.699299</td>\n",
       "      <td>18690.448836</td>\n",
       "      <td>18690.635126</td>\n",
       "      <td>18690.550518</td>\n",
       "      <td>18690.559141</td>\n",
       "      <td>18690.674505</td>\n",
       "      <td>18690.368147</td>\n",
       "      <td>1</td>\n",
       "    </tr>\n",
       "    <tr>\n",
       "      <th>2</th>\n",
       "      <td>23159.311016</td>\n",
       "      <td>23228.675318</td>\n",
       "      <td>23200.891697</td>\n",
       "      <td>23214.945153</td>\n",
       "      <td>23185.253969</td>\n",
       "      <td>23197.676893</td>\n",
       "      <td>23220.022194</td>\n",
       "      <td>23230.254935</td>\n",
       "      <td>23243.865618</td>\n",
       "      <td>23243.604063</td>\n",
       "      <td>...</td>\n",
       "      <td>34293.059359</td>\n",
       "      <td>34293.244473</td>\n",
       "      <td>34293.176953</td>\n",
       "      <td>34293.509391</td>\n",
       "      <td>34293.721242</td>\n",
       "      <td>34293.288971</td>\n",
       "      <td>34294.530334</td>\n",
       "      <td>34293.230314</td>\n",
       "      <td>34293.609053</td>\n",
       "      <td>2</td>\n",
       "    </tr>\n",
       "    <tr>\n",
       "      <th>3</th>\n",
       "      <td>20310.108415</td>\n",
       "      <td>20344.375682</td>\n",
       "      <td>20342.634717</td>\n",
       "      <td>20324.171070</td>\n",
       "      <td>20358.065116</td>\n",
       "      <td>20380.788349</td>\n",
       "      <td>20358.704419</td>\n",
       "      <td>20326.576719</td>\n",
       "      <td>20340.163577</td>\n",
       "      <td>20371.347796</td>\n",
       "      <td>...</td>\n",
       "      <td>30060.106190</td>\n",
       "      <td>30060.274793</td>\n",
       "      <td>30060.127199</td>\n",
       "      <td>30059.981530</td>\n",
       "      <td>30060.060945</td>\n",
       "      <td>30060.167777</td>\n",
       "      <td>30060.120787</td>\n",
       "      <td>30060.152941</td>\n",
       "      <td>30060.264402</td>\n",
       "      <td>3</td>\n",
       "    </tr>\n",
       "    <tr>\n",
       "      <th>4</th>\n",
       "      <td>21714.090429</td>\n",
       "      <td>21693.944995</td>\n",
       "      <td>21692.633774</td>\n",
       "      <td>21691.334161</td>\n",
       "      <td>21688.980463</td>\n",
       "      <td>21705.762150</td>\n",
       "      <td>21716.607324</td>\n",
       "      <td>21682.026333</td>\n",
       "      <td>21727.137159</td>\n",
       "      <td>21729.282150</td>\n",
       "      <td>...</td>\n",
       "      <td>32035.791191</td>\n",
       "      <td>32035.900896</td>\n",
       "      <td>32035.502696</td>\n",
       "      <td>32035.721090</td>\n",
       "      <td>32035.662420</td>\n",
       "      <td>32035.617293</td>\n",
       "      <td>32035.580044</td>\n",
       "      <td>32035.942336</td>\n",
       "      <td>32035.867815</td>\n",
       "      <td>0</td>\n",
       "    </tr>\n",
       "    <tr>\n",
       "      <th>5</th>\n",
       "      <td>26387.909596</td>\n",
       "      <td>26468.273255</td>\n",
       "      <td>26470.628686</td>\n",
       "      <td>26474.199258</td>\n",
       "      <td>26474.122085</td>\n",
       "      <td>26464.252362</td>\n",
       "      <td>26501.362420</td>\n",
       "      <td>26497.658895</td>\n",
       "      <td>26528.326749</td>\n",
       "      <td>26475.762155</td>\n",
       "      <td>...</td>\n",
       "      <td>39129.674113</td>\n",
       "      <td>39130.153228</td>\n",
       "      <td>39129.623449</td>\n",
       "      <td>39129.347652</td>\n",
       "      <td>39129.438036</td>\n",
       "      <td>39130.083341</td>\n",
       "      <td>39129.956865</td>\n",
       "      <td>39130.150734</td>\n",
       "      <td>39130.472861</td>\n",
       "      <td>2</td>\n",
       "    </tr>\n",
       "    <tr>\n",
       "      <th>...</th>\n",
       "      <th>...</th>\n",
       "      <th>...</th>\n",
       "      <td>...</td>\n",
       "      <td>...</td>\n",
       "      <td>...</td>\n",
       "      <td>...</td>\n",
       "      <td>...</td>\n",
       "      <td>...</td>\n",
       "      <td>...</td>\n",
       "      <td>...</td>\n",
       "      <td>...</td>\n",
       "      <td>...</td>\n",
       "      <td>...</td>\n",
       "      <td>...</td>\n",
       "      <td>...</td>\n",
       "      <td>...</td>\n",
       "      <td>...</td>\n",
       "      <td>...</td>\n",
       "      <td>...</td>\n",
       "      <td>...</td>\n",
       "      <td>...</td>\n",
       "      <td>...</td>\n",
       "      <td>...</td>\n",
       "    </tr>\n",
       "    <tr>\n",
       "      <th rowspan=\"5\" valign=\"top\">9</th>\n",
       "      <th rowspan=\"5\" valign=\"top\">3</th>\n",
       "      <th>20</th>\n",
       "      <td>83232.652198</td>\n",
       "      <td>83262.416482</td>\n",
       "      <td>83271.476343</td>\n",
       "      <td>83269.486399</td>\n",
       "      <td>83264.655727</td>\n",
       "      <td>83254.617406</td>\n",
       "      <td>83263.672846</td>\n",
       "      <td>83221.614911</td>\n",
       "      <td>83229.445640</td>\n",
       "      <td>83261.786274</td>\n",
       "      <td>...</td>\n",
       "      <td>122478.488712</td>\n",
       "      <td>122478.000338</td>\n",
       "      <td>122478.037504</td>\n",
       "      <td>122478.177637</td>\n",
       "      <td>122478.354003</td>\n",
       "      <td>122478.625819</td>\n",
       "      <td>122478.211276</td>\n",
       "      <td>122478.236329</td>\n",
       "      <td>122478.109120</td>\n",
       "      <td>0</td>\n",
       "    </tr>\n",
       "    <tr>\n",
       "      <th>21</th>\n",
       "      <td>44377.498193</td>\n",
       "      <td>44368.071520</td>\n",
       "      <td>44360.024699</td>\n",
       "      <td>44375.239472</td>\n",
       "      <td>44372.010338</td>\n",
       "      <td>44366.725660</td>\n",
       "      <td>44361.905632</td>\n",
       "      <td>44366.783955</td>\n",
       "      <td>44369.859135</td>\n",
       "      <td>44363.422629</td>\n",
       "      <td>...</td>\n",
       "      <td>65272.166365</td>\n",
       "      <td>65271.981952</td>\n",
       "      <td>65272.082634</td>\n",
       "      <td>65272.035110</td>\n",
       "      <td>65271.941504</td>\n",
       "      <td>65271.961031</td>\n",
       "      <td>65272.140795</td>\n",
       "      <td>65271.929299</td>\n",
       "      <td>65271.714088</td>\n",
       "      <td>2</td>\n",
       "    </tr>\n",
       "    <tr>\n",
       "      <th>22</th>\n",
       "      <td>77909.122398</td>\n",
       "      <td>77912.585034</td>\n",
       "      <td>77901.294744</td>\n",
       "      <td>77902.037879</td>\n",
       "      <td>77908.918529</td>\n",
       "      <td>77915.819825</td>\n",
       "      <td>77903.441838</td>\n",
       "      <td>77892.644420</td>\n",
       "      <td>77902.196130</td>\n",
       "      <td>77897.672069</td>\n",
       "      <td>...</td>\n",
       "      <td>114614.792502</td>\n",
       "      <td>114615.197337</td>\n",
       "      <td>114615.328005</td>\n",
       "      <td>114615.032510</td>\n",
       "      <td>114615.427045</td>\n",
       "      <td>114615.479867</td>\n",
       "      <td>114615.253482</td>\n",
       "      <td>114614.543489</td>\n",
       "      <td>114614.497958</td>\n",
       "      <td>0</td>\n",
       "    </tr>\n",
       "    <tr>\n",
       "      <th>23</th>\n",
       "      <td>57872.923314</td>\n",
       "      <td>57867.404649</td>\n",
       "      <td>57869.875955</td>\n",
       "      <td>57873.861769</td>\n",
       "      <td>57874.105052</td>\n",
       "      <td>57877.119209</td>\n",
       "      <td>57867.815270</td>\n",
       "      <td>57866.116360</td>\n",
       "      <td>57870.890395</td>\n",
       "      <td>57872.707613</td>\n",
       "      <td>...</td>\n",
       "      <td>85137.511743</td>\n",
       "      <td>85137.471387</td>\n",
       "      <td>85137.422563</td>\n",
       "      <td>85137.324035</td>\n",
       "      <td>85137.694931</td>\n",
       "      <td>85137.667589</td>\n",
       "      <td>85137.493237</td>\n",
       "      <td>85137.576503</td>\n",
       "      <td>85137.579854</td>\n",
       "      <td>1</td>\n",
       "    </tr>\n",
       "    <tr>\n",
       "      <th>24</th>\n",
       "      <td>23737.507729</td>\n",
       "      <td>23703.337772</td>\n",
       "      <td>23683.724240</td>\n",
       "      <td>23719.810333</td>\n",
       "      <td>23718.304043</td>\n",
       "      <td>23724.796173</td>\n",
       "      <td>23744.506479</td>\n",
       "      <td>23739.200124</td>\n",
       "      <td>23733.973069</td>\n",
       "      <td>23731.417918</td>\n",
       "      <td>...</td>\n",
       "      <td>34909.847325</td>\n",
       "      <td>34909.817159</td>\n",
       "      <td>34909.830729</td>\n",
       "      <td>34909.836524</td>\n",
       "      <td>34909.783575</td>\n",
       "      <td>34909.546247</td>\n",
       "      <td>34909.537649</td>\n",
       "      <td>34909.633738</td>\n",
       "      <td>34909.693575</td>\n",
       "      <td>0</td>\n",
       "    </tr>\n",
       "  </tbody>\n",
       "</table>\n",
       "<p>1080 rows × 1504 columns</p>\n",
       "</div>"
      ],
      "text/plain": [
       "                                  0             1             2             3  \\\n",
       "id_user session video                                                           \n",
       "10      1       1      12650.603507  12648.390584  12627.183801  12644.366178   \n",
       "                2      23159.311016  23228.675318  23200.891697  23214.945153   \n",
       "                3      20310.108415  20344.375682  20342.634717  20324.171070   \n",
       "                4      21714.090429  21693.944995  21692.633774  21691.334161   \n",
       "                5      26387.909596  26468.273255  26470.628686  26474.199258   \n",
       "...                             ...           ...           ...           ...   \n",
       "9       3       20     83232.652198  83262.416482  83271.476343  83269.486399   \n",
       "                21     44377.498193  44368.071520  44360.024699  44375.239472   \n",
       "                22     77909.122398  77912.585034  77901.294744  77902.037879   \n",
       "                23     57872.923314  57867.404649  57869.875955  57873.861769   \n",
       "                24     23737.507729  23703.337772  23683.724240  23719.810333   \n",
       "\n",
       "                                  4             5             6             7  \\\n",
       "id_user session video                                                           \n",
       "10      1       1      12655.821677  12657.912527  12657.423942  12670.734588   \n",
       "                2      23185.253969  23197.676893  23220.022194  23230.254935   \n",
       "                3      20358.065116  20380.788349  20358.704419  20326.576719   \n",
       "                4      21688.980463  21705.762150  21716.607324  21682.026333   \n",
       "                5      26474.122085  26464.252362  26501.362420  26497.658895   \n",
       "...                             ...           ...           ...           ...   \n",
       "9       3       20     83264.655727  83254.617406  83263.672846  83221.614911   \n",
       "                21     44372.010338  44366.725660  44361.905632  44366.783955   \n",
       "                22     77908.918529  77915.819825  77903.441838  77892.644420   \n",
       "                23     57874.105052  57877.119209  57867.815270  57866.116360   \n",
       "                24     23718.304043  23724.796173  23744.506479  23739.200124   \n",
       "\n",
       "                                  8             9  ...           1494  \\\n",
       "id_user session video                              ...                  \n",
       "10      1       1      12671.490607  12675.944154  ...   18690.330810   \n",
       "                2      23243.865618  23243.604063  ...   34293.059359   \n",
       "                3      20340.163577  20371.347796  ...   30060.106190   \n",
       "                4      21727.137159  21729.282150  ...   32035.791191   \n",
       "                5      26528.326749  26475.762155  ...   39129.674113   \n",
       "...                             ...           ...  ...            ...   \n",
       "9       3       20     83229.445640  83261.786274  ...  122478.488712   \n",
       "                21     44369.859135  44363.422629  ...   65272.166365   \n",
       "                22     77902.196130  77897.672069  ...  114614.792502   \n",
       "                23     57870.890395  57872.707613  ...   85137.511743   \n",
       "                24     23733.973069  23731.417918  ...   34909.847325   \n",
       "\n",
       "                                1495           1496           1497  \\\n",
       "id_user session video                                                \n",
       "10      1       1       18690.888346   18690.699299   18690.448836   \n",
       "                2       34293.244473   34293.176953   34293.509391   \n",
       "                3       30060.274793   30060.127199   30059.981530   \n",
       "                4       32035.900896   32035.502696   32035.721090   \n",
       "                5       39130.153228   39129.623449   39129.347652   \n",
       "...                              ...            ...            ...   \n",
       "9       3       20     122478.000338  122478.037504  122478.177637   \n",
       "                21      65271.981952   65272.082634   65272.035110   \n",
       "                22     114615.197337  114615.328005  114615.032510   \n",
       "                23      85137.471387   85137.422563   85137.324035   \n",
       "                24      34909.817159   34909.830729   34909.836524   \n",
       "\n",
       "                                1498           1499           1500  \\\n",
       "id_user session video                                                \n",
       "10      1       1       18690.635126   18690.550518   18690.559141   \n",
       "                2       34293.721242   34293.288971   34294.530334   \n",
       "                3       30060.060945   30060.167777   30060.120787   \n",
       "                4       32035.662420   32035.617293   32035.580044   \n",
       "                5       39129.438036   39130.083341   39129.956865   \n",
       "...                              ...            ...            ...   \n",
       "9       3       20     122478.354003  122478.625819  122478.211276   \n",
       "                21      65271.941504   65271.961031   65272.140795   \n",
       "                22     114615.427045  114615.479867  114615.253482   \n",
       "                23      85137.694931   85137.667589   85137.493237   \n",
       "                24      34909.783575   34909.546247   34909.537649   \n",
       "\n",
       "                                1501           1502  emotion  \n",
       "id_user session video                                         \n",
       "10      1       1       18690.674505   18690.368147        1  \n",
       "                2       34293.230314   34293.609053        2  \n",
       "                3       30060.152941   30060.264402        3  \n",
       "                4       32035.942336   32035.867815        0  \n",
       "                5       39130.150734   39130.472861        2  \n",
       "...                              ...            ...      ...  \n",
       "9       3       20     122478.236329  122478.109120        0  \n",
       "                21      65271.929299   65271.714088        2  \n",
       "                22     114614.543489  114614.497958        0  \n",
       "                23      85137.576503   85137.579854        1  \n",
       "                24      34909.633738   34909.693575        0  \n",
       "\n",
       "[1080 rows x 1504 columns]"
      ]
     },
     "execution_count": 75,
     "metadata": {},
     "output_type": "execute_result"
    }
   ],
   "source": [
    "df"
   ]
  },
  {
   "cell_type": "markdown",
   "id": "bdd38797",
   "metadata": {},
   "source": [
    "## DEPENDENCY"
   ]
  },
  {
   "cell_type": "code",
   "execution_count": 81,
   "id": "8274d832",
   "metadata": {
    "scrolled": false
   },
   "outputs": [
    {
     "name": "stdout",
     "output_type": "stream",
     "text": [
      "[21 16 15 22 19 23 21 21]\n",
      "[2 3 0 1]\n"
     ]
    }
   ],
   "source": [
    "X_trainSD,y_trainSD,X_testSD,y_testSD = split_sub_dep(df)"
   ]
  },
  {
   "cell_type": "code",
   "execution_count": 104,
   "id": "3555817b",
   "metadata": {},
   "outputs": [],
   "source": [
    "clfSD = GradientBoostingClassifier(n_estimators=20, learning_rate=0.3, max_depth=4,random_state=0).fit(X_trainSD, y_trainSD)"
   ]
  },
  {
   "cell_type": "code",
   "execution_count": 105,
   "id": "9ee95dc9",
   "metadata": {},
   "outputs": [
    {
     "data": {
      "text/plain": [
       "0.2111111111111111"
      ]
     },
     "execution_count": 105,
     "metadata": {},
     "output_type": "execute_result"
    }
   ],
   "source": [
    "clfSD.score(X_testSD, y_testSD)"
   ]
  },
  {
   "cell_type": "code",
   "execution_count": 106,
   "id": "0394e056",
   "metadata": {},
   "outputs": [
    {
     "data": {
      "text/plain": [
       "0.8074074074074075"
      ]
     },
     "execution_count": 106,
     "metadata": {},
     "output_type": "execute_result"
    }
   ],
   "source": [
    "clfSD.score(X_trainSD,y_trainSD)"
   ]
  },
  {
   "cell_type": "code",
   "execution_count": 101,
   "id": "c0fd9f60",
   "metadata": {},
   "outputs": [],
   "source": [
    "rfc = RandomForestClassifier(n_estimators=40, max_depth=8,random_state=42).fit(X_trainSD,y_trainSD)"
   ]
  },
  {
   "cell_type": "code",
   "execution_count": 102,
   "id": "1b959399",
   "metadata": {},
   "outputs": [
    {
     "data": {
      "text/plain": [
       "0.7049382716049383"
      ]
     },
     "execution_count": 102,
     "metadata": {},
     "output_type": "execute_result"
    }
   ],
   "source": [
    "rfc.score(X_trainSD,y_trainSD)"
   ]
  },
  {
   "cell_type": "code",
   "execution_count": 103,
   "id": "d593af04",
   "metadata": {},
   "outputs": [
    {
     "data": {
      "text/plain": [
       "0.24074074074074073"
      ]
     },
     "execution_count": 103,
     "metadata": {},
     "output_type": "execute_result"
    }
   ],
   "source": [
    "rfc.score(X_testSD,y_testSD)"
   ]
  },
  {
   "cell_type": "code",
   "execution_count": null,
   "id": "90d8a3f6",
   "metadata": {},
   "outputs": [],
   "source": [
    "y_pred = clfSD.predict(X_testSD)"
   ]
  },
  {
   "cell_type": "code",
   "execution_count": null,
   "id": "62f582d2",
   "metadata": {},
   "outputs": [],
   "source": [
    "print(classification_report(y_testSD,y_pred))"
   ]
  },
  {
   "cell_type": "markdown",
   "id": "d2a957be",
   "metadata": {},
   "source": [
    "## INDIPENDENCY"
   ]
  },
  {
   "cell_type": "code",
   "execution_count": 25,
   "id": "ca95b864",
   "metadata": {},
   "outputs": [],
   "source": [
    "X_SI,y_SI,groups = SubjectIndipendent_GBC(df)"
   ]
  },
  {
   "cell_type": "code",
   "execution_count": 108,
   "id": "9329d29e",
   "metadata": {},
   "outputs": [
    {
     "name": "stderr",
     "output_type": "stream",
     "text": [
      "[Parallel(n_jobs=-1)]: Using backend LokyBackend with 8 concurrent workers.\n",
      "[Parallel(n_jobs=-1)]: Done  15 out of  15 | elapsed:  4.3min finished\n"
     ]
    },
    {
     "name": "stdout",
     "output_type": "stream",
     "text": [
      "0.2537037037037037\n"
     ]
    }
   ],
   "source": [
    "model = GradientBoostingClassifier(n_estimators=20, learning_rate=0.1, max_depth=5, random_state=0)\n",
    "logo = LeaveOneGroupOut()\n",
    "logo.get_n_splits(X_SI, y_SI, groups)\n",
    "scores = cross_val_score(model, X_SI, y_SI, cv=logo, verbose=1 , groups = groups, n_jobs = -1)\n",
    "print(scores.mean())"
   ]
  },
  {
   "cell_type": "code",
   "execution_count": 26,
   "id": "042716e7",
   "metadata": {},
   "outputs": [
    {
     "name": "stderr",
     "output_type": "stream",
     "text": [
      "[Parallel(n_jobs=-1)]: Using backend LokyBackend with 8 concurrent workers.\n",
      "[Parallel(n_jobs=-1)]: Done  15 out of  15 | elapsed:    6.8s finished\n"
     ]
    },
    {
     "name": "stdout",
     "output_type": "stream",
     "text": [
      "0.31296296296296305\n"
     ]
    }
   ],
   "source": [
    "model = RandomForestClassifier(n_estimators=20, max_depth=15, random_state=0)\n",
    "logo = LeaveOneGroupOut()\n",
    "logo.get_n_splits(X_SI, y_SI, groups)\n",
    "scores = cross_val_score(model, X_SI, y_SI, cv=logo, verbose=1 , groups = groups, n_jobs = -1)\n",
    "print(scores.mean())"
   ]
  },
  {
   "cell_type": "markdown",
   "id": "a84aa3ab",
   "metadata": {},
   "source": [
    "## BIAS"
   ]
  },
  {
   "cell_type": "code",
   "execution_count": 27,
   "id": "f5bccdb4",
   "metadata": {},
   "outputs": [],
   "source": [
    "X_trainSB, X_testSB, y_trainSB, y_testSB = train_test_split(df.drop('emotion',axis=1), df.emotion, test_size=0.20, random_state=42)"
   ]
  },
  {
   "cell_type": "code",
   "execution_count": 29,
   "id": "7ab1fae5",
   "metadata": {},
   "outputs": [],
   "source": [
    "clf = GradientBoostingClassifier(n_estimators=20, learning_rate=0.1, max_depth=3, random_state=0).fit(X_trainSB, y_trainSB)"
   ]
  },
  {
   "cell_type": "code",
   "execution_count": 30,
   "id": "185868ef",
   "metadata": {},
   "outputs": [
    {
     "data": {
      "text/plain": [
       "0.3101851851851852"
      ]
     },
     "execution_count": 30,
     "metadata": {},
     "output_type": "execute_result"
    }
   ],
   "source": [
    "clf.score(X_testSB, y_testSB)"
   ]
  },
  {
   "cell_type": "code",
   "execution_count": 31,
   "id": "c96163a9",
   "metadata": {},
   "outputs": [
    {
     "data": {
      "text/plain": [
       "0.8518518518518519"
      ]
     },
     "execution_count": 31,
     "metadata": {},
     "output_type": "execute_result"
    }
   ],
   "source": [
    "clf.score(X_trainSB, y_trainSB)"
   ]
  },
  {
   "cell_type": "code",
   "execution_count": 36,
   "id": "c4022b31",
   "metadata": {},
   "outputs": [],
   "source": [
    "rfc = RandomForestClassifier(n_estimators=20, max_depth=5, random_state=0).fit(X_trainSB,y_trainSB)"
   ]
  },
  {
   "cell_type": "code",
   "execution_count": 37,
   "id": "b803b906",
   "metadata": {},
   "outputs": [
    {
     "data": {
      "text/plain": [
       "0.3287037037037037"
      ]
     },
     "execution_count": 37,
     "metadata": {},
     "output_type": "execute_result"
    }
   ],
   "source": [
    "rfc.score(X_testSB,y_testSB)"
   ]
  },
  {
   "cell_type": "code",
   "execution_count": 38,
   "id": "4a055945",
   "metadata": {},
   "outputs": [
    {
     "data": {
      "text/plain": [
       "0.6979166666666666"
      ]
     },
     "execution_count": 38,
     "metadata": {},
     "output_type": "execute_result"
    }
   ],
   "source": [
    "rfc.score(X_trainSB,y_trainSB)"
   ]
  },
  {
   "cell_type": "code",
   "execution_count": null,
   "id": "61a118c8",
   "metadata": {},
   "outputs": [],
   "source": []
  }
 ],
 "metadata": {
  "kernelspec": {
   "display_name": "Python 3 (ipykernel)",
   "language": "python",
   "name": "python3"
  },
  "language_info": {
   "codemirror_mode": {
    "name": "ipython",
    "version": 3
   },
   "file_extension": ".py",
   "mimetype": "text/x-python",
   "name": "python",
   "nbconvert_exporter": "python",
   "pygments_lexer": "ipython3",
   "version": "3.8.10"
  }
 },
 "nbformat": 4,
 "nbformat_minor": 5
}
