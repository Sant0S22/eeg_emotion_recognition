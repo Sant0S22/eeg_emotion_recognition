{
 "cells": [
  {
   "cell_type": "code",
   "execution_count": null,
   "id": "d02527c4",
   "metadata": {},
   "outputs": [],
   "source": [
    "import pandas as pd\n",
    "import numpy as np\n",
    "from sklearn import svm\n",
    "from sklearn.ensemble import GradientBoostingClassifier\n",
    "from sklearn.model_selection import train_test_split\n",
    "from sklearn.model_selection import LeaveOneOut\n",
    "from sklearn.model_selection import cross_val_score"
   ]
  },
  {
   "cell_type": "code",
   "execution_count": null,
   "id": "264680e7",
   "metadata": {},
   "outputs": [],
   "source": [
    "df = pd.read_csv(\"dataset_eeg.csv\")"
   ]
  },
  {
   "cell_type": "code",
   "execution_count": null,
   "id": "4db7ee68",
   "metadata": {},
   "outputs": [],
   "source": [
    "df.drop(['Unnamed: 0'],axis=1, inplace=True)"
   ]
  },
  {
   "cell_type": "code",
   "execution_count": null,
   "id": "f0dcddb3",
   "metadata": {},
   "outputs": [],
   "source": [
    "df = df.set_index(['id_user','session','video'])"
   ]
  },
  {
   "cell_type": "code",
   "execution_count": null,
   "id": "3ce5223c",
   "metadata": {
    "scrolled": true
   },
   "outputs": [],
   "source": [
    "df"
   ]
  },
  {
   "cell_type": "markdown",
   "id": "e462e128",
   "metadata": {},
   "source": [
    "## Split train e test\n",
    "### Subject Dependent\n",
    "16 trials train e 8 test\n",
    "2 testing group for labels "
   ]
  },
  {
   "cell_type": "code",
   "execution_count": null,
   "id": "a21146b2",
   "metadata": {},
   "outputs": [],
   "source": []
  },
  {
   "cell_type": "markdown",
   "id": "072c7ca7",
   "metadata": {},
   "source": [
    "### Subject Indipendent\n",
    "Leave One Out Cross Validation\n",
    "#### GradientBoostingClassifier"
   ]
  },
  {
   "cell_type": "code",
   "execution_count": null,
   "id": "9652dd7b",
   "metadata": {},
   "outputs": [],
   "source": [
    "model = GradientBoostingClassifier(n_estimators=100, learning_rate=1.0, max_depth=1, random_state=0)"
   ]
  },
  {
   "cell_type": "code",
   "execution_count": null,
   "id": "896b323c",
   "metadata": {},
   "outputs": [],
   "source": [
    "loo = LeaveOneOut()"
   ]
  },
  {
   "cell_type": "code",
   "execution_count": null,
   "id": "5ddf7b59",
   "metadata": {},
   "outputs": [],
   "source": [
    "scores = cross_val_score(model, df.drop('emotion',axis=1), df.emotion, cv=loo)"
   ]
  },
  {
   "cell_type": "markdown",
   "id": "2be3f8ec",
   "metadata": {},
   "source": [
    "### Subject-Biased Experiment\n",
    "train_test_split"
   ]
  },
  {
   "cell_type": "code",
   "execution_count": null,
   "id": "e1e2b180",
   "metadata": {},
   "outputs": [],
   "source": [
    "X_trainSB, X_testSB, y_trainSB, y_testSB = train_test_split(df.drop('emotion',axis=1), df.emotion, test_size=0.20, random_state=42)"
   ]
  },
  {
   "cell_type": "code",
   "execution_count": null,
   "id": "fe9c5e99",
   "metadata": {},
   "outputs": [],
   "source": [
    "X_testSB"
   ]
  },
  {
   "cell_type": "markdown",
   "id": "2bf42076",
   "metadata": {},
   "source": [
    "#### GradientBoostingClassifier"
   ]
  },
  {
   "cell_type": "code",
   "execution_count": null,
   "id": "f2d750f8",
   "metadata": {},
   "outputs": [],
   "source": [
    "clf = GradientBoostingClassifier(n_estimators=100, learning_rate=1.0, max_depth=1, random_state=0).fit(X_trainSB, y_trainSB)"
   ]
  },
  {
   "cell_type": "code",
   "execution_count": null,
   "id": "75f28b8f",
   "metadata": {},
   "outputs": [],
   "source": [
    "clf.score(X_testSB, y_testSB)"
   ]
  },
  {
   "cell_type": "markdown",
   "id": "0023d2e0",
   "metadata": {},
   "source": [
    "#### SVM\n",
    "neutral, sad, fear, and happy => 0 , 1 , 2 , 3"
   ]
  },
  {
   "cell_type": "code",
   "execution_count": null,
   "id": "0fc5e4a7",
   "metadata": {
    "scrolled": false
   },
   "outputs": [],
   "source": [
    "neutral = svm.SVC()\n",
    "sad = svm.SVC()\n",
    "fear = svm.SVC()\n",
    "happy = svm.SVC()"
   ]
  }
 ],
 "metadata": {
  "kernelspec": {
   "display_name": "Python 3 (ipykernel)",
   "language": "python",
   "name": "python3"
  },
  "language_info": {
   "codemirror_mode": {
    "name": "ipython",
    "version": 3
   },
   "file_extension": ".py",
   "mimetype": "text/x-python",
   "name": "python",
   "nbconvert_exporter": "python",
   "pygments_lexer": "ipython3",
   "version": "3.11.0"
  }
 },
 "nbformat": 4,
 "nbformat_minor": 5
}
