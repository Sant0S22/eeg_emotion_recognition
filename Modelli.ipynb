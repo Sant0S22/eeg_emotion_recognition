{
 "cells": [
  {
   "cell_type": "code",
   "execution_count": 1,
   "id": "e034f27f",
   "metadata": {},
   "outputs": [],
   "source": [
    "import pandas as pd\n",
    "import numpy as np\n",
    "from sklearn import svm\n",
    "from sklearn.ensemble import GradientBoostingClassifier\n",
    "from sklearn.ensemble import RandomForestClassifier\n",
    "from sklearn.model_selection import train_test_split\n",
    "from sklearn.model_selection import LeaveOneGroupOut\n",
    "from sklearn.model_selection import cross_val_score\n",
    "from sklearn.metrics import classification_report"
   ]
  },
  {
   "cell_type": "markdown",
   "id": "b791c90e",
   "metadata": {},
   "source": [
    "### Utility functions"
   ]
  },
  {
   "cell_type": "code",
   "execution_count": 2,
   "id": "edd76c1a",
   "metadata": {},
   "outputs": [],
   "source": [
    "def print_classification_report(clf, X_test, y,test):\n",
    "    y_pred = clf.predict(X_test)\n",
    "    print(classification_report(y_test,y_pred))"
   ]
  },
  {
   "cell_type": "markdown",
   "id": "ede573fb",
   "metadata": {},
   "source": [
    "# Dataset completo \n",
    "Concatenazione delle feature"
   ]
  },
  {
   "cell_type": "code",
   "execution_count": 3,
   "id": "4e960a85",
   "metadata": {},
   "outputs": [],
   "source": [
    "df = pd.read_csv(\"dataset_eeg_nseg.csv\")\n",
    "df.drop(['Unnamed: 0'],axis=1, inplace=True)\n",
    "df = df.set_index(['id_user','session','video'])"
   ]
  },
  {
   "cell_type": "code",
   "execution_count": 4,
   "id": "20738259",
   "metadata": {
    "scrolled": false
   },
   "outputs": [
    {
     "data": {
      "text/html": [
       "<div>\n",
       "<style scoped>\n",
       "    .dataframe tbody tr th:only-of-type {\n",
       "        vertical-align: middle;\n",
       "    }\n",
       "\n",
       "    .dataframe tbody tr th {\n",
       "        vertical-align: top;\n",
       "    }\n",
       "\n",
       "    .dataframe thead th {\n",
       "        text-align: right;\n",
       "    }\n",
       "</style>\n",
       "<table border=\"1\" class=\"dataframe\">\n",
       "  <thead>\n",
       "    <tr style=\"text-align: right;\">\n",
       "      <th></th>\n",
       "      <th></th>\n",
       "      <th></th>\n",
       "      <th>0</th>\n",
       "      <th>1</th>\n",
       "      <th>2</th>\n",
       "      <th>3</th>\n",
       "      <th>4</th>\n",
       "      <th>5</th>\n",
       "      <th>6</th>\n",
       "      <th>7</th>\n",
       "      <th>8</th>\n",
       "      <th>9</th>\n",
       "      <th>...</th>\n",
       "      <th>5502</th>\n",
       "      <th>5503</th>\n",
       "      <th>5504</th>\n",
       "      <th>5505</th>\n",
       "      <th>5506</th>\n",
       "      <th>5507</th>\n",
       "      <th>5508</th>\n",
       "      <th>5509</th>\n",
       "      <th>5510</th>\n",
       "      <th>emotion</th>\n",
       "    </tr>\n",
       "    <tr>\n",
       "      <th>id_user</th>\n",
       "      <th>session</th>\n",
       "      <th>video</th>\n",
       "      <th></th>\n",
       "      <th></th>\n",
       "      <th></th>\n",
       "      <th></th>\n",
       "      <th></th>\n",
       "      <th></th>\n",
       "      <th></th>\n",
       "      <th></th>\n",
       "      <th></th>\n",
       "      <th></th>\n",
       "      <th></th>\n",
       "      <th></th>\n",
       "      <th></th>\n",
       "      <th></th>\n",
       "      <th></th>\n",
       "      <th></th>\n",
       "      <th></th>\n",
       "      <th></th>\n",
       "      <th></th>\n",
       "      <th></th>\n",
       "      <th></th>\n",
       "    </tr>\n",
       "  </thead>\n",
       "  <tbody>\n",
       "    <tr>\n",
       "      <th rowspan=\"5\" valign=\"top\">10</th>\n",
       "      <th rowspan=\"5\" valign=\"top\">1</th>\n",
       "      <th>1</th>\n",
       "      <td>0.000056</td>\n",
       "      <td>0.000210</td>\n",
       "      <td>0.000578</td>\n",
       "      <td>0.001068</td>\n",
       "      <td>0.001386</td>\n",
       "      <td>0.001648</td>\n",
       "      <td>0.000803</td>\n",
       "      <td>0.000437</td>\n",
       "      <td>0.000751</td>\n",
       "      <td>0.000383</td>\n",
       "      <td>...</td>\n",
       "      <td>0.680894</td>\n",
       "      <td>0.677372</td>\n",
       "      <td>0.678587</td>\n",
       "      <td>0.680154</td>\n",
       "      <td>0.679000</td>\n",
       "      <td>0.679539</td>\n",
       "      <td>0.679375</td>\n",
       "      <td>0.678674</td>\n",
       "      <td>0.680591</td>\n",
       "      <td>1</td>\n",
       "    </tr>\n",
       "    <tr>\n",
       "      <th>2</th>\n",
       "      <td>0.000073</td>\n",
       "      <td>0.000045</td>\n",
       "      <td>0.000349</td>\n",
       "      <td>0.000667</td>\n",
       "      <td>0.000553</td>\n",
       "      <td>0.000305</td>\n",
       "      <td>0.000502</td>\n",
       "      <td>0.000579</td>\n",
       "      <td>0.000626</td>\n",
       "      <td>0.000521</td>\n",
       "      <td>...</td>\n",
       "      <td>0.681449</td>\n",
       "      <td>0.680814</td>\n",
       "      <td>0.681055</td>\n",
       "      <td>0.679858</td>\n",
       "      <td>0.679219</td>\n",
       "      <td>0.680615</td>\n",
       "      <td>0.676147</td>\n",
       "      <td>0.680797</td>\n",
       "      <td>0.679779</td>\n",
       "      <td>2</td>\n",
       "    </tr>\n",
       "    <tr>\n",
       "      <th>3</th>\n",
       "      <td>0.000053</td>\n",
       "      <td>0.000243</td>\n",
       "      <td>0.000697</td>\n",
       "      <td>0.000991</td>\n",
       "      <td>0.000822</td>\n",
       "      <td>0.000288</td>\n",
       "      <td>0.000170</td>\n",
       "      <td>0.000315</td>\n",
       "      <td>0.000519</td>\n",
       "      <td>0.000392</td>\n",
       "      <td>...</td>\n",
       "      <td>0.680556</td>\n",
       "      <td>0.679891</td>\n",
       "      <td>0.680421</td>\n",
       "      <td>0.680982</td>\n",
       "      <td>0.680714</td>\n",
       "      <td>0.680317</td>\n",
       "      <td>0.680449</td>\n",
       "      <td>0.680310</td>\n",
       "      <td>0.679916</td>\n",
       "      <td>3</td>\n",
       "    </tr>\n",
       "    <tr>\n",
       "      <th>4</th>\n",
       "      <td>0.000032</td>\n",
       "      <td>0.000114</td>\n",
       "      <td>0.000367</td>\n",
       "      <td>0.000646</td>\n",
       "      <td>0.000741</td>\n",
       "      <td>0.000520</td>\n",
       "      <td>0.000351</td>\n",
       "      <td>0.000349</td>\n",
       "      <td>0.000443</td>\n",
       "      <td>0.000537</td>\n",
       "      <td>...</td>\n",
       "      <td>0.681528</td>\n",
       "      <td>0.681170</td>\n",
       "      <td>0.682441</td>\n",
       "      <td>0.681751</td>\n",
       "      <td>0.681922</td>\n",
       "      <td>0.682117</td>\n",
       "      <td>0.682258</td>\n",
       "      <td>0.681055</td>\n",
       "      <td>0.681194</td>\n",
       "      <td>0</td>\n",
       "    </tr>\n",
       "    <tr>\n",
       "      <th>5</th>\n",
       "      <td>0.000037</td>\n",
       "      <td>0.000115</td>\n",
       "      <td>0.000549</td>\n",
       "      <td>0.000856</td>\n",
       "      <td>0.000560</td>\n",
       "      <td>0.000430</td>\n",
       "      <td>0.000418</td>\n",
       "      <td>0.000234</td>\n",
       "      <td>0.000129</td>\n",
       "      <td>0.000227</td>\n",
       "      <td>...</td>\n",
       "      <td>0.681270</td>\n",
       "      <td>0.679830</td>\n",
       "      <td>0.681256</td>\n",
       "      <td>0.682198</td>\n",
       "      <td>0.681864</td>\n",
       "      <td>0.680023</td>\n",
       "      <td>0.680439</td>\n",
       "      <td>0.680000</td>\n",
       "      <td>0.679143</td>\n",
       "      <td>2</td>\n",
       "    </tr>\n",
       "    <tr>\n",
       "      <th>...</th>\n",
       "      <th>...</th>\n",
       "      <th>...</th>\n",
       "      <td>...</td>\n",
       "      <td>...</td>\n",
       "      <td>...</td>\n",
       "      <td>...</td>\n",
       "      <td>...</td>\n",
       "      <td>...</td>\n",
       "      <td>...</td>\n",
       "      <td>...</td>\n",
       "      <td>...</td>\n",
       "      <td>...</td>\n",
       "      <td>...</td>\n",
       "      <td>...</td>\n",
       "      <td>...</td>\n",
       "      <td>...</td>\n",
       "      <td>...</td>\n",
       "      <td>...</td>\n",
       "      <td>...</td>\n",
       "      <td>...</td>\n",
       "      <td>...</td>\n",
       "      <td>...</td>\n",
       "      <td>...</td>\n",
       "    </tr>\n",
       "    <tr>\n",
       "      <th rowspan=\"5\" valign=\"top\">9</th>\n",
       "      <th rowspan=\"5\" valign=\"top\">3</th>\n",
       "      <th>20</th>\n",
       "      <td>0.000005</td>\n",
       "      <td>0.000028</td>\n",
       "      <td>0.000144</td>\n",
       "      <td>0.000136</td>\n",
       "      <td>0.000052</td>\n",
       "      <td>0.000212</td>\n",
       "      <td>0.000210</td>\n",
       "      <td>0.000047</td>\n",
       "      <td>0.000127</td>\n",
       "      <td>0.000165</td>\n",
       "      <td>...</td>\n",
       "      <td>0.683626</td>\n",
       "      <td>0.684026</td>\n",
       "      <td>0.683992</td>\n",
       "      <td>0.683872</td>\n",
       "      <td>0.683737</td>\n",
       "      <td>0.683521</td>\n",
       "      <td>0.683858</td>\n",
       "      <td>0.683820</td>\n",
       "      <td>0.683911</td>\n",
       "      <td>0</td>\n",
       "    </tr>\n",
       "    <tr>\n",
       "      <th>21</th>\n",
       "      <td>0.000012</td>\n",
       "      <td>0.000020</td>\n",
       "      <td>0.000093</td>\n",
       "      <td>0.000228</td>\n",
       "      <td>0.000360</td>\n",
       "      <td>0.000446</td>\n",
       "      <td>0.000264</td>\n",
       "      <td>0.000091</td>\n",
       "      <td>0.000087</td>\n",
       "      <td>0.000094</td>\n",
       "      <td>...</td>\n",
       "      <td>0.683333</td>\n",
       "      <td>0.683626</td>\n",
       "      <td>0.683485</td>\n",
       "      <td>0.683547</td>\n",
       "      <td>0.683689</td>\n",
       "      <td>0.683664</td>\n",
       "      <td>0.683373</td>\n",
       "      <td>0.683693</td>\n",
       "      <td>0.684037</td>\n",
       "      <td>2</td>\n",
       "    </tr>\n",
       "    <tr>\n",
       "      <th>22</th>\n",
       "      <td>0.000006</td>\n",
       "      <td>0.000026</td>\n",
       "      <td>0.000080</td>\n",
       "      <td>0.000192</td>\n",
       "      <td>0.000179</td>\n",
       "      <td>0.000068</td>\n",
       "      <td>0.000094</td>\n",
       "      <td>0.000052</td>\n",
       "      <td>0.000129</td>\n",
       "      <td>0.000117</td>\n",
       "      <td>...</td>\n",
       "      <td>0.683917</td>\n",
       "      <td>0.683562</td>\n",
       "      <td>0.683447</td>\n",
       "      <td>0.683692</td>\n",
       "      <td>0.683361</td>\n",
       "      <td>0.683313</td>\n",
       "      <td>0.683518</td>\n",
       "      <td>0.684135</td>\n",
       "      <td>0.684174</td>\n",
       "      <td>0</td>\n",
       "    </tr>\n",
       "    <tr>\n",
       "      <th>23</th>\n",
       "      <td>0.000035</td>\n",
       "      <td>0.000116</td>\n",
       "      <td>0.000271</td>\n",
       "      <td>0.000244</td>\n",
       "      <td>0.000255</td>\n",
       "      <td>0.000180</td>\n",
       "      <td>0.000203</td>\n",
       "      <td>0.000097</td>\n",
       "      <td>0.000168</td>\n",
       "      <td>0.000173</td>\n",
       "      <td>...</td>\n",
       "      <td>0.683632</td>\n",
       "      <td>0.683680</td>\n",
       "      <td>0.683738</td>\n",
       "      <td>0.683844</td>\n",
       "      <td>0.683406</td>\n",
       "      <td>0.683448</td>\n",
       "      <td>0.683663</td>\n",
       "      <td>0.683562</td>\n",
       "      <td>0.683567</td>\n",
       "      <td>1</td>\n",
       "    </tr>\n",
       "    <tr>\n",
       "      <th>24</th>\n",
       "      <td>0.000016</td>\n",
       "      <td>0.000144</td>\n",
       "      <td>0.000096</td>\n",
       "      <td>0.000285</td>\n",
       "      <td>0.000275</td>\n",
       "      <td>0.000113</td>\n",
       "      <td>0.000217</td>\n",
       "      <td>0.000480</td>\n",
       "      <td>0.000640</td>\n",
       "      <td>0.000708</td>\n",
       "      <td>...</td>\n",
       "      <td>0.683428</td>\n",
       "      <td>0.683518</td>\n",
       "      <td>0.683481</td>\n",
       "      <td>0.683462</td>\n",
       "      <td>0.683615</td>\n",
       "      <td>0.684293</td>\n",
       "      <td>0.684325</td>\n",
       "      <td>0.684048</td>\n",
       "      <td>0.683871</td>\n",
       "      <td>0</td>\n",
       "    </tr>\n",
       "  </tbody>\n",
       "</table>\n",
       "<p>1080 rows × 5512 columns</p>\n",
       "</div>"
      ],
      "text/plain": [
       "                              0         1         2         3         4  \\\n",
       "id_user session video                                                     \n",
       "10      1       1      0.000056  0.000210  0.000578  0.001068  0.001386   \n",
       "                2      0.000073  0.000045  0.000349  0.000667  0.000553   \n",
       "                3      0.000053  0.000243  0.000697  0.000991  0.000822   \n",
       "                4      0.000032  0.000114  0.000367  0.000646  0.000741   \n",
       "                5      0.000037  0.000115  0.000549  0.000856  0.000560   \n",
       "...                         ...       ...       ...       ...       ...   \n",
       "9       3       20     0.000005  0.000028  0.000144  0.000136  0.000052   \n",
       "                21     0.000012  0.000020  0.000093  0.000228  0.000360   \n",
       "                22     0.000006  0.000026  0.000080  0.000192  0.000179   \n",
       "                23     0.000035  0.000116  0.000271  0.000244  0.000255   \n",
       "                24     0.000016  0.000144  0.000096  0.000285  0.000275   \n",
       "\n",
       "                              5         6         7         8         9  ...  \\\n",
       "id_user session video                                                    ...   \n",
       "10      1       1      0.001648  0.000803  0.000437  0.000751  0.000383  ...   \n",
       "                2      0.000305  0.000502  0.000579  0.000626  0.000521  ...   \n",
       "                3      0.000288  0.000170  0.000315  0.000519  0.000392  ...   \n",
       "                4      0.000520  0.000351  0.000349  0.000443  0.000537  ...   \n",
       "                5      0.000430  0.000418  0.000234  0.000129  0.000227  ...   \n",
       "...                         ...       ...       ...       ...       ...  ...   \n",
       "9       3       20     0.000212  0.000210  0.000047  0.000127  0.000165  ...   \n",
       "                21     0.000446  0.000264  0.000091  0.000087  0.000094  ...   \n",
       "                22     0.000068  0.000094  0.000052  0.000129  0.000117  ...   \n",
       "                23     0.000180  0.000203  0.000097  0.000168  0.000173  ...   \n",
       "                24     0.000113  0.000217  0.000480  0.000640  0.000708  ...   \n",
       "\n",
       "                           5502      5503      5504      5505      5506  \\\n",
       "id_user session video                                                     \n",
       "10      1       1      0.680894  0.677372  0.678587  0.680154  0.679000   \n",
       "                2      0.681449  0.680814  0.681055  0.679858  0.679219   \n",
       "                3      0.680556  0.679891  0.680421  0.680982  0.680714   \n",
       "                4      0.681528  0.681170  0.682441  0.681751  0.681922   \n",
       "                5      0.681270  0.679830  0.681256  0.682198  0.681864   \n",
       "...                         ...       ...       ...       ...       ...   \n",
       "9       3       20     0.683626  0.684026  0.683992  0.683872  0.683737   \n",
       "                21     0.683333  0.683626  0.683485  0.683547  0.683689   \n",
       "                22     0.683917  0.683562  0.683447  0.683692  0.683361   \n",
       "                23     0.683632  0.683680  0.683738  0.683844  0.683406   \n",
       "                24     0.683428  0.683518  0.683481  0.683462  0.683615   \n",
       "\n",
       "                           5507      5508      5509      5510  emotion  \n",
       "id_user session video                                                   \n",
       "10      1       1      0.679539  0.679375  0.678674  0.680591        1  \n",
       "                2      0.680615  0.676147  0.680797  0.679779        2  \n",
       "                3      0.680317  0.680449  0.680310  0.679916        3  \n",
       "                4      0.682117  0.682258  0.681055  0.681194        0  \n",
       "                5      0.680023  0.680439  0.680000  0.679143        2  \n",
       "...                         ...       ...       ...       ...      ...  \n",
       "9       3       20     0.683521  0.683858  0.683820  0.683911        0  \n",
       "                21     0.683664  0.683373  0.683693  0.684037        2  \n",
       "                22     0.683313  0.683518  0.684135  0.684174        0  \n",
       "                23     0.683448  0.683663  0.683562  0.683567        1  \n",
       "                24     0.684293  0.684325  0.684048  0.683871        0  \n",
       "\n",
       "[1080 rows x 5512 columns]"
      ]
     },
     "execution_count": 4,
     "metadata": {},
     "output_type": "execute_result"
    }
   ],
   "source": [
    "df"
   ]
  },
  {
   "cell_type": "markdown",
   "id": "1dcd4cb8",
   "metadata": {},
   "source": [
    "## Split train e test\n",
    "### Subject Dependent\n",
    "16 trials train e 8 test\n",
    "2 testing group for labels "
   ]
  },
  {
   "cell_type": "code",
   "execution_count": 5,
   "id": "be20c8d0",
   "metadata": {},
   "outputs": [],
   "source": [
    "def subject_dependent_split(df,session):\n",
    "    df = df.reset_index()\n",
    "    np.random.seed(75)\n",
    "    test_videos = np.random.choice(np.arange(1, 25), replace=False, size=(8))\n",
    "    df_sess = df.loc[df['session'] == session]\n",
    "    X_test = df_sess[df_sess['video'].isin(test_videos)].set_index(['id_user','session','video']).drop('emotion',axis=1)\n",
    "    y_test = df_sess[df_sess['video'].isin(test_videos)].set_index(['id_user','session','video']).emotion\n",
    "    X_train = df_sess[~df_sess['video'].isin(test_videos)].set_index(['id_user','session','video']).drop('emotion',axis=1)\n",
    "    y_train = df_sess[~df_sess['video'].isin(test_videos)].set_index(['id_user','session','video']).emotion\n",
    "    return X_train, X_test, y_train, y_test"
   ]
  },
  {
   "cell_type": "code",
   "execution_count": 6,
   "id": "6854c22c",
   "metadata": {},
   "outputs": [],
   "source": [
    "scores_test = []\n",
    "scores_training = []\n",
    "clfSD = GradientBoostingClassifier(n_estimators=80, learning_rate=0.001, max_depth=5,random_state=104)\n",
    "for i in range(1,4):\n",
    "    X_trainSD, X_testSD, y_trainSD, y_testSD = subject_dependent_split(df,i)\n",
    "    clfSD.fit(X_trainSD, y_trainSD)\n",
    "    scores_test.append(clfSD.score(X_testSD, y_testSD))\n",
    "    scores_training.append(clfSD.score(X_trainSD, y_trainSD))"
   ]
  },
  {
   "cell_type": "code",
   "execution_count": 7,
   "id": "c9d31131",
   "metadata": {},
   "outputs": [
    {
     "name": "stdout",
     "output_type": "stream",
     "text": [
      "TEST: 0.22499999999999998\n",
      "TRAIN: 0.6888888888888888\n"
     ]
    }
   ],
   "source": [
    "print(\"TEST:\", np.array(scores_test).mean())\n",
    "print(\"TRAIN:\", np.array(scores_training).mean())"
   ]
  },
  {
   "cell_type": "code",
   "execution_count": 8,
   "id": "0bde5c10",
   "metadata": {},
   "outputs": [],
   "source": [
    "scores_test = []\n",
    "scores_training = []\n",
    "rfSD = RandomForestClassifier(n_estimators=10, max_depth=10,random_state=42)\n",
    "for i in range(1,4):\n",
    "    X_trainSD, X_testSD, y_trainSD, y_testSD = subject_dependent_split(df,i)\n",
    "    rfSD.fit(X_trainSD, y_trainSD)\n",
    "    scores_test.append(rfSD.score(X_testSD, y_testSD))\n",
    "    scores_training.append(rfSD.score(X_trainSD, y_trainSD))"
   ]
  },
  {
   "cell_type": "code",
   "execution_count": 9,
   "id": "61978e3a",
   "metadata": {},
   "outputs": [
    {
     "name": "stdout",
     "output_type": "stream",
     "text": [
      "TEST: 0.26944444444444443\n",
      "TRAIN: 0.9791666666666666\n"
     ]
    }
   ],
   "source": [
    "print(\"TEST:\", np.array(scores_test).mean())\n",
    "print(\"TRAIN:\", np.array(scores_training).mean())"
   ]
  },
  {
   "cell_type": "markdown",
   "id": "7d42da84",
   "metadata": {},
   "source": [
    "### Subject Indipendent\n",
    "Leave One Out Cross Validation sugli utenti"
   ]
  },
  {
   "cell_type": "code",
   "execution_count": 10,
   "id": "d2003033",
   "metadata": {},
   "outputs": [],
   "source": [
    "def subject_independent_split(df,session):\n",
    "    df = df.reset_index()\n",
    "    df_sess = df.loc[df['session'] == session]\n",
    "    groups = df_sess['id_user']\n",
    "    X = df_sess.set_index(['id_user','session','video']).drop('emotion',axis=1)\n",
    "    y = df_sess.set_index(['id_user','session','video']).emotion\n",
    "    return X, y, groups"
   ]
  },
  {
   "cell_type": "code",
   "execution_count": 11,
   "id": "360f08e8",
   "metadata": {},
   "outputs": [],
   "source": [
    "logo = LeaveOneGroupOut()"
   ]
  },
  {
   "cell_type": "code",
   "execution_count": 12,
   "id": "9d51db7b",
   "metadata": {},
   "outputs": [
    {
     "name": "stderr",
     "output_type": "stream",
     "text": [
      "[Parallel(n_jobs=-1)]: Using backend LokyBackend with 8 concurrent workers.\n",
      "[Parallel(n_jobs=-1)]: Done  15 out of  15 | elapsed:  8.3min finished\n"
     ]
    },
    {
     "ename": "AttributeError",
     "evalue": "'RandomForestClassifier' object has no attribute 'scores'",
     "output_type": "error",
     "traceback": [
      "\u001b[1;31m---------------------------------------------------------------------------\u001b[0m",
      "\u001b[1;31mAttributeError\u001b[0m                            Traceback (most recent call last)",
      "Cell \u001b[1;32mIn[12], line 6\u001b[0m\n\u001b[0;32m      4\u001b[0m X_SI, y_SI, groups \u001b[38;5;241m=\u001b[39m subject_independent_split(df,i)\n\u001b[0;32m      5\u001b[0m scores_gbc \u001b[38;5;241m=\u001b[39m cross_val_score(gbc_SI, X_SI, y_SI, cv\u001b[38;5;241m=\u001b[39mlogo, verbose\u001b[38;5;241m=\u001b[39m\u001b[38;5;241m1\u001b[39m , groups \u001b[38;5;241m=\u001b[39m groups, n_jobs \u001b[38;5;241m=\u001b[39m \u001b[38;5;241m-\u001b[39m\u001b[38;5;241m1\u001b[39m)\n\u001b[1;32m----> 6\u001b[0m scores_test\u001b[38;5;241m.\u001b[39mappend(\u001b[43mrfSD\u001b[49m\u001b[38;5;241;43m.\u001b[39;49m\u001b[43mscores\u001b[49m\u001b[38;5;241m.\u001b[39mmean())\n",
      "\u001b[1;31mAttributeError\u001b[0m: 'RandomForestClassifier' object has no attribute 'scores'"
     ]
    }
   ],
   "source": [
    "scores_test = []\n",
    "gbc_SI = GradientBoostingClassifier(n_estimators=50, learning_rate=0.5, max_depth=5, random_state=0)\n",
    "for i in range(1,4):\n",
    "    X_SI, y_SI, groups = subject_independent_split(df,i)\n",
    "    scores_gbc = cross_val_score(gbc_SI, X_SI, y_SI, cv=logo, verbose=1 , groups = groups, n_jobs = -1)\n",
    "    scores_test.append(scores_gbc.scores.mean())"
   ]
  },
  {
   "cell_type": "code",
   "execution_count": null,
   "id": "186fbcd5",
   "metadata": {},
   "outputs": [],
   "source": [
    "print(\"TEST:\", np.array(scores_test).mean())"
   ]
  },
  {
   "cell_type": "code",
   "execution_count": null,
   "id": "131a1194",
   "metadata": {},
   "outputs": [],
   "source": [
    "scores_test = []\n",
    "rfc = RandomForestClassifier(n_estimators=15, max_depth=10,random_state=22)\n",
    "for i in range(1,4):\n",
    "    X_SI,y_SI,groups = subject_independent_split(df,i)\n",
    "    scores_rfc = cross_val_score(rfc, X_SI, y_SI, cv=logo, verbose=1 , groups = groups, n_jobs = -1)\n",
    "    scores_test.append(rfSD.scores_rfc.mean())"
   ]
  },
  {
   "cell_type": "code",
   "execution_count": null,
   "id": "fec18b5c",
   "metadata": {},
   "outputs": [],
   "source": [
    "print(\"TEST:\", np.array(scores_test).mean())"
   ]
  },
  {
   "cell_type": "markdown",
   "id": "6d4df993",
   "metadata": {},
   "source": [
    "### Subject-Biased Experiment\n",
    "train_test_split"
   ]
  },
  {
   "cell_type": "code",
   "execution_count": null,
   "id": "226ad04d",
   "metadata": {},
   "outputs": [],
   "source": [
    "X_trainSB, X_testSB, y_trainSB, y_testSB = train_test_split(df.drop('emotion',axis=1), df.emotion, test_size=0.20, random_state=22)"
   ]
  },
  {
   "cell_type": "code",
   "execution_count": null,
   "id": "7ab0cedf",
   "metadata": {},
   "outputs": [],
   "source": [
    "clf = GradientBoostingClassifier(n_estimators=5, learning_rate=0.1, max_depth=3, random_state=42).fit(X_trainSB, y_trainSB)"
   ]
  },
  {
   "cell_type": "code",
   "execution_count": null,
   "id": "472ce918",
   "metadata": {},
   "outputs": [],
   "source": [
    "print(\"TEST\", clf.score(X_testSB, y_testSB))\n",
    "print(\"TEST\", clf.score(X_trainSB, y_trainSB))"
   ]
  },
  {
   "cell_type": "code",
   "execution_count": null,
   "id": "fe3dde2f",
   "metadata": {},
   "outputs": [],
   "source": [
    "rfc = RandomForestClassifier(n_estimators=10, max_depth=5,random_state=22).fit(X_trainSB, y_trainSB)"
   ]
  },
  {
   "cell_type": "code",
   "execution_count": null,
   "id": "eefd0cbe",
   "metadata": {},
   "outputs": [],
   "source": [
    "print(\"TEST\", rfc.score(X_testSB, y_testSB))\n",
    "print(\"TEST\", rfc.score(X_trainSB, y_trainSB))"
   ]
  },
  {
   "cell_type": "markdown",
   "id": "5a63a90d",
   "metadata": {},
   "source": [
    "# Esecuzione su singole feature \n",
    "Dataset con singola feature tra PSD, DE, ASM, DAMS\n",
    "## PSD"
   ]
  },
  {
   "cell_type": "code",
   "execution_count": null,
   "id": "54e8aefd",
   "metadata": {},
   "outputs": [],
   "source": [
    "df = pd.read_csv(\"dataset_eeg_psds.csv\")\n",
    "df.drop(['Unnamed: 0'],axis=1, inplace=True)\n",
    "df = df.set_index(['id_user','session','video'])"
   ]
  },
  {
   "cell_type": "code",
   "execution_count": null,
   "id": "52d22742",
   "metadata": {},
   "outputs": [],
   "source": [
    "df"
   ]
  },
  {
   "cell_type": "markdown",
   "id": "e048af0f",
   "metadata": {},
   "source": [
    "### Subject Dependent"
   ]
  },
  {
   "cell_type": "code",
   "execution_count": null,
   "id": "f4e4435c",
   "metadata": {},
   "outputs": [],
   "source": [
    "scores_test = []\n",
    "scores_training = []\n",
    "clfSD = GradientBoostingClassifier(n_estimators=80, learning_rate=0.001, max_depth=5,random_state=104)\n",
    "for i in range(1,4):\n",
    "    X_trainSD, X_testSD, y_trainSD, y_testSD = subject_dependent_split(df,i)\n",
    "    clfSD.fit(X_trainSD, y_trainSD)\n",
    "    scores_test.append(clfSD.score(X_testSD, y_testSD))\n",
    "    scores_training.append(clfSD.score(X_trainSD, y_trainSD))"
   ]
  },
  {
   "cell_type": "code",
   "execution_count": null,
   "id": "55638417",
   "metadata": {},
   "outputs": [],
   "source": [
    "print(\"TEST:\", np.array(scores_test).mean())\n",
    "print(\"TRAIN:\", np.array(scores_training).mean())"
   ]
  },
  {
   "cell_type": "code",
   "execution_count": null,
   "id": "5c9f8aba",
   "metadata": {},
   "outputs": [],
   "source": [
    "scores_test = []\n",
    "scores_training = []\n",
    "rfSD = RandomForestClassifier(n_estimators=10, max_depth=10,random_state=42)\n",
    "for i in range(1,4):\n",
    "    X_trainSD, X_testSD, y_trainSD, y_testSD = subject_dependent_split(df,i)\n",
    "    rfSD.fit(X_trainSD, y_trainSD)\n",
    "    scores_test.append(rfSD.score(X_testSD, y_testSD))\n",
    "    scores_training.append(rfSD.score(X_trainSD, y_trainSD))"
   ]
  },
  {
   "cell_type": "code",
   "execution_count": null,
   "id": "3277eac1",
   "metadata": {},
   "outputs": [],
   "source": [
    "print(\"TEST:\", np.array(scores_test).mean())\n",
    "print(\"TRAIN:\", np.array(scores_training).mean())"
   ]
  },
  {
   "cell_type": "markdown",
   "id": "cda2dfce",
   "metadata": {},
   "source": [
    "### Subject indipendent"
   ]
  },
  {
   "cell_type": "code",
   "execution_count": null,
   "id": "cc313f60",
   "metadata": {},
   "outputs": [],
   "source": [
    "scores_test = []\n",
    "gbc_SI = GradientBoostingClassifier(n_estimators=50, learning_rate=0.5, max_depth=5, random_state=0)\n",
    "for i in range(1,4):\n",
    "    X_SI, y_SI, groups = subject_independent_split(df,i)\n",
    "    scores_gbc = cross_val_score(gbc_SI, X_SI, y_SI, cv=logo, verbose=1 , groups = groups, n_jobs = -1)\n",
    "    scores_test.append(rfSD.scores.mean())"
   ]
  },
  {
   "cell_type": "code",
   "execution_count": null,
   "id": "f29cf5d4",
   "metadata": {},
   "outputs": [],
   "source": [
    "print(\"TEST:\", np.array(scores_test).mean())"
   ]
  },
  {
   "cell_type": "code",
   "execution_count": null,
   "id": "20a51ae8",
   "metadata": {},
   "outputs": [],
   "source": [
    "scores_test = []\n",
    "rfc = RandomForestClassifier(n_estimators=15, max_depth=10,random_state=22)\n",
    "for i in range(1,4):\n",
    "    X_SI,y_SI,groups = subject_independent_split(df,i)\n",
    "    scores_rfc = cross_val_score(rfc, X_SI, y_SI, cv=logo, verbose=1 , groups = groups, n_jobs = -1)\n",
    "    scores_test.append(rfSD.scores_rfc.mean())"
   ]
  },
  {
   "cell_type": "code",
   "execution_count": null,
   "id": "fbfa0df3",
   "metadata": {},
   "outputs": [],
   "source": [
    "print(\"TEST:\", np.array(scores_test).mean())"
   ]
  },
  {
   "cell_type": "markdown",
   "id": "a1bf31b7",
   "metadata": {},
   "source": [
    "### Subject Biased"
   ]
  },
  {
   "cell_type": "code",
   "execution_count": null,
   "id": "bc8ad4c1",
   "metadata": {},
   "outputs": [],
   "source": [
    "X_trainSB, X_testSB, y_trainSB, y_testSB = train_test_split(df.drop('emotion',axis=1), df.emotion, test_size=0.20, random_state=22)"
   ]
  },
  {
   "cell_type": "code",
   "execution_count": null,
   "id": "d9f19059",
   "metadata": {},
   "outputs": [],
   "source": [
    "clf = GradientBoostingClassifier(n_estimators=5, learning_rate=0.1, max_depth=3, random_state=42).fit(X_trainSB, y_trainSB)"
   ]
  },
  {
   "cell_type": "code",
   "execution_count": null,
   "id": "93570658",
   "metadata": {},
   "outputs": [],
   "source": [
    "print(\"TEST\", clf.score(X_testSB, y_testSB))\n",
    "print(\"TEST\", clf.score(X_trainSB, y_trainSB))"
   ]
  },
  {
   "cell_type": "code",
   "execution_count": null,
   "id": "f1f336a9",
   "metadata": {},
   "outputs": [],
   "source": [
    "rfc = RandomForestClassifier(n_estimators=10, max_depth=5,random_state=22).fit(X_trainSB, y_trainSB)"
   ]
  },
  {
   "cell_type": "code",
   "execution_count": null,
   "id": "ecc61027",
   "metadata": {},
   "outputs": [],
   "source": [
    "print(\"TEST\", rfc.score(X_testSB, y_testSB))\n",
    "print(\"TEST\", rfc.score(X_trainSB, y_trainSB))"
   ]
  },
  {
   "cell_type": "markdown",
   "id": "4fed1b81",
   "metadata": {},
   "source": [
    "## DE"
   ]
  },
  {
   "cell_type": "code",
   "execution_count": null,
   "id": "43720c21",
   "metadata": {},
   "outputs": [],
   "source": [
    "df = pd.read_csv(\"dataset_eeg_des.csv\")\n",
    "df.drop(['Unnamed: 0'],axis=1, inplace=True)\n",
    "df = df.set_index(['id_user','session','video'])"
   ]
  },
  {
   "cell_type": "code",
   "execution_count": null,
   "id": "4f95d2c8",
   "metadata": {
    "scrolled": true
   },
   "outputs": [],
   "source": [
    "df"
   ]
  },
  {
   "cell_type": "markdown",
   "id": "9f67dae1",
   "metadata": {},
   "source": [
    "### Subject Dependent"
   ]
  },
  {
   "cell_type": "code",
   "execution_count": null,
   "id": "6d921532",
   "metadata": {},
   "outputs": [],
   "source": [
    "scores_test = []\n",
    "scores_training = []\n",
    "clfSD = GradientBoostingClassifier(n_estimators=80, learning_rate=0.001, max_depth=5,random_state=104)\n",
    "for i in range(1,4):\n",
    "    X_trainSD, X_testSD, y_trainSD, y_testSD = subject_dependent_split(df,i)\n",
    "    clfSD.fit(X_trainSD, y_trainSD)\n",
    "    scores_test.append(clfSD.score(X_testSD, y_testSD))\n",
    "    scores_training.append(clfSD.score(X_trainSD, y_trainSD))"
   ]
  },
  {
   "cell_type": "code",
   "execution_count": null,
   "id": "28e6eecd",
   "metadata": {},
   "outputs": [],
   "source": [
    "print(\"TEST:\", np.array(scores_test).mean())\n",
    "print(\"TRAIN:\", np.array(scores_training).mean())"
   ]
  },
  {
   "cell_type": "code",
   "execution_count": null,
   "id": "e584830b",
   "metadata": {},
   "outputs": [],
   "source": [
    "scores_test = []\n",
    "scores_training = []\n",
    "rfSD = RandomForestClassifier(n_estimators=10, max_depth=10,random_state=42)\n",
    "for i in range(1,4):\n",
    "    X_trainSD, X_testSD, y_trainSD, y_testSD = subject_dependent_split(df,i)\n",
    "    rfSD.fit(X_trainSD, y_trainSD)\n",
    "    scores_test.append(rfSD.score(X_testSD, y_testSD))\n",
    "    scores_training.append(rfSD.score(X_trainSD, y_trainSD))"
   ]
  },
  {
   "cell_type": "code",
   "execution_count": null,
   "id": "2ab10f68",
   "metadata": {},
   "outputs": [],
   "source": [
    "print(\"TEST:\", np.array(scores_test).mean())\n",
    "print(\"TRAIN:\", np.array(scores_training).mean())"
   ]
  },
  {
   "cell_type": "markdown",
   "id": "20fed022",
   "metadata": {},
   "source": [
    "### Subject Independent"
   ]
  },
  {
   "cell_type": "code",
   "execution_count": null,
   "id": "8a7f7825",
   "metadata": {},
   "outputs": [],
   "source": [
    "scores_test = []\n",
    "gbc_SI = GradientBoostingClassifier(n_estimators=50, learning_rate=0.5, max_depth=5, random_state=0)\n",
    "for i in range(1,4):\n",
    "    X_SI, y_SI, groups = subject_independent_split(df,i)\n",
    "    scores_gbc = cross_val_score(gbc_SI, X_SI, y_SI, cv=logo, verbose=1 , groups = groups, n_jobs = -1)\n",
    "    scores_test.append(rfSD.scores.mean())"
   ]
  },
  {
   "cell_type": "code",
   "execution_count": null,
   "id": "2feb8746",
   "metadata": {},
   "outputs": [],
   "source": [
    "print(\"TEST:\", np.array(scores_test).mean())"
   ]
  },
  {
   "cell_type": "code",
   "execution_count": null,
   "id": "21daffb1",
   "metadata": {},
   "outputs": [],
   "source": [
    "scores_test = []\n",
    "rfc = RandomForestClassifier(n_estimators=15, max_depth=10,random_state=22)\n",
    "for i in range(1,4):\n",
    "    X_SI,y_SI,groups = subject_independent_split(df,i)\n",
    "    scores_rfc = cross_val_score(rfc, X_SI, y_SI, cv=logo, verbose=1 , groups = groups, n_jobs = -1)\n",
    "    scores_test.append(rfSD.scores_rfc.mean())"
   ]
  },
  {
   "cell_type": "code",
   "execution_count": null,
   "id": "72060a67",
   "metadata": {},
   "outputs": [],
   "source": [
    "print(\"TEST:\", np.array(scores_test).mean())"
   ]
  },
  {
   "cell_type": "markdown",
   "id": "9c126fd4",
   "metadata": {},
   "source": [
    "### Subject-Biased"
   ]
  },
  {
   "cell_type": "code",
   "execution_count": null,
   "id": "40ee5ce0",
   "metadata": {},
   "outputs": [],
   "source": [
    "X_trainSB, X_testSB, y_trainSB, y_testSB = train_test_split(df.drop('emotion',axis=1), df.emotion, test_size=0.20, random_state=22)"
   ]
  },
  {
   "cell_type": "code",
   "execution_count": null,
   "id": "4da9c5f9",
   "metadata": {},
   "outputs": [],
   "source": [
    "clf = GradientBoostingClassifier(n_estimators=5, learning_rate=0.1, max_depth=3, random_state=42).fit(X_trainSB, y_trainSB)"
   ]
  },
  {
   "cell_type": "code",
   "execution_count": null,
   "id": "72f92b40",
   "metadata": {},
   "outputs": [],
   "source": [
    "print(\"TEST\", clf.score(X_testSB, y_testSB))\n",
    "print(\"TEST\", clf.score(X_trainSB, y_trainSB))"
   ]
  },
  {
   "cell_type": "code",
   "execution_count": null,
   "id": "0f5f656c",
   "metadata": {},
   "outputs": [],
   "source": [
    "rfc = RandomForestClassifier(n_estimators=10, max_depth=5,random_state=22).fit(X_trainSB, y_trainSB)"
   ]
  },
  {
   "cell_type": "code",
   "execution_count": null,
   "id": "a9f2ae61",
   "metadata": {},
   "outputs": [],
   "source": [
    "print(\"TEST\", rfc.score(X_testSB, y_testSB))\n",
    "print(\"TEST\", rfc.score(X_trainSB, y_trainSB))"
   ]
  },
  {
   "cell_type": "markdown",
   "id": "c1e31a15",
   "metadata": {},
   "source": [
    "## ASM"
   ]
  },
  {
   "cell_type": "code",
   "execution_count": null,
   "id": "f24bcc37",
   "metadata": {},
   "outputs": [],
   "source": [
    "df = pd.read_csv(\"dataset_eeg_asms.csv\")\n",
    "df.drop(['Unnamed: 0'],axis=1, inplace=True)\n",
    "df = df.set_index(['id_user','session','video'])"
   ]
  },
  {
   "cell_type": "code",
   "execution_count": null,
   "id": "66bc0096",
   "metadata": {},
   "outputs": [],
   "source": [
    "df"
   ]
  },
  {
   "cell_type": "markdown",
   "id": "74533914",
   "metadata": {},
   "source": [
    "### Subject Dependent"
   ]
  },
  {
   "cell_type": "code",
   "execution_count": null,
   "id": "25d3dee6",
   "metadata": {},
   "outputs": [],
   "source": [
    "scores_test = []\n",
    "scores_training = []\n",
    "clfSD = GradientBoostingClassifier(n_estimators=80, learning_rate=0.001, max_depth=5,random_state=104)\n",
    "for i in range(1,4):\n",
    "    X_trainSD, X_testSD, y_trainSD, y_testSD = subject_dependent_split(df,i)\n",
    "    clfSD.fit(X_trainSD, y_trainSD)\n",
    "    scores_test.append(clfSD.score(X_testSD, y_testSD))\n",
    "    scores_training.append(clfSD.score(X_trainSD, y_trainSD))"
   ]
  },
  {
   "cell_type": "code",
   "execution_count": null,
   "id": "71cff9cd",
   "metadata": {},
   "outputs": [],
   "source": [
    "print(\"TEST:\", np.array(scores_test).mean())\n",
    "print(\"TRAIN:\", np.array(scores_training).mean())"
   ]
  },
  {
   "cell_type": "code",
   "execution_count": null,
   "id": "d80352c7",
   "metadata": {},
   "outputs": [],
   "source": [
    "scores_test = []\n",
    "scores_training = []\n",
    "rfSD = RandomForestClassifier(n_estimators=10, max_depth=10,random_state=42)\n",
    "for i in range(1,4):\n",
    "    X_trainSD, X_testSD, y_trainSD, y_testSD = subject_dependent_split(df,i)\n",
    "    rfSD.fit(X_trainSD, y_trainSD)\n",
    "    scores_test.append(rfSD.score(X_testSD, y_testSD))\n",
    "    scores_training.append(rfSD.score(X_trainSD, y_trainSD))"
   ]
  },
  {
   "cell_type": "code",
   "execution_count": null,
   "id": "a1cfe05a",
   "metadata": {},
   "outputs": [],
   "source": [
    "print(\"TEST:\", np.array(scores_test).mean())\n",
    "print(\"TRAIN:\", np.array(scores_training).mean())"
   ]
  },
  {
   "cell_type": "markdown",
   "id": "95c1859d",
   "metadata": {},
   "source": [
    "### Subject indipendent"
   ]
  },
  {
   "cell_type": "code",
   "execution_count": null,
   "id": "cc9ddca4",
   "metadata": {},
   "outputs": [],
   "source": [
    "scores_test = []\n",
    "gbc_SI = GradientBoostingClassifier(n_estimators=50, learning_rate=0.5, max_depth=5, random_state=0)\n",
    "for i in range(1,4):\n",
    "    X_SI, y_SI, groups = subject_independent_split(df,i)\n",
    "    scores_gbc = cross_val_score(gbc_SI, X_SI, y_SI, cv=logo, verbose=1 , groups = groups, n_jobs = -1)\n",
    "    scores_test.append(rfSD.scores.mean())"
   ]
  },
  {
   "cell_type": "code",
   "execution_count": null,
   "id": "b5e5f281",
   "metadata": {},
   "outputs": [],
   "source": [
    "print(\"TEST:\", np.array(scores_test).mean())"
   ]
  },
  {
   "cell_type": "code",
   "execution_count": null,
   "id": "e68ec713",
   "metadata": {},
   "outputs": [],
   "source": [
    "scores_test = []\n",
    "rfc = RandomForestClassifier(n_estimators=15, max_depth=10,random_state=22)\n",
    "for i in range(1,4):\n",
    "    X_SI,y_SI,groups = subject_independent_split(df,i)\n",
    "    scores_rfc = cross_val_score(rfc, X_SI, y_SI, cv=logo, verbose=1 , groups = groups, n_jobs = -1)\n",
    "    scores_test.append(rfSD.scores_rfc.mean())"
   ]
  },
  {
   "cell_type": "code",
   "execution_count": null,
   "id": "9fbaa63b",
   "metadata": {},
   "outputs": [],
   "source": [
    "print(\"TEST:\", np.array(scores_test).mean())"
   ]
  },
  {
   "cell_type": "markdown",
   "id": "e1a716f7",
   "metadata": {},
   "source": [
    "### Subject Biased"
   ]
  },
  {
   "cell_type": "code",
   "execution_count": null,
   "id": "8fd802d8",
   "metadata": {},
   "outputs": [],
   "source": [
    "X_trainSB, X_testSB, y_trainSB, y_testSB = train_test_split(df.drop('emotion',axis=1), df.emotion, test_size=0.20, random_state=22)"
   ]
  },
  {
   "cell_type": "code",
   "execution_count": null,
   "id": "e95c0fa5",
   "metadata": {},
   "outputs": [],
   "source": [
    "clf = GradientBoostingClassifier(n_estimators=5, learning_rate=0.1, max_depth=3, random_state=42).fit(X_trainSB, y_trainSB)"
   ]
  },
  {
   "cell_type": "code",
   "execution_count": null,
   "id": "676dffef",
   "metadata": {},
   "outputs": [],
   "source": [
    "print(\"TEST\", clf.score(X_testSB, y_testSB))\n",
    "print(\"TEST\", clf.score(X_trainSB, y_trainSB))"
   ]
  },
  {
   "cell_type": "code",
   "execution_count": null,
   "id": "22544c4c",
   "metadata": {},
   "outputs": [],
   "source": [
    "rfc = RandomForestClassifier(n_estimators=10, max_depth=5,random_state=22).fit(X_trainSB, y_trainSB)"
   ]
  },
  {
   "cell_type": "code",
   "execution_count": null,
   "id": "59698746",
   "metadata": {},
   "outputs": [],
   "source": [
    "print(\"TEST\", rfc.score(X_testSB, y_testSB))\n",
    "print(\"TEST\", rfc.score(X_trainSB, y_trainSB))"
   ]
  },
  {
   "cell_type": "markdown",
   "id": "6e32dc91",
   "metadata": {},
   "source": [
    "## DASM"
   ]
  },
  {
   "cell_type": "code",
   "execution_count": null,
   "id": "b5fe5b22",
   "metadata": {},
   "outputs": [],
   "source": [
    "df = pd.read_csv(\"dataset_eeg_dasms.csv\")\n",
    "df.drop(['Unnamed: 0'],axis=1, inplace=True)\n",
    "df = df.set_index(['id_user','session','video'])"
   ]
  },
  {
   "cell_type": "code",
   "execution_count": null,
   "id": "94915114",
   "metadata": {},
   "outputs": [],
   "source": [
    "df"
   ]
  },
  {
   "cell_type": "markdown",
   "id": "d0b247a9",
   "metadata": {},
   "source": [
    "### Subject Dependent"
   ]
  },
  {
   "cell_type": "code",
   "execution_count": null,
   "id": "169fde1d",
   "metadata": {},
   "outputs": [],
   "source": [
    "scores_test = []\n",
    "scores_training = []\n",
    "clfSD = GradientBoostingClassifier(n_estimators=80, learning_rate=0.001, max_depth=5,random_state=104)\n",
    "for i in range(1,4):\n",
    "    X_trainSD, X_testSD, y_trainSD, y_testSD = subject_dependent_split(df,i)\n",
    "    clfSD.fit(X_trainSD, y_trainSD)\n",
    "    scores_test.append(clfSD.score(X_testSD, y_testSD))\n",
    "    scores_training.append(clfSD.score(X_trainSD, y_trainSD))"
   ]
  },
  {
   "cell_type": "code",
   "execution_count": null,
   "id": "7cede0bd",
   "metadata": {},
   "outputs": [],
   "source": [
    "print(\"TEST:\", np.array(scores_test).mean())\n",
    "print(\"TRAIN:\", np.array(scores_training).mean())"
   ]
  },
  {
   "cell_type": "code",
   "execution_count": null,
   "id": "cc2f0806",
   "metadata": {},
   "outputs": [],
   "source": [
    "scores_test = []\n",
    "scores_training = []\n",
    "rfSD = RandomForestClassifier(n_estimators=10, max_depth=10,random_state=42)\n",
    "for i in range(1,4):\n",
    "    X_trainSD, X_testSD, y_trainSD, y_testSD = subject_dependent_split(df,i)\n",
    "    rfSD.fit(X_trainSD, y_trainSD)\n",
    "    scores_test.append(rfSD.score(X_testSD, y_testSD))\n",
    "    scores_training.append(rfSD.score(X_trainSD, y_trainSD))"
   ]
  },
  {
   "cell_type": "code",
   "execution_count": null,
   "id": "0f97d624",
   "metadata": {},
   "outputs": [],
   "source": [
    "print(\"TEST:\", np.array(scores_test).mean())\n",
    "print(\"TRAIN:\", np.array(scores_training).mean())"
   ]
  },
  {
   "cell_type": "markdown",
   "id": "236d772f",
   "metadata": {},
   "source": [
    "### Subject indipendent"
   ]
  },
  {
   "cell_type": "code",
   "execution_count": null,
   "id": "e9f47d27",
   "metadata": {},
   "outputs": [],
   "source": [
    "scores_test = []\n",
    "gbc_SI = GradientBoostingClassifier(n_estimators=50, learning_rate=0.5, max_depth=5, random_state=0)\n",
    "for i in range(1,4):\n",
    "    X_SI, y_SI, groups = subject_independent_split(df,i)\n",
    "    scores_gbc = cross_val_score(gbc_SI, X_SI, y_SI, cv=logo, verbose=1 , groups = groups, n_jobs = -1)\n",
    "    scores_test.append(rfSD.scores.mean())"
   ]
  },
  {
   "cell_type": "code",
   "execution_count": null,
   "id": "1cfa6c88",
   "metadata": {},
   "outputs": [],
   "source": [
    "print(\"TEST:\", np.array(scores_test).mean())"
   ]
  },
  {
   "cell_type": "code",
   "execution_count": null,
   "id": "8a007b0f",
   "metadata": {},
   "outputs": [],
   "source": [
    "scores_test = []\n",
    "rfc = RandomForestClassifier(n_estimators=15, max_depth=10,random_state=22)\n",
    "for i in range(1,4):\n",
    "    X_SI,y_SI,groups = subject_independent_split(df,i)\n",
    "    scores_rfc = cross_val_score(rfc, X_SI, y_SI, cv=logo, verbose=1 , groups = groups, n_jobs = -1)\n",
    "    scores_test.append(rfSD.scores_rfc.mean())"
   ]
  },
  {
   "cell_type": "code",
   "execution_count": null,
   "id": "e0a0fb44",
   "metadata": {},
   "outputs": [],
   "source": [
    "print(\"TEST:\", np.array(scores_test).mean())"
   ]
  },
  {
   "cell_type": "markdown",
   "id": "f49612e2",
   "metadata": {},
   "source": [
    "### Subject Biased"
   ]
  },
  {
   "cell_type": "code",
   "execution_count": null,
   "id": "d55ae0b0",
   "metadata": {},
   "outputs": [],
   "source": [
    "X_trainSB, X_testSB, y_trainSB, y_testSB = train_test_split(df.drop('emotion',axis=1), df.emotion, test_size=0.20, random_state=22)"
   ]
  },
  {
   "cell_type": "code",
   "execution_count": null,
   "id": "fad81e4b",
   "metadata": {},
   "outputs": [],
   "source": [
    "clf = GradientBoostingClassifier(n_estimators=5, learning_rate=0.1, max_depth=3, random_state=42).fit(X_trainSB, y_trainSB)"
   ]
  },
  {
   "cell_type": "code",
   "execution_count": null,
   "id": "0e7fdd06",
   "metadata": {},
   "outputs": [],
   "source": [
    "print(\"TEST\", clf.score(X_testSB, y_testSB))\n",
    "print(\"TEST\", clf.score(X_trainSB, y_trainSB))"
   ]
  },
  {
   "cell_type": "code",
   "execution_count": null,
   "id": "b7eb632d",
   "metadata": {},
   "outputs": [],
   "source": [
    "rfc = RandomForestClassifier(n_estimators=10, max_depth=5,random_state=22).fit(X_trainSB, y_trainSB)"
   ]
  },
  {
   "cell_type": "code",
   "execution_count": null,
   "id": "aed9885e",
   "metadata": {},
   "outputs": [],
   "source": [
    "print(\"TEST\", rfc.score(X_testSB, y_testSB))\n",
    "print(\"TEST\", rfc.score(X_trainSB, y_trainSB))"
   ]
  }
 ],
 "metadata": {
  "kernelspec": {
   "display_name": "Python 3 (ipykernel)",
   "language": "python",
   "name": "python3"
  },
  "language_info": {
   "codemirror_mode": {
    "name": "ipython",
    "version": 3
   },
   "file_extension": ".py",
   "mimetype": "text/x-python",
   "name": "python",
   "nbconvert_exporter": "python",
   "pygments_lexer": "ipython3",
   "version": "3.11.0"
  }
 },
 "nbformat": 4,
 "nbformat_minor": 5
}
