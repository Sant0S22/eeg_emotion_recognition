{
 "cells": [
  {
   "cell_type": "markdown",
   "id": "ac435407",
   "metadata": {},
   "source": [
    "# Test NSEG dataset"
   ]
  },
  {
   "cell_type": "code",
   "execution_count": 1,
   "id": "97dbc297",
   "metadata": {},
   "outputs": [],
   "source": [
    "from keras.models import Sequential\n",
    "from keras.layers import LSTM, Dense\n",
    "from keras.utils import to_categorical\n",
    "from sklearn.model_selection import train_test_split\n",
    "import numpy as np\n",
    "import pandas as pd"
   ]
  },
  {
   "cell_type": "code",
   "execution_count": 2,
   "id": "fbb19c03",
   "metadata": {
    "scrolled": false
   },
   "outputs": [],
   "source": [
    "df = pd.read_csv(\"./dataset_eeg_des.csv\")\n",
    "df.drop(['Unnamed: 0'],axis=1, inplace=True)\n",
    "df = df.set_index(['id_user','session','video'])"
   ]
  },
  {
   "cell_type": "code",
   "execution_count": 3,
   "id": "0a64e01b",
   "metadata": {},
   "outputs": [
    {
     "data": {
      "text/html": [
       "<div>\n",
       "<style scoped>\n",
       "    .dataframe tbody tr th:only-of-type {\n",
       "        vertical-align: middle;\n",
       "    }\n",
       "\n",
       "    .dataframe tbody tr th {\n",
       "        vertical-align: top;\n",
       "    }\n",
       "\n",
       "    .dataframe thead th {\n",
       "        text-align: right;\n",
       "    }\n",
       "</style>\n",
       "<table border=\"1\" class=\"dataframe\">\n",
       "  <thead>\n",
       "    <tr style=\"text-align: right;\">\n",
       "      <th></th>\n",
       "      <th></th>\n",
       "      <th></th>\n",
       "      <th>0</th>\n",
       "      <th>1</th>\n",
       "      <th>2</th>\n",
       "      <th>3</th>\n",
       "      <th>4</th>\n",
       "      <th>5</th>\n",
       "      <th>6</th>\n",
       "      <th>7</th>\n",
       "      <th>8</th>\n",
       "      <th>9</th>\n",
       "      <th>...</th>\n",
       "      <th>492</th>\n",
       "      <th>493</th>\n",
       "      <th>494</th>\n",
       "      <th>495</th>\n",
       "      <th>496</th>\n",
       "      <th>497</th>\n",
       "      <th>498</th>\n",
       "      <th>499</th>\n",
       "      <th>500</th>\n",
       "      <th>emotion</th>\n",
       "    </tr>\n",
       "    <tr>\n",
       "      <th>id_user</th>\n",
       "      <th>session</th>\n",
       "      <th>video</th>\n",
       "      <th></th>\n",
       "      <th></th>\n",
       "      <th></th>\n",
       "      <th></th>\n",
       "      <th></th>\n",
       "      <th></th>\n",
       "      <th></th>\n",
       "      <th></th>\n",
       "      <th></th>\n",
       "      <th></th>\n",
       "      <th></th>\n",
       "      <th></th>\n",
       "      <th></th>\n",
       "      <th></th>\n",
       "      <th></th>\n",
       "      <th></th>\n",
       "      <th></th>\n",
       "      <th></th>\n",
       "      <th></th>\n",
       "      <th></th>\n",
       "      <th></th>\n",
       "    </tr>\n",
       "  </thead>\n",
       "  <tbody>\n",
       "    <tr>\n",
       "      <th rowspan=\"5\" valign=\"top\">10</th>\n",
       "      <th rowspan=\"5\" valign=\"top\">1</th>\n",
       "      <th>1</th>\n",
       "      <td>2.135436</td>\n",
       "      <td>2.887686</td>\n",
       "      <td>3.465504</td>\n",
       "      <td>3.810436</td>\n",
       "      <td>3.955764</td>\n",
       "      <td>4.053275</td>\n",
       "      <td>3.646478</td>\n",
       "      <td>3.300221</td>\n",
       "      <td>3.606062</td>\n",
       "      <td>3.223825</td>\n",
       "      <td>...</td>\n",
       "      <td>-1.011859</td>\n",
       "      <td>-1.020659</td>\n",
       "      <td>-0.602725</td>\n",
       "      <td>-0.584323</td>\n",
       "      <td>-0.602491</td>\n",
       "      <td>-0.579400</td>\n",
       "      <td>-1.200410</td>\n",
       "      <td>-0.910379</td>\n",
       "      <td>-1.369580</td>\n",
       "      <td>1</td>\n",
       "    </tr>\n",
       "    <tr>\n",
       "      <th>2</th>\n",
       "      <td>2.549241</td>\n",
       "      <td>2.254038</td>\n",
       "      <td>3.489210</td>\n",
       "      <td>3.876865</td>\n",
       "      <td>3.767604</td>\n",
       "      <td>3.407996</td>\n",
       "      <td>3.706311</td>\n",
       "      <td>3.790671</td>\n",
       "      <td>3.835916</td>\n",
       "      <td>3.726078</td>\n",
       "      <td>...</td>\n",
       "      <td>-0.654046</td>\n",
       "      <td>-0.287855</td>\n",
       "      <td>-0.064083</td>\n",
       "      <td>-0.382718</td>\n",
       "      <td>-0.854156</td>\n",
       "      <td>-0.538963</td>\n",
       "      <td>-0.978321</td>\n",
       "      <td>-0.520367</td>\n",
       "      <td>-1.108300</td>\n",
       "      <td>2</td>\n",
       "    </tr>\n",
       "    <tr>\n",
       "      <th>3</th>\n",
       "      <td>2.436902</td>\n",
       "      <td>3.456774</td>\n",
       "      <td>4.163457</td>\n",
       "      <td>4.401829</td>\n",
       "      <td>4.272075</td>\n",
       "      <td>3.567253</td>\n",
       "      <td>3.214838</td>\n",
       "      <td>3.632954</td>\n",
       "      <td>3.966298</td>\n",
       "      <td>3.774067</td>\n",
       "      <td>...</td>\n",
       "      <td>-0.102593</td>\n",
       "      <td>-0.080281</td>\n",
       "      <td>-0.138853</td>\n",
       "      <td>0.001005</td>\n",
       "      <td>-0.083322</td>\n",
       "      <td>-0.067288</td>\n",
       "      <td>-0.063967</td>\n",
       "      <td>0.042125</td>\n",
       "      <td>-0.123110</td>\n",
       "      <td>3</td>\n",
       "    </tr>\n",
       "    <tr>\n",
       "      <th>4</th>\n",
       "      <td>1.841611</td>\n",
       "      <td>2.513253</td>\n",
       "      <td>3.124816</td>\n",
       "      <td>3.421180</td>\n",
       "      <td>3.492676</td>\n",
       "      <td>3.306529</td>\n",
       "      <td>3.099885</td>\n",
       "      <td>3.100102</td>\n",
       "      <td>3.221046</td>\n",
       "      <td>3.320871</td>\n",
       "      <td>...</td>\n",
       "      <td>-0.990079</td>\n",
       "      <td>-0.927056</td>\n",
       "      <td>-0.745584</td>\n",
       "      <td>-0.978420</td>\n",
       "      <td>-1.031638</td>\n",
       "      <td>-0.682465</td>\n",
       "      <td>-0.665910</td>\n",
       "      <td>-1.033460</td>\n",
       "      <td>-1.373817</td>\n",
       "      <td>0</td>\n",
       "    </tr>\n",
       "    <tr>\n",
       "      <th>5</th>\n",
       "      <td>2.320207</td>\n",
       "      <td>2.961560</td>\n",
       "      <td>3.857012</td>\n",
       "      <td>4.111162</td>\n",
       "      <td>3.868319</td>\n",
       "      <td>3.717754</td>\n",
       "      <td>3.698447</td>\n",
       "      <td>3.367067</td>\n",
       "      <td>3.021535</td>\n",
       "      <td>3.351307</td>\n",
       "      <td>...</td>\n",
       "      <td>-0.247413</td>\n",
       "      <td>-0.758625</td>\n",
       "      <td>-1.643860</td>\n",
       "      <td>-1.252678</td>\n",
       "      <td>-0.605932</td>\n",
       "      <td>-0.750933</td>\n",
       "      <td>-1.202377</td>\n",
       "      <td>-0.686867</td>\n",
       "      <td>-1.160245</td>\n",
       "      <td>2</td>\n",
       "    </tr>\n",
       "    <tr>\n",
       "      <th>...</th>\n",
       "      <th>...</th>\n",
       "      <th>...</th>\n",
       "      <td>...</td>\n",
       "      <td>...</td>\n",
       "      <td>...</td>\n",
       "      <td>...</td>\n",
       "      <td>...</td>\n",
       "      <td>...</td>\n",
       "      <td>...</td>\n",
       "      <td>...</td>\n",
       "      <td>...</td>\n",
       "      <td>...</td>\n",
       "      <td>...</td>\n",
       "      <td>...</td>\n",
       "      <td>...</td>\n",
       "      <td>...</td>\n",
       "      <td>...</td>\n",
       "      <td>...</td>\n",
       "      <td>...</td>\n",
       "      <td>...</td>\n",
       "      <td>...</td>\n",
       "      <td>...</td>\n",
       "      <td>...</td>\n",
       "    </tr>\n",
       "    <tr>\n",
       "      <th rowspan=\"5\" valign=\"top\">9</th>\n",
       "      <th rowspan=\"5\" valign=\"top\">3</th>\n",
       "      <th>20</th>\n",
       "      <td>1.398441</td>\n",
       "      <td>2.604782</td>\n",
       "      <td>3.687751</td>\n",
       "      <td>3.648057</td>\n",
       "      <td>3.009953</td>\n",
       "      <td>3.942856</td>\n",
       "      <td>3.935395</td>\n",
       "      <td>2.950334</td>\n",
       "      <td>3.604765</td>\n",
       "      <td>3.776026</td>\n",
       "      <td>...</td>\n",
       "      <td>-0.389243</td>\n",
       "      <td>-0.347923</td>\n",
       "      <td>-0.460666</td>\n",
       "      <td>-0.483391</td>\n",
       "      <td>-0.797307</td>\n",
       "      <td>-0.593601</td>\n",
       "      <td>-0.401147</td>\n",
       "      <td>-0.498099</td>\n",
       "      <td>-0.751132</td>\n",
       "      <td>0</td>\n",
       "    </tr>\n",
       "    <tr>\n",
       "      <th>21</th>\n",
       "      <td>1.571485</td>\n",
       "      <td>1.894192</td>\n",
       "      <td>2.786308</td>\n",
       "      <td>3.305627</td>\n",
       "      <td>3.571761</td>\n",
       "      <td>3.696536</td>\n",
       "      <td>3.393062</td>\n",
       "      <td>2.770488</td>\n",
       "      <td>2.746998</td>\n",
       "      <td>2.790538</td>\n",
       "      <td>...</td>\n",
       "      <td>-0.804578</td>\n",
       "      <td>-1.045797</td>\n",
       "      <td>-1.104529</td>\n",
       "      <td>-0.949304</td>\n",
       "      <td>-0.719607</td>\n",
       "      <td>-0.668664</td>\n",
       "      <td>-0.650504</td>\n",
       "      <td>-0.838495</td>\n",
       "      <td>-1.361561</td>\n",
       "      <td>2</td>\n",
       "    </tr>\n",
       "    <tr>\n",
       "      <th>22</th>\n",
       "      <td>1.270886</td>\n",
       "      <td>2.200624</td>\n",
       "      <td>2.915375</td>\n",
       "      <td>3.471395</td>\n",
       "      <td>3.427353</td>\n",
       "      <td>2.811443</td>\n",
       "      <td>3.023582</td>\n",
       "      <td>2.642579</td>\n",
       "      <td>3.219103</td>\n",
       "      <td>3.161054</td>\n",
       "      <td>...</td>\n",
       "      <td>-0.531922</td>\n",
       "      <td>-0.662631</td>\n",
       "      <td>-0.867511</td>\n",
       "      <td>-1.125926</td>\n",
       "      <td>-0.903615</td>\n",
       "      <td>-1.054831</td>\n",
       "      <td>-0.916811</td>\n",
       "      <td>-1.142544</td>\n",
       "      <td>-1.251611</td>\n",
       "      <td>0</td>\n",
       "    </tr>\n",
       "    <tr>\n",
       "      <th>23</th>\n",
       "      <td>2.621798</td>\n",
       "      <td>3.373337</td>\n",
       "      <td>3.905828</td>\n",
       "      <td>3.839850</td>\n",
       "      <td>3.868095</td>\n",
       "      <td>3.649109</td>\n",
       "      <td>3.723545</td>\n",
       "      <td>3.259310</td>\n",
       "      <td>3.605300</td>\n",
       "      <td>3.623675</td>\n",
       "      <td>...</td>\n",
       "      <td>-0.544234</td>\n",
       "      <td>-0.343033</td>\n",
       "      <td>-0.551949</td>\n",
       "      <td>-0.976702</td>\n",
       "      <td>-1.112032</td>\n",
       "      <td>-0.834240</td>\n",
       "      <td>-0.739685</td>\n",
       "      <td>-0.623760</td>\n",
       "      <td>-1.128035</td>\n",
       "      <td>1</td>\n",
       "    </tr>\n",
       "    <tr>\n",
       "      <th>24</th>\n",
       "      <td>1.494128</td>\n",
       "      <td>3.076038</td>\n",
       "      <td>2.783606</td>\n",
       "      <td>3.572978</td>\n",
       "      <td>3.547337</td>\n",
       "      <td>2.896757</td>\n",
       "      <td>3.371674</td>\n",
       "      <td>3.948618</td>\n",
       "      <td>4.159415</td>\n",
       "      <td>4.232633</td>\n",
       "      <td>...</td>\n",
       "      <td>-0.602491</td>\n",
       "      <td>0.003543</td>\n",
       "      <td>0.088560</td>\n",
       "      <td>-0.193022</td>\n",
       "      <td>-0.742112</td>\n",
       "      <td>-1.026718</td>\n",
       "      <td>-0.977749</td>\n",
       "      <td>-0.960097</td>\n",
       "      <td>-1.363363</td>\n",
       "      <td>0</td>\n",
       "    </tr>\n",
       "  </tbody>\n",
       "</table>\n",
       "<p>1080 rows × 502 columns</p>\n",
       "</div>"
      ],
      "text/plain": [
       "                              0         1         2         3         4  \\\n",
       "id_user session video                                                     \n",
       "10      1       1      2.135436  2.887686  3.465504  3.810436  3.955764   \n",
       "                2      2.549241  2.254038  3.489210  3.876865  3.767604   \n",
       "                3      2.436902  3.456774  4.163457  4.401829  4.272075   \n",
       "                4      1.841611  2.513253  3.124816  3.421180  3.492676   \n",
       "                5      2.320207  2.961560  3.857012  4.111162  3.868319   \n",
       "...                         ...       ...       ...       ...       ...   \n",
       "9       3       20     1.398441  2.604782  3.687751  3.648057  3.009953   \n",
       "                21     1.571485  1.894192  2.786308  3.305627  3.571761   \n",
       "                22     1.270886  2.200624  2.915375  3.471395  3.427353   \n",
       "                23     2.621798  3.373337  3.905828  3.839850  3.868095   \n",
       "                24     1.494128  3.076038  2.783606  3.572978  3.547337   \n",
       "\n",
       "                              5         6         7         8         9  ...  \\\n",
       "id_user session video                                                    ...   \n",
       "10      1       1      4.053275  3.646478  3.300221  3.606062  3.223825  ...   \n",
       "                2      3.407996  3.706311  3.790671  3.835916  3.726078  ...   \n",
       "                3      3.567253  3.214838  3.632954  3.966298  3.774067  ...   \n",
       "                4      3.306529  3.099885  3.100102  3.221046  3.320871  ...   \n",
       "                5      3.717754  3.698447  3.367067  3.021535  3.351307  ...   \n",
       "...                         ...       ...       ...       ...       ...  ...   \n",
       "9       3       20     3.942856  3.935395  2.950334  3.604765  3.776026  ...   \n",
       "                21     3.696536  3.393062  2.770488  2.746998  2.790538  ...   \n",
       "                22     2.811443  3.023582  2.642579  3.219103  3.161054  ...   \n",
       "                23     3.649109  3.723545  3.259310  3.605300  3.623675  ...   \n",
       "                24     2.896757  3.371674  3.948618  4.159415  4.232633  ...   \n",
       "\n",
       "                            492       493       494       495       496  \\\n",
       "id_user session video                                                     \n",
       "10      1       1     -1.011859 -1.020659 -0.602725 -0.584323 -0.602491   \n",
       "                2     -0.654046 -0.287855 -0.064083 -0.382718 -0.854156   \n",
       "                3     -0.102593 -0.080281 -0.138853  0.001005 -0.083322   \n",
       "                4     -0.990079 -0.927056 -0.745584 -0.978420 -1.031638   \n",
       "                5     -0.247413 -0.758625 -1.643860 -1.252678 -0.605932   \n",
       "...                         ...       ...       ...       ...       ...   \n",
       "9       3       20    -0.389243 -0.347923 -0.460666 -0.483391 -0.797307   \n",
       "                21    -0.804578 -1.045797 -1.104529 -0.949304 -0.719607   \n",
       "                22    -0.531922 -0.662631 -0.867511 -1.125926 -0.903615   \n",
       "                23    -0.544234 -0.343033 -0.551949 -0.976702 -1.112032   \n",
       "                24    -0.602491  0.003543  0.088560 -0.193022 -0.742112   \n",
       "\n",
       "                            497       498       499       500  emotion  \n",
       "id_user session video                                                   \n",
       "10      1       1     -0.579400 -1.200410 -0.910379 -1.369580        1  \n",
       "                2     -0.538963 -0.978321 -0.520367 -1.108300        2  \n",
       "                3     -0.067288 -0.063967  0.042125 -0.123110        3  \n",
       "                4     -0.682465 -0.665910 -1.033460 -1.373817        0  \n",
       "                5     -0.750933 -1.202377 -0.686867 -1.160245        2  \n",
       "...                         ...       ...       ...       ...      ...  \n",
       "9       3       20    -0.593601 -0.401147 -0.498099 -0.751132        0  \n",
       "                21    -0.668664 -0.650504 -0.838495 -1.361561        2  \n",
       "                22    -1.054831 -0.916811 -1.142544 -1.251611        0  \n",
       "                23    -0.834240 -0.739685 -0.623760 -1.128035        1  \n",
       "                24    -1.026718 -0.977749 -0.960097 -1.363363        0  \n",
       "\n",
       "[1080 rows x 502 columns]"
      ]
     },
     "execution_count": 3,
     "metadata": {},
     "output_type": "execute_result"
    }
   ],
   "source": [
    "df"
   ]
  },
  {
   "cell_type": "markdown",
   "id": "bee67aad",
   "metadata": {},
   "source": [
    "# Subject dependent"
   ]
  },
  {
   "cell_type": "code",
   "execution_count": 4,
   "id": "09be7763",
   "metadata": {},
   "outputs": [],
   "source": [
    "df_sd = df.reset_index()"
   ]
  },
  {
   "cell_type": "code",
   "execution_count": 5,
   "id": "972d9f8f",
   "metadata": {
    "scrolled": false
   },
   "outputs": [],
   "source": [
    "df_sd1 = df_sd[df_sd.session == 1]"
   ]
  },
  {
   "cell_type": "code",
   "execution_count": 6,
   "id": "6f455b2b",
   "metadata": {
    "scrolled": true
   },
   "outputs": [
    {
     "name": "stdout",
     "output_type": "stream",
     "text": [
      "[ 2 22 12 14  6 11 24 21]\n"
     ]
    }
   ],
   "source": [
    "np.random.seed(75)\n",
    "test_videos = np.random.choice(np.arange(1, 25), replace=False, size=(8))\n",
    "print(test_videos)"
   ]
  },
  {
   "cell_type": "code",
   "execution_count": 7,
   "id": "e3c88a9b",
   "metadata": {
    "scrolled": false
   },
   "outputs": [],
   "source": [
    "X_test_SD1 = df_sd1[df_sd1['video'].isin(test_videos)].set_index(['id_user','session','video']).drop('emotion',axis=1)"
   ]
  },
  {
   "cell_type": "code",
   "execution_count": 8,
   "id": "47b50f6f",
   "metadata": {},
   "outputs": [],
   "source": [
    "y_test_SD1 = df_sd1[df_sd1['video'].isin(test_videos)].set_index(['id_user','session','video']).emotion"
   ]
  },
  {
   "cell_type": "code",
   "execution_count": 9,
   "id": "e88cfcbc",
   "metadata": {
    "scrolled": false
   },
   "outputs": [],
   "source": [
    "X_train_SD1 = df_sd1[~df_sd1['video'].isin(test_videos)].set_index(['id_user','session','video']).drop('emotion',axis=1)"
   ]
  },
  {
   "cell_type": "code",
   "execution_count": 10,
   "id": "8fffd935",
   "metadata": {},
   "outputs": [],
   "source": [
    "y_train_SD1 = df_sd1[~df_sd1['video'].isin(test_videos)].set_index(['id_user','session','video']).emotion"
   ]
  },
  {
   "cell_type": "code",
   "execution_count": 11,
   "id": "84b4b1d0",
   "metadata": {},
   "outputs": [],
   "source": [
    "X_train_SD1 = np.array(X_train_SD1).reshape((X_train_SD1.shape[0], X_train_SD1.shape[1], 1))"
   ]
  },
  {
   "cell_type": "code",
   "execution_count": 12,
   "id": "f3d46c39",
   "metadata": {},
   "outputs": [],
   "source": [
    "y_train_SD1 = to_categorical(y_train_SD1)"
   ]
  },
  {
   "cell_type": "code",
   "execution_count": 13,
   "id": "e4a2ca69",
   "metadata": {},
   "outputs": [],
   "source": [
    "X_test_SD1 = np.array(X_test_SD1).reshape((X_test_SD1.shape[0], X_test_SD1.shape[1], 1))"
   ]
  },
  {
   "cell_type": "code",
   "execution_count": 14,
   "id": "aec22bd7",
   "metadata": {},
   "outputs": [],
   "source": [
    "y_test_SD1 = to_categorical(y_test_SD1)"
   ]
  },
  {
   "cell_type": "code",
   "execution_count": 15,
   "id": "7c50b5d7",
   "metadata": {},
   "outputs": [],
   "source": [
    "modelSD = Sequential()"
   ]
  },
  {
   "cell_type": "code",
   "execution_count": 16,
   "id": "5917af73",
   "metadata": {},
   "outputs": [],
   "source": [
    "modelSD.add(LSTM(units=64, input_shape=(X_train_SD1.shape[1], 1)))"
   ]
  },
  {
   "cell_type": "code",
   "execution_count": 17,
   "id": "7d7c72fa",
   "metadata": {},
   "outputs": [],
   "source": [
    "modelSD.add(Dense(units=4, activation='relu'))"
   ]
  },
  {
   "cell_type": "code",
   "execution_count": 18,
   "id": "5ff38e6e",
   "metadata": {},
   "outputs": [],
   "source": [
    "modelSD.compile(loss='categorical_crossentropy', optimizer='adam', metrics=['accuracy'])"
   ]
  },
  {
   "cell_type": "code",
   "execution_count": 19,
   "id": "35d3e126",
   "metadata": {
    "scrolled": true
   },
   "outputs": [
    {
     "name": "stdout",
     "output_type": "stream",
     "text": [
      "Epoch 1/50\n",
      "4/4 [==============================] - 8s 650ms/step - loss: 7.8796 - accuracy: 0.2417\n",
      "Epoch 2/50\n",
      "4/4 [==============================] - 3s 616ms/step - loss: 8.1840 - accuracy: 0.2458\n",
      "Epoch 3/50\n",
      "4/4 [==============================] - 3s 652ms/step - loss: 7.9649 - accuracy: 0.2542\n",
      "Epoch 4/50\n",
      "4/4 [==============================] - 3s 656ms/step - loss: 7.9455 - accuracy: 0.2583\n",
      "Epoch 5/50\n",
      "4/4 [==============================] - 2s 631ms/step - loss: 7.8393 - accuracy: 0.2583\n",
      "Epoch 6/50\n",
      "4/4 [==============================] - 3s 663ms/step - loss: 7.8295 - accuracy: 0.2708\n",
      "Epoch 7/50\n",
      "4/4 [==============================] - 3s 752ms/step - loss: 7.5721 - accuracy: 0.2708\n",
      "Epoch 8/50\n",
      "4/4 [==============================] - 3s 683ms/step - loss: 6.2209 - accuracy: 0.2917\n",
      "Epoch 9/50\n",
      "4/4 [==============================] - 3s 657ms/step - loss: 4.5216 - accuracy: 0.3083\n",
      "Epoch 10/50\n",
      "4/4 [==============================] - 3s 665ms/step - loss: 4.5368 - accuracy: 0.2458\n",
      "Epoch 11/50\n",
      "4/4 [==============================] - 3s 658ms/step - loss: 4.2569 - accuracy: 0.2500\n",
      "Epoch 12/50\n",
      "4/4 [==============================] - 3s 654ms/step - loss: 3.7499 - accuracy: 0.2500\n",
      "Epoch 13/50\n",
      "4/4 [==============================] - 3s 652ms/step - loss: 1.6620 - accuracy: 0.2583\n",
      "Epoch 14/50\n",
      "4/4 [==============================] - 3s 680ms/step - loss: 1.4224 - accuracy: 0.2458\n",
      "Epoch 15/50\n",
      "4/4 [==============================] - 3s 636ms/step - loss: 1.4075 - accuracy: 0.2625\n",
      "Epoch 16/50\n",
      "4/4 [==============================] - 3s 654ms/step - loss: 1.4042 - accuracy: 0.2458\n",
      "Epoch 17/50\n",
      "4/4 [==============================] - 3s 634ms/step - loss: 1.4028 - accuracy: 0.2542\n",
      "Epoch 18/50\n",
      "4/4 [==============================] - 3s 634ms/step - loss: 1.3985 - accuracy: 0.2583\n",
      "Epoch 19/50\n",
      "4/4 [==============================] - 3s 653ms/step - loss: 1.3972 - accuracy: 0.2500\n",
      "Epoch 20/50\n",
      "4/4 [==============================] - 3s 660ms/step - loss: 1.3944 - accuracy: 0.2500\n",
      "Epoch 21/50\n",
      "4/4 [==============================] - 3s 672ms/step - loss: 1.3918 - accuracy: 0.2500\n",
      "Epoch 22/50\n",
      "4/4 [==============================] - 3s 672ms/step - loss: 1.3906 - accuracy: 0.2500\n",
      "Epoch 23/50\n",
      "4/4 [==============================] - 3s 681ms/step - loss: 1.3884 - accuracy: 0.2583\n",
      "Epoch 24/50\n",
      "4/4 [==============================] - 3s 684ms/step - loss: 1.3879 - accuracy: 0.2667\n",
      "Epoch 25/50\n",
      "4/4 [==============================] - 3s 640ms/step - loss: 1.3868 - accuracy: 0.2583\n",
      "Epoch 26/50\n",
      "4/4 [==============================] - 3s 678ms/step - loss: 1.3864 - accuracy: 0.2750\n",
      "Epoch 27/50\n",
      "4/4 [==============================] - 3s 681ms/step - loss: 1.3857 - accuracy: 0.2792\n",
      "Epoch 28/50\n",
      "4/4 [==============================] - 3s 628ms/step - loss: 1.3860 - accuracy: 0.2708\n",
      "Epoch 29/50\n",
      "4/4 [==============================] - 3s 619ms/step - loss: 1.3849 - accuracy: 0.2792\n",
      "Epoch 30/50\n",
      "4/4 [==============================] - 3s 668ms/step - loss: 1.3845 - accuracy: 0.2083\n",
      "Epoch 31/50\n",
      "4/4 [==============================] - 3s 634ms/step - loss: 1.3841 - accuracy: 0.2000\n",
      "Epoch 32/50\n",
      "4/4 [==============================] - 3s 646ms/step - loss: 1.3838 - accuracy: 0.2375\n",
      "Epoch 33/50\n",
      "4/4 [==============================] - 3s 656ms/step - loss: 1.3836 - accuracy: 0.2542\n",
      "Epoch 34/50\n",
      "4/4 [==============================] - 3s 661ms/step - loss: 1.3831 - accuracy: 0.2458\n",
      "Epoch 35/50\n",
      "4/4 [==============================] - 3s 619ms/step - loss: 1.3829 - accuracy: 0.2625\n",
      "Epoch 36/50\n",
      "4/4 [==============================] - 3s 698ms/step - loss: 1.3825 - accuracy: 0.2583\n",
      "Epoch 37/50\n",
      "4/4 [==============================] - 3s 618ms/step - loss: 1.3821 - accuracy: 0.2667\n",
      "Epoch 38/50\n",
      "4/4 [==============================] - 3s 631ms/step - loss: 1.3818 - accuracy: 0.2792\n",
      "Epoch 39/50\n",
      "4/4 [==============================] - 3s 641ms/step - loss: 1.3814 - accuracy: 0.2750\n",
      "Epoch 40/50\n",
      "4/4 [==============================] - 3s 642ms/step - loss: 1.3812 - accuracy: 0.2708\n",
      "Epoch 41/50\n",
      "4/4 [==============================] - 3s 627ms/step - loss: 1.3806 - accuracy: 0.2833\n",
      "Epoch 42/50\n",
      "4/4 [==============================] - 3s 648ms/step - loss: 1.3802 - accuracy: 0.2750\n",
      "Epoch 43/50\n",
      "4/4 [==============================] - 3s 657ms/step - loss: 1.3796 - accuracy: 0.2917\n",
      "Epoch 44/50\n",
      "4/4 [==============================] - 3s 660ms/step - loss: 1.3792 - accuracy: 0.2833\n",
      "Epoch 45/50\n",
      "4/4 [==============================] - 3s 658ms/step - loss: 1.3787 - accuracy: 0.2833\n",
      "Epoch 46/50\n",
      "4/4 [==============================] - 3s 707ms/step - loss: 1.3782 - accuracy: 0.2792\n",
      "Epoch 47/50\n",
      "4/4 [==============================] - 3s 677ms/step - loss: 1.3777 - accuracy: 0.2958\n",
      "Epoch 48/50\n",
      "4/4 [==============================] - 3s 665ms/step - loss: 1.3776 - accuracy: 0.2875\n",
      "Epoch 49/50\n",
      "4/4 [==============================] - 3s 644ms/step - loss: 1.3764 - accuracy: 0.2833\n",
      "Epoch 50/50\n",
      "4/4 [==============================] - 3s 674ms/step - loss: 1.3758 - accuracy: 0.2958\n"
     ]
    },
    {
     "data": {
      "text/plain": [
       "<keras.callbacks.History at 0x26c8b1776d0>"
      ]
     },
     "execution_count": 19,
     "metadata": {},
     "output_type": "execute_result"
    }
   ],
   "source": [
    "modelSD.fit(X_train_SD1, y_train_SD1, epochs=50, batch_size=64)"
   ]
  },
  {
   "cell_type": "code",
   "execution_count": 20,
   "id": "5d9ebc48",
   "metadata": {
    "scrolled": true
   },
   "outputs": [
    {
     "name": "stdout",
     "output_type": "stream",
     "text": [
      "4/4 [==============================] - 2s 133ms/step - loss: 1.3592 - accuracy: 0.3750\n"
     ]
    }
   ],
   "source": [
    "loss, accuracy = modelSD.evaluate(X_test_SD1, y_test_SD1)"
   ]
  },
  {
   "cell_type": "markdown",
   "id": "1bba961c",
   "metadata": {},
   "source": [
    "# Subject-Biased Experiment\n"
   ]
  },
  {
   "cell_type": "code",
   "execution_count": 21,
   "id": "0e36598c",
   "metadata": {},
   "outputs": [],
   "source": [
    "X_trainSB, X_testSB, y_trainSB, y_testSB = train_test_split(df.drop('emotion',axis=1), df.emotion, test_size=0.20, random_state=42)"
   ]
  },
  {
   "cell_type": "code",
   "execution_count": 22,
   "id": "769b7976",
   "metadata": {},
   "outputs": [],
   "source": [
    "X_trainSB = np.array(X_trainSB).reshape((X_trainSB.shape[0], X_trainSB.shape[1], 1))"
   ]
  },
  {
   "cell_type": "code",
   "execution_count": 23,
   "id": "0da69ddd",
   "metadata": {},
   "outputs": [],
   "source": [
    "y_trainSB = to_categorical(y_trainSB)"
   ]
  },
  {
   "cell_type": "code",
   "execution_count": 24,
   "id": "f7b74a9f",
   "metadata": {},
   "outputs": [],
   "source": [
    "X_testSB = np.array(X_trainSB).reshape((X_trainSB.shape[0], X_trainSB.shape[1], 1))"
   ]
  },
  {
   "cell_type": "code",
   "execution_count": 25,
   "id": "98c29b34",
   "metadata": {},
   "outputs": [],
   "source": [
    "y_testSB = to_categorical(y_testSB)"
   ]
  },
  {
   "cell_type": "code",
   "execution_count": 26,
   "id": "bdaca55e",
   "metadata": {},
   "outputs": [],
   "source": [
    "modelSB = Sequential()"
   ]
  },
  {
   "cell_type": "code",
   "execution_count": 27,
   "id": "0e8b5333",
   "metadata": {},
   "outputs": [],
   "source": [
    "modelSB.add(LSTM(units=64, input_shape=(X_trainSB.shape[1], 1)))"
   ]
  },
  {
   "cell_type": "code",
   "execution_count": 28,
   "id": "a5543fac",
   "metadata": {},
   "outputs": [],
   "source": [
    "modelSB.add(Dense(units=4, activation='tanh'))"
   ]
  },
  {
   "cell_type": "code",
   "execution_count": 29,
   "id": "e67c0e41",
   "metadata": {},
   "outputs": [],
   "source": [
    "modelSB.compile(loss='categorical_crossentropy', optimizer='adam', metrics=['accuracy'])"
   ]
  },
  {
   "cell_type": "code",
   "execution_count": 30,
   "id": "055b6d32",
   "metadata": {},
   "outputs": [
    {
     "name": "stdout",
     "output_type": "stream",
     "text": [
      "Epoch 1/10\n",
      "27/27 [==============================] - 12s 316ms/step - loss: 7.7324 - accuracy: 0.2442\n",
      "Epoch 2/10\n",
      "27/27 [==============================] - 9s 326ms/step - loss: 6.9752 - accuracy: 0.2512\n",
      "Epoch 3/10\n",
      "27/27 [==============================] - 9s 325ms/step - loss: 7.2320 - accuracy: 0.2523\n",
      "Epoch 4/10\n",
      "27/27 [==============================] - 9s 325ms/step - loss: 8.5073 - accuracy: 0.2523\n",
      "Epoch 5/10\n",
      "27/27 [==============================] - 8s 311ms/step - loss: 7.5768 - accuracy: 0.2558\n",
      "Epoch 6/10\n",
      "27/27 [==============================] - 8s 306ms/step - loss: 7.1311 - accuracy: 0.2512\n",
      "Epoch 7/10\n",
      "27/27 [==============================] - 9s 324ms/step - loss: 4.5627 - accuracy: 0.2558\n",
      "Epoch 8/10\n",
      "27/27 [==============================] - 9s 328ms/step - loss: 9.2375 - accuracy: 0.2546\n",
      "Epoch 9/10\n",
      "27/27 [==============================] - 9s 317ms/step - loss: 7.7607 - accuracy: 0.2546\n",
      "Epoch 10/10\n",
      "27/27 [==============================] - 8s 305ms/step - loss: 7.7262 - accuracy: 0.2546\n"
     ]
    },
    {
     "data": {
      "text/plain": [
       "<keras.callbacks.History at 0x26c8c6d0590>"
      ]
     },
     "execution_count": 30,
     "metadata": {},
     "output_type": "execute_result"
    }
   ],
   "source": [
    "modelSB.fit(X_trainSB, y_trainSB, epochs=10, batch_size=32)"
   ]
  },
  {
   "cell_type": "code",
   "execution_count": 31,
   "id": "3bd5d87a",
   "metadata": {},
   "outputs": [
    {
     "ename": "ValueError",
     "evalue": "Data cardinality is ambiguous:\n  x sizes: 864\n  y sizes: 216\nMake sure all arrays contain the same number of samples.",
     "output_type": "error",
     "traceback": [
      "\u001b[1;31m---------------------------------------------------------------------------\u001b[0m",
      "\u001b[1;31mValueError\u001b[0m                                Traceback (most recent call last)",
      "Cell \u001b[1;32mIn[31], line 1\u001b[0m\n\u001b[1;32m----> 1\u001b[0m loss, accuracy \u001b[38;5;241m=\u001b[39m \u001b[43mmodelSB\u001b[49m\u001b[38;5;241;43m.\u001b[39;49m\u001b[43mevaluate\u001b[49m\u001b[43m(\u001b[49m\u001b[43mX_testSB\u001b[49m\u001b[43m,\u001b[49m\u001b[43m \u001b[49m\u001b[43my_testSB\u001b[49m\u001b[43m)\u001b[49m\n",
      "File \u001b[1;32m~\\AppData\\Local\\Programs\\Python\\Python311\\Lib\\site-packages\\keras\\utils\\traceback_utils.py:70\u001b[0m, in \u001b[0;36mfilter_traceback.<locals>.error_handler\u001b[1;34m(*args, **kwargs)\u001b[0m\n\u001b[0;32m     67\u001b[0m     filtered_tb \u001b[38;5;241m=\u001b[39m _process_traceback_frames(e\u001b[38;5;241m.\u001b[39m__traceback__)\n\u001b[0;32m     68\u001b[0m     \u001b[38;5;66;03m# To get the full stack trace, call:\u001b[39;00m\n\u001b[0;32m     69\u001b[0m     \u001b[38;5;66;03m# `tf.debugging.disable_traceback_filtering()`\u001b[39;00m\n\u001b[1;32m---> 70\u001b[0m     \u001b[38;5;28;01mraise\u001b[39;00m e\u001b[38;5;241m.\u001b[39mwith_traceback(filtered_tb) \u001b[38;5;28;01mfrom\u001b[39;00m \u001b[38;5;28mNone\u001b[39m\n\u001b[0;32m     71\u001b[0m \u001b[38;5;28;01mfinally\u001b[39;00m:\n\u001b[0;32m     72\u001b[0m     \u001b[38;5;28;01mdel\u001b[39;00m filtered_tb\n",
      "File \u001b[1;32m~\\AppData\\Local\\Programs\\Python\\Python311\\Lib\\site-packages\\keras\\engine\\data_adapter.py:1852\u001b[0m, in \u001b[0;36m_check_data_cardinality\u001b[1;34m(data)\u001b[0m\n\u001b[0;32m   1845\u001b[0m     msg \u001b[38;5;241m+\u001b[39m\u001b[38;5;241m=\u001b[39m \u001b[38;5;124m\"\u001b[39m\u001b[38;5;124m  \u001b[39m\u001b[38;5;132;01m{}\u001b[39;00m\u001b[38;5;124m sizes: \u001b[39m\u001b[38;5;132;01m{}\u001b[39;00m\u001b[38;5;130;01m\\n\u001b[39;00m\u001b[38;5;124m\"\u001b[39m\u001b[38;5;241m.\u001b[39mformat(\n\u001b[0;32m   1846\u001b[0m         label,\n\u001b[0;32m   1847\u001b[0m         \u001b[38;5;124m\"\u001b[39m\u001b[38;5;124m, \u001b[39m\u001b[38;5;124m\"\u001b[39m\u001b[38;5;241m.\u001b[39mjoin(\n\u001b[0;32m   1848\u001b[0m             \u001b[38;5;28mstr\u001b[39m(i\u001b[38;5;241m.\u001b[39mshape[\u001b[38;5;241m0\u001b[39m]) \u001b[38;5;28;01mfor\u001b[39;00m i \u001b[38;5;129;01min\u001b[39;00m tf\u001b[38;5;241m.\u001b[39mnest\u001b[38;5;241m.\u001b[39mflatten(single_data)\n\u001b[0;32m   1849\u001b[0m         ),\n\u001b[0;32m   1850\u001b[0m     )\n\u001b[0;32m   1851\u001b[0m msg \u001b[38;5;241m+\u001b[39m\u001b[38;5;241m=\u001b[39m \u001b[38;5;124m\"\u001b[39m\u001b[38;5;124mMake sure all arrays contain the same number of samples.\u001b[39m\u001b[38;5;124m\"\u001b[39m\n\u001b[1;32m-> 1852\u001b[0m \u001b[38;5;28;01mraise\u001b[39;00m \u001b[38;5;167;01mValueError\u001b[39;00m(msg)\n",
      "\u001b[1;31mValueError\u001b[0m: Data cardinality is ambiguous:\n  x sizes: 864\n  y sizes: 216\nMake sure all arrays contain the same number of samples."
     ]
    }
   ],
   "source": [
    "loss, accuracy = modelSB.evaluate(X_testSB, y_testSB)"
   ]
  },
  {
   "cell_type": "markdown",
   "id": "f214d68a",
   "metadata": {},
   "source": [
    "# Subject Indipendent"
   ]
  },
  {
   "cell_type": "code",
   "execution_count": null,
   "id": "1f541c9e",
   "metadata": {},
   "outputs": [],
   "source": [
    "def subject_indipendent_split():\n",
    "    df_SI = df.reset_index()\n",
    "    groups = df_SI['id_user']\n",
    "    X_SI = df_SI.drop(['emotion','id_user','session','video'],axis=1)\n",
    "    y_SI = df_SI.emotion\n",
    "    return X_SI,y_SI,groups"
   ]
  },
  {
   "cell_type": "code",
   "execution_count": null,
   "id": "759e4939",
   "metadata": {},
   "outputs": [],
   "source": []
  }
 ],
 "metadata": {
  "kernelspec": {
   "display_name": "Python 3 (ipykernel)",
   "language": "python",
   "name": "python3"
  },
  "language_info": {
   "codemirror_mode": {
    "name": "ipython",
    "version": 3
   },
   "file_extension": ".py",
   "mimetype": "text/x-python",
   "name": "python",
   "nbconvert_exporter": "python",
   "pygments_lexer": "ipython3",
   "version": "3.11.0"
  }
 },
 "nbformat": 4,
 "nbformat_minor": 5
}
