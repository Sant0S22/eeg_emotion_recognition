{
 "cells": [
  {
   "cell_type": "markdown",
   "id": "ac435407",
   "metadata": {},
   "source": [
    "# Test NSEG dataset"
   ]
  },
  {
   "cell_type": "code",
   "execution_count": 74,
   "id": "97dbc297",
   "metadata": {},
   "outputs": [],
   "source": [
    "from keras.models import Sequential\n",
    "from keras.layers import LSTM, GRU, Dense, Masking, Bidirectional\n",
    "from keras.utils import to_categorical\n",
    "from sklearn.model_selection import train_test_split\n",
    "from sklearn.model_selection import LeaveOneGroupOut\n",
    "from sklearn.model_selection import cross_val_score\n",
    "import numpy as np\n",
    "import pandas as pd"
   ]
  },
  {
   "cell_type": "code",
   "execution_count": 69,
   "id": "fbb19c03",
   "metadata": {
    "scrolled": false
   },
   "outputs": [],
   "source": [
    "df = pd.read_csv(\".\\EEG_EMOTION\\dataset_de_LDS_SEEDIV.csv\")\n",
    "df.drop(['Unnamed: 0'],axis=1, inplace=True)\n",
    "df = df.set_index(['id_user','session','video'])"
   ]
  },
  {
   "cell_type": "code",
   "execution_count": 70,
   "id": "368c1600",
   "metadata": {},
   "outputs": [],
   "source": [
    "df[df.isnull()==True] = -10"
   ]
  },
  {
   "cell_type": "code",
   "execution_count": 71,
   "id": "46a87d7a",
   "metadata": {},
   "outputs": [],
   "source": [
    "def preprocessing_for_LSTM(X_train, X_test, y_train, y_test):\n",
    "    X_train = np.array(X_train).reshape((X_train.shape[0], X_train.shape[1], 1))\n",
    "    y_train = to_categorical(y_train)\n",
    "    X_test = np.array(X_test).reshape((X_test.shape[0], X_test.shape[1], 1))\n",
    "    y_test = to_categorical(y_test)\n",
    "    return X_train, X_test, y_train, y_test"
   ]
  },
  {
   "cell_type": "markdown",
   "id": "bee67aad",
   "metadata": {},
   "source": [
    "# Subject dependent"
   ]
  },
  {
   "cell_type": "code",
   "execution_count": 72,
   "id": "15d96888",
   "metadata": {},
   "outputs": [],
   "source": [
    "def subject_dependent_split(df,session):\n",
    "    df = df.reset_index()\n",
    "    np.random.seed(75)\n",
    "    test_videos = np.random.choice(np.arange(1, 25), replace=False, size=(8))\n",
    "    df_sess = df.loc[df['session'] == session]\n",
    "    X_test = df_sess[df_sess['video'].isin(test_videos)].set_index(['id_user','session','video']).drop('emotion',axis=1)\n",
    "    y_test = df_sess[df_sess['video'].isin(test_videos)].set_index(['id_user','session','video']).emotion\n",
    "    X_train = df_sess[~df_sess['video'].isin(test_videos)].set_index(['id_user','session','video']).drop('emotion',axis=1)\n",
    "    y_train = df_sess[~df_sess['video'].isin(test_videos)].set_index(['id_user','session','video']).emotion\n",
    "    return X_train, X_test, y_train, y_test"
   ]
  },
  {
   "cell_type": "code",
   "execution_count": null,
   "id": "1ff4048a",
   "metadata": {
    "scrolled": true
   },
   "outputs": [
    {
     "name": "stdout",
     "output_type": "stream",
     "text": [
      "Epoch 1/15\n",
      "4/4 [==============================] - 262s 63s/step - loss: 4.9505 - accuracy: 0.2458\n",
      "Epoch 2/15\n",
      "4/4 [==============================] - 258s 64s/step - loss: 4.8846 - accuracy: 0.2292\n",
      "Epoch 3/15\n",
      "4/4 [==============================] - 260s 66s/step - loss: 4.8520 - accuracy: 0.2500\n",
      "Epoch 4/15\n",
      "4/4 [==============================] - 308s 78s/step - loss: 4.8411 - accuracy: 0.3125\n",
      "Epoch 5/15\n",
      "4/4 [==============================] - 367s 92s/step - loss: 4.8373 - accuracy: 0.3125\n",
      "Epoch 6/15\n",
      "3/4 [=====================>........] - ETA: 1:25 - loss: 4.8400 - accuracy: 0.3125"
     ]
    }
   ],
   "source": [
    "accuracy_test = []\n",
    "for i in range(1,4):\n",
    "    X_trainSD, X_testSD, y_trainSD, y_testSD = subject_dependent_split(df,i)\n",
    "    X_trainSD, X_testSD, y_trainSD, y_testSD = preprocessing_for_LSTM(X_trainSD, X_testSD, y_trainSD, y_testSD)\n",
    "    model = Sequential()\n",
    "    model.add(Masking(mask_value=-10,input_shape=(X_trainSD.shape[1], 1)))\n",
    "    model.add(Bidirectional(GRU(units=128, input_shape=(X_trainSD.shape[1], 1))))\n",
    "    model.add(Dense(units=4, activation='relu'))\n",
    "    model.compile(loss='categorical_crossentropy', optimizer='adam', metrics=['accuracy'])\n",
    "    model.fit(X_trainSD, y_trainSD, epochs=15, batch_size=64)\n",
    "    loss, accuracy = model.evaluate(X_testSD, y_testSD)\n",
    "    accuracy_test.append(accuracy)"
   ]
  },
  {
   "cell_type": "code",
   "execution_count": null,
   "id": "2797ff58",
   "metadata": {},
   "outputs": [],
   "source": [
    "print(\"ACCURACY: \", np.array(accuracy_test).mean())"
   ]
  },
  {
   "cell_type": "markdown",
   "id": "1bba961c",
   "metadata": {},
   "source": [
    "# Subject-Biased Experiment\n"
   ]
  },
  {
   "cell_type": "code",
   "execution_count": null,
   "id": "d08dc39d",
   "metadata": {},
   "outputs": [],
   "source": [
    "X_train, X_test, y_train, y_test = train_test_split(df.drop('emotion',axis=1), df.emotion, test_size=0.20, random_state=22)\n",
    "X_train, X_test, y_train, y_test = preprocessing_for_LSTM(X_train, X_test, y_train, y_test)"
   ]
  },
  {
   "cell_type": "code",
   "execution_count": null,
   "id": "055b6d32",
   "metadata": {
    "scrolled": true
   },
   "outputs": [],
   "source": [
    "del model\n",
    "model = Sequential()\n",
    "model.add(LSTM(units=64, input_shape=(X_train.shape[1], 1)))\n",
    "model.add(Dense(units=4, activation='relu'))\n",
    "model.compile(loss='categorical_crossentropy', optimizer='adam', metrics=['accuracy'])\n",
    "model.fit(X_train, y_train, epochs=10, batch_size=32)"
   ]
  },
  {
   "cell_type": "code",
   "execution_count": null,
   "id": "3bd5d87a",
   "metadata": {},
   "outputs": [],
   "source": [
    "loss, accuracy = model.evaluate(X_test, y_test)"
   ]
  },
  {
   "cell_type": "markdown",
   "id": "f214d68a",
   "metadata": {},
   "source": [
    "# Subject Indipendent"
   ]
  },
  {
   "cell_type": "code",
   "execution_count": null,
   "id": "1f541c9e",
   "metadata": {},
   "outputs": [],
   "source": [
    "def subject_independent_split(df,session):\n",
    "    df = df.reset_index()\n",
    "    df_sess = df.loc[df['session'] == session]\n",
    "    groups = df_sess['id_user']\n",
    "    X = df_sess.set_index(['id_user','session','video']).drop('emotion',axis=1)\n",
    "    y = df_sess.set_index(['id_user','session','video']).emotion\n",
    "    return X, y, groups"
   ]
  },
  {
   "cell_type": "markdown",
   "id": "7c9beb5d",
   "metadata": {},
   "source": [
    "# TO DO: da implementare kfold\n",
    "https://stackoverflow.com/questions/48085182/cross-validation-in-keras\n",
    "\n",
    "\n",
    "\"\"\"\n",
    "from sklearn.model_selection import RepeatedKFold, cross_val_score\n",
    "from tensorflow.keras.models import * \n",
    "from tensorflow.keras.layers import * \n",
    "from tensorflow.keras.wrappers.scikit_learn import KerasRegressor\n",
    "\n",
    "def buildmodel():\n",
    "    model= Sequential([\n",
    "        Dense(10, activation=\"relu\"),\n",
    "        Dense(5, activation=\"relu\"),\n",
    "        Dense(1)\n",
    "    ])\n",
    "    model.compile(optimizer='adam', loss='mse', metrics=['mse'])\n",
    "    return(model)\n",
    "\n",
    "estimator= KerasRegressor(build_fn=buildmodel, epochs=100, batch_size=10, verbose=0)\n",
    "kfold= RepeatedKFold(n_splits=5, n_repeats=100)\n",
    "results= cross_val_score(estimator, x, y, cv=kfold, n_jobs=2)  # 2 cpus\n",
    "results.mean()  # Mean MSE\n",
    "\"\"\""
   ]
  },
  {
   "cell_type": "code",
   "execution_count": null,
   "id": "759e4939",
   "metadata": {},
   "outputs": [],
   "source": [
    "scores_test = []\n",
    "logo = LeaveOneGroupOut()\n",
    "for i in range(1,4):\n",
    "    X_SI,y_SI,groups = subject_independent_split(df,i)\n",
    "    X_SI = np.array(X_SI).reshape((X_SI.shape[0], X_SI.shape[1], 1))\n",
    "    y_SI = to_categorical(y_SI)\n",
    "    del model\n",
    "    model = Sequential()\n",
    "    model.add(LSTM(units=64, input_shape=(int(X_SI.shape[1])-15, 1)))\n",
    "    model.add(Dense(units=4, activation='relu'))\n",
    "    model.compile(loss='categorical_crossentropy', optimizer='adam', metrics=['accuracy'])\n",
    "    scores_gbc = cross_val_score(model, X_SI, y_SI, cv=logo, verbose=1 , groups = groups, n_jobs = -1)\n",
    "    scores_test.append(rfSD.scores.mean())"
   ]
  },
  {
   "cell_type": "code",
   "execution_count": null,
   "id": "93559f2e",
   "metadata": {
    "scrolled": true
   },
   "outputs": [],
   "source": [
    "print(\"TEST:\", np.array(scores_test).mean())"
   ]
  },
  {
   "cell_type": "code",
   "execution_count": null,
   "id": "1e0887f5",
   "metadata": {},
   "outputs": [],
   "source": []
  }
 ],
 "metadata": {
  "kernelspec": {
   "display_name": "Python 3 (ipykernel)",
   "language": "python",
   "name": "python3"
  },
  "language_info": {
   "codemirror_mode": {
    "name": "ipython",
    "version": 3
   },
   "file_extension": ".py",
   "mimetype": "text/x-python",
   "name": "python",
   "nbconvert_exporter": "python",
   "pygments_lexer": "ipython3",
   "version": "3.11.0"
  }
 },
 "nbformat": 4,
 "nbformat_minor": 5
}
